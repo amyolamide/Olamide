{
  "nbformat": 4,
  "nbformat_minor": 0,
  "metadata": {
    "colab": {
      "provenance": [],
      "collapsed_sections": [
        "A0beQppcoKIr",
        "UPbyEdzCo1fc"
      ],
      "authorship_tag": "ABX9TyNpDRvR229Sl9kmNe/9wp/s",
      "include_colab_link": true
    },
    "kernelspec": {
      "name": "ir",
      "display_name": "R"
    },
    "language_info": {
      "name": "R"
    }
  },
  "cells": [
    {
      "cell_type": "markdown",
      "metadata": {
        "id": "view-in-github",
        "colab_type": "text"
      },
      "source": [
        "<a href=\"https://colab.research.google.com/github/amyolamide/Olamide/blob/main/importing%26exportingdata_in_R%20and%20Data%20wrangling.ipynb\" target=\"_parent\"><img src=\"https://colab.research.google.com/assets/colab-badge.svg\" alt=\"Open In Colab\"/></a>"
      ]
    },
    {
      "cell_type": "code",
      "execution_count": null,
      "metadata": {
        "colab": {
          "base_uri": "https://localhost:8080/",
          "height": 1000
        },
        "id": "SwqN4icrehZq",
        "outputId": "bea2e08f-1a46-4fc1-8043-4174b5878b5d"
      },
      "outputs": [
        {
          "output_type": "display_data",
          "data": {
            "text/html": [
              "<table class=\"dataframe\">\n",
              "<caption>A matrix: 159 × 16 of type chr</caption>\n",
              "<thead>\n",
              "\t<tr><th></th><th scope=col>Package</th><th scope=col>LibPath</th><th scope=col>Version</th><th scope=col>Priority</th><th scope=col>Depends</th><th scope=col>Imports</th><th scope=col>LinkingTo</th><th scope=col>Suggests</th><th scope=col>Enhances</th><th scope=col>License</th><th scope=col>License_is_FOSS</th><th scope=col>License_restricts_use</th><th scope=col>OS_type</th><th scope=col>MD5sum</th><th scope=col>NeedsCompilation</th><th scope=col>Built</th></tr>\n",
              "</thead>\n",
              "<tbody>\n",
              "\t<tr><th scope=row>IRdisplay</th><td><span style=white-space:pre-wrap>IRdisplay  </span></td><td>/usr/local/lib/R/site-library</td><td><span style=white-space:pre-wrap>1.1   </span></td><td>NA</td><td><span style=white-space:pre-wrap>R (&gt;= 3.0.1)                                       </span></td><td><span style=white-space:pre-wrap>methods, repr                                                                                                                                                                                                                                                                                         </span></td><td>NA</td><td><span style=white-space:pre-wrap>testthat, withr                                                                                                                                                                                                                                                                                                                                                                                                                                                                                                                                                                                                                                                                                                                                                             </span></td><td><span style=white-space:pre-wrap>NA                                                          </span></td><td><span style=white-space:pre-wrap>MIT + file LICENSE         </span></td><td>NA</td><td>NA</td><td>NA</td><td>NA</td><td>no </td><td>4.2.2</td></tr>\n",
              "\t<tr><th scope=row>IRkernel</th><td><span style=white-space:pre-wrap>IRkernel   </span></td><td>/usr/local/lib/R/site-library</td><td>1.3.1 </td><td>NA</td><td><span style=white-space:pre-wrap>R (&gt;= 3.2.0)                                       </span></td><td><span style=white-space:pre-wrap>repr (&gt;= 0.4.99), methods, evaluate (&gt;= 0.10), IRdisplay (&gt;=\n",
              "0.3.0.9999), pbdZMQ (&gt;= 0.2-1), crayon, jsonlite (&gt;= 0.9.6),\n",
              "uuid, digest                                                                                                                                                              </span></td><td>NA</td><td><span style=white-space:pre-wrap>testthat, roxygen2                                                                                                                                                                                                                                                                                                                                                                                                                                                                                                                                                                                                                                                                                                                                                          </span></td><td><span style=white-space:pre-wrap>NA                                                          </span></td><td><span style=white-space:pre-wrap>MIT + file LICENSE         </span></td><td>NA</td><td>NA</td><td>NA</td><td>NA</td><td>no </td><td>4.2.2</td></tr>\n",
              "\t<tr><th scope=row>pbdZMQ</th><td><span style=white-space:pre-wrap>pbdZMQ     </span></td><td>/usr/local/lib/R/site-library</td><td>0.3-8 </td><td>NA</td><td><span style=white-space:pre-wrap>R (&gt;= 3.5.0)                                       </span></td><td><span style=white-space:pre-wrap>NA                                                                                                                                                                                                                                                                                                    </span></td><td>NA</td><td><span style=white-space:pre-wrap>NA                                                                                                                                                                                                                                                                                                                                                                                                                                                                                                                                                                                                                                                                                                                                                                          </span></td><td><span style=white-space:pre-wrap>NA                                                          </span></td><td><span style=white-space:pre-wrap>GPL-3                      </span></td><td>NA</td><td>NA</td><td>NA</td><td>NA</td><td>yes</td><td>4.2.2</td></tr>\n",
              "\t<tr><th scope=row>repr</th><td><span style=white-space:pre-wrap>repr       </span></td><td>/usr/local/lib/R/site-library</td><td>1.1.4 </td><td>NA</td><td><span style=white-space:pre-wrap>R (&gt;= 3.0.1)                                       </span></td><td><span style=white-space:pre-wrap>utils, grDevices, htmltools, jsonlite, pillar (&gt;= 1.4.0),\n",
              "base64enc                                                                                                                                                                                                                                  </span></td><td>NA</td><td><span style=white-space:pre-wrap>methods, highr, Cairo, stringr, testthat (&gt;= 3.0.0), leaflet                                                                                                                                                                                                                                                                                                                                                                                                                                                                                                                                                                                                                                                                                                                </span></td><td>data.table, tibble, htmlwidgets, vegalite, plotly, geojsonio</td><td><span style=white-space:pre-wrap>GPL-3                      </span></td><td>NA</td><td>NA</td><td>NA</td><td>NA</td><td>no </td><td>4.2.2</td></tr>\n",
              "\t<tr><th scope=row>askpass</th><td><span style=white-space:pre-wrap>askpass    </span></td><td><span style=white-space:pre-wrap>/usr/lib/R/site-library      </span></td><td><span style=white-space:pre-wrap>1.1   </span></td><td>NA</td><td><span style=white-space:pre-wrap>NA                                                 </span></td><td><span style=white-space:pre-wrap>sys (&gt;= 2.1)                                                                                                                                                                                                                                                                                          </span></td><td>NA</td><td><span style=white-space:pre-wrap>testthat                                                                                                                                                                                                                                                                                                                                                                                                                                                                                                                                                                                                                                                                                                                                                                    </span></td><td><span style=white-space:pre-wrap>NA                                                          </span></td><td><span style=white-space:pre-wrap>MIT + file LICENSE         </span></td><td>NA</td><td>NA</td><td>NA</td><td>NA</td><td>yes</td><td>4.0.0</td></tr>\n",
              "\t<tr><th scope=row>assertthat</th><td>assertthat </td><td>/usr/lib/R/site-library      </td><td>0.2.1 </td><td>NA</td><td>NA                                                 </td><td>tools                                                                                                                                                                                                                                                                                                 </td><td>NA</td><td>testthat, covr                                                                                                                                                                                                                                                                                                                                                                                                                                                                                                                                                                                                                                                                                                                                                              </td><td>NA                                                          </td><td>GPL-3                      </td><td>NA</td><td>NA</td><td>NA</td><td>NA</td><td>no </td><td>4.0.0</td></tr>\n",
              "\t<tr><th scope=row>backports</th><td><span style=white-space:pre-wrap>backports  </span></td><td><span style=white-space:pre-wrap>/usr/lib/R/site-library      </span></td><td>1.4.1 </td><td>NA</td><td><span style=white-space:pre-wrap>R (&gt;= 3.0.0)                                       </span></td><td><span style=white-space:pre-wrap>NA                                                                                                                                                                                                                                                                                                    </span></td><td>NA</td><td><span style=white-space:pre-wrap>NA                                                                                                                                                                                                                                                                                                                                                                                                                                                                                                                                                                                                                                                                                                                                                                          </span></td><td><span style=white-space:pre-wrap>NA                                                          </span></td><td><span style=white-space:pre-wrap>GPL-2 | GPL-3              </span></td><td>NA</td><td>NA</td><td>NA</td><td>NA</td><td>yes</td><td>4.1.2</td></tr>\n",
              "\t<tr><th scope=row>base64enc</th><td><span style=white-space:pre-wrap>base64enc  </span></td><td><span style=white-space:pre-wrap>/usr/lib/R/site-library      </span></td><td>0.1-3 </td><td>NA</td><td><span style=white-space:pre-wrap>R (&gt;= 2.9.0)                                       </span></td><td><span style=white-space:pre-wrap>NA                                                                                                                                                                                                                                                                                                    </span></td><td>NA</td><td><span style=white-space:pre-wrap>NA                                                                                                                                                                                                                                                                                                                                                                                                                                                                                                                                                                                                                                                                                                                                                                          </span></td><td><span style=white-space:pre-wrap>png                                                         </span></td><td><span style=white-space:pre-wrap>GPL-2 | GPL-3              </span></td><td>NA</td><td>NA</td><td>NA</td><td>NA</td><td>yes</td><td>4.0.0</td></tr>\n",
              "\t<tr><th scope=row>bit</th><td><span style=white-space:pre-wrap>bit        </span></td><td><span style=white-space:pre-wrap>/usr/lib/R/site-library      </span></td><td>4.0.4 </td><td>NA</td><td><span style=white-space:pre-wrap>R (&gt;= 2.9.2)                                       </span></td><td><span style=white-space:pre-wrap>NA                                                                                                                                                                                                                                                                                                    </span></td><td>NA</td><td><span style=white-space:pre-wrap>testthat (&gt;= 0.11.0), roxygen2, knitr, rmarkdown,\n",
              "microbenchmark, bit64 (&gt;= 4.0.0), ff (&gt;= 4.0.0)                                                                                                                                                                                                                                                                                                                                                                                                                                                                                                                                                                                                                                                                          </span></td><td><span style=white-space:pre-wrap>NA                                                          </span></td><td><span style=white-space:pre-wrap>GPL-2 | GPL-3              </span></td><td>NA</td><td>NA</td><td>NA</td><td>NA</td><td>yes</td><td>4.0.2</td></tr>\n",
              "\t<tr><th scope=row>bit64</th><td><span style=white-space:pre-wrap>bit64      </span></td><td><span style=white-space:pre-wrap>/usr/lib/R/site-library      </span></td><td>4.0.5 </td><td>NA</td><td>R (&gt;= 3.0.1), bit (&gt;= 4.0.0), utils, methods, stats</td><td><span style=white-space:pre-wrap>NA                                                                                                                                                                                                                                                                                                    </span></td><td>NA</td><td><span style=white-space:pre-wrap>NA                                                                                                                                                                                                                                                                                                                                                                                                                                                                                                                                                                                                                                                                                                                                                                          </span></td><td><span style=white-space:pre-wrap>NA                                                          </span></td><td><span style=white-space:pre-wrap>GPL-2 | GPL-3              </span></td><td>NA</td><td>NA</td><td>NA</td><td>NA</td><td>yes</td><td>4.0.2</td></tr>\n",
              "\t<tr><th scope=row>blob</th><td><span style=white-space:pre-wrap>blob       </span></td><td><span style=white-space:pre-wrap>/usr/lib/R/site-library      </span></td><td>1.2.3 </td><td>NA</td><td><span style=white-space:pre-wrap>NA                                                 </span></td><td><span style=white-space:pre-wrap>methods, rlang, vctrs (&gt;= 0.2.1)                                                                                                                                                                                                                                                                      </span></td><td>NA</td><td><span style=white-space:pre-wrap>covr, crayon, pillar (&gt;= 1.2.1), testthat                                                                                                                                                                                                                                                                                                                                                                                                                                                                                                                                                                                                                                                                                                                                   </span></td><td><span style=white-space:pre-wrap>NA                                                          </span></td><td><span style=white-space:pre-wrap>MIT + file LICENSE         </span></td><td>NA</td><td>NA</td><td>NA</td><td>NA</td><td>no </td><td>4.1.3</td></tr>\n",
              "\t<tr><th scope=row>brew</th><td><span style=white-space:pre-wrap>brew       </span></td><td><span style=white-space:pre-wrap>/usr/lib/R/site-library      </span></td><td>1.0-8 </td><td>NA</td><td><span style=white-space:pre-wrap>NA                                                 </span></td><td><span style=white-space:pre-wrap>NA                                                                                                                                                                                                                                                                                                    </span></td><td>NA</td><td><span style=white-space:pre-wrap>testthat (&gt;= 3.0.0)                                                                                                                                                                                                                                                                                                                                                                                                                                                                                                                                                                                                                                                                                                                                                         </span></td><td><span style=white-space:pre-wrap>NA                                                          </span></td><td><span style=white-space:pre-wrap>GPL-2                      </span></td><td>NA</td><td>NA</td><td>NA</td><td>NA</td><td>no </td><td>4.2.1</td></tr>\n",
              "\t<tr><th scope=row>brio</th><td><span style=white-space:pre-wrap>brio       </span></td><td><span style=white-space:pre-wrap>/usr/lib/R/site-library      </span></td><td>1.1.3 </td><td>NA</td><td><span style=white-space:pre-wrap>NA                                                 </span></td><td><span style=white-space:pre-wrap>NA                                                                                                                                                                                                                                                                                                    </span></td><td>NA</td><td><span style=white-space:pre-wrap>covr, testthat (&gt;= 2.1.0)                                                                                                                                                                                                                                                                                                                                                                                                                                                                                                                                                                                                                                                                                                                                                   </span></td><td><span style=white-space:pre-wrap>NA                                                          </span></td><td><span style=white-space:pre-wrap>MIT + file LICENSE         </span></td><td>NA</td><td>NA</td><td>NA</td><td>NA</td><td>yes</td><td>4.1.2</td></tr>\n",
              "\t<tr><th scope=row>broom</th><td><span style=white-space:pre-wrap>broom      </span></td><td><span style=white-space:pre-wrap>/usr/lib/R/site-library      </span></td><td>1.0.1 </td><td>NA</td><td><span style=white-space:pre-wrap>R (&gt;= 3.1)                                         </span></td><td><span style=white-space:pre-wrap>backports, dplyr (&gt;= 1.0.0), ellipsis, generics (&gt;= 0.0.2),\n",
              "glue, purrr, rlang, stringr, tibble (&gt;= 3.0.0), tidyr (&gt;=\n",
              "1.0.0), ggplot2                                                                                                                                                               </span></td><td>NA</td><td>AER, AUC, bbmle, betareg, biglm, binGroup, boot, btergm (&gt;=\n",
              "1.10.6), car, carData, caret, cluster, cmprsk, coda, covr, drc,\n",
              "e1071, emmeans, epiR, ergm (&gt;= 3.10.4), fixest (&gt;= 0.9.0), gam\n",
              "(&gt;= 1.15), gee, geepack, glmnet, glmnetUtils, gmm, Hmisc,\n",
              "irlba, interp, joineRML, Kendall, knitr, ks, Lahman, lavaan,\n",
              "leaps, lfe, lm.beta, lme4, lmodel2, lmtest (&gt;= 0.9.38),\n",
              "lsmeans, maps, maptools, margins, MASS, mclust, mediation,\n",
              "metafor, mfx, mgcv, mlogit, modeldata, modeltests, muhaz,\n",
              "multcomp, network, nnet, orcutt (&gt;= 2.2), ordinal, plm, poLCA,\n",
              "psych, quantreg, rgeos, rmarkdown, robust, robustbase, rsample,\n",
              "sandwich, sp, spdep (&gt;= 1.1), spatialreg, speedglm, spelling,\n",
              "survey, survival, systemfit, testthat (&gt;= 2.1.0), tseries,\n",
              "vars, zoo</td><td><span style=white-space:pre-wrap>NA                                                          </span></td><td><span style=white-space:pre-wrap>MIT + file LICENSE         </span></td><td>NA</td><td>NA</td><td>NA</td><td>NA</td><td>no </td><td>4.2.1</td></tr>\n",
              "\t<tr><th scope=row>bslib</th><td><span style=white-space:pre-wrap>bslib      </span></td><td><span style=white-space:pre-wrap>/usr/lib/R/site-library      </span></td><td>0.4.1 </td><td>NA</td><td><span style=white-space:pre-wrap>R (&gt;= 2.10)                                        </span></td><td><span style=white-space:pre-wrap>grDevices, htmltools (&gt;= 0.5.2), jsonlite, sass (&gt;= 0.4.0),\n",
              "jquerylib (&gt;= 0.1.3), rlang, cachem, memoise (&gt;= 2.0.1)                                                                                                                                                                                  </span></td><td>NA</td><td><span style=white-space:pre-wrap>shiny (&gt;= 1.6.0), rmarkdown (&gt;= 2.7), thematic, knitr,\n",
              "testthat, withr, rappdirs, curl, magrittr                                                                                                                                                                                                                                                                                                                                                                                                                                                                                                                                                                                                                                                                           </span></td><td><span style=white-space:pre-wrap>NA                                                          </span></td><td><span style=white-space:pre-wrap>MIT + file LICENSE         </span></td><td>NA</td><td>NA</td><td>NA</td><td>NA</td><td>no </td><td>4.2.2</td></tr>\n",
              "\t<tr><th scope=row>cachem</th><td>cachem     </td><td>/usr/lib/R/site-library      </td><td>1.0.6 </td><td>NA</td><td>NA                                                 </td><td>rlang, fastmap                                                                                                                                                                                                                                                                                        </td><td>NA</td><td>testthat                                                                                                                                                                                                                                                                                                                                                                                                                                                                                                                                                                                                                                                                                                                                                                    </td><td>NA                                                          </td><td>MIT + file LICENSE         </td><td>NA</td><td>NA</td><td>NA</td><td>NA</td><td>yes</td><td>4.1.1</td></tr>\n",
              "\t<tr><th scope=row>callr</th><td><span style=white-space:pre-wrap>callr      </span></td><td><span style=white-space:pre-wrap>/usr/lib/R/site-library      </span></td><td>3.7.3 </td><td>NA</td><td><span style=white-space:pre-wrap>R (&gt;= 3.4)                                         </span></td><td><span style=white-space:pre-wrap>processx (&gt;= 3.6.1), R6, utils                                                                                                                                                                                                                                                                        </span></td><td>NA</td><td><span style=white-space:pre-wrap>asciicast, cli (&gt;= 1.1.0), covr, mockery, ps, rprojroot,\n",
              "spelling, testthat (&gt;= 3.0.0), withr (&gt;= 2.3.0)                                                                                                                                                                                                                                                                                                                                                                                                                                                                                                                                                                                                                                                                   </span></td><td><span style=white-space:pre-wrap>NA                                                          </span></td><td><span style=white-space:pre-wrap>MIT + file LICENSE         </span></td><td>NA</td><td>NA</td><td>NA</td><td>NA</td><td>no </td><td>4.2.2</td></tr>\n",
              "\t<tr><th scope=row>cellranger</th><td>cellranger </td><td><span style=white-space:pre-wrap>/usr/lib/R/site-library      </span></td><td>1.1.0 </td><td>NA</td><td><span style=white-space:pre-wrap>R (&gt;= 3.0.0)                                       </span></td><td><span style=white-space:pre-wrap>rematch, tibble                                                                                                                                                                                                                                                                                       </span></td><td>NA</td><td><span style=white-space:pre-wrap>covr, testthat (&gt;= 1.0.0), knitr, rmarkdown                                                                                                                                                                                                                                                                                                                                                                                                                                                                                                                                                                                                                                                                                                                                 </span></td><td><span style=white-space:pre-wrap>NA                                                          </span></td><td><span style=white-space:pre-wrap>MIT + file LICENSE         </span></td><td>NA</td><td>NA</td><td>NA</td><td>NA</td><td>no </td><td>4.0.0</td></tr>\n",
              "\t<tr><th scope=row>cli</th><td><span style=white-space:pre-wrap>cli        </span></td><td><span style=white-space:pre-wrap>/usr/lib/R/site-library      </span></td><td>3.4.1 </td><td>NA</td><td><span style=white-space:pre-wrap>R (&gt;= 3.4)                                         </span></td><td><span style=white-space:pre-wrap>utils                                                                                                                                                                                                                                                                                                 </span></td><td>NA</td><td><span style=white-space:pre-wrap>callr, covr, digest, glue (&gt;= 1.6.0), grDevices, htmltools,\n",
              "htmlwidgets, knitr, methods, mockery, processx, ps (&gt;=\n",
              "1.3.4.9000), rlang (&gt;= 1.0.2.9003), rmarkdown, rprojroot,\n",
              "rstudioapi, testthat, tibble, whoami, withr                                                                                                                                                                                                                                                                                                                                                                                                                                                                                                                                                 </span></td><td><span style=white-space:pre-wrap>NA                                                          </span></td><td><span style=white-space:pre-wrap>MIT + file LICENSE         </span></td><td>NA</td><td>NA</td><td>NA</td><td>NA</td><td>yes</td><td>4.2.1</td></tr>\n",
              "\t<tr><th scope=row>clipr</th><td><span style=white-space:pre-wrap>clipr      </span></td><td><span style=white-space:pre-wrap>/usr/lib/R/site-library      </span></td><td>0.8.0 </td><td>NA</td><td><span style=white-space:pre-wrap>NA                                                 </span></td><td><span style=white-space:pre-wrap>utils                                                                                                                                                                                                                                                                                                 </span></td><td>NA</td><td><span style=white-space:pre-wrap>covr, knitr, rmarkdown, rstudioapi (&gt;= 0.5), testthat (&gt;=\n",
              "2.0.0)                                                                                                                                                                                                                                                                                                                                                                                                                                                                                                                                                                                                                                                                                                           </span></td><td><span style=white-space:pre-wrap>NA                                                          </span></td><td><span style=white-space:pre-wrap>GPL-3                      </span></td><td>NA</td><td>NA</td><td>NA</td><td>NA</td><td>no </td><td>4.1.2</td></tr>\n",
              "\t<tr><th scope=row>colorspace</th><td>colorspace </td><td><span style=white-space:pre-wrap>/usr/lib/R/site-library      </span></td><td>2.0-3 </td><td>NA</td><td><span style=white-space:pre-wrap>R (&gt;= 3.0.0), methods                              </span></td><td><span style=white-space:pre-wrap>graphics, grDevices, stats                                                                                                                                                                                                                                                                            </span></td><td>NA</td><td><span style=white-space:pre-wrap>datasets, utils, KernSmooth, MASS, kernlab, mvtnorm, vcd,\n",
              "tcltk, shiny, shinyjs, ggplot2, dplyr, scales, grid, png, jpeg,\n",
              "knitr, rmarkdown, RColorBrewer, rcartocolor, scico, viridis,\n",
              "wesanderson                                                                                                                                                                                                                                                                                                                                                                                                                                                                                                                                                                       </span></td><td><span style=white-space:pre-wrap>NA                                                          </span></td><td>BSD_3_clause + file LICENSE</td><td>NA</td><td>NA</td><td>NA</td><td>NA</td><td>yes</td><td>4.1.2</td></tr>\n",
              "\t<tr><th scope=row>commonmark</th><td>commonmark </td><td>/usr/lib/R/site-library      </td><td>1.8.1 </td><td>NA</td><td>NA                                                 </td><td>NA                                                                                                                                                                                                                                                                                                    </td><td>NA</td><td>curl, testthat, xml2                                                                                                                                                                                                                                                                                                                                                                                                                                                                                                                                                                                                                                                                                                                                                        </td><td>NA                                                          </td><td>BSD_2_clause + file LICENSE</td><td>NA</td><td>NA</td><td>NA</td><td>NA</td><td>yes</td><td>4.2.1</td></tr>\n",
              "\t<tr><th scope=row>cpp11</th><td>cpp11      </td><td>/usr/lib/R/site-library      </td><td>0.4.3 </td><td>NA</td><td>NA                                                 </td><td>NA                                                                                                                                                                                                                                                                                                    </td><td>NA</td><td>bench, brio, callr, cli, covr, decor, desc, ggplot2, glue,\n",
              "knitr, lobstr, mockery, progress, rmarkdown, scales, Rcpp,\n",
              "testthat, tibble, utils, vctrs, withr                                                                                                                                                                                                                                                                                                                                                                                                                                                                                                                                                                                                               </td><td>NA                                                          </td><td>MIT + file LICENSE         </td><td>NA</td><td>NA</td><td>NA</td><td>NA</td><td>no </td><td>4.2.1</td></tr>\n",
              "\t<tr><th scope=row>crayon</th><td>crayon     </td><td>/usr/lib/R/site-library      </td><td>1.5.2 </td><td>NA</td><td>NA                                                 </td><td>grDevices, methods, utils                                                                                                                                                                                                                                                                             </td><td>NA</td><td>mockery, rstudioapi, testthat, withr                                                                                                                                                                                                                                                                                                                                                                                                                                                                                                                                                                                                                                                                                                                                        </td><td>NA                                                          </td><td>MIT + file LICENSE         </td><td>NA</td><td>NA</td><td>NA</td><td>NA</td><td>no </td><td>4.2.1</td></tr>\n",
              "\t<tr><th scope=row>credentials</th><td>credentials</td><td><span style=white-space:pre-wrap>/usr/lib/R/site-library      </span></td><td>1.3.2 </td><td>NA</td><td><span style=white-space:pre-wrap>NA                                                 </span></td><td><span style=white-space:pre-wrap>openssl (&gt;= 1.3), sys (&gt;= 2.1), curl, jsonlite, askpass                                                                                                                                                                                                                                               </span></td><td>NA</td><td><span style=white-space:pre-wrap>testthat, knitr, rmarkdown                                                                                                                                                                                                                                                                                                                                                                                                                                                                                                                                                                                                                                                                                                                                                  </span></td><td><span style=white-space:pre-wrap>NA                                                          </span></td><td><span style=white-space:pre-wrap>MIT + file LICENSE         </span></td><td>NA</td><td>NA</td><td>NA</td><td>NA</td><td>no </td><td>4.1.2</td></tr>\n",
              "\t<tr><th scope=row>curl</th><td><span style=white-space:pre-wrap>curl       </span></td><td><span style=white-space:pre-wrap>/usr/lib/R/site-library      </span></td><td>4.3.3 </td><td>NA</td><td><span style=white-space:pre-wrap>R (&gt;= 3.0.0)                                       </span></td><td><span style=white-space:pre-wrap>NA                                                                                                                                                                                                                                                                                                    </span></td><td>NA</td><td><span style=white-space:pre-wrap>spelling, testthat (&gt;= 1.0.0), knitr, jsonlite, rmarkdown,\n",
              "magrittr, httpuv (&gt;= 1.4.4), webutils                                                                                                                                                                                                                                                                                                                                                                                                                                                                                                                                                                                                                                                                           </span></td><td><span style=white-space:pre-wrap>NA                                                          </span></td><td><span style=white-space:pre-wrap>MIT + file LICENSE         </span></td><td>NA</td><td>NA</td><td>NA</td><td>NA</td><td>yes</td><td>4.2.1</td></tr>\n",
              "\t<tr><th scope=row>data.table</th><td>data.table </td><td><span style=white-space:pre-wrap>/usr/lib/R/site-library      </span></td><td>1.14.4</td><td>NA</td><td><span style=white-space:pre-wrap>R (&gt;= 3.1.0)                                       </span></td><td><span style=white-space:pre-wrap>methods                                                                                                                                                                                                                                                                                               </span></td><td>NA</td><td><span style=white-space:pre-wrap>bit64 (&gt;= 4.0.0), bit (&gt;= 4.0.4), curl, R.utils, xts,\n",
              "nanotime, zoo (&gt;= 1.8-1), yaml, knitr, rmarkdown                                                                                                                                                                                                                                                                                                                                                                                                                                                                                                                                                                                                                                                                     </span></td><td><span style=white-space:pre-wrap>NA                                                          </span></td><td><span style=white-space:pre-wrap>MPL-2.0 | file LICENSE     </span></td><td>NA</td><td>NA</td><td>NA</td><td>NA</td><td>yes</td><td>4.2.1</td></tr>\n",
              "\t<tr><th scope=row>DBI</th><td><span style=white-space:pre-wrap>DBI        </span></td><td><span style=white-space:pre-wrap>/usr/lib/R/site-library      </span></td><td>1.1.3 </td><td>NA</td><td><span style=white-space:pre-wrap>methods, R (&gt;= 3.0.0)                              </span></td><td><span style=white-space:pre-wrap>NA                                                                                                                                                                                                                                                                                                    </span></td><td>NA</td><td><span style=white-space:pre-wrap>blob, covr, DBItest, dbplyr, downlit, dplyr, glue, hms,\n",
              "knitr, magrittr, RMariaDB, rmarkdown, rprojroot, RSQLite (&gt;=\n",
              "1.1-2), testthat, xml2                                                                                                                                                                                                                                                                                                                                                                                                                                                                                                                                                                                                                               </span></td><td><span style=white-space:pre-wrap>NA                                                          </span></td><td><span style=white-space:pre-wrap>LGPL (&gt;= 2.1)              </span></td><td>NA</td><td>NA</td><td>NA</td><td>NA</td><td>no </td><td>4.2.0</td></tr>\n",
              "\t<tr><th scope=row>dbplyr</th><td><span style=white-space:pre-wrap>dbplyr     </span></td><td><span style=white-space:pre-wrap>/usr/lib/R/site-library      </span></td><td>2.2.1 </td><td>NA</td><td><span style=white-space:pre-wrap>R (&gt;= 3.1)                                         </span></td><td>assertthat (&gt;= 0.2.0), blob (&gt;= 1.2.0), cli (&gt;= 3.3.0), DBI\n",
              "(&gt;= 1.0.0), dplyr (&gt;= 1.0.9), glue (&gt;= 1.2.0), lifecycle (&gt;=\n",
              "1.0.0), magrittr, methods, pillar (&gt;= 1.5.0), purrr (&gt;= 0.2.5),\n",
              "R6 (&gt;= 2.2.2), rlang (&gt;= 1.0.0), tibble (&gt;= 1.4.2), tidyselect\n",
              "(&gt;= 0.2.4), utils, vctrs (&gt;= 0.4.1), withr</td><td>NA</td><td><span style=white-space:pre-wrap>bit64, covr, knitr, Lahman, nycflights13, odbc, RMariaDB (&gt;=\n",
              "1.0.2), rmarkdown, RPostgres (&gt;= 1.1.3), RPostgreSQL, RSQLite\n",
              "(&gt;= 2.1.0), testthat (&gt;= 3.0.2), tidyr (&gt;= 1.2.0)                                                                                                                                                                                                                                                                                                                                                                                                                                                                                                                                                                                              </span></td><td><span style=white-space:pre-wrap>NA                                                          </span></td><td><span style=white-space:pre-wrap>MIT + file LICENSE         </span></td><td>NA</td><td>NA</td><td>NA</td><td>NA</td><td>no </td><td>4.2.0</td></tr>\n",
              "\t<tr><th scope=row>desc</th><td><span style=white-space:pre-wrap>desc       </span></td><td><span style=white-space:pre-wrap>/usr/lib/R/site-library      </span></td><td>1.4.2 </td><td>NA</td><td><span style=white-space:pre-wrap>R (&gt;= 3.4)                                         </span></td><td><span style=white-space:pre-wrap>cli, R6, rprojroot, utils                                                                                                                                                                                                                                                                             </span></td><td>NA</td><td><span style=white-space:pre-wrap>callr, covr, gh, spelling, testthat, whoami, withr                                                                                                                                                                                                                                                                                                                                                                                                                                                                                                                                                                                                                                                                                                                          </span></td><td><span style=white-space:pre-wrap>NA                                                          </span></td><td><span style=white-space:pre-wrap>MIT + file LICENSE         </span></td><td>NA</td><td>NA</td><td>NA</td><td>NA</td><td>no </td><td>4.2.1</td></tr>\n",
              "\t<tr><th scope=row>⋮</th><td>⋮</td><td>⋮</td><td>⋮</td><td>⋮</td><td>⋮</td><td>⋮</td><td>⋮</td><td>⋮</td><td>⋮</td><td>⋮</td><td>⋮</td><td>⋮</td><td>⋮</td><td>⋮</td><td>⋮</td><td>⋮</td></tr>\n",
              "\t<tr><th scope=row>zip</th><td>zip       </td><td>/usr/lib/R/site-library</td><td>2.2.2   </td><td>NA         </td><td>NA                                             </td><td>NA                                              </td><td>NA</td><td>covr, processx, R6, testthat, withr                              </td><td>NA                                                                 </td><td>MIT + file LICENSE       </td><td>NA</td><td>NA</td><td>NA</td><td>NA</td><td>yes</td><td>4.2.2</td></tr>\n",
              "\t<tr><th scope=row>base</th><td>base      </td><td>/usr/lib/R/library     </td><td>4.2.2   </td><td>base       </td><td>NA                                             </td><td>NA                                              </td><td>NA</td><td>methods                                                          </td><td>NA                                                                 </td><td>Part of R 4.2.2          </td><td>NA</td><td>NA</td><td>NA</td><td>NA</td><td>NA </td><td>4.2.2</td></tr>\n",
              "\t<tr><th scope=row>boot</th><td><span style=white-space:pre-wrap>boot      </span></td><td><span style=white-space:pre-wrap>/usr/lib/R/library     </span></td><td><span style=white-space:pre-wrap>1.3-28  </span></td><td>recommended</td><td><span style=white-space:pre-wrap>R (&gt;= 3.0.0), graphics, stats                  </span></td><td><span style=white-space:pre-wrap>NA                                              </span></td><td>NA</td><td><span style=white-space:pre-wrap>MASS, survival                                                   </span></td><td><span style=white-space:pre-wrap>NA                                                                 </span></td><td><span style=white-space:pre-wrap>Unlimited                </span></td><td>NA</td><td>NA</td><td>NA</td><td>NA</td><td>no </td><td>4.0.5</td></tr>\n",
              "\t<tr><th scope=row>class</th><td><span style=white-space:pre-wrap>class     </span></td><td><span style=white-space:pre-wrap>/usr/lib/R/library     </span></td><td><span style=white-space:pre-wrap>7.3-20  </span></td><td>recommended</td><td><span style=white-space:pre-wrap>R (&gt;= 3.0.0), stats, utils                     </span></td><td><span style=white-space:pre-wrap>MASS                                            </span></td><td>NA</td><td><span style=white-space:pre-wrap>NA                                                               </span></td><td><span style=white-space:pre-wrap>NA                                                                 </span></td><td><span style=white-space:pre-wrap>GPL-2 | GPL-3            </span></td><td>NA</td><td>NA</td><td>NA</td><td>NA</td><td>yes</td><td>4.1.2</td></tr>\n",
              "\t<tr><th scope=row>cluster</th><td><span style=white-space:pre-wrap>cluster   </span></td><td><span style=white-space:pre-wrap>/usr/lib/R/library     </span></td><td><span style=white-space:pre-wrap>2.1.4   </span></td><td>recommended</td><td><span style=white-space:pre-wrap>R (&gt;= 3.5.0)                                   </span></td><td><span style=white-space:pre-wrap>graphics, grDevices, stats, utils               </span></td><td>NA</td><td><span style=white-space:pre-wrap>MASS, Matrix                                                     </span></td><td><span style=white-space:pre-wrap>NA                                                                 </span></td><td><span style=white-space:pre-wrap>GPL (&gt;= 2)               </span></td><td>NA</td><td>NA</td><td>NA</td><td>NA</td><td>yes</td><td>4.2.1</td></tr>\n",
              "\t<tr><th scope=row>codetools</th><td>codetools </td><td><span style=white-space:pre-wrap>/usr/lib/R/library     </span></td><td><span style=white-space:pre-wrap>0.2-18  </span></td><td>recommended</td><td><span style=white-space:pre-wrap>R (&gt;= 2.1)                                     </span></td><td><span style=white-space:pre-wrap>NA                                              </span></td><td>NA</td><td><span style=white-space:pre-wrap>NA                                                               </span></td><td><span style=white-space:pre-wrap>NA                                                                 </span></td><td><span style=white-space:pre-wrap>GPL                      </span></td><td>NA</td><td>NA</td><td>NA</td><td>NA</td><td>no </td><td>4.0.3</td></tr>\n",
              "\t<tr><th scope=row>compiler</th><td>compiler  </td><td>/usr/lib/R/library     </td><td>4.2.2   </td><td>base       </td><td>NA                                             </td><td>NA                                              </td><td>NA</td><td>NA                                                               </td><td>NA                                                                 </td><td>Part of R 4.2.2          </td><td>NA</td><td>NA</td><td>NA</td><td>NA</td><td>NA </td><td>4.2.2</td></tr>\n",
              "\t<tr><th scope=row>datasets</th><td>datasets  </td><td>/usr/lib/R/library     </td><td>4.2.2   </td><td>base       </td><td>NA                                             </td><td>NA                                              </td><td>NA</td><td>NA                                                               </td><td>NA                                                                 </td><td>Part of R 4.2.2          </td><td>NA</td><td>NA</td><td>NA</td><td>NA</td><td>NA </td><td>4.2.2</td></tr>\n",
              "\t<tr><th scope=row>foreign</th><td><span style=white-space:pre-wrap>foreign   </span></td><td><span style=white-space:pre-wrap>/usr/lib/R/library     </span></td><td><span style=white-space:pre-wrap>0.8-82  </span></td><td>recommended</td><td><span style=white-space:pre-wrap>R (&gt;= 4.0.0)                                   </span></td><td><span style=white-space:pre-wrap>methods, utils, stats                           </span></td><td>NA</td><td><span style=white-space:pre-wrap>NA                                                               </span></td><td><span style=white-space:pre-wrap>NA                                                                 </span></td><td><span style=white-space:pre-wrap>GPL (&gt;= 2)               </span></td><td>NA</td><td>NA</td><td>NA</td><td>NA</td><td>yes</td><td>4.1.2</td></tr>\n",
              "\t<tr><th scope=row>graphics</th><td>graphics  </td><td>/usr/lib/R/library     </td><td>4.2.2   </td><td>base       </td><td>NA                                             </td><td>grDevices                                       </td><td>NA</td><td>NA                                                               </td><td>NA                                                                 </td><td>Part of R 4.2.2          </td><td>NA</td><td>NA</td><td>NA</td><td>NA</td><td>yes</td><td>4.2.2</td></tr>\n",
              "\t<tr><th scope=row>grDevices</th><td>grDevices </td><td>/usr/lib/R/library     </td><td>4.2.2   </td><td>base       </td><td>NA                                             </td><td>NA                                              </td><td>NA</td><td>KernSmooth                                                       </td><td>NA                                                                 </td><td>Part of R 4.2.2          </td><td>NA</td><td>NA</td><td>NA</td><td>NA</td><td>yes</td><td>4.2.2</td></tr>\n",
              "\t<tr><th scope=row>grid</th><td>grid      </td><td>/usr/lib/R/library     </td><td>4.2.2   </td><td>base       </td><td>NA                                             </td><td>grDevices, utils                                </td><td>NA</td><td>NA                                                               </td><td>NA                                                                 </td><td>Part of R 4.2.2          </td><td>NA</td><td>NA</td><td>NA</td><td>NA</td><td>yes</td><td>4.2.2</td></tr>\n",
              "\t<tr><th scope=row>KernSmooth</th><td>KernSmooth</td><td><span style=white-space:pre-wrap>/usr/lib/R/library     </span></td><td>2.23-20 </td><td>recommended</td><td><span style=white-space:pre-wrap>R (&gt;= 2.5.0), stats                            </span></td><td><span style=white-space:pre-wrap>NA                                              </span></td><td>NA</td><td><span style=white-space:pre-wrap>MASS, carData                                                    </span></td><td><span style=white-space:pre-wrap>NA                                                                 </span></td><td><span style=white-space:pre-wrap>Unlimited                </span></td><td>NA</td><td>NA</td><td>NA</td><td>NA</td><td>yes</td><td>4.0.5</td></tr>\n",
              "\t<tr><th scope=row>lattice</th><td><span style=white-space:pre-wrap>lattice   </span></td><td><span style=white-space:pre-wrap>/usr/lib/R/library     </span></td><td>0.20-45 </td><td>recommended</td><td><span style=white-space:pre-wrap>R (&gt;= 3.0.0)                                   </span></td><td><span style=white-space:pre-wrap>grid, grDevices, graphics, stats, utils         </span></td><td>NA</td><td><span style=white-space:pre-wrap>KernSmooth, MASS, latticeExtra                                   </span></td><td><span style=white-space:pre-wrap>chron                                                              </span></td><td><span style=white-space:pre-wrap>GPL (&gt;= 2)               </span></td><td>NA</td><td>NA</td><td>NA</td><td>NA</td><td>yes</td><td>4.2.0</td></tr>\n",
              "\t<tr><th scope=row>MASS</th><td><span style=white-space:pre-wrap>MASS      </span></td><td><span style=white-space:pre-wrap>/usr/lib/R/library     </span></td><td>7.3-58.1</td><td>recommended</td><td>R (&gt;= 3.3.0), grDevices, graphics, stats, utils</td><td><span style=white-space:pre-wrap>methods                                         </span></td><td>NA</td><td><span style=white-space:pre-wrap>lattice, nlme, nnet, survival                                    </span></td><td><span style=white-space:pre-wrap>NA                                                                 </span></td><td><span style=white-space:pre-wrap>GPL-2 | GPL-3            </span></td><td>NA</td><td>NA</td><td>NA</td><td>NA</td><td>yes</td><td>4.2.1</td></tr>\n",
              "\t<tr><th scope=row>Matrix</th><td><span style=white-space:pre-wrap>Matrix    </span></td><td><span style=white-space:pre-wrap>/usr/lib/R/library     </span></td><td><span style=white-space:pre-wrap>1.5-3   </span></td><td>recommended</td><td><span style=white-space:pre-wrap>R (&gt;= 3.5.0), methods                          </span></td><td><span style=white-space:pre-wrap>graphics, grid, lattice, stats, utils           </span></td><td>NA</td><td><span style=white-space:pre-wrap>expm, MASS                                                       </span></td><td>MatrixModels, graph, SparseM, sfsmisc, igraph, maptools, sp,\n",
              "spdep</td><td>GPL (&gt;= 2) | file LICENCE</td><td>NA</td><td>NA</td><td>NA</td><td>NA</td><td>yes</td><td>4.2.2</td></tr>\n",
              "\t<tr><th scope=row>methods</th><td>methods   </td><td>/usr/lib/R/library     </td><td>4.2.2   </td><td>base       </td><td>NA                                             </td><td>utils, stats                                    </td><td>NA</td><td>codetools                                                        </td><td>NA                                                                 </td><td>Part of R 4.2.2          </td><td>NA</td><td>NA</td><td>NA</td><td>NA</td><td>yes</td><td>4.2.2</td></tr>\n",
              "\t<tr><th scope=row>mgcv</th><td><span style=white-space:pre-wrap>mgcv      </span></td><td><span style=white-space:pre-wrap>/usr/lib/R/library     </span></td><td><span style=white-space:pre-wrap>1.8-41  </span></td><td>recommended</td><td><span style=white-space:pre-wrap>R (&gt;= 3.6.0), nlme (&gt;= 3.1-64)                 </span></td><td>methods, stats, graphics, Matrix, splines, utils</td><td>NA</td><td><span style=white-space:pre-wrap>parallel, survival, MASS                                         </span></td><td><span style=white-space:pre-wrap>NA                                                                 </span></td><td><span style=white-space:pre-wrap>GPL (&gt;= 2)               </span></td><td>NA</td><td>NA</td><td>NA</td><td>NA</td><td>yes</td><td>4.2.1</td></tr>\n",
              "\t<tr><th scope=row>nlme</th><td><span style=white-space:pre-wrap>nlme      </span></td><td><span style=white-space:pre-wrap>/usr/lib/R/library     </span></td><td>3.1-160 </td><td>recommended</td><td><span style=white-space:pre-wrap>R (&gt;= 3.5.0)                                   </span></td><td><span style=white-space:pre-wrap>graphics, stats, utils, lattice                 </span></td><td>NA</td><td><span style=white-space:pre-wrap>Hmisc, MASS, SASmixed                                            </span></td><td><span style=white-space:pre-wrap>NA                                                                 </span></td><td><span style=white-space:pre-wrap>GPL (&gt;= 2)               </span></td><td>NA</td><td>NA</td><td>NA</td><td>NA</td><td>yes</td><td>4.2.1</td></tr>\n",
              "\t<tr><th scope=row>nnet</th><td><span style=white-space:pre-wrap>nnet      </span></td><td><span style=white-space:pre-wrap>/usr/lib/R/library     </span></td><td><span style=white-space:pre-wrap>7.3-18  </span></td><td>recommended</td><td><span style=white-space:pre-wrap>R (&gt;= 3.0.0), stats, utils                     </span></td><td><span style=white-space:pre-wrap>NA                                              </span></td><td>NA</td><td><span style=white-space:pre-wrap>MASS                                                             </span></td><td><span style=white-space:pre-wrap>NA                                                                 </span></td><td><span style=white-space:pre-wrap>GPL-2 | GPL-3            </span></td><td>NA</td><td>NA</td><td>NA</td><td>NA</td><td>yes</td><td>4.2.1</td></tr>\n",
              "\t<tr><th scope=row>parallel</th><td>parallel  </td><td>/usr/lib/R/library     </td><td>4.2.2   </td><td>base       </td><td>NA                                             </td><td>tools, compiler                                 </td><td>NA</td><td>methods                                                          </td><td>snow, nws, Rmpi                                                    </td><td>Part of R 4.2.2          </td><td>NA</td><td>NA</td><td>NA</td><td>NA</td><td>yes</td><td>4.2.2</td></tr>\n",
              "\t<tr><th scope=row>rpart</th><td><span style=white-space:pre-wrap>rpart     </span></td><td><span style=white-space:pre-wrap>/usr/lib/R/library     </span></td><td><span style=white-space:pre-wrap>4.1.19  </span></td><td>recommended</td><td><span style=white-space:pre-wrap>R (&gt;= 2.15.0), graphics, stats, grDevices      </span></td><td><span style=white-space:pre-wrap>NA                                              </span></td><td>NA</td><td><span style=white-space:pre-wrap>survival                                                         </span></td><td><span style=white-space:pre-wrap>NA                                                                 </span></td><td><span style=white-space:pre-wrap>GPL-2 | GPL-3            </span></td><td>NA</td><td>NA</td><td>NA</td><td>NA</td><td>yes</td><td>4.2.1</td></tr>\n",
              "\t<tr><th scope=row>spatial</th><td><span style=white-space:pre-wrap>spatial   </span></td><td><span style=white-space:pre-wrap>/usr/lib/R/library     </span></td><td><span style=white-space:pre-wrap>7.3-15  </span></td><td>recommended</td><td><span style=white-space:pre-wrap>R (&gt;= 3.0.0), graphics, stats, utils           </span></td><td><span style=white-space:pre-wrap>NA                                              </span></td><td>NA</td><td><span style=white-space:pre-wrap>MASS                                                             </span></td><td><span style=white-space:pre-wrap>NA                                                                 </span></td><td><span style=white-space:pre-wrap>GPL-2 | GPL-3            </span></td><td>NA</td><td>NA</td><td>NA</td><td>NA</td><td>yes</td><td>4.1.2</td></tr>\n",
              "\t<tr><th scope=row>splines</th><td>splines   </td><td>/usr/lib/R/library     </td><td>4.2.2   </td><td>base       </td><td>NA                                             </td><td>graphics, stats                                 </td><td>NA</td><td>Matrix, methods                                                  </td><td>NA                                                                 </td><td>Part of R 4.2.2          </td><td>NA</td><td>NA</td><td>NA</td><td>NA</td><td>yes</td><td>4.2.2</td></tr>\n",
              "\t<tr><th scope=row>stats</th><td>stats     </td><td>/usr/lib/R/library     </td><td>4.2.2   </td><td>base       </td><td>NA                                             </td><td>utils, grDevices, graphics                      </td><td>NA</td><td>MASS, Matrix, SuppDists, methods, stats4                         </td><td>NA                                                                 </td><td>Part of R 4.2.2          </td><td>NA</td><td>NA</td><td>NA</td><td>NA</td><td>yes</td><td>4.2.2</td></tr>\n",
              "\t<tr><th scope=row>stats4</th><td>stats4    </td><td>/usr/lib/R/library     </td><td>4.2.2   </td><td>base       </td><td>NA                                             </td><td>graphics, methods, stats                        </td><td>NA</td><td>NA                                                               </td><td>NA                                                                 </td><td>Part of R 4.2.2          </td><td>NA</td><td>NA</td><td>NA</td><td>NA</td><td>NA </td><td>4.2.2</td></tr>\n",
              "\t<tr><th scope=row>survival</th><td><span style=white-space:pre-wrap>survival  </span></td><td><span style=white-space:pre-wrap>/usr/lib/R/library     </span></td><td><span style=white-space:pre-wrap>3.4-0   </span></td><td>recommended</td><td><span style=white-space:pre-wrap>R (&gt;= 3.5.0)                                   </span></td><td>graphics, Matrix, methods, splines, stats, utils</td><td>NA</td><td><span style=white-space:pre-wrap>NA                                                               </span></td><td><span style=white-space:pre-wrap>NA                                                                 </span></td><td><span style=white-space:pre-wrap>LGPL (&gt;= 2)              </span></td><td>NA</td><td>NA</td><td>NA</td><td>NA</td><td>yes</td><td>4.2.1</td></tr>\n",
              "\t<tr><th scope=row>tcltk</th><td>tcltk     </td><td>/usr/lib/R/library     </td><td>4.2.2   </td><td>base       </td><td>NA                                             </td><td>utils                                           </td><td>NA</td><td>NA                                                               </td><td>NA                                                                 </td><td>Part of R 4.2.2          </td><td>NA</td><td>NA</td><td>NA</td><td>NA</td><td>yes</td><td>4.2.2</td></tr>\n",
              "\t<tr><th scope=row>tools</th><td>tools     </td><td>/usr/lib/R/library     </td><td>4.2.2   </td><td>base       </td><td>NA                                             </td><td>NA                                              </td><td>NA</td><td>codetools, methods, xml2, curl, commonmark, knitr, xfun, mathjaxr</td><td>NA                                                                 </td><td>Part of R 4.2.2          </td><td>NA</td><td>NA</td><td>NA</td><td>NA</td><td>yes</td><td>4.2.2</td></tr>\n",
              "\t<tr><th scope=row>utils</th><td>utils     </td><td>/usr/lib/R/library     </td><td>4.2.2   </td><td>base       </td><td>NA                                             </td><td>NA                                              </td><td>NA</td><td>methods, xml2, commonmark, knitr                                 </td><td>NA                                                                 </td><td>Part of R 4.2.2          </td><td>NA</td><td>NA</td><td>NA</td><td>NA</td><td>yes</td><td>4.2.2</td></tr>\n",
              "</tbody>\n",
              "</table>\n"
            ],
            "text/markdown": "\nA matrix: 159 × 16 of type chr\n\n| <!--/--> | Package | LibPath | Version | Priority | Depends | Imports | LinkingTo | Suggests | Enhances | License | License_is_FOSS | License_restricts_use | OS_type | MD5sum | NeedsCompilation | Built |\n|---|---|---|---|---|---|---|---|---|---|---|---|---|---|---|---|---|\n| IRdisplay | IRdisplay   | /usr/local/lib/R/site-library | 1.1    | NA | R (&gt;= 3.0.1)                                        | methods, repr                                                                                                                                                                                                                                                                                          | NA | testthat, withr                                                                                                                                                                                                                                                                                                                                                                                                                                                                                                                                                                                                                                                                                                                                                              | NA                                                           | MIT + file LICENSE          | NA | NA | NA | NA | no  | 4.2.2 |\n| IRkernel | IRkernel    | /usr/local/lib/R/site-library | 1.3.1  | NA | R (&gt;= 3.2.0)                                        | repr (&gt;= 0.4.99), methods, evaluate (&gt;= 0.10), IRdisplay (&gt;=\n0.3.0.9999), pbdZMQ (&gt;= 0.2-1), crayon, jsonlite (&gt;= 0.9.6),\nuuid, digest                                                                                                                                                               | NA | testthat, roxygen2                                                                                                                                                                                                                                                                                                                                                                                                                                                                                                                                                                                                                                                                                                                                                           | NA                                                           | MIT + file LICENSE          | NA | NA | NA | NA | no  | 4.2.2 |\n| pbdZMQ | pbdZMQ      | /usr/local/lib/R/site-library | 0.3-8  | NA | R (&gt;= 3.5.0)                                        | NA                                                                                                                                                                                                                                                                                                     | NA | NA                                                                                                                                                                                                                                                                                                                                                                                                                                                                                                                                                                                                                                                                                                                                                                           | NA                                                           | GPL-3                       | NA | NA | NA | NA | yes | 4.2.2 |\n| repr | repr        | /usr/local/lib/R/site-library | 1.1.4  | NA | R (&gt;= 3.0.1)                                        | utils, grDevices, htmltools, jsonlite, pillar (&gt;= 1.4.0),\nbase64enc                                                                                                                                                                                                                                   | NA | methods, highr, Cairo, stringr, testthat (&gt;= 3.0.0), leaflet                                                                                                                                                                                                                                                                                                                                                                                                                                                                                                                                                                                                                                                                                                                 | data.table, tibble, htmlwidgets, vegalite, plotly, geojsonio | GPL-3                       | NA | NA | NA | NA | no  | 4.2.2 |\n| askpass | askpass     | /usr/lib/R/site-library       | 1.1    | NA | NA                                                  | sys (&gt;= 2.1)                                                                                                                                                                                                                                                                                           | NA | testthat                                                                                                                                                                                                                                                                                                                                                                                                                                                                                                                                                                                                                                                                                                                                                                     | NA                                                           | MIT + file LICENSE          | NA | NA | NA | NA | yes | 4.0.0 |\n| assertthat | assertthat  | /usr/lib/R/site-library       | 0.2.1  | NA | NA                                                  | tools                                                                                                                                                                                                                                                                                                  | NA | testthat, covr                                                                                                                                                                                                                                                                                                                                                                                                                                                                                                                                                                                                                                                                                                                                                               | NA                                                           | GPL-3                       | NA | NA | NA | NA | no  | 4.0.0 |\n| backports | backports   | /usr/lib/R/site-library       | 1.4.1  | NA | R (&gt;= 3.0.0)                                        | NA                                                                                                                                                                                                                                                                                                     | NA | NA                                                                                                                                                                                                                                                                                                                                                                                                                                                                                                                                                                                                                                                                                                                                                                           | NA                                                           | GPL-2 | GPL-3               | NA | NA | NA | NA | yes | 4.1.2 |\n| base64enc | base64enc   | /usr/lib/R/site-library       | 0.1-3  | NA | R (&gt;= 2.9.0)                                        | NA                                                                                                                                                                                                                                                                                                     | NA | NA                                                                                                                                                                                                                                                                                                                                                                                                                                                                                                                                                                                                                                                                                                                                                                           | png                                                          | GPL-2 | GPL-3               | NA | NA | NA | NA | yes | 4.0.0 |\n| bit | bit         | /usr/lib/R/site-library       | 4.0.4  | NA | R (&gt;= 2.9.2)                                        | NA                                                                                                                                                                                                                                                                                                     | NA | testthat (&gt;= 0.11.0), roxygen2, knitr, rmarkdown,\nmicrobenchmark, bit64 (&gt;= 4.0.0), ff (&gt;= 4.0.0)                                                                                                                                                                                                                                                                                                                                                                                                                                                                                                                                                                                                                                                                           | NA                                                           | GPL-2 | GPL-3               | NA | NA | NA | NA | yes | 4.0.2 |\n| bit64 | bit64       | /usr/lib/R/site-library       | 4.0.5  | NA | R (&gt;= 3.0.1), bit (&gt;= 4.0.0), utils, methods, stats | NA                                                                                                                                                                                                                                                                                                     | NA | NA                                                                                                                                                                                                                                                                                                                                                                                                                                                                                                                                                                                                                                                                                                                                                                           | NA                                                           | GPL-2 | GPL-3               | NA | NA | NA | NA | yes | 4.0.2 |\n| blob | blob        | /usr/lib/R/site-library       | 1.2.3  | NA | NA                                                  | methods, rlang, vctrs (&gt;= 0.2.1)                                                                                                                                                                                                                                                                       | NA | covr, crayon, pillar (&gt;= 1.2.1), testthat                                                                                                                                                                                                                                                                                                                                                                                                                                                                                                                                                                                                                                                                                                                                    | NA                                                           | MIT + file LICENSE          | NA | NA | NA | NA | no  | 4.1.3 |\n| brew | brew        | /usr/lib/R/site-library       | 1.0-8  | NA | NA                                                  | NA                                                                                                                                                                                                                                                                                                     | NA | testthat (&gt;= 3.0.0)                                                                                                                                                                                                                                                                                                                                                                                                                                                                                                                                                                                                                                                                                                                                                          | NA                                                           | GPL-2                       | NA | NA | NA | NA | no  | 4.2.1 |\n| brio | brio        | /usr/lib/R/site-library       | 1.1.3  | NA | NA                                                  | NA                                                                                                                                                                                                                                                                                                     | NA | covr, testthat (&gt;= 2.1.0)                                                                                                                                                                                                                                                                                                                                                                                                                                                                                                                                                                                                                                                                                                                                                    | NA                                                           | MIT + file LICENSE          | NA | NA | NA | NA | yes | 4.1.2 |\n| broom | broom       | /usr/lib/R/site-library       | 1.0.1  | NA | R (&gt;= 3.1)                                          | backports, dplyr (&gt;= 1.0.0), ellipsis, generics (&gt;= 0.0.2),\nglue, purrr, rlang, stringr, tibble (&gt;= 3.0.0), tidyr (&gt;=\n1.0.0), ggplot2                                                                                                                                                                | NA | AER, AUC, bbmle, betareg, biglm, binGroup, boot, btergm (&gt;=\n1.10.6), car, carData, caret, cluster, cmprsk, coda, covr, drc,\ne1071, emmeans, epiR, ergm (&gt;= 3.10.4), fixest (&gt;= 0.9.0), gam\n(&gt;= 1.15), gee, geepack, glmnet, glmnetUtils, gmm, Hmisc,\nirlba, interp, joineRML, Kendall, knitr, ks, Lahman, lavaan,\nleaps, lfe, lm.beta, lme4, lmodel2, lmtest (&gt;= 0.9.38),\nlsmeans, maps, maptools, margins, MASS, mclust, mediation,\nmetafor, mfx, mgcv, mlogit, modeldata, modeltests, muhaz,\nmultcomp, network, nnet, orcutt (&gt;= 2.2), ordinal, plm, poLCA,\npsych, quantreg, rgeos, rmarkdown, robust, robustbase, rsample,\nsandwich, sp, spdep (&gt;= 1.1), spatialreg, speedglm, spelling,\nsurvey, survival, systemfit, testthat (&gt;= 2.1.0), tseries,\nvars, zoo | NA                                                           | MIT + file LICENSE          | NA | NA | NA | NA | no  | 4.2.1 |\n| bslib | bslib       | /usr/lib/R/site-library       | 0.4.1  | NA | R (&gt;= 2.10)                                         | grDevices, htmltools (&gt;= 0.5.2), jsonlite, sass (&gt;= 0.4.0),\njquerylib (&gt;= 0.1.3), rlang, cachem, memoise (&gt;= 2.0.1)                                                                                                                                                                                   | NA | shiny (&gt;= 1.6.0), rmarkdown (&gt;= 2.7), thematic, knitr,\ntestthat, withr, rappdirs, curl, magrittr                                                                                                                                                                                                                                                                                                                                                                                                                                                                                                                                                                                                                                                                            | NA                                                           | MIT + file LICENSE          | NA | NA | NA | NA | no  | 4.2.2 |\n| cachem | cachem      | /usr/lib/R/site-library       | 1.0.6  | NA | NA                                                  | rlang, fastmap                                                                                                                                                                                                                                                                                         | NA | testthat                                                                                                                                                                                                                                                                                                                                                                                                                                                                                                                                                                                                                                                                                                                                                                     | NA                                                           | MIT + file LICENSE          | NA | NA | NA | NA | yes | 4.1.1 |\n| callr | callr       | /usr/lib/R/site-library       | 3.7.3  | NA | R (&gt;= 3.4)                                          | processx (&gt;= 3.6.1), R6, utils                                                                                                                                                                                                                                                                         | NA | asciicast, cli (&gt;= 1.1.0), covr, mockery, ps, rprojroot,\nspelling, testthat (&gt;= 3.0.0), withr (&gt;= 2.3.0)                                                                                                                                                                                                                                                                                                                                                                                                                                                                                                                                                                                                                                                                    | NA                                                           | MIT + file LICENSE          | NA | NA | NA | NA | no  | 4.2.2 |\n| cellranger | cellranger  | /usr/lib/R/site-library       | 1.1.0  | NA | R (&gt;= 3.0.0)                                        | rematch, tibble                                                                                                                                                                                                                                                                                        | NA | covr, testthat (&gt;= 1.0.0), knitr, rmarkdown                                                                                                                                                                                                                                                                                                                                                                                                                                                                                                                                                                                                                                                                                                                                  | NA                                                           | MIT + file LICENSE          | NA | NA | NA | NA | no  | 4.0.0 |\n| cli | cli         | /usr/lib/R/site-library       | 3.4.1  | NA | R (&gt;= 3.4)                                          | utils                                                                                                                                                                                                                                                                                                  | NA | callr, covr, digest, glue (&gt;= 1.6.0), grDevices, htmltools,\nhtmlwidgets, knitr, methods, mockery, processx, ps (&gt;=\n1.3.4.9000), rlang (&gt;= 1.0.2.9003), rmarkdown, rprojroot,\nrstudioapi, testthat, tibble, whoami, withr                                                                                                                                                                                                                                                                                                                                                                                                                                                                                                                                                  | NA                                                           | MIT + file LICENSE          | NA | NA | NA | NA | yes | 4.2.1 |\n| clipr | clipr       | /usr/lib/R/site-library       | 0.8.0  | NA | NA                                                  | utils                                                                                                                                                                                                                                                                                                  | NA | covr, knitr, rmarkdown, rstudioapi (&gt;= 0.5), testthat (&gt;=\n2.0.0)                                                                                                                                                                                                                                                                                                                                                                                                                                                                                                                                                                                                                                                                                                            | NA                                                           | GPL-3                       | NA | NA | NA | NA | no  | 4.1.2 |\n| colorspace | colorspace  | /usr/lib/R/site-library       | 2.0-3  | NA | R (&gt;= 3.0.0), methods                               | graphics, grDevices, stats                                                                                                                                                                                                                                                                             | NA | datasets, utils, KernSmooth, MASS, kernlab, mvtnorm, vcd,\ntcltk, shiny, shinyjs, ggplot2, dplyr, scales, grid, png, jpeg,\nknitr, rmarkdown, RColorBrewer, rcartocolor, scico, viridis,\nwesanderson                                                                                                                                                                                                                                                                                                                                                                                                                                                                                                                                                                        | NA                                                           | BSD_3_clause + file LICENSE | NA | NA | NA | NA | yes | 4.1.2 |\n| commonmark | commonmark  | /usr/lib/R/site-library       | 1.8.1  | NA | NA                                                  | NA                                                                                                                                                                                                                                                                                                     | NA | curl, testthat, xml2                                                                                                                                                                                                                                                                                                                                                                                                                                                                                                                                                                                                                                                                                                                                                         | NA                                                           | BSD_2_clause + file LICENSE | NA | NA | NA | NA | yes | 4.2.1 |\n| cpp11 | cpp11       | /usr/lib/R/site-library       | 0.4.3  | NA | NA                                                  | NA                                                                                                                                                                                                                                                                                                     | NA | bench, brio, callr, cli, covr, decor, desc, ggplot2, glue,\nknitr, lobstr, mockery, progress, rmarkdown, scales, Rcpp,\ntestthat, tibble, utils, vctrs, withr                                                                                                                                                                                                                                                                                                                                                                                                                                                                                                                                                                                                                | NA                                                           | MIT + file LICENSE          | NA | NA | NA | NA | no  | 4.2.1 |\n| crayon | crayon      | /usr/lib/R/site-library       | 1.5.2  | NA | NA                                                  | grDevices, methods, utils                                                                                                                                                                                                                                                                              | NA | mockery, rstudioapi, testthat, withr                                                                                                                                                                                                                                                                                                                                                                                                                                                                                                                                                                                                                                                                                                                                         | NA                                                           | MIT + file LICENSE          | NA | NA | NA | NA | no  | 4.2.1 |\n| credentials | credentials | /usr/lib/R/site-library       | 1.3.2  | NA | NA                                                  | openssl (&gt;= 1.3), sys (&gt;= 2.1), curl, jsonlite, askpass                                                                                                                                                                                                                                                | NA | testthat, knitr, rmarkdown                                                                                                                                                                                                                                                                                                                                                                                                                                                                                                                                                                                                                                                                                                                                                   | NA                                                           | MIT + file LICENSE          | NA | NA | NA | NA | no  | 4.1.2 |\n| curl | curl        | /usr/lib/R/site-library       | 4.3.3  | NA | R (&gt;= 3.0.0)                                        | NA                                                                                                                                                                                                                                                                                                     | NA | spelling, testthat (&gt;= 1.0.0), knitr, jsonlite, rmarkdown,\nmagrittr, httpuv (&gt;= 1.4.4), webutils                                                                                                                                                                                                                                                                                                                                                                                                                                                                                                                                                                                                                                                                            | NA                                                           | MIT + file LICENSE          | NA | NA | NA | NA | yes | 4.2.1 |\n| data.table | data.table  | /usr/lib/R/site-library       | 1.14.4 | NA | R (&gt;= 3.1.0)                                        | methods                                                                                                                                                                                                                                                                                                | NA | bit64 (&gt;= 4.0.0), bit (&gt;= 4.0.4), curl, R.utils, xts,\nnanotime, zoo (&gt;= 1.8-1), yaml, knitr, rmarkdown                                                                                                                                                                                                                                                                                                                                                                                                                                                                                                                                                                                                                                                                      | NA                                                           | MPL-2.0 | file LICENSE      | NA | NA | NA | NA | yes | 4.2.1 |\n| DBI | DBI         | /usr/lib/R/site-library       | 1.1.3  | NA | methods, R (&gt;= 3.0.0)                               | NA                                                                                                                                                                                                                                                                                                     | NA | blob, covr, DBItest, dbplyr, downlit, dplyr, glue, hms,\nknitr, magrittr, RMariaDB, rmarkdown, rprojroot, RSQLite (&gt;=\n1.1-2), testthat, xml2                                                                                                                                                                                                                                                                                                                                                                                                                                                                                                                                                                                                                                | NA                                                           | LGPL (&gt;= 2.1)               | NA | NA | NA | NA | no  | 4.2.0 |\n| dbplyr | dbplyr      | /usr/lib/R/site-library       | 2.2.1  | NA | R (&gt;= 3.1)                                          | assertthat (&gt;= 0.2.0), blob (&gt;= 1.2.0), cli (&gt;= 3.3.0), DBI\n(&gt;= 1.0.0), dplyr (&gt;= 1.0.9), glue (&gt;= 1.2.0), lifecycle (&gt;=\n1.0.0), magrittr, methods, pillar (&gt;= 1.5.0), purrr (&gt;= 0.2.5),\nR6 (&gt;= 2.2.2), rlang (&gt;= 1.0.0), tibble (&gt;= 1.4.2), tidyselect\n(&gt;= 0.2.4), utils, vctrs (&gt;= 0.4.1), withr | NA | bit64, covr, knitr, Lahman, nycflights13, odbc, RMariaDB (&gt;=\n1.0.2), rmarkdown, RPostgres (&gt;= 1.1.3), RPostgreSQL, RSQLite\n(&gt;= 2.1.0), testthat (&gt;= 3.0.2), tidyr (&gt;= 1.2.0)                                                                                                                                                                                                                                                                                                                                                                                                                                                                                                                                                                                               | NA                                                           | MIT + file LICENSE          | NA | NA | NA | NA | no  | 4.2.0 |\n| desc | desc        | /usr/lib/R/site-library       | 1.4.2  | NA | R (&gt;= 3.4)                                          | cli, R6, rprojroot, utils                                                                                                                                                                                                                                                                              | NA | callr, covr, gh, spelling, testthat, whoami, withr                                                                                                                                                                                                                                                                                                                                                                                                                                                                                                                                                                                                                                                                                                                           | NA                                                           | MIT + file LICENSE          | NA | NA | NA | NA | no  | 4.2.1 |\n| ⋮ | ⋮ | ⋮ | ⋮ | ⋮ | ⋮ | ⋮ | ⋮ | ⋮ | ⋮ | ⋮ | ⋮ | ⋮ | ⋮ | ⋮ | ⋮ | ⋮ |\n| zip | zip        | /usr/lib/R/site-library | 2.2.2    | NA          | NA                                              | NA                                               | NA | covr, processx, R6, testthat, withr                               | NA                                                                  | MIT + file LICENSE        | NA | NA | NA | NA | yes | 4.2.2 |\n| base | base       | /usr/lib/R/library      | 4.2.2    | base        | NA                                              | NA                                               | NA | methods                                                           | NA                                                                  | Part of R 4.2.2           | NA | NA | NA | NA | NA  | 4.2.2 |\n| boot | boot       | /usr/lib/R/library      | 1.3-28   | recommended | R (&gt;= 3.0.0), graphics, stats                   | NA                                               | NA | MASS, survival                                                    | NA                                                                  | Unlimited                 | NA | NA | NA | NA | no  | 4.0.5 |\n| class | class      | /usr/lib/R/library      | 7.3-20   | recommended | R (&gt;= 3.0.0), stats, utils                      | MASS                                             | NA | NA                                                                | NA                                                                  | GPL-2 | GPL-3             | NA | NA | NA | NA | yes | 4.1.2 |\n| cluster | cluster    | /usr/lib/R/library      | 2.1.4    | recommended | R (&gt;= 3.5.0)                                    | graphics, grDevices, stats, utils                | NA | MASS, Matrix                                                      | NA                                                                  | GPL (&gt;= 2)                | NA | NA | NA | NA | yes | 4.2.1 |\n| codetools | codetools  | /usr/lib/R/library      | 0.2-18   | recommended | R (&gt;= 2.1)                                      | NA                                               | NA | NA                                                                | NA                                                                  | GPL                       | NA | NA | NA | NA | no  | 4.0.3 |\n| compiler | compiler   | /usr/lib/R/library      | 4.2.2    | base        | NA                                              | NA                                               | NA | NA                                                                | NA                                                                  | Part of R 4.2.2           | NA | NA | NA | NA | NA  | 4.2.2 |\n| datasets | datasets   | /usr/lib/R/library      | 4.2.2    | base        | NA                                              | NA                                               | NA | NA                                                                | NA                                                                  | Part of R 4.2.2           | NA | NA | NA | NA | NA  | 4.2.2 |\n| foreign | foreign    | /usr/lib/R/library      | 0.8-82   | recommended | R (&gt;= 4.0.0)                                    | methods, utils, stats                            | NA | NA                                                                | NA                                                                  | GPL (&gt;= 2)                | NA | NA | NA | NA | yes | 4.1.2 |\n| graphics | graphics   | /usr/lib/R/library      | 4.2.2    | base        | NA                                              | grDevices                                        | NA | NA                                                                | NA                                                                  | Part of R 4.2.2           | NA | NA | NA | NA | yes | 4.2.2 |\n| grDevices | grDevices  | /usr/lib/R/library      | 4.2.2    | base        | NA                                              | NA                                               | NA | KernSmooth                                                        | NA                                                                  | Part of R 4.2.2           | NA | NA | NA | NA | yes | 4.2.2 |\n| grid | grid       | /usr/lib/R/library      | 4.2.2    | base        | NA                                              | grDevices, utils                                 | NA | NA                                                                | NA                                                                  | Part of R 4.2.2           | NA | NA | NA | NA | yes | 4.2.2 |\n| KernSmooth | KernSmooth | /usr/lib/R/library      | 2.23-20  | recommended | R (&gt;= 2.5.0), stats                             | NA                                               | NA | MASS, carData                                                     | NA                                                                  | Unlimited                 | NA | NA | NA | NA | yes | 4.0.5 |\n| lattice | lattice    | /usr/lib/R/library      | 0.20-45  | recommended | R (&gt;= 3.0.0)                                    | grid, grDevices, graphics, stats, utils          | NA | KernSmooth, MASS, latticeExtra                                    | chron                                                               | GPL (&gt;= 2)                | NA | NA | NA | NA | yes | 4.2.0 |\n| MASS | MASS       | /usr/lib/R/library      | 7.3-58.1 | recommended | R (&gt;= 3.3.0), grDevices, graphics, stats, utils | methods                                          | NA | lattice, nlme, nnet, survival                                     | NA                                                                  | GPL-2 | GPL-3             | NA | NA | NA | NA | yes | 4.2.1 |\n| Matrix | Matrix     | /usr/lib/R/library      | 1.5-3    | recommended | R (&gt;= 3.5.0), methods                           | graphics, grid, lattice, stats, utils            | NA | expm, MASS                                                        | MatrixModels, graph, SparseM, sfsmisc, igraph, maptools, sp,\nspdep | GPL (&gt;= 2) | file LICENCE | NA | NA | NA | NA | yes | 4.2.2 |\n| methods | methods    | /usr/lib/R/library      | 4.2.2    | base        | NA                                              | utils, stats                                     | NA | codetools                                                         | NA                                                                  | Part of R 4.2.2           | NA | NA | NA | NA | yes | 4.2.2 |\n| mgcv | mgcv       | /usr/lib/R/library      | 1.8-41   | recommended | R (&gt;= 3.6.0), nlme (&gt;= 3.1-64)                  | methods, stats, graphics, Matrix, splines, utils | NA | parallel, survival, MASS                                          | NA                                                                  | GPL (&gt;= 2)                | NA | NA | NA | NA | yes | 4.2.1 |\n| nlme | nlme       | /usr/lib/R/library      | 3.1-160  | recommended | R (&gt;= 3.5.0)                                    | graphics, stats, utils, lattice                  | NA | Hmisc, MASS, SASmixed                                             | NA                                                                  | GPL (&gt;= 2)                | NA | NA | NA | NA | yes | 4.2.1 |\n| nnet | nnet       | /usr/lib/R/library      | 7.3-18   | recommended | R (&gt;= 3.0.0), stats, utils                      | NA                                               | NA | MASS                                                              | NA                                                                  | GPL-2 | GPL-3             | NA | NA | NA | NA | yes | 4.2.1 |\n| parallel | parallel   | /usr/lib/R/library      | 4.2.2    | base        | NA                                              | tools, compiler                                  | NA | methods                                                           | snow, nws, Rmpi                                                     | Part of R 4.2.2           | NA | NA | NA | NA | yes | 4.2.2 |\n| rpart | rpart      | /usr/lib/R/library      | 4.1.19   | recommended | R (&gt;= 2.15.0), graphics, stats, grDevices       | NA                                               | NA | survival                                                          | NA                                                                  | GPL-2 | GPL-3             | NA | NA | NA | NA | yes | 4.2.1 |\n| spatial | spatial    | /usr/lib/R/library      | 7.3-15   | recommended | R (&gt;= 3.0.0), graphics, stats, utils            | NA                                               | NA | MASS                                                              | NA                                                                  | GPL-2 | GPL-3             | NA | NA | NA | NA | yes | 4.1.2 |\n| splines | splines    | /usr/lib/R/library      | 4.2.2    | base        | NA                                              | graphics, stats                                  | NA | Matrix, methods                                                   | NA                                                                  | Part of R 4.2.2           | NA | NA | NA | NA | yes | 4.2.2 |\n| stats | stats      | /usr/lib/R/library      | 4.2.2    | base        | NA                                              | utils, grDevices, graphics                       | NA | MASS, Matrix, SuppDists, methods, stats4                          | NA                                                                  | Part of R 4.2.2           | NA | NA | NA | NA | yes | 4.2.2 |\n| stats4 | stats4     | /usr/lib/R/library      | 4.2.2    | base        | NA                                              | graphics, methods, stats                         | NA | NA                                                                | NA                                                                  | Part of R 4.2.2           | NA | NA | NA | NA | NA  | 4.2.2 |\n| survival | survival   | /usr/lib/R/library      | 3.4-0    | recommended | R (&gt;= 3.5.0)                                    | graphics, Matrix, methods, splines, stats, utils | NA | NA                                                                | NA                                                                  | LGPL (&gt;= 2)               | NA | NA | NA | NA | yes | 4.2.1 |\n| tcltk | tcltk      | /usr/lib/R/library      | 4.2.2    | base        | NA                                              | utils                                            | NA | NA                                                                | NA                                                                  | Part of R 4.2.2           | NA | NA | NA | NA | yes | 4.2.2 |\n| tools | tools      | /usr/lib/R/library      | 4.2.2    | base        | NA                                              | NA                                               | NA | codetools, methods, xml2, curl, commonmark, knitr, xfun, mathjaxr | NA                                                                  | Part of R 4.2.2           | NA | NA | NA | NA | yes | 4.2.2 |\n| utils | utils      | /usr/lib/R/library      | 4.2.2    | base        | NA                                              | NA                                               | NA | methods, xml2, commonmark, knitr                                  | NA                                                                  | Part of R 4.2.2           | NA | NA | NA | NA | yes | 4.2.2 |\n\n",
            "text/latex": "A matrix: 159 × 16 of type chr\n\\begin{tabular}{r|llllllllllllllll}\n  & Package & LibPath & Version & Priority & Depends & Imports & LinkingTo & Suggests & Enhances & License & License\\_is\\_FOSS & License\\_restricts\\_use & OS\\_type & MD5sum & NeedsCompilation & Built\\\\\n\\hline\n\tIRdisplay & IRdisplay   & /usr/local/lib/R/site-library & 1.1    & NA & R (>= 3.0.1)                                        & methods, repr                                                                                                                                                                                                                                                                                          & NA & testthat, withr                                                                                                                                                                                                                                                                                                                                                                                                                                                                                                                                                                                                                                                                                                                                                              & NA                                                           & MIT + file LICENSE          & NA & NA & NA & NA & no  & 4.2.2\\\\\n\tIRkernel & IRkernel    & /usr/local/lib/R/site-library & 1.3.1  & NA & R (>= 3.2.0)                                        & repr (>= 0.4.99), methods, evaluate (>= 0.10), IRdisplay (>=\n0.3.0.9999), pbdZMQ (>= 0.2-1), crayon, jsonlite (>= 0.9.6),\nuuid, digest                                                                                                                                                               & NA & testthat, roxygen2                                                                                                                                                                                                                                                                                                                                                                                                                                                                                                                                                                                                                                                                                                                                                           & NA                                                           & MIT + file LICENSE          & NA & NA & NA & NA & no  & 4.2.2\\\\\n\tpbdZMQ & pbdZMQ      & /usr/local/lib/R/site-library & 0.3-8  & NA & R (>= 3.5.0)                                        & NA                                                                                                                                                                                                                                                                                                     & NA & NA                                                                                                                                                                                                                                                                                                                                                                                                                                                                                                                                                                                                                                                                                                                                                                           & NA                                                           & GPL-3                       & NA & NA & NA & NA & yes & 4.2.2\\\\\n\trepr & repr        & /usr/local/lib/R/site-library & 1.1.4  & NA & R (>= 3.0.1)                                        & utils, grDevices, htmltools, jsonlite, pillar (>= 1.4.0),\nbase64enc                                                                                                                                                                                                                                   & NA & methods, highr, Cairo, stringr, testthat (>= 3.0.0), leaflet                                                                                                                                                                                                                                                                                                                                                                                                                                                                                                                                                                                                                                                                                                                 & data.table, tibble, htmlwidgets, vegalite, plotly, geojsonio & GPL-3                       & NA & NA & NA & NA & no  & 4.2.2\\\\\n\taskpass & askpass     & /usr/lib/R/site-library       & 1.1    & NA & NA                                                  & sys (>= 2.1)                                                                                                                                                                                                                                                                                           & NA & testthat                                                                                                                                                                                                                                                                                                                                                                                                                                                                                                                                                                                                                                                                                                                                                                     & NA                                                           & MIT + file LICENSE          & NA & NA & NA & NA & yes & 4.0.0\\\\\n\tassertthat & assertthat  & /usr/lib/R/site-library       & 0.2.1  & NA & NA                                                  & tools                                                                                                                                                                                                                                                                                                  & NA & testthat, covr                                                                                                                                                                                                                                                                                                                                                                                                                                                                                                                                                                                                                                                                                                                                                               & NA                                                           & GPL-3                       & NA & NA & NA & NA & no  & 4.0.0\\\\\n\tbackports & backports   & /usr/lib/R/site-library       & 1.4.1  & NA & R (>= 3.0.0)                                        & NA                                                                                                                                                                                                                                                                                                     & NA & NA                                                                                                                                                                                                                                                                                                                                                                                                                                                                                                                                                                                                                                                                                                                                                                           & NA                                                           & GPL-2 \\textbar{} GPL-3               & NA & NA & NA & NA & yes & 4.1.2\\\\\n\tbase64enc & base64enc   & /usr/lib/R/site-library       & 0.1-3  & NA & R (>= 2.9.0)                                        & NA                                                                                                                                                                                                                                                                                                     & NA & NA                                                                                                                                                                                                                                                                                                                                                                                                                                                                                                                                                                                                                                                                                                                                                                           & png                                                          & GPL-2 \\textbar{} GPL-3               & NA & NA & NA & NA & yes & 4.0.0\\\\\n\tbit & bit         & /usr/lib/R/site-library       & 4.0.4  & NA & R (>= 2.9.2)                                        & NA                                                                                                                                                                                                                                                                                                     & NA & testthat (>= 0.11.0), roxygen2, knitr, rmarkdown,\nmicrobenchmark, bit64 (>= 4.0.0), ff (>= 4.0.0)                                                                                                                                                                                                                                                                                                                                                                                                                                                                                                                                                                                                                                                                           & NA                                                           & GPL-2 \\textbar{} GPL-3               & NA & NA & NA & NA & yes & 4.0.2\\\\\n\tbit64 & bit64       & /usr/lib/R/site-library       & 4.0.5  & NA & R (>= 3.0.1), bit (>= 4.0.0), utils, methods, stats & NA                                                                                                                                                                                                                                                                                                     & NA & NA                                                                                                                                                                                                                                                                                                                                                                                                                                                                                                                                                                                                                                                                                                                                                                           & NA                                                           & GPL-2 \\textbar{} GPL-3               & NA & NA & NA & NA & yes & 4.0.2\\\\\n\tblob & blob        & /usr/lib/R/site-library       & 1.2.3  & NA & NA                                                  & methods, rlang, vctrs (>= 0.2.1)                                                                                                                                                                                                                                                                       & NA & covr, crayon, pillar (>= 1.2.1), testthat                                                                                                                                                                                                                                                                                                                                                                                                                                                                                                                                                                                                                                                                                                                                    & NA                                                           & MIT + file LICENSE          & NA & NA & NA & NA & no  & 4.1.3\\\\\n\tbrew & brew        & /usr/lib/R/site-library       & 1.0-8  & NA & NA                                                  & NA                                                                                                                                                                                                                                                                                                     & NA & testthat (>= 3.0.0)                                                                                                                                                                                                                                                                                                                                                                                                                                                                                                                                                                                                                                                                                                                                                          & NA                                                           & GPL-2                       & NA & NA & NA & NA & no  & 4.2.1\\\\\n\tbrio & brio        & /usr/lib/R/site-library       & 1.1.3  & NA & NA                                                  & NA                                                                                                                                                                                                                                                                                                     & NA & covr, testthat (>= 2.1.0)                                                                                                                                                                                                                                                                                                                                                                                                                                                                                                                                                                                                                                                                                                                                                    & NA                                                           & MIT + file LICENSE          & NA & NA & NA & NA & yes & 4.1.2\\\\\n\tbroom & broom       & /usr/lib/R/site-library       & 1.0.1  & NA & R (>= 3.1)                                          & backports, dplyr (>= 1.0.0), ellipsis, generics (>= 0.0.2),\nglue, purrr, rlang, stringr, tibble (>= 3.0.0), tidyr (>=\n1.0.0), ggplot2                                                                                                                                                                & NA & AER, AUC, bbmle, betareg, biglm, binGroup, boot, btergm (>=\n1.10.6), car, carData, caret, cluster, cmprsk, coda, covr, drc,\ne1071, emmeans, epiR, ergm (>= 3.10.4), fixest (>= 0.9.0), gam\n(>= 1.15), gee, geepack, glmnet, glmnetUtils, gmm, Hmisc,\nirlba, interp, joineRML, Kendall, knitr, ks, Lahman, lavaan,\nleaps, lfe, lm.beta, lme4, lmodel2, lmtest (>= 0.9.38),\nlsmeans, maps, maptools, margins, MASS, mclust, mediation,\nmetafor, mfx, mgcv, mlogit, modeldata, modeltests, muhaz,\nmultcomp, network, nnet, orcutt (>= 2.2), ordinal, plm, poLCA,\npsych, quantreg, rgeos, rmarkdown, robust, robustbase, rsample,\nsandwich, sp, spdep (>= 1.1), spatialreg, speedglm, spelling,\nsurvey, survival, systemfit, testthat (>= 2.1.0), tseries,\nvars, zoo & NA                                                           & MIT + file LICENSE          & NA & NA & NA & NA & no  & 4.2.1\\\\\n\tbslib & bslib       & /usr/lib/R/site-library       & 0.4.1  & NA & R (>= 2.10)                                         & grDevices, htmltools (>= 0.5.2), jsonlite, sass (>= 0.4.0),\njquerylib (>= 0.1.3), rlang, cachem, memoise (>= 2.0.1)                                                                                                                                                                                   & NA & shiny (>= 1.6.0), rmarkdown (>= 2.7), thematic, knitr,\ntestthat, withr, rappdirs, curl, magrittr                                                                                                                                                                                                                                                                                                                                                                                                                                                                                                                                                                                                                                                                            & NA                                                           & MIT + file LICENSE          & NA & NA & NA & NA & no  & 4.2.2\\\\\n\tcachem & cachem      & /usr/lib/R/site-library       & 1.0.6  & NA & NA                                                  & rlang, fastmap                                                                                                                                                                                                                                                                                         & NA & testthat                                                                                                                                                                                                                                                                                                                                                                                                                                                                                                                                                                                                                                                                                                                                                                     & NA                                                           & MIT + file LICENSE          & NA & NA & NA & NA & yes & 4.1.1\\\\\n\tcallr & callr       & /usr/lib/R/site-library       & 3.7.3  & NA & R (>= 3.4)                                          & processx (>= 3.6.1), R6, utils                                                                                                                                                                                                                                                                         & NA & asciicast, cli (>= 1.1.0), covr, mockery, ps, rprojroot,\nspelling, testthat (>= 3.0.0), withr (>= 2.3.0)                                                                                                                                                                                                                                                                                                                                                                                                                                                                                                                                                                                                                                                                    & NA                                                           & MIT + file LICENSE          & NA & NA & NA & NA & no  & 4.2.2\\\\\n\tcellranger & cellranger  & /usr/lib/R/site-library       & 1.1.0  & NA & R (>= 3.0.0)                                        & rematch, tibble                                                                                                                                                                                                                                                                                        & NA & covr, testthat (>= 1.0.0), knitr, rmarkdown                                                                                                                                                                                                                                                                                                                                                                                                                                                                                                                                                                                                                                                                                                                                  & NA                                                           & MIT + file LICENSE          & NA & NA & NA & NA & no  & 4.0.0\\\\\n\tcli & cli         & /usr/lib/R/site-library       & 3.4.1  & NA & R (>= 3.4)                                          & utils                                                                                                                                                                                                                                                                                                  & NA & callr, covr, digest, glue (>= 1.6.0), grDevices, htmltools,\nhtmlwidgets, knitr, methods, mockery, processx, ps (>=\n1.3.4.9000), rlang (>= 1.0.2.9003), rmarkdown, rprojroot,\nrstudioapi, testthat, tibble, whoami, withr                                                                                                                                                                                                                                                                                                                                                                                                                                                                                                                                                  & NA                                                           & MIT + file LICENSE          & NA & NA & NA & NA & yes & 4.2.1\\\\\n\tclipr & clipr       & /usr/lib/R/site-library       & 0.8.0  & NA & NA                                                  & utils                                                                                                                                                                                                                                                                                                  & NA & covr, knitr, rmarkdown, rstudioapi (>= 0.5), testthat (>=\n2.0.0)                                                                                                                                                                                                                                                                                                                                                                                                                                                                                                                                                                                                                                                                                                            & NA                                                           & GPL-3                       & NA & NA & NA & NA & no  & 4.1.2\\\\\n\tcolorspace & colorspace  & /usr/lib/R/site-library       & 2.0-3  & NA & R (>= 3.0.0), methods                               & graphics, grDevices, stats                                                                                                                                                                                                                                                                             & NA & datasets, utils, KernSmooth, MASS, kernlab, mvtnorm, vcd,\ntcltk, shiny, shinyjs, ggplot2, dplyr, scales, grid, png, jpeg,\nknitr, rmarkdown, RColorBrewer, rcartocolor, scico, viridis,\nwesanderson                                                                                                                                                                                                                                                                                                                                                                                                                                                                                                                                                                        & NA                                                           & BSD\\_3\\_clause + file LICENSE & NA & NA & NA & NA & yes & 4.1.2\\\\\n\tcommonmark & commonmark  & /usr/lib/R/site-library       & 1.8.1  & NA & NA                                                  & NA                                                                                                                                                                                                                                                                                                     & NA & curl, testthat, xml2                                                                                                                                                                                                                                                                                                                                                                                                                                                                                                                                                                                                                                                                                                                                                         & NA                                                           & BSD\\_2\\_clause + file LICENSE & NA & NA & NA & NA & yes & 4.2.1\\\\\n\tcpp11 & cpp11       & /usr/lib/R/site-library       & 0.4.3  & NA & NA                                                  & NA                                                                                                                                                                                                                                                                                                     & NA & bench, brio, callr, cli, covr, decor, desc, ggplot2, glue,\nknitr, lobstr, mockery, progress, rmarkdown, scales, Rcpp,\ntestthat, tibble, utils, vctrs, withr                                                                                                                                                                                                                                                                                                                                                                                                                                                                                                                                                                                                                & NA                                                           & MIT + file LICENSE          & NA & NA & NA & NA & no  & 4.2.1\\\\\n\tcrayon & crayon      & /usr/lib/R/site-library       & 1.5.2  & NA & NA                                                  & grDevices, methods, utils                                                                                                                                                                                                                                                                              & NA & mockery, rstudioapi, testthat, withr                                                                                                                                                                                                                                                                                                                                                                                                                                                                                                                                                                                                                                                                                                                                         & NA                                                           & MIT + file LICENSE          & NA & NA & NA & NA & no  & 4.2.1\\\\\n\tcredentials & credentials & /usr/lib/R/site-library       & 1.3.2  & NA & NA                                                  & openssl (>= 1.3), sys (>= 2.1), curl, jsonlite, askpass                                                                                                                                                                                                                                                & NA & testthat, knitr, rmarkdown                                                                                                                                                                                                                                                                                                                                                                                                                                                                                                                                                                                                                                                                                                                                                   & NA                                                           & MIT + file LICENSE          & NA & NA & NA & NA & no  & 4.1.2\\\\\n\tcurl & curl        & /usr/lib/R/site-library       & 4.3.3  & NA & R (>= 3.0.0)                                        & NA                                                                                                                                                                                                                                                                                                     & NA & spelling, testthat (>= 1.0.0), knitr, jsonlite, rmarkdown,\nmagrittr, httpuv (>= 1.4.4), webutils                                                                                                                                                                                                                                                                                                                                                                                                                                                                                                                                                                                                                                                                            & NA                                                           & MIT + file LICENSE          & NA & NA & NA & NA & yes & 4.2.1\\\\\n\tdata.table & data.table  & /usr/lib/R/site-library       & 1.14.4 & NA & R (>= 3.1.0)                                        & methods                                                                                                                                                                                                                                                                                                & NA & bit64 (>= 4.0.0), bit (>= 4.0.4), curl, R.utils, xts,\nnanotime, zoo (>= 1.8-1), yaml, knitr, rmarkdown                                                                                                                                                                                                                                                                                                                                                                                                                                                                                                                                                                                                                                                                      & NA                                                           & MPL-2.0 \\textbar{} file LICENSE      & NA & NA & NA & NA & yes & 4.2.1\\\\\n\tDBI & DBI         & /usr/lib/R/site-library       & 1.1.3  & NA & methods, R (>= 3.0.0)                               & NA                                                                                                                                                                                                                                                                                                     & NA & blob, covr, DBItest, dbplyr, downlit, dplyr, glue, hms,\nknitr, magrittr, RMariaDB, rmarkdown, rprojroot, RSQLite (>=\n1.1-2), testthat, xml2                                                                                                                                                                                                                                                                                                                                                                                                                                                                                                                                                                                                                                & NA                                                           & LGPL (>= 2.1)               & NA & NA & NA & NA & no  & 4.2.0\\\\\n\tdbplyr & dbplyr      & /usr/lib/R/site-library       & 2.2.1  & NA & R (>= 3.1)                                          & assertthat (>= 0.2.0), blob (>= 1.2.0), cli (>= 3.3.0), DBI\n(>= 1.0.0), dplyr (>= 1.0.9), glue (>= 1.2.0), lifecycle (>=\n1.0.0), magrittr, methods, pillar (>= 1.5.0), purrr (>= 0.2.5),\nR6 (>= 2.2.2), rlang (>= 1.0.0), tibble (>= 1.4.2), tidyselect\n(>= 0.2.4), utils, vctrs (>= 0.4.1), withr & NA & bit64, covr, knitr, Lahman, nycflights13, odbc, RMariaDB (>=\n1.0.2), rmarkdown, RPostgres (>= 1.1.3), RPostgreSQL, RSQLite\n(>= 2.1.0), testthat (>= 3.0.2), tidyr (>= 1.2.0)                                                                                                                                                                                                                                                                                                                                                                                                                                                                                                                                                                                               & NA                                                           & MIT + file LICENSE          & NA & NA & NA & NA & no  & 4.2.0\\\\\n\tdesc & desc        & /usr/lib/R/site-library       & 1.4.2  & NA & R (>= 3.4)                                          & cli, R6, rprojroot, utils                                                                                                                                                                                                                                                                              & NA & callr, covr, gh, spelling, testthat, whoami, withr                                                                                                                                                                                                                                                                                                                                                                                                                                                                                                                                                                                                                                                                                                                           & NA                                                           & MIT + file LICENSE          & NA & NA & NA & NA & no  & 4.2.1\\\\\n\t⋮ & ⋮ & ⋮ & ⋮ & ⋮ & ⋮ & ⋮ & ⋮ & ⋮ & ⋮ & ⋮ & ⋮ & ⋮ & ⋮ & ⋮ & ⋮ & ⋮\\\\\n\tzip & zip        & /usr/lib/R/site-library & 2.2.2    & NA          & NA                                              & NA                                               & NA & covr, processx, R6, testthat, withr                               & NA                                                                  & MIT + file LICENSE        & NA & NA & NA & NA & yes & 4.2.2\\\\\n\tbase & base       & /usr/lib/R/library      & 4.2.2    & base        & NA                                              & NA                                               & NA & methods                                                           & NA                                                                  & Part of R 4.2.2           & NA & NA & NA & NA & NA  & 4.2.2\\\\\n\tboot & boot       & /usr/lib/R/library      & 1.3-28   & recommended & R (>= 3.0.0), graphics, stats                   & NA                                               & NA & MASS, survival                                                    & NA                                                                  & Unlimited                 & NA & NA & NA & NA & no  & 4.0.5\\\\\n\tclass & class      & /usr/lib/R/library      & 7.3-20   & recommended & R (>= 3.0.0), stats, utils                      & MASS                                             & NA & NA                                                                & NA                                                                  & GPL-2 \\textbar{} GPL-3             & NA & NA & NA & NA & yes & 4.1.2\\\\\n\tcluster & cluster    & /usr/lib/R/library      & 2.1.4    & recommended & R (>= 3.5.0)                                    & graphics, grDevices, stats, utils                & NA & MASS, Matrix                                                      & NA                                                                  & GPL (>= 2)                & NA & NA & NA & NA & yes & 4.2.1\\\\\n\tcodetools & codetools  & /usr/lib/R/library      & 0.2-18   & recommended & R (>= 2.1)                                      & NA                                               & NA & NA                                                                & NA                                                                  & GPL                       & NA & NA & NA & NA & no  & 4.0.3\\\\\n\tcompiler & compiler   & /usr/lib/R/library      & 4.2.2    & base        & NA                                              & NA                                               & NA & NA                                                                & NA                                                                  & Part of R 4.2.2           & NA & NA & NA & NA & NA  & 4.2.2\\\\\n\tdatasets & datasets   & /usr/lib/R/library      & 4.2.2    & base        & NA                                              & NA                                               & NA & NA                                                                & NA                                                                  & Part of R 4.2.2           & NA & NA & NA & NA & NA  & 4.2.2\\\\\n\tforeign & foreign    & /usr/lib/R/library      & 0.8-82   & recommended & R (>= 4.0.0)                                    & methods, utils, stats                            & NA & NA                                                                & NA                                                                  & GPL (>= 2)                & NA & NA & NA & NA & yes & 4.1.2\\\\\n\tgraphics & graphics   & /usr/lib/R/library      & 4.2.2    & base        & NA                                              & grDevices                                        & NA & NA                                                                & NA                                                                  & Part of R 4.2.2           & NA & NA & NA & NA & yes & 4.2.2\\\\\n\tgrDevices & grDevices  & /usr/lib/R/library      & 4.2.2    & base        & NA                                              & NA                                               & NA & KernSmooth                                                        & NA                                                                  & Part of R 4.2.2           & NA & NA & NA & NA & yes & 4.2.2\\\\\n\tgrid & grid       & /usr/lib/R/library      & 4.2.2    & base        & NA                                              & grDevices, utils                                 & NA & NA                                                                & NA                                                                  & Part of R 4.2.2           & NA & NA & NA & NA & yes & 4.2.2\\\\\n\tKernSmooth & KernSmooth & /usr/lib/R/library      & 2.23-20  & recommended & R (>= 2.5.0), stats                             & NA                                               & NA & MASS, carData                                                     & NA                                                                  & Unlimited                 & NA & NA & NA & NA & yes & 4.0.5\\\\\n\tlattice & lattice    & /usr/lib/R/library      & 0.20-45  & recommended & R (>= 3.0.0)                                    & grid, grDevices, graphics, stats, utils          & NA & KernSmooth, MASS, latticeExtra                                    & chron                                                               & GPL (>= 2)                & NA & NA & NA & NA & yes & 4.2.0\\\\\n\tMASS & MASS       & /usr/lib/R/library      & 7.3-58.1 & recommended & R (>= 3.3.0), grDevices, graphics, stats, utils & methods                                          & NA & lattice, nlme, nnet, survival                                     & NA                                                                  & GPL-2 \\textbar{} GPL-3             & NA & NA & NA & NA & yes & 4.2.1\\\\\n\tMatrix & Matrix     & /usr/lib/R/library      & 1.5-3    & recommended & R (>= 3.5.0), methods                           & graphics, grid, lattice, stats, utils            & NA & expm, MASS                                                        & MatrixModels, graph, SparseM, sfsmisc, igraph, maptools, sp,\nspdep & GPL (>= 2) \\textbar{} file LICENCE & NA & NA & NA & NA & yes & 4.2.2\\\\\n\tmethods & methods    & /usr/lib/R/library      & 4.2.2    & base        & NA                                              & utils, stats                                     & NA & codetools                                                         & NA                                                                  & Part of R 4.2.2           & NA & NA & NA & NA & yes & 4.2.2\\\\\n\tmgcv & mgcv       & /usr/lib/R/library      & 1.8-41   & recommended & R (>= 3.6.0), nlme (>= 3.1-64)                  & methods, stats, graphics, Matrix, splines, utils & NA & parallel, survival, MASS                                          & NA                                                                  & GPL (>= 2)                & NA & NA & NA & NA & yes & 4.2.1\\\\\n\tnlme & nlme       & /usr/lib/R/library      & 3.1-160  & recommended & R (>= 3.5.0)                                    & graphics, stats, utils, lattice                  & NA & Hmisc, MASS, SASmixed                                             & NA                                                                  & GPL (>= 2)                & NA & NA & NA & NA & yes & 4.2.1\\\\\n\tnnet & nnet       & /usr/lib/R/library      & 7.3-18   & recommended & R (>= 3.0.0), stats, utils                      & NA                                               & NA & MASS                                                              & NA                                                                  & GPL-2 \\textbar{} GPL-3             & NA & NA & NA & NA & yes & 4.2.1\\\\\n\tparallel & parallel   & /usr/lib/R/library      & 4.2.2    & base        & NA                                              & tools, compiler                                  & NA & methods                                                           & snow, nws, Rmpi                                                     & Part of R 4.2.2           & NA & NA & NA & NA & yes & 4.2.2\\\\\n\trpart & rpart      & /usr/lib/R/library      & 4.1.19   & recommended & R (>= 2.15.0), graphics, stats, grDevices       & NA                                               & NA & survival                                                          & NA                                                                  & GPL-2 \\textbar{} GPL-3             & NA & NA & NA & NA & yes & 4.2.1\\\\\n\tspatial & spatial    & /usr/lib/R/library      & 7.3-15   & recommended & R (>= 3.0.0), graphics, stats, utils            & NA                                               & NA & MASS                                                              & NA                                                                  & GPL-2 \\textbar{} GPL-3             & NA & NA & NA & NA & yes & 4.1.2\\\\\n\tsplines & splines    & /usr/lib/R/library      & 4.2.2    & base        & NA                                              & graphics, stats                                  & NA & Matrix, methods                                                   & NA                                                                  & Part of R 4.2.2           & NA & NA & NA & NA & yes & 4.2.2\\\\\n\tstats & stats      & /usr/lib/R/library      & 4.2.2    & base        & NA                                              & utils, grDevices, graphics                       & NA & MASS, Matrix, SuppDists, methods, stats4                          & NA                                                                  & Part of R 4.2.2           & NA & NA & NA & NA & yes & 4.2.2\\\\\n\tstats4 & stats4     & /usr/lib/R/library      & 4.2.2    & base        & NA                                              & graphics, methods, stats                         & NA & NA                                                                & NA                                                                  & Part of R 4.2.2           & NA & NA & NA & NA & NA  & 4.2.2\\\\\n\tsurvival & survival   & /usr/lib/R/library      & 3.4-0    & recommended & R (>= 3.5.0)                                    & graphics, Matrix, methods, splines, stats, utils & NA & NA                                                                & NA                                                                  & LGPL (>= 2)               & NA & NA & NA & NA & yes & 4.2.1\\\\\n\ttcltk & tcltk      & /usr/lib/R/library      & 4.2.2    & base        & NA                                              & utils                                            & NA & NA                                                                & NA                                                                  & Part of R 4.2.2           & NA & NA & NA & NA & yes & 4.2.2\\\\\n\ttools & tools      & /usr/lib/R/library      & 4.2.2    & base        & NA                                              & NA                                               & NA & codetools, methods, xml2, curl, commonmark, knitr, xfun, mathjaxr & NA                                                                  & Part of R 4.2.2           & NA & NA & NA & NA & yes & 4.2.2\\\\\n\tutils & utils      & /usr/lib/R/library      & 4.2.2    & base        & NA                                              & NA                                               & NA & methods, xml2, commonmark, knitr                                  & NA                                                                  & Part of R 4.2.2           & NA & NA & NA & NA & yes & 4.2.2\\\\\n\\end{tabular}\n",
            "text/plain": [
              "            Package     LibPath                       Version  Priority   \n",
              "IRdisplay   IRdisplay   /usr/local/lib/R/site-library 1.1      NA         \n",
              "IRkernel    IRkernel    /usr/local/lib/R/site-library 1.3.1    NA         \n",
              "pbdZMQ      pbdZMQ      /usr/local/lib/R/site-library 0.3-8    NA         \n",
              "repr        repr        /usr/local/lib/R/site-library 1.1.4    NA         \n",
              "askpass     askpass     /usr/lib/R/site-library       1.1      NA         \n",
              "assertthat  assertthat  /usr/lib/R/site-library       0.2.1    NA         \n",
              "backports   backports   /usr/lib/R/site-library       1.4.1    NA         \n",
              "base64enc   base64enc   /usr/lib/R/site-library       0.1-3    NA         \n",
              "bit         bit         /usr/lib/R/site-library       4.0.4    NA         \n",
              "bit64       bit64       /usr/lib/R/site-library       4.0.5    NA         \n",
              "blob        blob        /usr/lib/R/site-library       1.2.3    NA         \n",
              "brew        brew        /usr/lib/R/site-library       1.0-8    NA         \n",
              "brio        brio        /usr/lib/R/site-library       1.1.3    NA         \n",
              "broom       broom       /usr/lib/R/site-library       1.0.1    NA         \n",
              "bslib       bslib       /usr/lib/R/site-library       0.4.1    NA         \n",
              "cachem      cachem      /usr/lib/R/site-library       1.0.6    NA         \n",
              "callr       callr       /usr/lib/R/site-library       3.7.3    NA         \n",
              "cellranger  cellranger  /usr/lib/R/site-library       1.1.0    NA         \n",
              "cli         cli         /usr/lib/R/site-library       3.4.1    NA         \n",
              "clipr       clipr       /usr/lib/R/site-library       0.8.0    NA         \n",
              "colorspace  colorspace  /usr/lib/R/site-library       2.0-3    NA         \n",
              "commonmark  commonmark  /usr/lib/R/site-library       1.8.1    NA         \n",
              "cpp11       cpp11       /usr/lib/R/site-library       0.4.3    NA         \n",
              "crayon      crayon      /usr/lib/R/site-library       1.5.2    NA         \n",
              "credentials credentials /usr/lib/R/site-library       1.3.2    NA         \n",
              "curl        curl        /usr/lib/R/site-library       4.3.3    NA         \n",
              "data.table  data.table  /usr/lib/R/site-library       1.14.4   NA         \n",
              "DBI         DBI         /usr/lib/R/site-library       1.1.3    NA         \n",
              "dbplyr      dbplyr      /usr/lib/R/site-library       2.2.1    NA         \n",
              "desc        desc        /usr/lib/R/site-library       1.4.2    NA         \n",
              "⋮           ⋮           ⋮                             ⋮        ⋮          \n",
              "zip         zip         /usr/lib/R/site-library       2.2.2    NA         \n",
              "base        base        /usr/lib/R/library            4.2.2    base       \n",
              "boot        boot        /usr/lib/R/library            1.3-28   recommended\n",
              "class       class       /usr/lib/R/library            7.3-20   recommended\n",
              "cluster     cluster     /usr/lib/R/library            2.1.4    recommended\n",
              "codetools   codetools   /usr/lib/R/library            0.2-18   recommended\n",
              "compiler    compiler    /usr/lib/R/library            4.2.2    base       \n",
              "datasets    datasets    /usr/lib/R/library            4.2.2    base       \n",
              "foreign     foreign     /usr/lib/R/library            0.8-82   recommended\n",
              "graphics    graphics    /usr/lib/R/library            4.2.2    base       \n",
              "grDevices   grDevices   /usr/lib/R/library            4.2.2    base       \n",
              "grid        grid        /usr/lib/R/library            4.2.2    base       \n",
              "KernSmooth  KernSmooth  /usr/lib/R/library            2.23-20  recommended\n",
              "lattice     lattice     /usr/lib/R/library            0.20-45  recommended\n",
              "MASS        MASS        /usr/lib/R/library            7.3-58.1 recommended\n",
              "Matrix      Matrix      /usr/lib/R/library            1.5-3    recommended\n",
              "methods     methods     /usr/lib/R/library            4.2.2    base       \n",
              "mgcv        mgcv        /usr/lib/R/library            1.8-41   recommended\n",
              "nlme        nlme        /usr/lib/R/library            3.1-160  recommended\n",
              "nnet        nnet        /usr/lib/R/library            7.3-18   recommended\n",
              "parallel    parallel    /usr/lib/R/library            4.2.2    base       \n",
              "rpart       rpart       /usr/lib/R/library            4.1.19   recommended\n",
              "spatial     spatial     /usr/lib/R/library            7.3-15   recommended\n",
              "splines     splines     /usr/lib/R/library            4.2.2    base       \n",
              "stats       stats       /usr/lib/R/library            4.2.2    base       \n",
              "stats4      stats4      /usr/lib/R/library            4.2.2    base       \n",
              "survival    survival    /usr/lib/R/library            3.4-0    recommended\n",
              "tcltk       tcltk       /usr/lib/R/library            4.2.2    base       \n",
              "tools       tools       /usr/lib/R/library            4.2.2    base       \n",
              "utils       utils       /usr/lib/R/library            4.2.2    base       \n",
              "            Depends                                            \n",
              "IRdisplay   R (>= 3.0.1)                                       \n",
              "IRkernel    R (>= 3.2.0)                                       \n",
              "pbdZMQ      R (>= 3.5.0)                                       \n",
              "repr        R (>= 3.0.1)                                       \n",
              "askpass     NA                                                 \n",
              "assertthat  NA                                                 \n",
              "backports   R (>= 3.0.0)                                       \n",
              "base64enc   R (>= 2.9.0)                                       \n",
              "bit         R (>= 2.9.2)                                       \n",
              "bit64       R (>= 3.0.1), bit (>= 4.0.0), utils, methods, stats\n",
              "blob        NA                                                 \n",
              "brew        NA                                                 \n",
              "brio        NA                                                 \n",
              "broom       R (>= 3.1)                                         \n",
              "bslib       R (>= 2.10)                                        \n",
              "cachem      NA                                                 \n",
              "callr       R (>= 3.4)                                         \n",
              "cellranger  R (>= 3.0.0)                                       \n",
              "cli         R (>= 3.4)                                         \n",
              "clipr       NA                                                 \n",
              "colorspace  R (>= 3.0.0), methods                              \n",
              "commonmark  NA                                                 \n",
              "cpp11       NA                                                 \n",
              "crayon      NA                                                 \n",
              "credentials NA                                                 \n",
              "curl        R (>= 3.0.0)                                       \n",
              "data.table  R (>= 3.1.0)                                       \n",
              "DBI         methods, R (>= 3.0.0)                              \n",
              "dbplyr      R (>= 3.1)                                         \n",
              "desc        R (>= 3.4)                                         \n",
              "⋮           ⋮                                                  \n",
              "zip         NA                                                 \n",
              "base        NA                                                 \n",
              "boot        R (>= 3.0.0), graphics, stats                      \n",
              "class       R (>= 3.0.0), stats, utils                         \n",
              "cluster     R (>= 3.5.0)                                       \n",
              "codetools   R (>= 2.1)                                         \n",
              "compiler    NA                                                 \n",
              "datasets    NA                                                 \n",
              "foreign     R (>= 4.0.0)                                       \n",
              "graphics    NA                                                 \n",
              "grDevices   NA                                                 \n",
              "grid        NA                                                 \n",
              "KernSmooth  R (>= 2.5.0), stats                                \n",
              "lattice     R (>= 3.0.0)                                       \n",
              "MASS        R (>= 3.3.0), grDevices, graphics, stats, utils    \n",
              "Matrix      R (>= 3.5.0), methods                              \n",
              "methods     NA                                                 \n",
              "mgcv        R (>= 3.6.0), nlme (>= 3.1-64)                     \n",
              "nlme        R (>= 3.5.0)                                       \n",
              "nnet        R (>= 3.0.0), stats, utils                         \n",
              "parallel    NA                                                 \n",
              "rpart       R (>= 2.15.0), graphics, stats, grDevices          \n",
              "spatial     R (>= 3.0.0), graphics, stats, utils               \n",
              "splines     NA                                                 \n",
              "stats       NA                                                 \n",
              "stats4      NA                                                 \n",
              "survival    R (>= 3.5.0)                                       \n",
              "tcltk       NA                                                 \n",
              "tools       NA                                                 \n",
              "utils       NA                                                 \n",
              "            Imports                                                                                                                                                                                                                                                                                               \n",
              "IRdisplay   methods, repr                                                                                                                                                                                                                                                                                         \n",
              "IRkernel    repr (>= 0.4.99), methods, evaluate (>= 0.10), IRdisplay (>=\\n0.3.0.9999), pbdZMQ (>= 0.2-1), crayon, jsonlite (>= 0.9.6),\\nuuid, digest                                                                                                                                                              \n",
              "pbdZMQ      NA                                                                                                                                                                                                                                                                                                    \n",
              "repr        utils, grDevices, htmltools, jsonlite, pillar (>= 1.4.0),\\nbase64enc                                                                                                                                                                                                                                  \n",
              "askpass     sys (>= 2.1)                                                                                                                                                                                                                                                                                          \n",
              "assertthat  tools                                                                                                                                                                                                                                                                                                 \n",
              "backports   NA                                                                                                                                                                                                                                                                                                    \n",
              "base64enc   NA                                                                                                                                                                                                                                                                                                    \n",
              "bit         NA                                                                                                                                                                                                                                                                                                    \n",
              "bit64       NA                                                                                                                                                                                                                                                                                                    \n",
              "blob        methods, rlang, vctrs (>= 0.2.1)                                                                                                                                                                                                                                                                      \n",
              "brew        NA                                                                                                                                                                                                                                                                                                    \n",
              "brio        NA                                                                                                                                                                                                                                                                                                    \n",
              "broom       backports, dplyr (>= 1.0.0), ellipsis, generics (>= 0.0.2),\\nglue, purrr, rlang, stringr, tibble (>= 3.0.0), tidyr (>=\\n1.0.0), ggplot2                                                                                                                                                               \n",
              "bslib       grDevices, htmltools (>= 0.5.2), jsonlite, sass (>= 0.4.0),\\njquerylib (>= 0.1.3), rlang, cachem, memoise (>= 2.0.1)                                                                                                                                                                                  \n",
              "cachem      rlang, fastmap                                                                                                                                                                                                                                                                                        \n",
              "callr       processx (>= 3.6.1), R6, utils                                                                                                                                                                                                                                                                        \n",
              "cellranger  rematch, tibble                                                                                                                                                                                                                                                                                       \n",
              "cli         utils                                                                                                                                                                                                                                                                                                 \n",
              "clipr       utils                                                                                                                                                                                                                                                                                                 \n",
              "colorspace  graphics, grDevices, stats                                                                                                                                                                                                                                                                            \n",
              "commonmark  NA                                                                                                                                                                                                                                                                                                    \n",
              "cpp11       NA                                                                                                                                                                                                                                                                                                    \n",
              "crayon      grDevices, methods, utils                                                                                                                                                                                                                                                                             \n",
              "credentials openssl (>= 1.3), sys (>= 2.1), curl, jsonlite, askpass                                                                                                                                                                                                                                               \n",
              "curl        NA                                                                                                                                                                                                                                                                                                    \n",
              "data.table  methods                                                                                                                                                                                                                                                                                               \n",
              "DBI         NA                                                                                                                                                                                                                                                                                                    \n",
              "dbplyr      assertthat (>= 0.2.0), blob (>= 1.2.0), cli (>= 3.3.0), DBI\\n(>= 1.0.0), dplyr (>= 1.0.9), glue (>= 1.2.0), lifecycle (>=\\n1.0.0), magrittr, methods, pillar (>= 1.5.0), purrr (>= 0.2.5),\\nR6 (>= 2.2.2), rlang (>= 1.0.0), tibble (>= 1.4.2), tidyselect\\n(>= 0.2.4), utils, vctrs (>= 0.4.1), withr\n",
              "desc        cli, R6, rprojroot, utils                                                                                                                                                                                                                                                                             \n",
              "⋮           ⋮                                                                                                                                                                                                                                                                                                     \n",
              "zip         NA                                                                                                                                                                                                                                                                                                    \n",
              "base        NA                                                                                                                                                                                                                                                                                                    \n",
              "boot        NA                                                                                                                                                                                                                                                                                                    \n",
              "class       MASS                                                                                                                                                                                                                                                                                                  \n",
              "cluster     graphics, grDevices, stats, utils                                                                                                                                                                                                                                                                     \n",
              "codetools   NA                                                                                                                                                                                                                                                                                                    \n",
              "compiler    NA                                                                                                                                                                                                                                                                                                    \n",
              "datasets    NA                                                                                                                                                                                                                                                                                                    \n",
              "foreign     methods, utils, stats                                                                                                                                                                                                                                                                                 \n",
              "graphics    grDevices                                                                                                                                                                                                                                                                                             \n",
              "grDevices   NA                                                                                                                                                                                                                                                                                                    \n",
              "grid        grDevices, utils                                                                                                                                                                                                                                                                                      \n",
              "KernSmooth  NA                                                                                                                                                                                                                                                                                                    \n",
              "lattice     grid, grDevices, graphics, stats, utils                                                                                                                                                                                                                                                               \n",
              "MASS        methods                                                                                                                                                                                                                                                                                               \n",
              "Matrix      graphics, grid, lattice, stats, utils                                                                                                                                                                                                                                                                 \n",
              "methods     utils, stats                                                                                                                                                                                                                                                                                          \n",
              "mgcv        methods, stats, graphics, Matrix, splines, utils                                                                                                                                                                                                                                                      \n",
              "nlme        graphics, stats, utils, lattice                                                                                                                                                                                                                                                                       \n",
              "nnet        NA                                                                                                                                                                                                                                                                                                    \n",
              "parallel    tools, compiler                                                                                                                                                                                                                                                                                       \n",
              "rpart       NA                                                                                                                                                                                                                                                                                                    \n",
              "spatial     NA                                                                                                                                                                                                                                                                                                    \n",
              "splines     graphics, stats                                                                                                                                                                                                                                                                                       \n",
              "stats       utils, grDevices, graphics                                                                                                                                                                                                                                                                            \n",
              "stats4      graphics, methods, stats                                                                                                                                                                                                                                                                              \n",
              "survival    graphics, Matrix, methods, splines, stats, utils                                                                                                                                                                                                                                                      \n",
              "tcltk       utils                                                                                                                                                                                                                                                                                                 \n",
              "tools       NA                                                                                                                                                                                                                                                                                                    \n",
              "utils       NA                                                                                                                                                                                                                                                                                                    \n",
              "            LinkingTo\n",
              "IRdisplay   NA       \n",
              "IRkernel    NA       \n",
              "pbdZMQ      NA       \n",
              "repr        NA       \n",
              "askpass     NA       \n",
              "assertthat  NA       \n",
              "backports   NA       \n",
              "base64enc   NA       \n",
              "bit         NA       \n",
              "bit64       NA       \n",
              "blob        NA       \n",
              "brew        NA       \n",
              "brio        NA       \n",
              "broom       NA       \n",
              "bslib       NA       \n",
              "cachem      NA       \n",
              "callr       NA       \n",
              "cellranger  NA       \n",
              "cli         NA       \n",
              "clipr       NA       \n",
              "colorspace  NA       \n",
              "commonmark  NA       \n",
              "cpp11       NA       \n",
              "crayon      NA       \n",
              "credentials NA       \n",
              "curl        NA       \n",
              "data.table  NA       \n",
              "DBI         NA       \n",
              "dbplyr      NA       \n",
              "desc        NA       \n",
              "⋮           ⋮        \n",
              "zip         NA       \n",
              "base        NA       \n",
              "boot        NA       \n",
              "class       NA       \n",
              "cluster     NA       \n",
              "codetools   NA       \n",
              "compiler    NA       \n",
              "datasets    NA       \n",
              "foreign     NA       \n",
              "graphics    NA       \n",
              "grDevices   NA       \n",
              "grid        NA       \n",
              "KernSmooth  NA       \n",
              "lattice     NA       \n",
              "MASS        NA       \n",
              "Matrix      NA       \n",
              "methods     NA       \n",
              "mgcv        NA       \n",
              "nlme        NA       \n",
              "nnet        NA       \n",
              "parallel    NA       \n",
              "rpart       NA       \n",
              "spatial     NA       \n",
              "splines     NA       \n",
              "stats       NA       \n",
              "stats4      NA       \n",
              "survival    NA       \n",
              "tcltk       NA       \n",
              "tools       NA       \n",
              "utils       NA       \n",
              "            Suggests                                                                                                                                                                                                                                                                                                                                                                                                                                                                                                                                                                                                                                                                                                                                                                    \n",
              "IRdisplay   testthat, withr                                                                                                                                                                                                                                                                                                                                                                                                                                                                                                                                                                                                                                                                                                                                                             \n",
              "IRkernel    testthat, roxygen2                                                                                                                                                                                                                                                                                                                                                                                                                                                                                                                                                                                                                                                                                                                                                          \n",
              "pbdZMQ      NA                                                                                                                                                                                                                                                                                                                                                                                                                                                                                                                                                                                                                                                                                                                                                                          \n",
              "repr        methods, highr, Cairo, stringr, testthat (>= 3.0.0), leaflet                                                                                                                                                                                                                                                                                                                                                                                                                                                                                                                                                                                                                                                                                                                \n",
              "askpass     testthat                                                                                                                                                                                                                                                                                                                                                                                                                                                                                                                                                                                                                                                                                                                                                                    \n",
              "assertthat  testthat, covr                                                                                                                                                                                                                                                                                                                                                                                                                                                                                                                                                                                                                                                                                                                                                              \n",
              "backports   NA                                                                                                                                                                                                                                                                                                                                                                                                                                                                                                                                                                                                                                                                                                                                                                          \n",
              "base64enc   NA                                                                                                                                                                                                                                                                                                                                                                                                                                                                                                                                                                                                                                                                                                                                                                          \n",
              "bit         testthat (>= 0.11.0), roxygen2, knitr, rmarkdown,\\nmicrobenchmark, bit64 (>= 4.0.0), ff (>= 4.0.0)                                                                                                                                                                                                                                                                                                                                                                                                                                                                                                                                                                                                                                                                          \n",
              "bit64       NA                                                                                                                                                                                                                                                                                                                                                                                                                                                                                                                                                                                                                                                                                                                                                                          \n",
              "blob        covr, crayon, pillar (>= 1.2.1), testthat                                                                                                                                                                                                                                                                                                                                                                                                                                                                                                                                                                                                                                                                                                                                   \n",
              "brew        testthat (>= 3.0.0)                                                                                                                                                                                                                                                                                                                                                                                                                                                                                                                                                                                                                                                                                                                                                         \n",
              "brio        covr, testthat (>= 2.1.0)                                                                                                                                                                                                                                                                                                                                                                                                                                                                                                                                                                                                                                                                                                                                                   \n",
              "broom       AER, AUC, bbmle, betareg, biglm, binGroup, boot, btergm (>=\\n1.10.6), car, carData, caret, cluster, cmprsk, coda, covr, drc,\\ne1071, emmeans, epiR, ergm (>= 3.10.4), fixest (>= 0.9.0), gam\\n(>= 1.15), gee, geepack, glmnet, glmnetUtils, gmm, Hmisc,\\nirlba, interp, joineRML, Kendall, knitr, ks, Lahman, lavaan,\\nleaps, lfe, lm.beta, lme4, lmodel2, lmtest (>= 0.9.38),\\nlsmeans, maps, maptools, margins, MASS, mclust, mediation,\\nmetafor, mfx, mgcv, mlogit, modeldata, modeltests, muhaz,\\nmultcomp, network, nnet, orcutt (>= 2.2), ordinal, plm, poLCA,\\npsych, quantreg, rgeos, rmarkdown, robust, robustbase, rsample,\\nsandwich, sp, spdep (>= 1.1), spatialreg, speedglm, spelling,\\nsurvey, survival, systemfit, testthat (>= 2.1.0), tseries,\\nvars, zoo\n",
              "bslib       shiny (>= 1.6.0), rmarkdown (>= 2.7), thematic, knitr,\\ntestthat, withr, rappdirs, curl, magrittr                                                                                                                                                                                                                                                                                                                                                                                                                                                                                                                                                                                                                                                                           \n",
              "cachem      testthat                                                                                                                                                                                                                                                                                                                                                                                                                                                                                                                                                                                                                                                                                                                                                                    \n",
              "callr       asciicast, cli (>= 1.1.0), covr, mockery, ps, rprojroot,\\nspelling, testthat (>= 3.0.0), withr (>= 2.3.0)                                                                                                                                                                                                                                                                                                                                                                                                                                                                                                                                                                                                                                                                   \n",
              "cellranger  covr, testthat (>= 1.0.0), knitr, rmarkdown                                                                                                                                                                                                                                                                                                                                                                                                                                                                                                                                                                                                                                                                                                                                 \n",
              "cli         callr, covr, digest, glue (>= 1.6.0), grDevices, htmltools,\\nhtmlwidgets, knitr, methods, mockery, processx, ps (>=\\n1.3.4.9000), rlang (>= 1.0.2.9003), rmarkdown, rprojroot,\\nrstudioapi, testthat, tibble, whoami, withr                                                                                                                                                                                                                                                                                                                                                                                                                                                                                                                                                 \n",
              "clipr       covr, knitr, rmarkdown, rstudioapi (>= 0.5), testthat (>=\\n2.0.0)                                                                                                                                                                                                                                                                                                                                                                                                                                                                                                                                                                                                                                                                                                           \n",
              "colorspace  datasets, utils, KernSmooth, MASS, kernlab, mvtnorm, vcd,\\ntcltk, shiny, shinyjs, ggplot2, dplyr, scales, grid, png, jpeg,\\nknitr, rmarkdown, RColorBrewer, rcartocolor, scico, viridis,\\nwesanderson                                                                                                                                                                                                                                                                                                                                                                                                                                                                                                                                                                       \n",
              "commonmark  curl, testthat, xml2                                                                                                                                                                                                                                                                                                                                                                                                                                                                                                                                                                                                                                                                                                                                                        \n",
              "cpp11       bench, brio, callr, cli, covr, decor, desc, ggplot2, glue,\\nknitr, lobstr, mockery, progress, rmarkdown, scales, Rcpp,\\ntestthat, tibble, utils, vctrs, withr                                                                                                                                                                                                                                                                                                                                                                                                                                                                                                                                                                                                               \n",
              "crayon      mockery, rstudioapi, testthat, withr                                                                                                                                                                                                                                                                                                                                                                                                                                                                                                                                                                                                                                                                                                                                        \n",
              "credentials testthat, knitr, rmarkdown                                                                                                                                                                                                                                                                                                                                                                                                                                                                                                                                                                                                                                                                                                                                                  \n",
              "curl        spelling, testthat (>= 1.0.0), knitr, jsonlite, rmarkdown,\\nmagrittr, httpuv (>= 1.4.4), webutils                                                                                                                                                                                                                                                                                                                                                                                                                                                                                                                                                                                                                                                                           \n",
              "data.table  bit64 (>= 4.0.0), bit (>= 4.0.4), curl, R.utils, xts,\\nnanotime, zoo (>= 1.8-1), yaml, knitr, rmarkdown                                                                                                                                                                                                                                                                                                                                                                                                                                                                                                                                                                                                                                                                     \n",
              "DBI         blob, covr, DBItest, dbplyr, downlit, dplyr, glue, hms,\\nknitr, magrittr, RMariaDB, rmarkdown, rprojroot, RSQLite (>=\\n1.1-2), testthat, xml2                                                                                                                                                                                                                                                                                                                                                                                                                                                                                                                                                                                                                               \n",
              "dbplyr      bit64, covr, knitr, Lahman, nycflights13, odbc, RMariaDB (>=\\n1.0.2), rmarkdown, RPostgres (>= 1.1.3), RPostgreSQL, RSQLite\\n(>= 2.1.0), testthat (>= 3.0.2), tidyr (>= 1.2.0)                                                                                                                                                                                                                                                                                                                                                                                                                                                                                                                                                                                              \n",
              "desc        callr, covr, gh, spelling, testthat, whoami, withr                                                                                                                                                                                                                                                                                                                                                                                                                                                                                                                                                                                                                                                                                                                          \n",
              "⋮           ⋮                                                                                                                                                                                                                                                                                                                                                                                                                                                                                                                                                                                                                                                                                                                                                                           \n",
              "zip         covr, processx, R6, testthat, withr                                                                                                                                                                                                                                                                                                                                                                                                                                                                                                                                                                                                                                                                                                                                         \n",
              "base        methods                                                                                                                                                                                                                                                                                                                                                                                                                                                                                                                                                                                                                                                                                                                                                                     \n",
              "boot        MASS, survival                                                                                                                                                                                                                                                                                                                                                                                                                                                                                                                                                                                                                                                                                                                                                              \n",
              "class       NA                                                                                                                                                                                                                                                                                                                                                                                                                                                                                                                                                                                                                                                                                                                                                                          \n",
              "cluster     MASS, Matrix                                                                                                                                                                                                                                                                                                                                                                                                                                                                                                                                                                                                                                                                                                                                                                \n",
              "codetools   NA                                                                                                                                                                                                                                                                                                                                                                                                                                                                                                                                                                                                                                                                                                                                                                          \n",
              "compiler    NA                                                                                                                                                                                                                                                                                                                                                                                                                                                                                                                                                                                                                                                                                                                                                                          \n",
              "datasets    NA                                                                                                                                                                                                                                                                                                                                                                                                                                                                                                                                                                                                                                                                                                                                                                          \n",
              "foreign     NA                                                                                                                                                                                                                                                                                                                                                                                                                                                                                                                                                                                                                                                                                                                                                                          \n",
              "graphics    NA                                                                                                                                                                                                                                                                                                                                                                                                                                                                                                                                                                                                                                                                                                                                                                          \n",
              "grDevices   KernSmooth                                                                                                                                                                                                                                                                                                                                                                                                                                                                                                                                                                                                                                                                                                                                                                  \n",
              "grid        NA                                                                                                                                                                                                                                                                                                                                                                                                                                                                                                                                                                                                                                                                                                                                                                          \n",
              "KernSmooth  MASS, carData                                                                                                                                                                                                                                                                                                                                                                                                                                                                                                                                                                                                                                                                                                                                                               \n",
              "lattice     KernSmooth, MASS, latticeExtra                                                                                                                                                                                                                                                                                                                                                                                                                                                                                                                                                                                                                                                                                                                                              \n",
              "MASS        lattice, nlme, nnet, survival                                                                                                                                                                                                                                                                                                                                                                                                                                                                                                                                                                                                                                                                                                                                               \n",
              "Matrix      expm, MASS                                                                                                                                                                                                                                                                                                                                                                                                                                                                                                                                                                                                                                                                                                                                                                  \n",
              "methods     codetools                                                                                                                                                                                                                                                                                                                                                                                                                                                                                                                                                                                                                                                                                                                                                                   \n",
              "mgcv        parallel, survival, MASS                                                                                                                                                                                                                                                                                                                                                                                                                                                                                                                                                                                                                                                                                                                                                    \n",
              "nlme        Hmisc, MASS, SASmixed                                                                                                                                                                                                                                                                                                                                                                                                                                                                                                                                                                                                                                                                                                                                                       \n",
              "nnet        MASS                                                                                                                                                                                                                                                                                                                                                                                                                                                                                                                                                                                                                                                                                                                                                                        \n",
              "parallel    methods                                                                                                                                                                                                                                                                                                                                                                                                                                                                                                                                                                                                                                                                                                                                                                     \n",
              "rpart       survival                                                                                                                                                                                                                                                                                                                                                                                                                                                                                                                                                                                                                                                                                                                                                                    \n",
              "spatial     MASS                                                                                                                                                                                                                                                                                                                                                                                                                                                                                                                                                                                                                                                                                                                                                                        \n",
              "splines     Matrix, methods                                                                                                                                                                                                                                                                                                                                                                                                                                                                                                                                                                                                                                                                                                                                                             \n",
              "stats       MASS, Matrix, SuppDists, methods, stats4                                                                                                                                                                                                                                                                                                                                                                                                                                                                                                                                                                                                                                                                                                                                    \n",
              "stats4      NA                                                                                                                                                                                                                                                                                                                                                                                                                                                                                                                                                                                                                                                                                                                                                                          \n",
              "survival    NA                                                                                                                                                                                                                                                                                                                                                                                                                                                                                                                                                                                                                                                                                                                                                                          \n",
              "tcltk       NA                                                                                                                                                                                                                                                                                                                                                                                                                                                                                                                                                                                                                                                                                                                                                                          \n",
              "tools       codetools, methods, xml2, curl, commonmark, knitr, xfun, mathjaxr                                                                                                                                                                                                                                                                                                                                                                                                                                                                                                                                                                                                                                                                                                           \n",
              "utils       methods, xml2, commonmark, knitr                                                                                                                                                                                                                                                                                                                                                                                                                                                                                                                                                                                                                                                                                                                                            \n",
              "            Enhances                                                           \n",
              "IRdisplay   NA                                                                 \n",
              "IRkernel    NA                                                                 \n",
              "pbdZMQ      NA                                                                 \n",
              "repr        data.table, tibble, htmlwidgets, vegalite, plotly, geojsonio       \n",
              "askpass     NA                                                                 \n",
              "assertthat  NA                                                                 \n",
              "backports   NA                                                                 \n",
              "base64enc   png                                                                \n",
              "bit         NA                                                                 \n",
              "bit64       NA                                                                 \n",
              "blob        NA                                                                 \n",
              "brew        NA                                                                 \n",
              "brio        NA                                                                 \n",
              "broom       NA                                                                 \n",
              "bslib       NA                                                                 \n",
              "cachem      NA                                                                 \n",
              "callr       NA                                                                 \n",
              "cellranger  NA                                                                 \n",
              "cli         NA                                                                 \n",
              "clipr       NA                                                                 \n",
              "colorspace  NA                                                                 \n",
              "commonmark  NA                                                                 \n",
              "cpp11       NA                                                                 \n",
              "crayon      NA                                                                 \n",
              "credentials NA                                                                 \n",
              "curl        NA                                                                 \n",
              "data.table  NA                                                                 \n",
              "DBI         NA                                                                 \n",
              "dbplyr      NA                                                                 \n",
              "desc        NA                                                                 \n",
              "⋮           ⋮                                                                  \n",
              "zip         NA                                                                 \n",
              "base        NA                                                                 \n",
              "boot        NA                                                                 \n",
              "class       NA                                                                 \n",
              "cluster     NA                                                                 \n",
              "codetools   NA                                                                 \n",
              "compiler    NA                                                                 \n",
              "datasets    NA                                                                 \n",
              "foreign     NA                                                                 \n",
              "graphics    NA                                                                 \n",
              "grDevices   NA                                                                 \n",
              "grid        NA                                                                 \n",
              "KernSmooth  NA                                                                 \n",
              "lattice     chron                                                              \n",
              "MASS        NA                                                                 \n",
              "Matrix      MatrixModels, graph, SparseM, sfsmisc, igraph, maptools, sp,\\nspdep\n",
              "methods     NA                                                                 \n",
              "mgcv        NA                                                                 \n",
              "nlme        NA                                                                 \n",
              "nnet        NA                                                                 \n",
              "parallel    snow, nws, Rmpi                                                    \n",
              "rpart       NA                                                                 \n",
              "spatial     NA                                                                 \n",
              "splines     NA                                                                 \n",
              "stats       NA                                                                 \n",
              "stats4      NA                                                                 \n",
              "survival    NA                                                                 \n",
              "tcltk       NA                                                                 \n",
              "tools       NA                                                                 \n",
              "utils       NA                                                                 \n",
              "            License                     License_is_FOSS License_restricts_use\n",
              "IRdisplay   MIT + file LICENSE          NA              NA                   \n",
              "IRkernel    MIT + file LICENSE          NA              NA                   \n",
              "pbdZMQ      GPL-3                       NA              NA                   \n",
              "repr        GPL-3                       NA              NA                   \n",
              "askpass     MIT + file LICENSE          NA              NA                   \n",
              "assertthat  GPL-3                       NA              NA                   \n",
              "backports   GPL-2 | GPL-3               NA              NA                   \n",
              "base64enc   GPL-2 | GPL-3               NA              NA                   \n",
              "bit         GPL-2 | GPL-3               NA              NA                   \n",
              "bit64       GPL-2 | GPL-3               NA              NA                   \n",
              "blob        MIT + file LICENSE          NA              NA                   \n",
              "brew        GPL-2                       NA              NA                   \n",
              "brio        MIT + file LICENSE          NA              NA                   \n",
              "broom       MIT + file LICENSE          NA              NA                   \n",
              "bslib       MIT + file LICENSE          NA              NA                   \n",
              "cachem      MIT + file LICENSE          NA              NA                   \n",
              "callr       MIT + file LICENSE          NA              NA                   \n",
              "cellranger  MIT + file LICENSE          NA              NA                   \n",
              "cli         MIT + file LICENSE          NA              NA                   \n",
              "clipr       GPL-3                       NA              NA                   \n",
              "colorspace  BSD_3_clause + file LICENSE NA              NA                   \n",
              "commonmark  BSD_2_clause + file LICENSE NA              NA                   \n",
              "cpp11       MIT + file LICENSE          NA              NA                   \n",
              "crayon      MIT + file LICENSE          NA              NA                   \n",
              "credentials MIT + file LICENSE          NA              NA                   \n",
              "curl        MIT + file LICENSE          NA              NA                   \n",
              "data.table  MPL-2.0 | file LICENSE      NA              NA                   \n",
              "DBI         LGPL (>= 2.1)               NA              NA                   \n",
              "dbplyr      MIT + file LICENSE          NA              NA                   \n",
              "desc        MIT + file LICENSE          NA              NA                   \n",
              "⋮           ⋮                           ⋮               ⋮                    \n",
              "zip         MIT + file LICENSE          NA              NA                   \n",
              "base        Part of R 4.2.2             NA              NA                   \n",
              "boot        Unlimited                   NA              NA                   \n",
              "class       GPL-2 | GPL-3               NA              NA                   \n",
              "cluster     GPL (>= 2)                  NA              NA                   \n",
              "codetools   GPL                         NA              NA                   \n",
              "compiler    Part of R 4.2.2             NA              NA                   \n",
              "datasets    Part of R 4.2.2             NA              NA                   \n",
              "foreign     GPL (>= 2)                  NA              NA                   \n",
              "graphics    Part of R 4.2.2             NA              NA                   \n",
              "grDevices   Part of R 4.2.2             NA              NA                   \n",
              "grid        Part of R 4.2.2             NA              NA                   \n",
              "KernSmooth  Unlimited                   NA              NA                   \n",
              "lattice     GPL (>= 2)                  NA              NA                   \n",
              "MASS        GPL-2 | GPL-3               NA              NA                   \n",
              "Matrix      GPL (>= 2) | file LICENCE   NA              NA                   \n",
              "methods     Part of R 4.2.2             NA              NA                   \n",
              "mgcv        GPL (>= 2)                  NA              NA                   \n",
              "nlme        GPL (>= 2)                  NA              NA                   \n",
              "nnet        GPL-2 | GPL-3               NA              NA                   \n",
              "parallel    Part of R 4.2.2             NA              NA                   \n",
              "rpart       GPL-2 | GPL-3               NA              NA                   \n",
              "spatial     GPL-2 | GPL-3               NA              NA                   \n",
              "splines     Part of R 4.2.2             NA              NA                   \n",
              "stats       Part of R 4.2.2             NA              NA                   \n",
              "stats4      Part of R 4.2.2             NA              NA                   \n",
              "survival    LGPL (>= 2)                 NA              NA                   \n",
              "tcltk       Part of R 4.2.2             NA              NA                   \n",
              "tools       Part of R 4.2.2             NA              NA                   \n",
              "utils       Part of R 4.2.2             NA              NA                   \n",
              "            OS_type MD5sum NeedsCompilation Built\n",
              "IRdisplay   NA      NA     no               4.2.2\n",
              "IRkernel    NA      NA     no               4.2.2\n",
              "pbdZMQ      NA      NA     yes              4.2.2\n",
              "repr        NA      NA     no               4.2.2\n",
              "askpass     NA      NA     yes              4.0.0\n",
              "assertthat  NA      NA     no               4.0.0\n",
              "backports   NA      NA     yes              4.1.2\n",
              "base64enc   NA      NA     yes              4.0.0\n",
              "bit         NA      NA     yes              4.0.2\n",
              "bit64       NA      NA     yes              4.0.2\n",
              "blob        NA      NA     no               4.1.3\n",
              "brew        NA      NA     no               4.2.1\n",
              "brio        NA      NA     yes              4.1.2\n",
              "broom       NA      NA     no               4.2.1\n",
              "bslib       NA      NA     no               4.2.2\n",
              "cachem      NA      NA     yes              4.1.1\n",
              "callr       NA      NA     no               4.2.2\n",
              "cellranger  NA      NA     no               4.0.0\n",
              "cli         NA      NA     yes              4.2.1\n",
              "clipr       NA      NA     no               4.1.2\n",
              "colorspace  NA      NA     yes              4.1.2\n",
              "commonmark  NA      NA     yes              4.2.1\n",
              "cpp11       NA      NA     no               4.2.1\n",
              "crayon      NA      NA     no               4.2.1\n",
              "credentials NA      NA     no               4.1.2\n",
              "curl        NA      NA     yes              4.2.1\n",
              "data.table  NA      NA     yes              4.2.1\n",
              "DBI         NA      NA     no               4.2.0\n",
              "dbplyr      NA      NA     no               4.2.0\n",
              "desc        NA      NA     no               4.2.1\n",
              "⋮           ⋮       ⋮      ⋮                ⋮    \n",
              "zip         NA      NA     yes              4.2.2\n",
              "base        NA      NA     NA               4.2.2\n",
              "boot        NA      NA     no               4.0.5\n",
              "class       NA      NA     yes              4.1.2\n",
              "cluster     NA      NA     yes              4.2.1\n",
              "codetools   NA      NA     no               4.0.3\n",
              "compiler    NA      NA     NA               4.2.2\n",
              "datasets    NA      NA     NA               4.2.2\n",
              "foreign     NA      NA     yes              4.1.2\n",
              "graphics    NA      NA     yes              4.2.2\n",
              "grDevices   NA      NA     yes              4.2.2\n",
              "grid        NA      NA     yes              4.2.2\n",
              "KernSmooth  NA      NA     yes              4.0.5\n",
              "lattice     NA      NA     yes              4.2.0\n",
              "MASS        NA      NA     yes              4.2.1\n",
              "Matrix      NA      NA     yes              4.2.2\n",
              "methods     NA      NA     yes              4.2.2\n",
              "mgcv        NA      NA     yes              4.2.1\n",
              "nlme        NA      NA     yes              4.2.1\n",
              "nnet        NA      NA     yes              4.2.1\n",
              "parallel    NA      NA     yes              4.2.2\n",
              "rpart       NA      NA     yes              4.2.1\n",
              "spatial     NA      NA     yes              4.1.2\n",
              "splines     NA      NA     yes              4.2.2\n",
              "stats       NA      NA     yes              4.2.2\n",
              "stats4      NA      NA     NA               4.2.2\n",
              "survival    NA      NA     yes              4.2.1\n",
              "tcltk       NA      NA     yes              4.2.2\n",
              "tools       NA      NA     yes              4.2.2\n",
              "utils       NA      NA     yes              4.2.2"
            ]
          },
          "metadata": {}
        }
      ],
      "source": [
        "installed.packages()"
      ]
    },
    {
      "cell_type": "code",
      "source": [
        "library(tidyverse)"
      ],
      "metadata": {
        "colab": {
          "base_uri": "https://localhost:8080/"
        },
        "id": "XFCVS9dHentn",
        "outputId": "f0ddd8a1-0dea-458c-f63d-24f3cb9da4d0"
      },
      "execution_count": null,
      "outputs": [
        {
          "output_type": "stream",
          "name": "stderr",
          "text": [
            "Warning message in system(\"timedatectl\", intern = TRUE):\n",
            "“running command 'timedatectl' had status 1”\n",
            "── \u001b[1mAttaching packages\u001b[22m ─────────────────────────────────────── tidyverse 1.3.1 ──\n",
            "\n",
            "\u001b[32m✔\u001b[39m \u001b[34mggplot2\u001b[39m 3.4.0      \u001b[32m✔\u001b[39m \u001b[34mpurrr  \u001b[39m 0.3.5 \n",
            "\u001b[32m✔\u001b[39m \u001b[34mtibble \u001b[39m 3.1.8      \u001b[32m✔\u001b[39m \u001b[34mdplyr  \u001b[39m 1.0.10\n",
            "\u001b[32m✔\u001b[39m \u001b[34mtidyr  \u001b[39m 1.2.1      \u001b[32m✔\u001b[39m \u001b[34mstringr\u001b[39m 1.4.1 \n",
            "\u001b[32m✔\u001b[39m \u001b[34mreadr  \u001b[39m 2.1.3      \u001b[32m✔\u001b[39m \u001b[34mforcats\u001b[39m 0.5.2 \n",
            "\n",
            "── \u001b[1mConflicts\u001b[22m ────────────────────────────────────────── tidyverse_conflicts() ──\n",
            "\u001b[31m✖\u001b[39m \u001b[34mdplyr\u001b[39m::\u001b[32mfilter()\u001b[39m masks \u001b[34mstats\u001b[39m::filter()\n",
            "\u001b[31m✖\u001b[39m \u001b[34mdplyr\u001b[39m::\u001b[32mlag()\u001b[39m    masks \u001b[34mstats\u001b[39m::lag()\n",
            "\n"
          ]
        }
      ]
    },
    {
      "cell_type": "code",
      "source": [
        "# url where the data is located\n",
        "url <- \"https://dax-cdn.cdn.appdomain.cloud/dax-airline/1.0.1/lax_to_jfk.tar.gz\""
      ],
      "metadata": {
        "id": "Idh-l666hbuo"
      },
      "execution_count": null,
      "outputs": []
    },
    {
      "cell_type": "code",
      "source": [
        "# download the file\n",
        "download.file(url, destfile = \"lax_to_jfk.tar.gz\")"
      ],
      "metadata": {
        "id": "Rcidd4crhv3d"
      },
      "execution_count": null,
      "outputs": []
    },
    {
      "cell_type": "code",
      "source": [
        "# untar the file so we can get the csv only\n",
        "untar(\"lax_to_jfk.tar.gz\", tar = \"internal\")"
      ],
      "metadata": {
        "colab": {
          "base_uri": "https://localhost:8080/"
        },
        "id": "tu91nIf0h12C",
        "outputId": "1ae4fea2-b237-4cb8-b900-55e2395d75cc"
      },
      "execution_count": null,
      "outputs": [
        {
          "output_type": "stream",
          "name": "stderr",
          "text": [
            "Warning message in untar2(tarfile, files, list, exdir, restore_times):\n",
            "“using pax extended headers”\n"
          ]
        }
      ]
    },
    {
      "cell_type": "code",
      "source": [
        "# read_csv only \n",
        "sub_airline <- read_csv(\"lax_to_jfk/lax_to_jfk.csv\",\n",
        "                     col_types = cols(\n",
        "                      'DivDistance' = col_number(),\n",
        "                      'DivArrDelay' = col_number()\n",
        "                      ))"
      ],
      "metadata": {
        "id": "yoMF6zIviIAh"
      },
      "execution_count": null,
      "outputs": []
    },
    {
      "cell_type": "code",
      "source": [
        "# show the first n = 3 rows\n",
        "head(sub_airline, 3)"
      ],
      "metadata": {
        "colab": {
          "base_uri": "https://localhost:8080/",
          "height": 212
        },
        "id": "RekL9mWkiOkJ",
        "outputId": "09f75e0e-23df-43f8-812c-ab687556def9"
      },
      "execution_count": null,
      "outputs": [
        {
          "output_type": "display_data",
          "data": {
            "text/html": [
              "<table class=\"dataframe\">\n",
              "<caption>A tibble: 3 × 21</caption>\n",
              "<thead>\n",
              "\t<tr><th scope=col>Month</th><th scope=col>DayOfWeek</th><th scope=col>FlightDate</th><th scope=col>Reporting_Airline</th><th scope=col>Origin</th><th scope=col>Dest</th><th scope=col>CRSDepTime</th><th scope=col>CRSArrTime</th><th scope=col>DepTime</th><th scope=col>ArrTime</th><th scope=col>⋯</th><th scope=col>ArrDelayMinutes</th><th scope=col>CarrierDelay</th><th scope=col>WeatherDelay</th><th scope=col>NASDelay</th><th scope=col>SecurityDelay</th><th scope=col>LateAircraftDelay</th><th scope=col>DepDelay</th><th scope=col>DepDelayMinutes</th><th scope=col>DivDistance</th><th scope=col>DivArrDelay</th></tr>\n",
              "\t<tr><th scope=col>&lt;dbl&gt;</th><th scope=col>&lt;dbl&gt;</th><th scope=col>&lt;date&gt;</th><th scope=col>&lt;chr&gt;</th><th scope=col>&lt;chr&gt;</th><th scope=col>&lt;chr&gt;</th><th scope=col>&lt;chr&gt;</th><th scope=col>&lt;chr&gt;</th><th scope=col>&lt;chr&gt;</th><th scope=col>&lt;chr&gt;</th><th scope=col>⋯</th><th scope=col>&lt;dbl&gt;</th><th scope=col>&lt;dbl&gt;</th><th scope=col>&lt;dbl&gt;</th><th scope=col>&lt;dbl&gt;</th><th scope=col>&lt;dbl&gt;</th><th scope=col>&lt;dbl&gt;</th><th scope=col>&lt;dbl&gt;</th><th scope=col>&lt;dbl&gt;</th><th scope=col>&lt;dbl&gt;</th><th scope=col>&lt;dbl&gt;</th></tr>\n",
              "</thead>\n",
              "<tbody>\n",
              "\t<tr><td> 3</td><td>5</td><td>2003-03-28</td><td>UA</td><td>LAX</td><td>JFK</td><td>2210</td><td>0615</td><td>2209</td><td>0617</td><td>⋯</td><td>2</td><td>NA</td><td>NA</td><td>NA</td><td>NA</td><td>NA</td><td>-1</td><td>0</td><td>NA</td><td>NA</td></tr>\n",
              "\t<tr><td>11</td><td>4</td><td>2018-11-29</td><td>AS</td><td>LAX</td><td>JFK</td><td>1045</td><td>1912</td><td>1049</td><td>1851</td><td>⋯</td><td>0</td><td>NA</td><td>NA</td><td>NA</td><td>NA</td><td>NA</td><td> 4</td><td>4</td><td>NA</td><td>NA</td></tr>\n",
              "\t<tr><td> 8</td><td>5</td><td>2015-08-28</td><td>UA</td><td>LAX</td><td>JFK</td><td>0805</td><td>1634</td><td>0757</td><td>1620</td><td>⋯</td><td>0</td><td>NA</td><td>NA</td><td>NA</td><td>NA</td><td>NA</td><td>-8</td><td>0</td><td>NA</td><td>NA</td></tr>\n",
              "</tbody>\n",
              "</table>\n"
            ],
            "text/markdown": "\nA tibble: 3 × 21\n\n| Month &lt;dbl&gt; | DayOfWeek &lt;dbl&gt; | FlightDate &lt;date&gt; | Reporting_Airline &lt;chr&gt; | Origin &lt;chr&gt; | Dest &lt;chr&gt; | CRSDepTime &lt;chr&gt; | CRSArrTime &lt;chr&gt; | DepTime &lt;chr&gt; | ArrTime &lt;chr&gt; | ⋯ ⋯ | ArrDelayMinutes &lt;dbl&gt; | CarrierDelay &lt;dbl&gt; | WeatherDelay &lt;dbl&gt; | NASDelay &lt;dbl&gt; | SecurityDelay &lt;dbl&gt; | LateAircraftDelay &lt;dbl&gt; | DepDelay &lt;dbl&gt; | DepDelayMinutes &lt;dbl&gt; | DivDistance &lt;dbl&gt; | DivArrDelay &lt;dbl&gt; |\n|---|---|---|---|---|---|---|---|---|---|---|---|---|---|---|---|---|---|---|---|---|\n|  3 | 5 | 2003-03-28 | UA | LAX | JFK | 2210 | 0615 | 2209 | 0617 | ⋯ | 2 | NA | NA | NA | NA | NA | -1 | 0 | NA | NA |\n| 11 | 4 | 2018-11-29 | AS | LAX | JFK | 1045 | 1912 | 1049 | 1851 | ⋯ | 0 | NA | NA | NA | NA | NA |  4 | 4 | NA | NA |\n|  8 | 5 | 2015-08-28 | UA | LAX | JFK | 0805 | 1634 | 0757 | 1620 | ⋯ | 0 | NA | NA | NA | NA | NA | -8 | 0 | NA | NA |\n\n",
            "text/latex": "A tibble: 3 × 21\n\\begin{tabular}{lllllllllllllllllllll}\n Month & DayOfWeek & FlightDate & Reporting\\_Airline & Origin & Dest & CRSDepTime & CRSArrTime & DepTime & ArrTime & ⋯ & ArrDelayMinutes & CarrierDelay & WeatherDelay & NASDelay & SecurityDelay & LateAircraftDelay & DepDelay & DepDelayMinutes & DivDistance & DivArrDelay\\\\\n <dbl> & <dbl> & <date> & <chr> & <chr> & <chr> & <chr> & <chr> & <chr> & <chr> & ⋯ & <dbl> & <dbl> & <dbl> & <dbl> & <dbl> & <dbl> & <dbl> & <dbl> & <dbl> & <dbl>\\\\\n\\hline\n\t  3 & 5 & 2003-03-28 & UA & LAX & JFK & 2210 & 0615 & 2209 & 0617 & ⋯ & 2 & NA & NA & NA & NA & NA & -1 & 0 & NA & NA\\\\\n\t 11 & 4 & 2018-11-29 & AS & LAX & JFK & 1045 & 1912 & 1049 & 1851 & ⋯ & 0 & NA & NA & NA & NA & NA &  4 & 4 & NA & NA\\\\\n\t  8 & 5 & 2015-08-28 & UA & LAX & JFK & 0805 & 1634 & 0757 & 1620 & ⋯ & 0 & NA & NA & NA & NA & NA & -8 & 0 & NA & NA\\\\\n\\end{tabular}\n",
            "text/plain": [
              "  Month DayOfWeek FlightDate Reporting_Airline Origin Dest CRSDepTime\n",
              "1  3    5         2003-03-28 UA                LAX    JFK  2210      \n",
              "2 11    4         2018-11-29 AS                LAX    JFK  1045      \n",
              "3  8    5         2015-08-28 UA                LAX    JFK  0805      \n",
              "  CRSArrTime DepTime ArrTime ⋯ ArrDelayMinutes CarrierDelay WeatherDelay\n",
              "1 0615       2209    0617    ⋯ 2               NA           NA          \n",
              "2 1912       1049    1851    ⋯ 0               NA           NA          \n",
              "3 1634       0757    1620    ⋯ 0               NA           NA          \n",
              "  NASDelay SecurityDelay LateAircraftDelay DepDelay DepDelayMinutes DivDistance\n",
              "1 NA       NA            NA                -1       0               NA         \n",
              "2 NA       NA            NA                 4       4               NA         \n",
              "3 NA       NA            NA                -8       0               NA         \n",
              "  DivArrDelay\n",
              "1 NA         \n",
              "2 NA         \n",
              "3 NA         "
            ]
          },
          "metadata": {}
        }
      ]
    },
    {
      "cell_type": "code",
      "source": [
        "# show the first 6 rows\n",
        "head(sub_airline)"
      ],
      "metadata": {
        "colab": {
          "base_uri": "https://localhost:8080/",
          "height": 306
        },
        "id": "PeOJnymRiSYl",
        "outputId": "a072005c-26fc-4d82-c6c0-33acd7535dfe"
      },
      "execution_count": null,
      "outputs": [
        {
          "output_type": "display_data",
          "data": {
            "text/html": [
              "<table class=\"dataframe\">\n",
              "<caption>A tibble: 6 × 21</caption>\n",
              "<thead>\n",
              "\t<tr><th scope=col>Month</th><th scope=col>DayOfWeek</th><th scope=col>FlightDate</th><th scope=col>Reporting_Airline</th><th scope=col>Origin</th><th scope=col>Dest</th><th scope=col>CRSDepTime</th><th scope=col>CRSArrTime</th><th scope=col>DepTime</th><th scope=col>ArrTime</th><th scope=col>⋯</th><th scope=col>ArrDelayMinutes</th><th scope=col>CarrierDelay</th><th scope=col>WeatherDelay</th><th scope=col>NASDelay</th><th scope=col>SecurityDelay</th><th scope=col>LateAircraftDelay</th><th scope=col>DepDelay</th><th scope=col>DepDelayMinutes</th><th scope=col>DivDistance</th><th scope=col>DivArrDelay</th></tr>\n",
              "\t<tr><th scope=col>&lt;dbl&gt;</th><th scope=col>&lt;dbl&gt;</th><th scope=col>&lt;date&gt;</th><th scope=col>&lt;chr&gt;</th><th scope=col>&lt;chr&gt;</th><th scope=col>&lt;chr&gt;</th><th scope=col>&lt;chr&gt;</th><th scope=col>&lt;chr&gt;</th><th scope=col>&lt;chr&gt;</th><th scope=col>&lt;chr&gt;</th><th scope=col>⋯</th><th scope=col>&lt;dbl&gt;</th><th scope=col>&lt;dbl&gt;</th><th scope=col>&lt;dbl&gt;</th><th scope=col>&lt;dbl&gt;</th><th scope=col>&lt;dbl&gt;</th><th scope=col>&lt;dbl&gt;</th><th scope=col>&lt;dbl&gt;</th><th scope=col>&lt;dbl&gt;</th><th scope=col>&lt;dbl&gt;</th><th scope=col>&lt;dbl&gt;</th></tr>\n",
              "</thead>\n",
              "<tbody>\n",
              "\t<tr><td> 3</td><td>5</td><td>2003-03-28</td><td>UA</td><td>LAX</td><td>JFK</td><td>2210</td><td>0615</td><td>2209</td><td>0617</td><td>⋯</td><td>2</td><td>NA</td><td>NA</td><td>NA</td><td>NA</td><td>NA</td><td>-1</td><td>0</td><td>NA</td><td>NA</td></tr>\n",
              "\t<tr><td>11</td><td>4</td><td>2018-11-29</td><td>AS</td><td>LAX</td><td>JFK</td><td>1045</td><td>1912</td><td>1049</td><td>1851</td><td>⋯</td><td>0</td><td>NA</td><td>NA</td><td>NA</td><td>NA</td><td>NA</td><td> 4</td><td>4</td><td>NA</td><td>NA</td></tr>\n",
              "\t<tr><td> 8</td><td>5</td><td>2015-08-28</td><td>UA</td><td>LAX</td><td>JFK</td><td>0805</td><td>1634</td><td>0757</td><td>1620</td><td>⋯</td><td>0</td><td>NA</td><td>NA</td><td>NA</td><td>NA</td><td>NA</td><td>-8</td><td>0</td><td>NA</td><td>NA</td></tr>\n",
              "\t<tr><td> 4</td><td>7</td><td>2003-04-20</td><td>DL</td><td>LAX</td><td>JFK</td><td>2205</td><td>0619</td><td>2212</td><td>0616</td><td>⋯</td><td>0</td><td>NA</td><td>NA</td><td>NA</td><td>NA</td><td>NA</td><td> 7</td><td>7</td><td>NA</td><td>NA</td></tr>\n",
              "\t<tr><td>11</td><td>3</td><td>2005-11-30</td><td>UA</td><td>LAX</td><td>JFK</td><td>0840</td><td>1653</td><td>0836</td><td>1640</td><td>⋯</td><td>0</td><td>NA</td><td>NA</td><td>NA</td><td>NA</td><td>NA</td><td>-4</td><td>0</td><td>NA</td><td>NA</td></tr>\n",
              "\t<tr><td> 4</td><td>1</td><td>1992-04-06</td><td>UA</td><td>LAX</td><td>JFK</td><td>1450</td><td>2308</td><td>1452</td><td>2248</td><td>⋯</td><td>0</td><td>NA</td><td>NA</td><td>NA</td><td>NA</td><td>NA</td><td> 2</td><td>2</td><td>NA</td><td>NA</td></tr>\n",
              "</tbody>\n",
              "</table>\n"
            ],
            "text/markdown": "\nA tibble: 6 × 21\n\n| Month &lt;dbl&gt; | DayOfWeek &lt;dbl&gt; | FlightDate &lt;date&gt; | Reporting_Airline &lt;chr&gt; | Origin &lt;chr&gt; | Dest &lt;chr&gt; | CRSDepTime &lt;chr&gt; | CRSArrTime &lt;chr&gt; | DepTime &lt;chr&gt; | ArrTime &lt;chr&gt; | ⋯ ⋯ | ArrDelayMinutes &lt;dbl&gt; | CarrierDelay &lt;dbl&gt; | WeatherDelay &lt;dbl&gt; | NASDelay &lt;dbl&gt; | SecurityDelay &lt;dbl&gt; | LateAircraftDelay &lt;dbl&gt; | DepDelay &lt;dbl&gt; | DepDelayMinutes &lt;dbl&gt; | DivDistance &lt;dbl&gt; | DivArrDelay &lt;dbl&gt; |\n|---|---|---|---|---|---|---|---|---|---|---|---|---|---|---|---|---|---|---|---|---|\n|  3 | 5 | 2003-03-28 | UA | LAX | JFK | 2210 | 0615 | 2209 | 0617 | ⋯ | 2 | NA | NA | NA | NA | NA | -1 | 0 | NA | NA |\n| 11 | 4 | 2018-11-29 | AS | LAX | JFK | 1045 | 1912 | 1049 | 1851 | ⋯ | 0 | NA | NA | NA | NA | NA |  4 | 4 | NA | NA |\n|  8 | 5 | 2015-08-28 | UA | LAX | JFK | 0805 | 1634 | 0757 | 1620 | ⋯ | 0 | NA | NA | NA | NA | NA | -8 | 0 | NA | NA |\n|  4 | 7 | 2003-04-20 | DL | LAX | JFK | 2205 | 0619 | 2212 | 0616 | ⋯ | 0 | NA | NA | NA | NA | NA |  7 | 7 | NA | NA |\n| 11 | 3 | 2005-11-30 | UA | LAX | JFK | 0840 | 1653 | 0836 | 1640 | ⋯ | 0 | NA | NA | NA | NA | NA | -4 | 0 | NA | NA |\n|  4 | 1 | 1992-04-06 | UA | LAX | JFK | 1450 | 2308 | 1452 | 2248 | ⋯ | 0 | NA | NA | NA | NA | NA |  2 | 2 | NA | NA |\n\n",
            "text/latex": "A tibble: 6 × 21\n\\begin{tabular}{lllllllllllllllllllll}\n Month & DayOfWeek & FlightDate & Reporting\\_Airline & Origin & Dest & CRSDepTime & CRSArrTime & DepTime & ArrTime & ⋯ & ArrDelayMinutes & CarrierDelay & WeatherDelay & NASDelay & SecurityDelay & LateAircraftDelay & DepDelay & DepDelayMinutes & DivDistance & DivArrDelay\\\\\n <dbl> & <dbl> & <date> & <chr> & <chr> & <chr> & <chr> & <chr> & <chr> & <chr> & ⋯ & <dbl> & <dbl> & <dbl> & <dbl> & <dbl> & <dbl> & <dbl> & <dbl> & <dbl> & <dbl>\\\\\n\\hline\n\t  3 & 5 & 2003-03-28 & UA & LAX & JFK & 2210 & 0615 & 2209 & 0617 & ⋯ & 2 & NA & NA & NA & NA & NA & -1 & 0 & NA & NA\\\\\n\t 11 & 4 & 2018-11-29 & AS & LAX & JFK & 1045 & 1912 & 1049 & 1851 & ⋯ & 0 & NA & NA & NA & NA & NA &  4 & 4 & NA & NA\\\\\n\t  8 & 5 & 2015-08-28 & UA & LAX & JFK & 0805 & 1634 & 0757 & 1620 & ⋯ & 0 & NA & NA & NA & NA & NA & -8 & 0 & NA & NA\\\\\n\t  4 & 7 & 2003-04-20 & DL & LAX & JFK & 2205 & 0619 & 2212 & 0616 & ⋯ & 0 & NA & NA & NA & NA & NA &  7 & 7 & NA & NA\\\\\n\t 11 & 3 & 2005-11-30 & UA & LAX & JFK & 0840 & 1653 & 0836 & 1640 & ⋯ & 0 & NA & NA & NA & NA & NA & -4 & 0 & NA & NA\\\\\n\t  4 & 1 & 1992-04-06 & UA & LAX & JFK & 1450 & 2308 & 1452 & 2248 & ⋯ & 0 & NA & NA & NA & NA & NA &  2 & 2 & NA & NA\\\\\n\\end{tabular}\n",
            "text/plain": [
              "  Month DayOfWeek FlightDate Reporting_Airline Origin Dest CRSDepTime\n",
              "1  3    5         2003-03-28 UA                LAX    JFK  2210      \n",
              "2 11    4         2018-11-29 AS                LAX    JFK  1045      \n",
              "3  8    5         2015-08-28 UA                LAX    JFK  0805      \n",
              "4  4    7         2003-04-20 DL                LAX    JFK  2205      \n",
              "5 11    3         2005-11-30 UA                LAX    JFK  0840      \n",
              "6  4    1         1992-04-06 UA                LAX    JFK  1450      \n",
              "  CRSArrTime DepTime ArrTime ⋯ ArrDelayMinutes CarrierDelay WeatherDelay\n",
              "1 0615       2209    0617    ⋯ 2               NA           NA          \n",
              "2 1912       1049    1851    ⋯ 0               NA           NA          \n",
              "3 1634       0757    1620    ⋯ 0               NA           NA          \n",
              "4 0619       2212    0616    ⋯ 0               NA           NA          \n",
              "5 1653       0836    1640    ⋯ 0               NA           NA          \n",
              "6 2308       1452    2248    ⋯ 0               NA           NA          \n",
              "  NASDelay SecurityDelay LateAircraftDelay DepDelay DepDelayMinutes DivDistance\n",
              "1 NA       NA            NA                -1       0               NA         \n",
              "2 NA       NA            NA                 4       4               NA         \n",
              "3 NA       NA            NA                -8       0               NA         \n",
              "4 NA       NA            NA                 7       7               NA         \n",
              "5 NA       NA            NA                -4       0               NA         \n",
              "6 NA       NA            NA                 2       2               NA         \n",
              "  DivArrDelay\n",
              "1 NA         \n",
              "2 NA         \n",
              "3 NA         \n",
              "4 NA         \n",
              "5 NA         \n",
              "6 NA         "
            ]
          },
          "metadata": {}
        }
      ]
    },
    {
      "cell_type": "code",
      "source": [
        "# show the last 6 rows\n",
        "tail(sub_airline)"
      ],
      "metadata": {
        "colab": {
          "base_uri": "https://localhost:8080/",
          "height": 306
        },
        "id": "5tcC4ybyiWmG",
        "outputId": "33bb92e1-175d-4757-cfad-cfdfbe1d095f"
      },
      "execution_count": null,
      "outputs": [
        {
          "output_type": "display_data",
          "data": {
            "text/html": [
              "<table class=\"dataframe\">\n",
              "<caption>A tibble: 6 × 21</caption>\n",
              "<thead>\n",
              "\t<tr><th scope=col>Month</th><th scope=col>DayOfWeek</th><th scope=col>FlightDate</th><th scope=col>Reporting_Airline</th><th scope=col>Origin</th><th scope=col>Dest</th><th scope=col>CRSDepTime</th><th scope=col>CRSArrTime</th><th scope=col>DepTime</th><th scope=col>ArrTime</th><th scope=col>⋯</th><th scope=col>ArrDelayMinutes</th><th scope=col>CarrierDelay</th><th scope=col>WeatherDelay</th><th scope=col>NASDelay</th><th scope=col>SecurityDelay</th><th scope=col>LateAircraftDelay</th><th scope=col>DepDelay</th><th scope=col>DepDelayMinutes</th><th scope=col>DivDistance</th><th scope=col>DivArrDelay</th></tr>\n",
              "\t<tr><th scope=col>&lt;dbl&gt;</th><th scope=col>&lt;dbl&gt;</th><th scope=col>&lt;date&gt;</th><th scope=col>&lt;chr&gt;</th><th scope=col>&lt;chr&gt;</th><th scope=col>&lt;chr&gt;</th><th scope=col>&lt;chr&gt;</th><th scope=col>&lt;chr&gt;</th><th scope=col>&lt;chr&gt;</th><th scope=col>&lt;chr&gt;</th><th scope=col>⋯</th><th scope=col>&lt;dbl&gt;</th><th scope=col>&lt;dbl&gt;</th><th scope=col>&lt;dbl&gt;</th><th scope=col>&lt;dbl&gt;</th><th scope=col>&lt;dbl&gt;</th><th scope=col>&lt;dbl&gt;</th><th scope=col>&lt;dbl&gt;</th><th scope=col>&lt;dbl&gt;</th><th scope=col>&lt;dbl&gt;</th><th scope=col>&lt;dbl&gt;</th></tr>\n",
              "</thead>\n",
              "<tbody>\n",
              "\t<tr><td>10</td><td>6</td><td>1996-10-19</td><td>AA</td><td>LAX</td><td>JFK</td><td>0700</td><td>1509</td><td>0700</td><td>1610</td><td>⋯</td><td>61</td><td>NA</td><td>NA</td><td>NA</td><td>NA</td><td>NA</td><td> 0</td><td>0</td><td>NA</td><td>NA</td></tr>\n",
              "\t<tr><td>10</td><td>3</td><td>2015-10-21</td><td>DL</td><td>LAX</td><td>JFK</td><td>2255</td><td>0720</td><td>2254</td><td>0723</td><td>⋯</td><td> 3</td><td>NA</td><td>NA</td><td>NA</td><td>NA</td><td>NA</td><td>-1</td><td>0</td><td>NA</td><td>NA</td></tr>\n",
              "\t<tr><td> 7</td><td>5</td><td>2012-07-06</td><td>UA</td><td>LAX</td><td>JFK</td><td>0605</td><td>1422</td><td>0600</td><td>1427</td><td>⋯</td><td> 5</td><td>NA</td><td>NA</td><td>NA</td><td>NA</td><td>NA</td><td>-5</td><td>0</td><td>NA</td><td>NA</td></tr>\n",
              "\t<tr><td> 1</td><td>3</td><td>2010-01-06</td><td>DL</td><td>LAX</td><td>JFK</td><td>2125</td><td>0543</td><td>2118</td><td>0540</td><td>⋯</td><td> 0</td><td>NA</td><td>NA</td><td>NA</td><td>NA</td><td>NA</td><td>-7</td><td>0</td><td>NA</td><td>NA</td></tr>\n",
              "\t<tr><td> 5</td><td>5</td><td>2009-05-15</td><td>AA</td><td>LAX</td><td>JFK</td><td>2115</td><td>0535</td><td>2119</td><td>0533</td><td>⋯</td><td> 0</td><td>NA</td><td>NA</td><td>NA</td><td>NA</td><td>NA</td><td> 4</td><td>4</td><td>NA</td><td>NA</td></tr>\n",
              "\t<tr><td> 7</td><td>4</td><td>2000-07-06</td><td>AA</td><td>LAX</td><td>JFK</td><td>2200</td><td>0622</td><td>2158</td><td>0610</td><td>⋯</td><td> 0</td><td>NA</td><td>NA</td><td>NA</td><td>NA</td><td>NA</td><td>-2</td><td>0</td><td>NA</td><td>NA</td></tr>\n",
              "</tbody>\n",
              "</table>\n"
            ],
            "text/markdown": "\nA tibble: 6 × 21\n\n| Month &lt;dbl&gt; | DayOfWeek &lt;dbl&gt; | FlightDate &lt;date&gt; | Reporting_Airline &lt;chr&gt; | Origin &lt;chr&gt; | Dest &lt;chr&gt; | CRSDepTime &lt;chr&gt; | CRSArrTime &lt;chr&gt; | DepTime &lt;chr&gt; | ArrTime &lt;chr&gt; | ⋯ ⋯ | ArrDelayMinutes &lt;dbl&gt; | CarrierDelay &lt;dbl&gt; | WeatherDelay &lt;dbl&gt; | NASDelay &lt;dbl&gt; | SecurityDelay &lt;dbl&gt; | LateAircraftDelay &lt;dbl&gt; | DepDelay &lt;dbl&gt; | DepDelayMinutes &lt;dbl&gt; | DivDistance &lt;dbl&gt; | DivArrDelay &lt;dbl&gt; |\n|---|---|---|---|---|---|---|---|---|---|---|---|---|---|---|---|---|---|---|---|---|\n| 10 | 6 | 1996-10-19 | AA | LAX | JFK | 0700 | 1509 | 0700 | 1610 | ⋯ | 61 | NA | NA | NA | NA | NA |  0 | 0 | NA | NA |\n| 10 | 3 | 2015-10-21 | DL | LAX | JFK | 2255 | 0720 | 2254 | 0723 | ⋯ |  3 | NA | NA | NA | NA | NA | -1 | 0 | NA | NA |\n|  7 | 5 | 2012-07-06 | UA | LAX | JFK | 0605 | 1422 | 0600 | 1427 | ⋯ |  5 | NA | NA | NA | NA | NA | -5 | 0 | NA | NA |\n|  1 | 3 | 2010-01-06 | DL | LAX | JFK | 2125 | 0543 | 2118 | 0540 | ⋯ |  0 | NA | NA | NA | NA | NA | -7 | 0 | NA | NA |\n|  5 | 5 | 2009-05-15 | AA | LAX | JFK | 2115 | 0535 | 2119 | 0533 | ⋯ |  0 | NA | NA | NA | NA | NA |  4 | 4 | NA | NA |\n|  7 | 4 | 2000-07-06 | AA | LAX | JFK | 2200 | 0622 | 2158 | 0610 | ⋯ |  0 | NA | NA | NA | NA | NA | -2 | 0 | NA | NA |\n\n",
            "text/latex": "A tibble: 6 × 21\n\\begin{tabular}{lllllllllllllllllllll}\n Month & DayOfWeek & FlightDate & Reporting\\_Airline & Origin & Dest & CRSDepTime & CRSArrTime & DepTime & ArrTime & ⋯ & ArrDelayMinutes & CarrierDelay & WeatherDelay & NASDelay & SecurityDelay & LateAircraftDelay & DepDelay & DepDelayMinutes & DivDistance & DivArrDelay\\\\\n <dbl> & <dbl> & <date> & <chr> & <chr> & <chr> & <chr> & <chr> & <chr> & <chr> & ⋯ & <dbl> & <dbl> & <dbl> & <dbl> & <dbl> & <dbl> & <dbl> & <dbl> & <dbl> & <dbl>\\\\\n\\hline\n\t 10 & 6 & 1996-10-19 & AA & LAX & JFK & 0700 & 1509 & 0700 & 1610 & ⋯ & 61 & NA & NA & NA & NA & NA &  0 & 0 & NA & NA\\\\\n\t 10 & 3 & 2015-10-21 & DL & LAX & JFK & 2255 & 0720 & 2254 & 0723 & ⋯ &  3 & NA & NA & NA & NA & NA & -1 & 0 & NA & NA\\\\\n\t  7 & 5 & 2012-07-06 & UA & LAX & JFK & 0605 & 1422 & 0600 & 1427 & ⋯ &  5 & NA & NA & NA & NA & NA & -5 & 0 & NA & NA\\\\\n\t  1 & 3 & 2010-01-06 & DL & LAX & JFK & 2125 & 0543 & 2118 & 0540 & ⋯ &  0 & NA & NA & NA & NA & NA & -7 & 0 & NA & NA\\\\\n\t  5 & 5 & 2009-05-15 & AA & LAX & JFK & 2115 & 0535 & 2119 & 0533 & ⋯ &  0 & NA & NA & NA & NA & NA &  4 & 4 & NA & NA\\\\\n\t  7 & 4 & 2000-07-06 & AA & LAX & JFK & 2200 & 0622 & 2158 & 0610 & ⋯ &  0 & NA & NA & NA & NA & NA & -2 & 0 & NA & NA\\\\\n\\end{tabular}\n",
            "text/plain": [
              "  Month DayOfWeek FlightDate Reporting_Airline Origin Dest CRSDepTime\n",
              "1 10    6         1996-10-19 AA                LAX    JFK  0700      \n",
              "2 10    3         2015-10-21 DL                LAX    JFK  2255      \n",
              "3  7    5         2012-07-06 UA                LAX    JFK  0605      \n",
              "4  1    3         2010-01-06 DL                LAX    JFK  2125      \n",
              "5  5    5         2009-05-15 AA                LAX    JFK  2115      \n",
              "6  7    4         2000-07-06 AA                LAX    JFK  2200      \n",
              "  CRSArrTime DepTime ArrTime ⋯ ArrDelayMinutes CarrierDelay WeatherDelay\n",
              "1 1509       0700    1610    ⋯ 61              NA           NA          \n",
              "2 0720       2254    0723    ⋯  3              NA           NA          \n",
              "3 1422       0600    1427    ⋯  5              NA           NA          \n",
              "4 0543       2118    0540    ⋯  0              NA           NA          \n",
              "5 0535       2119    0533    ⋯  0              NA           NA          \n",
              "6 0622       2158    0610    ⋯  0              NA           NA          \n",
              "  NASDelay SecurityDelay LateAircraftDelay DepDelay DepDelayMinutes DivDistance\n",
              "1 NA       NA            NA                 0       0               NA         \n",
              "2 NA       NA            NA                -1       0               NA         \n",
              "3 NA       NA            NA                -5       0               NA         \n",
              "4 NA       NA            NA                -7       0               NA         \n",
              "5 NA       NA            NA                 4       4               NA         \n",
              "6 NA       NA            NA                -2       0               NA         \n",
              "  DivArrDelay\n",
              "1 NA         \n",
              "2 NA         \n",
              "3 NA         \n",
              "4 NA         \n",
              "5 NA         \n",
              "6 NA         "
            ]
          },
          "metadata": {}
        }
      ]
    },
    {
      "cell_type": "code",
      "source": [
        "# show the last 10 rows\n",
        "tail(sub_airline, 10)"
      ],
      "metadata": {
        "colab": {
          "base_uri": "https://localhost:8080/",
          "height": 432
        },
        "id": "fBZNELCFieeq",
        "outputId": "e8ef5067-f775-47fe-9b8c-415f60f7b139"
      },
      "execution_count": null,
      "outputs": [
        {
          "output_type": "display_data",
          "data": {
            "text/html": [
              "<table class=\"dataframe\">\n",
              "<caption>A tibble: 10 × 21</caption>\n",
              "<thead>\n",
              "\t<tr><th scope=col>Month</th><th scope=col>DayOfWeek</th><th scope=col>FlightDate</th><th scope=col>Reporting_Airline</th><th scope=col>Origin</th><th scope=col>Dest</th><th scope=col>CRSDepTime</th><th scope=col>CRSArrTime</th><th scope=col>DepTime</th><th scope=col>ArrTime</th><th scope=col>⋯</th><th scope=col>ArrDelayMinutes</th><th scope=col>CarrierDelay</th><th scope=col>WeatherDelay</th><th scope=col>NASDelay</th><th scope=col>SecurityDelay</th><th scope=col>LateAircraftDelay</th><th scope=col>DepDelay</th><th scope=col>DepDelayMinutes</th><th scope=col>DivDistance</th><th scope=col>DivArrDelay</th></tr>\n",
              "\t<tr><th scope=col>&lt;dbl&gt;</th><th scope=col>&lt;dbl&gt;</th><th scope=col>&lt;date&gt;</th><th scope=col>&lt;chr&gt;</th><th scope=col>&lt;chr&gt;</th><th scope=col>&lt;chr&gt;</th><th scope=col>&lt;chr&gt;</th><th scope=col>&lt;chr&gt;</th><th scope=col>&lt;chr&gt;</th><th scope=col>&lt;chr&gt;</th><th scope=col>⋯</th><th scope=col>&lt;dbl&gt;</th><th scope=col>&lt;dbl&gt;</th><th scope=col>&lt;dbl&gt;</th><th scope=col>&lt;dbl&gt;</th><th scope=col>&lt;dbl&gt;</th><th scope=col>&lt;dbl&gt;</th><th scope=col>&lt;dbl&gt;</th><th scope=col>&lt;dbl&gt;</th><th scope=col>&lt;dbl&gt;</th><th scope=col>&lt;dbl&gt;</th></tr>\n",
              "</thead>\n",
              "<tbody>\n",
              "\t<tr><td> 5</td><td>6</td><td>1988-05-14</td><td>AA</td><td>LAX</td><td>JFK</td><td>0830</td><td>1710</td><td>0829</td><td>1646</td><td>⋯</td><td> 0</td><td>NA</td><td>NA</td><td>NA</td><td>NA</td><td>NA</td><td>-1</td><td>0</td><td>NA</td><td>NA</td></tr>\n",
              "\t<tr><td> 1</td><td>7</td><td>1994-01-02</td><td>UA</td><td>LAX</td><td>JFK</td><td>0730</td><td>1548</td><td>0732</td><td>1549</td><td>⋯</td><td> 1</td><td>NA</td><td>NA</td><td>NA</td><td>NA</td><td>NA</td><td> 2</td><td>2</td><td>NA</td><td>NA</td></tr>\n",
              "\t<tr><td> 4</td><td>1</td><td>2000-04-17</td><td>UA</td><td>LAX</td><td>JFK</td><td>0900</td><td>1721</td><td>0859</td><td>1705</td><td>⋯</td><td> 0</td><td>NA</td><td>NA</td><td>NA</td><td>NA</td><td>NA</td><td>-1</td><td>0</td><td>NA</td><td>NA</td></tr>\n",
              "\t<tr><td> 6</td><td>7</td><td>2003-06-08</td><td>DL</td><td>LAX</td><td>JFK</td><td>1230</td><td>2052</td><td>1228</td><td>2052</td><td>⋯</td><td> 0</td><td>NA</td><td>NA</td><td>NA</td><td>NA</td><td>NA</td><td>-2</td><td>0</td><td>NA</td><td>NA</td></tr>\n",
              "\t<tr><td>10</td><td>6</td><td>1996-10-19</td><td>AA</td><td>LAX</td><td>JFK</td><td>0700</td><td>1509</td><td>0700</td><td>1610</td><td>⋯</td><td>61</td><td>NA</td><td>NA</td><td>NA</td><td>NA</td><td>NA</td><td> 0</td><td>0</td><td>NA</td><td>NA</td></tr>\n",
              "\t<tr><td>10</td><td>3</td><td>2015-10-21</td><td>DL</td><td>LAX</td><td>JFK</td><td>2255</td><td>0720</td><td>2254</td><td>0723</td><td>⋯</td><td> 3</td><td>NA</td><td>NA</td><td>NA</td><td>NA</td><td>NA</td><td>-1</td><td>0</td><td>NA</td><td>NA</td></tr>\n",
              "\t<tr><td> 7</td><td>5</td><td>2012-07-06</td><td>UA</td><td>LAX</td><td>JFK</td><td>0605</td><td>1422</td><td>0600</td><td>1427</td><td>⋯</td><td> 5</td><td>NA</td><td>NA</td><td>NA</td><td>NA</td><td>NA</td><td>-5</td><td>0</td><td>NA</td><td>NA</td></tr>\n",
              "\t<tr><td> 1</td><td>3</td><td>2010-01-06</td><td>DL</td><td>LAX</td><td>JFK</td><td>2125</td><td>0543</td><td>2118</td><td>0540</td><td>⋯</td><td> 0</td><td>NA</td><td>NA</td><td>NA</td><td>NA</td><td>NA</td><td>-7</td><td>0</td><td>NA</td><td>NA</td></tr>\n",
              "\t<tr><td> 5</td><td>5</td><td>2009-05-15</td><td>AA</td><td>LAX</td><td>JFK</td><td>2115</td><td>0535</td><td>2119</td><td>0533</td><td>⋯</td><td> 0</td><td>NA</td><td>NA</td><td>NA</td><td>NA</td><td>NA</td><td> 4</td><td>4</td><td>NA</td><td>NA</td></tr>\n",
              "\t<tr><td> 7</td><td>4</td><td>2000-07-06</td><td>AA</td><td>LAX</td><td>JFK</td><td>2200</td><td>0622</td><td>2158</td><td>0610</td><td>⋯</td><td> 0</td><td>NA</td><td>NA</td><td>NA</td><td>NA</td><td>NA</td><td>-2</td><td>0</td><td>NA</td><td>NA</td></tr>\n",
              "</tbody>\n",
              "</table>\n"
            ],
            "text/markdown": "\nA tibble: 10 × 21\n\n| Month &lt;dbl&gt; | DayOfWeek &lt;dbl&gt; | FlightDate &lt;date&gt; | Reporting_Airline &lt;chr&gt; | Origin &lt;chr&gt; | Dest &lt;chr&gt; | CRSDepTime &lt;chr&gt; | CRSArrTime &lt;chr&gt; | DepTime &lt;chr&gt; | ArrTime &lt;chr&gt; | ⋯ ⋯ | ArrDelayMinutes &lt;dbl&gt; | CarrierDelay &lt;dbl&gt; | WeatherDelay &lt;dbl&gt; | NASDelay &lt;dbl&gt; | SecurityDelay &lt;dbl&gt; | LateAircraftDelay &lt;dbl&gt; | DepDelay &lt;dbl&gt; | DepDelayMinutes &lt;dbl&gt; | DivDistance &lt;dbl&gt; | DivArrDelay &lt;dbl&gt; |\n|---|---|---|---|---|---|---|---|---|---|---|---|---|---|---|---|---|---|---|---|---|\n|  5 | 6 | 1988-05-14 | AA | LAX | JFK | 0830 | 1710 | 0829 | 1646 | ⋯ |  0 | NA | NA | NA | NA | NA | -1 | 0 | NA | NA |\n|  1 | 7 | 1994-01-02 | UA | LAX | JFK | 0730 | 1548 | 0732 | 1549 | ⋯ |  1 | NA | NA | NA | NA | NA |  2 | 2 | NA | NA |\n|  4 | 1 | 2000-04-17 | UA | LAX | JFK | 0900 | 1721 | 0859 | 1705 | ⋯ |  0 | NA | NA | NA | NA | NA | -1 | 0 | NA | NA |\n|  6 | 7 | 2003-06-08 | DL | LAX | JFK | 1230 | 2052 | 1228 | 2052 | ⋯ |  0 | NA | NA | NA | NA | NA | -2 | 0 | NA | NA |\n| 10 | 6 | 1996-10-19 | AA | LAX | JFK | 0700 | 1509 | 0700 | 1610 | ⋯ | 61 | NA | NA | NA | NA | NA |  0 | 0 | NA | NA |\n| 10 | 3 | 2015-10-21 | DL | LAX | JFK | 2255 | 0720 | 2254 | 0723 | ⋯ |  3 | NA | NA | NA | NA | NA | -1 | 0 | NA | NA |\n|  7 | 5 | 2012-07-06 | UA | LAX | JFK | 0605 | 1422 | 0600 | 1427 | ⋯ |  5 | NA | NA | NA | NA | NA | -5 | 0 | NA | NA |\n|  1 | 3 | 2010-01-06 | DL | LAX | JFK | 2125 | 0543 | 2118 | 0540 | ⋯ |  0 | NA | NA | NA | NA | NA | -7 | 0 | NA | NA |\n|  5 | 5 | 2009-05-15 | AA | LAX | JFK | 2115 | 0535 | 2119 | 0533 | ⋯ |  0 | NA | NA | NA | NA | NA |  4 | 4 | NA | NA |\n|  7 | 4 | 2000-07-06 | AA | LAX | JFK | 2200 | 0622 | 2158 | 0610 | ⋯ |  0 | NA | NA | NA | NA | NA | -2 | 0 | NA | NA |\n\n",
            "text/latex": "A tibble: 10 × 21\n\\begin{tabular}{lllllllllllllllllllll}\n Month & DayOfWeek & FlightDate & Reporting\\_Airline & Origin & Dest & CRSDepTime & CRSArrTime & DepTime & ArrTime & ⋯ & ArrDelayMinutes & CarrierDelay & WeatherDelay & NASDelay & SecurityDelay & LateAircraftDelay & DepDelay & DepDelayMinutes & DivDistance & DivArrDelay\\\\\n <dbl> & <dbl> & <date> & <chr> & <chr> & <chr> & <chr> & <chr> & <chr> & <chr> & ⋯ & <dbl> & <dbl> & <dbl> & <dbl> & <dbl> & <dbl> & <dbl> & <dbl> & <dbl> & <dbl>\\\\\n\\hline\n\t  5 & 6 & 1988-05-14 & AA & LAX & JFK & 0830 & 1710 & 0829 & 1646 & ⋯ &  0 & NA & NA & NA & NA & NA & -1 & 0 & NA & NA\\\\\n\t  1 & 7 & 1994-01-02 & UA & LAX & JFK & 0730 & 1548 & 0732 & 1549 & ⋯ &  1 & NA & NA & NA & NA & NA &  2 & 2 & NA & NA\\\\\n\t  4 & 1 & 2000-04-17 & UA & LAX & JFK & 0900 & 1721 & 0859 & 1705 & ⋯ &  0 & NA & NA & NA & NA & NA & -1 & 0 & NA & NA\\\\\n\t  6 & 7 & 2003-06-08 & DL & LAX & JFK & 1230 & 2052 & 1228 & 2052 & ⋯ &  0 & NA & NA & NA & NA & NA & -2 & 0 & NA & NA\\\\\n\t 10 & 6 & 1996-10-19 & AA & LAX & JFK & 0700 & 1509 & 0700 & 1610 & ⋯ & 61 & NA & NA & NA & NA & NA &  0 & 0 & NA & NA\\\\\n\t 10 & 3 & 2015-10-21 & DL & LAX & JFK & 2255 & 0720 & 2254 & 0723 & ⋯ &  3 & NA & NA & NA & NA & NA & -1 & 0 & NA & NA\\\\\n\t  7 & 5 & 2012-07-06 & UA & LAX & JFK & 0605 & 1422 & 0600 & 1427 & ⋯ &  5 & NA & NA & NA & NA & NA & -5 & 0 & NA & NA\\\\\n\t  1 & 3 & 2010-01-06 & DL & LAX & JFK & 2125 & 0543 & 2118 & 0540 & ⋯ &  0 & NA & NA & NA & NA & NA & -7 & 0 & NA & NA\\\\\n\t  5 & 5 & 2009-05-15 & AA & LAX & JFK & 2115 & 0535 & 2119 & 0533 & ⋯ &  0 & NA & NA & NA & NA & NA &  4 & 4 & NA & NA\\\\\n\t  7 & 4 & 2000-07-06 & AA & LAX & JFK & 2200 & 0622 & 2158 & 0610 & ⋯ &  0 & NA & NA & NA & NA & NA & -2 & 0 & NA & NA\\\\\n\\end{tabular}\n",
            "text/plain": [
              "   Month DayOfWeek FlightDate Reporting_Airline Origin Dest CRSDepTime\n",
              "1   5    6         1988-05-14 AA                LAX    JFK  0830      \n",
              "2   1    7         1994-01-02 UA                LAX    JFK  0730      \n",
              "3   4    1         2000-04-17 UA                LAX    JFK  0900      \n",
              "4   6    7         2003-06-08 DL                LAX    JFK  1230      \n",
              "5  10    6         1996-10-19 AA                LAX    JFK  0700      \n",
              "6  10    3         2015-10-21 DL                LAX    JFK  2255      \n",
              "7   7    5         2012-07-06 UA                LAX    JFK  0605      \n",
              "8   1    3         2010-01-06 DL                LAX    JFK  2125      \n",
              "9   5    5         2009-05-15 AA                LAX    JFK  2115      \n",
              "10  7    4         2000-07-06 AA                LAX    JFK  2200      \n",
              "   CRSArrTime DepTime ArrTime ⋯ ArrDelayMinutes CarrierDelay WeatherDelay\n",
              "1  1710       0829    1646    ⋯  0              NA           NA          \n",
              "2  1548       0732    1549    ⋯  1              NA           NA          \n",
              "3  1721       0859    1705    ⋯  0              NA           NA          \n",
              "4  2052       1228    2052    ⋯  0              NA           NA          \n",
              "5  1509       0700    1610    ⋯ 61              NA           NA          \n",
              "6  0720       2254    0723    ⋯  3              NA           NA          \n",
              "7  1422       0600    1427    ⋯  5              NA           NA          \n",
              "8  0543       2118    0540    ⋯  0              NA           NA          \n",
              "9  0535       2119    0533    ⋯  0              NA           NA          \n",
              "10 0622       2158    0610    ⋯  0              NA           NA          \n",
              "   NASDelay SecurityDelay LateAircraftDelay DepDelay DepDelayMinutes\n",
              "1  NA       NA            NA                -1       0              \n",
              "2  NA       NA            NA                 2       2              \n",
              "3  NA       NA            NA                -1       0              \n",
              "4  NA       NA            NA                -2       0              \n",
              "5  NA       NA            NA                 0       0              \n",
              "6  NA       NA            NA                -1       0              \n",
              "7  NA       NA            NA                -5       0              \n",
              "8  NA       NA            NA                -7       0              \n",
              "9  NA       NA            NA                 4       4              \n",
              "10 NA       NA            NA                -2       0              \n",
              "   DivDistance DivArrDelay\n",
              "1  NA          NA         \n",
              "2  NA          NA         \n",
              "3  NA          NA         \n",
              "4  NA          NA         \n",
              "5  NA          NA         \n",
              "6  NA          NA         \n",
              "7  NA          NA         \n",
              "8  NA          NA         \n",
              "9  NA          NA         \n",
              "10 NA          NA         "
            ]
          },
          "metadata": {}
        }
      ]
    },
    {
      "cell_type": "code",
      "source": [
        "#  to save the dataframe sub_airline as lax_to_jfk.csv to your local machine \n",
        "write_csv(sub_airline, \"lax_to_jfk.csv\")"
      ],
      "metadata": {
        "id": "BLCxmwI8imP9"
      },
      "execution_count": null,
      "outputs": []
    },
    {
      "cell_type": "code",
      "source": [
        "# to check datatypes\n",
        "sapply(sub_airline, typeof) "
      ],
      "metadata": {
        "colab": {
          "base_uri": "https://localhost:8080/",
          "height": 69
        },
        "id": "JCKHH73Xlecr",
        "outputId": "5991c6ca-604f-413b-d0c1-525cb5a1073c"
      },
      "execution_count": null,
      "outputs": [
        {
          "output_type": "display_data",
          "data": {
            "text/html": [
              "<style>\n",
              ".dl-inline {width: auto; margin:0; padding: 0}\n",
              ".dl-inline>dt, .dl-inline>dd {float: none; width: auto; display: inline-block}\n",
              ".dl-inline>dt::after {content: \":\\0020\"; padding-right: .5ex}\n",
              ".dl-inline>dt:not(:first-of-type) {padding-left: .5ex}\n",
              "</style><dl class=dl-inline><dt>Month</dt><dd>'double'</dd><dt>DayOfWeek</dt><dd>'double'</dd><dt>FlightDate</dt><dd>'double'</dd><dt>Reporting_Airline</dt><dd>'character'</dd><dt>Origin</dt><dd>'character'</dd><dt>Dest</dt><dd>'character'</dd><dt>CRSDepTime</dt><dd>'character'</dd><dt>CRSArrTime</dt><dd>'character'</dd><dt>DepTime</dt><dd>'character'</dd><dt>ArrTime</dt><dd>'character'</dd><dt>ArrDelay</dt><dd>'double'</dd><dt>ArrDelayMinutes</dt><dd>'double'</dd><dt>CarrierDelay</dt><dd>'double'</dd><dt>WeatherDelay</dt><dd>'double'</dd><dt>NASDelay</dt><dd>'double'</dd><dt>SecurityDelay</dt><dd>'double'</dd><dt>LateAircraftDelay</dt><dd>'double'</dd><dt>DepDelay</dt><dd>'double'</dd><dt>DepDelayMinutes</dt><dd>'double'</dd><dt>DivDistance</dt><dd>'double'</dd><dt>DivArrDelay</dt><dd>'double'</dd></dl>\n"
            ],
            "text/markdown": "Month\n:   'double'DayOfWeek\n:   'double'FlightDate\n:   'double'Reporting_Airline\n:   'character'Origin\n:   'character'Dest\n:   'character'CRSDepTime\n:   'character'CRSArrTime\n:   'character'DepTime\n:   'character'ArrTime\n:   'character'ArrDelay\n:   'double'ArrDelayMinutes\n:   'double'CarrierDelay\n:   'double'WeatherDelay\n:   'double'NASDelay\n:   'double'SecurityDelay\n:   'double'LateAircraftDelay\n:   'double'DepDelay\n:   'double'DepDelayMinutes\n:   'double'DivDistance\n:   'double'DivArrDelay\n:   'double'\n\n",
            "text/latex": "\\begin{description*}\n\\item[Month] 'double'\n\\item[DayOfWeek] 'double'\n\\item[FlightDate] 'double'\n\\item[Reporting\\textbackslash{}\\_Airline] 'character'\n\\item[Origin] 'character'\n\\item[Dest] 'character'\n\\item[CRSDepTime] 'character'\n\\item[CRSArrTime] 'character'\n\\item[DepTime] 'character'\n\\item[ArrTime] 'character'\n\\item[ArrDelay] 'double'\n\\item[ArrDelayMinutes] 'double'\n\\item[CarrierDelay] 'double'\n\\item[WeatherDelay] 'double'\n\\item[NASDelay] 'double'\n\\item[SecurityDelay] 'double'\n\\item[LateAircraftDelay] 'double'\n\\item[DepDelay] 'double'\n\\item[DepDelayMinutes] 'double'\n\\item[DivDistance] 'double'\n\\item[DivArrDelay] 'double'\n\\end{description*}\n",
            "text/plain": [
              "            Month         DayOfWeek        FlightDate Reporting_Airline \n",
              "         \"double\"          \"double\"          \"double\"       \"character\" \n",
              "           Origin              Dest        CRSDepTime        CRSArrTime \n",
              "      \"character\"       \"character\"       \"character\"       \"character\" \n",
              "          DepTime           ArrTime          ArrDelay   ArrDelayMinutes \n",
              "      \"character\"       \"character\"          \"double\"          \"double\" \n",
              "     CarrierDelay      WeatherDelay          NASDelay     SecurityDelay \n",
              "         \"double\"          \"double\"          \"double\"          \"double\" \n",
              "LateAircraftDelay          DepDelay   DepDelayMinutes       DivDistance \n",
              "         \"double\"          \"double\"          \"double\"          \"double\" \n",
              "      DivArrDelay \n",
              "         \"double\" "
            ]
          },
          "metadata": {}
        }
      ]
    },
    {
      "cell_type": "code",
      "source": [
        "# for numeric and integer types\n",
        "x = 10.5       # assign a decimal value \n",
        "class(x)       # print the class name of x, which should be numeric"
      ],
      "metadata": {
        "colab": {
          "base_uri": "https://localhost:8080/",
          "height": 34
        },
        "id": "uTSd6j2VloFH",
        "outputId": "3a14da3e-c2d9-48a0-ecbc-af90ef8175af"
      },
      "execution_count": null,
      "outputs": [
        {
          "output_type": "display_data",
          "data": {
            "text/html": [
              "'numeric'"
            ],
            "text/markdown": "'numeric'",
            "text/latex": "'numeric'",
            "text/plain": [
              "[1] \"numeric\""
            ]
          },
          "metadata": {}
        }
      ]
    },
    {
      "cell_type": "code",
      "source": [
        "k = 1          # assign an integer value \n",
        "class(x)       # print the class name of x, which should be numeric"
      ],
      "metadata": {
        "colab": {
          "base_uri": "https://localhost:8080/",
          "height": 34
        },
        "id": "VMT_F3jTl2JF",
        "outputId": "d86d22c9-f7c7-4bf1-b205-568de8546103"
      },
      "execution_count": null,
      "outputs": [
        {
          "output_type": "display_data",
          "data": {
            "text/html": [
              "'numeric'"
            ],
            "text/markdown": "'numeric'",
            "text/latex": "'numeric'",
            "text/plain": [
              "[1] \"numeric\""
            ]
          },
          "metadata": {}
        }
      ]
    },
    {
      "cell_type": "code",
      "source": [
        "y = as.integer(3)        # assign a integer value \n",
        "class(y)                 # print the class name of y, which should be integer"
      ],
      "metadata": {
        "colab": {
          "base_uri": "https://localhost:8080/",
          "height": 34
        },
        "id": "e5geClGpl7iY",
        "outputId": "06f3dc40-5eae-4566-9b84-121f3b80f286"
      },
      "execution_count": null,
      "outputs": [
        {
          "output_type": "display_data",
          "data": {
            "text/html": [
              "'integer'"
            ],
            "text/markdown": "'integer'",
            "text/latex": "'integer'",
            "text/plain": [
              "[1] \"integer\""
            ]
          },
          "metadata": {}
        }
      ]
    },
    {
      "cell_type": "code",
      "source": [
        "z = 0i\n",
        "class(z)"
      ],
      "metadata": {
        "colab": {
          "base_uri": "https://localhost:8080/",
          "height": 34
        },
        "id": "sDqj1x7JmC34",
        "outputId": "528f64d0-2761-4dfa-8a70-09e1c2f4ff5a"
      },
      "execution_count": null,
      "outputs": [
        {
          "output_type": "display_data",
          "data": {
            "text/html": [
              "'complex'"
            ],
            "text/markdown": "'complex'",
            "text/latex": "'complex'",
            "text/plain": [
              "[1] \"complex\""
            ]
          },
          "metadata": {}
        }
      ]
    },
    {
      "cell_type": "code",
      "source": [
        "logical_values = c(TRUE, T, FALSE, F)\n",
        "class(logical_values)"
      ],
      "metadata": {
        "colab": {
          "base_uri": "https://localhost:8080/",
          "height": 34
        },
        "id": "fjJ8sVoImKgl",
        "outputId": "47a973e6-4c41-46fc-ad87-2274e2d31a4a"
      },
      "execution_count": null,
      "outputs": [
        {
          "output_type": "display_data",
          "data": {
            "text/html": [
              "'logical'"
            ],
            "text/markdown": "'logical'",
            "text/latex": "'logical'",
            "text/plain": [
              "[1] \"logical\""
            ]
          },
          "metadata": {}
        }
      ]
    },
    {
      "cell_type": "code",
      "source": [
        "class('this is a character')"
      ],
      "metadata": {
        "colab": {
          "base_uri": "https://localhost:8080/",
          "height": 34
        },
        "id": "FntDqXDDmQog",
        "outputId": "efc273d8-f57b-48a5-9b06-6d919af0c12e"
      },
      "execution_count": null,
      "outputs": [
        {
          "output_type": "display_data",
          "data": {
            "text/html": [
              "'character'"
            ],
            "text/markdown": "'character'",
            "text/latex": "'character'",
            "text/plain": [
              "[1] \"character\""
            ]
          },
          "metadata": {}
        }
      ]
    },
    {
      "cell_type": "code",
      "source": [],
      "metadata": {
        "id": "2VXf92-pmU1P"
      },
      "execution_count": null,
      "outputs": []
    },
    {
      "cell_type": "markdown",
      "source": [
        "Dplyr for Data Wrangling and Transformation¶\n",
        "The dplyr package is very useful to transform data and get basic insights from the dataset. The most important functions are:\n",
        "\n",
        "select()\n",
        "filter()\n",
        "summarize()\n",
        "arrange()\n",
        "mutate()\n",
        "group_by()"
      ],
      "metadata": {
        "id": "LFlMV-yFoEUG"
      }
    },
    {
      "cell_type": "markdown",
      "source": [
        "# pipe\n"
      ],
      "metadata": {
        "id": "A0beQppcoKIr"
      }
    },
    {
      "cell_type": "code",
      "source": [
        "sub_airline %>% \n",
        "  filter(Month == 1) %>%\n",
        "  group_by(Reporting_Airline) %>%\n",
        "  summarize(avg_carrier_delay = mean(CarrierDelay, na.rm = TRUE))"
      ],
      "metadata": {
        "colab": {
          "base_uri": "https://localhost:8080/",
          "height": 380
        },
        "id": "G97x8SKBoZqi",
        "outputId": "777a46c2-0a74-438a-8f77-36971f48da0a"
      },
      "execution_count": null,
      "outputs": [
        {
          "output_type": "display_data",
          "data": {
            "text/html": [
              "<table class=\"dataframe\">\n",
              "<caption>A tibble: 9 × 2</caption>\n",
              "<thead>\n",
              "\t<tr><th scope=col>Reporting_Airline</th><th scope=col>avg_carrier_delay</th></tr>\n",
              "\t<tr><th scope=col>&lt;chr&gt;</th><th scope=col>&lt;dbl&gt;</th></tr>\n",
              "</thead>\n",
              "<tbody>\n",
              "\t<tr><td>AA    </td><td>24.625000</td></tr>\n",
              "\t<tr><td>AS    </td><td>32.000000</td></tr>\n",
              "\t<tr><td>B6    </td><td>25.500000</td></tr>\n",
              "\t<tr><td>DL    </td><td> 0.000000</td></tr>\n",
              "\t<tr><td>HP    </td><td> 0.000000</td></tr>\n",
              "\t<tr><td>PA (1)</td><td>      NaN</td></tr>\n",
              "\t<tr><td>TW    </td><td>      NaN</td></tr>\n",
              "\t<tr><td>UA    </td><td> 0.000000</td></tr>\n",
              "\t<tr><td>VX    </td><td> 2.333333</td></tr>\n",
              "</tbody>\n",
              "</table>\n"
            ],
            "text/markdown": "\nA tibble: 9 × 2\n\n| Reporting_Airline &lt;chr&gt; | avg_carrier_delay &lt;dbl&gt; |\n|---|---|\n| AA     | 24.625000 |\n| AS     | 32.000000 |\n| B6     | 25.500000 |\n| DL     |  0.000000 |\n| HP     |  0.000000 |\n| PA (1) |       NaN |\n| TW     |       NaN |\n| UA     |  0.000000 |\n| VX     |  2.333333 |\n\n",
            "text/latex": "A tibble: 9 × 2\n\\begin{tabular}{ll}\n Reporting\\_Airline & avg\\_carrier\\_delay\\\\\n <chr> & <dbl>\\\\\n\\hline\n\t AA     & 24.625000\\\\\n\t AS     & 32.000000\\\\\n\t B6     & 25.500000\\\\\n\t DL     &  0.000000\\\\\n\t HP     &  0.000000\\\\\n\t PA (1) &       NaN\\\\\n\t TW     &       NaN\\\\\n\t UA     &  0.000000\\\\\n\t VX     &  2.333333\\\\\n\\end{tabular}\n",
            "text/plain": [
              "  Reporting_Airline avg_carrier_delay\n",
              "1 AA                24.625000        \n",
              "2 AS                32.000000        \n",
              "3 B6                25.500000        \n",
              "4 DL                 0.000000        \n",
              "5 HP                 0.000000        \n",
              "6 PA (1)                  NaN        \n",
              "7 TW                      NaN        \n",
              "8 UA                 0.000000        \n",
              "9 VX                 2.333333        "
            ]
          },
          "metadata": {}
        }
      ]
    },
    {
      "cell_type": "code",
      "source": [],
      "metadata": {
        "id": "8r6cZN6aoj2o"
      },
      "execution_count": null,
      "outputs": []
    },
    {
      "cell_type": "markdown",
      "source": [
        "# summary"
      ],
      "metadata": {
        "id": "UPbyEdzCo1fc"
      }
    },
    {
      "cell_type": "code",
      "source": [
        "# group_by / summarize workflow example\n",
        "sub_airline %>%\n",
        "  group_by(Reporting_Airline) %>%\n",
        "  summarize(avg_carrier_delay = mean(CarrierDelay, na.rm = TRUE)) # use mean value"
      ],
      "metadata": {
        "colab": {
          "base_uri": "https://localhost:8080/",
          "height": 380
        },
        "id": "gQf3MZllo8EA",
        "outputId": "e30aa40f-4ce9-438e-8889-2e0e1b170e11"
      },
      "execution_count": null,
      "outputs": [
        {
          "output_type": "display_data",
          "data": {
            "text/html": [
              "<table class=\"dataframe\">\n",
              "<caption>A tibble: 9 × 2</caption>\n",
              "<thead>\n",
              "\t<tr><th scope=col>Reporting_Airline</th><th scope=col>avg_carrier_delay</th></tr>\n",
              "\t<tr><th scope=col>&lt;chr&gt;</th><th scope=col>&lt;dbl&gt;</th></tr>\n",
              "</thead>\n",
              "<tbody>\n",
              "\t<tr><td>AA    </td><td>19.643478</td></tr>\n",
              "\t<tr><td>AS    </td><td>14.833333</td></tr>\n",
              "\t<tr><td>B6    </td><td>11.466667</td></tr>\n",
              "\t<tr><td>DL    </td><td>24.912088</td></tr>\n",
              "\t<tr><td>HP    </td><td> 3.333333</td></tr>\n",
              "\t<tr><td>PA (1)</td><td>      NaN</td></tr>\n",
              "\t<tr><td>TW    </td><td>      NaN</td></tr>\n",
              "\t<tr><td>UA    </td><td>14.509804</td></tr>\n",
              "\t<tr><td>VX    </td><td>14.941176</td></tr>\n",
              "</tbody>\n",
              "</table>\n"
            ],
            "text/markdown": "\nA tibble: 9 × 2\n\n| Reporting_Airline &lt;chr&gt; | avg_carrier_delay &lt;dbl&gt; |\n|---|---|\n| AA     | 19.643478 |\n| AS     | 14.833333 |\n| B6     | 11.466667 |\n| DL     | 24.912088 |\n| HP     |  3.333333 |\n| PA (1) |       NaN |\n| TW     |       NaN |\n| UA     | 14.509804 |\n| VX     | 14.941176 |\n\n",
            "text/latex": "A tibble: 9 × 2\n\\begin{tabular}{ll}\n Reporting\\_Airline & avg\\_carrier\\_delay\\\\\n <chr> & <dbl>\\\\\n\\hline\n\t AA     & 19.643478\\\\\n\t AS     & 14.833333\\\\\n\t B6     & 11.466667\\\\\n\t DL     & 24.912088\\\\\n\t HP     &  3.333333\\\\\n\t PA (1) &       NaN\\\\\n\t TW     &       NaN\\\\\n\t UA     & 14.509804\\\\\n\t VX     & 14.941176\\\\\n\\end{tabular}\n",
            "text/plain": [
              "  Reporting_Airline avg_carrier_delay\n",
              "1 AA                19.643478        \n",
              "2 AS                14.833333        \n",
              "3 B6                11.466667        \n",
              "4 DL                24.912088        \n",
              "5 HP                 3.333333        \n",
              "6 PA (1)                  NaN        \n",
              "7 TW                      NaN        \n",
              "8 UA                14.509804        \n",
              "9 VX                14.941176        "
            ]
          },
          "metadata": {}
        }
      ]
    },
    {
      "cell_type": "code",
      "source": [
        "# group_by / summarise workflow example\n",
        "sub_airline %>%\n",
        "  group_by(Reporting_Airline) %>%\n",
        "  summarize(sd_carrier_delay = sd(CarrierDelay, na.rm = TRUE)) # use standard deviation"
      ],
      "metadata": {
        "colab": {
          "base_uri": "https://localhost:8080/",
          "height": 380
        },
        "id": "pO0KKHOTpCR4",
        "outputId": "7119694c-d247-4d77-82c7-daab9ab5da40"
      },
      "execution_count": null,
      "outputs": [
        {
          "output_type": "display_data",
          "data": {
            "text/html": [
              "<table class=\"dataframe\">\n",
              "<caption>A tibble: 9 × 2</caption>\n",
              "<thead>\n",
              "\t<tr><th scope=col>Reporting_Airline</th><th scope=col>sd_carrier_delay</th></tr>\n",
              "\t<tr><th scope=col>&lt;chr&gt;</th><th scope=col>&lt;dbl&gt;</th></tr>\n",
              "</thead>\n",
              "<tbody>\n",
              "\t<tr><td>AA    </td><td>36.047287</td></tr>\n",
              "\t<tr><td>AS    </td><td>19.039831</td></tr>\n",
              "\t<tr><td>B6    </td><td>29.040280</td></tr>\n",
              "\t<tr><td>DL    </td><td>99.775375</td></tr>\n",
              "\t<tr><td>HP    </td><td> 8.164966</td></tr>\n",
              "\t<tr><td>PA (1)</td><td>       NA</td></tr>\n",
              "\t<tr><td>TW    </td><td>       NA</td></tr>\n",
              "\t<tr><td>UA    </td><td>35.396821</td></tr>\n",
              "\t<tr><td>VX    </td><td>39.813917</td></tr>\n",
              "</tbody>\n",
              "</table>\n"
            ],
            "text/markdown": "\nA tibble: 9 × 2\n\n| Reporting_Airline &lt;chr&gt; | sd_carrier_delay &lt;dbl&gt; |\n|---|---|\n| AA     | 36.047287 |\n| AS     | 19.039831 |\n| B6     | 29.040280 |\n| DL     | 99.775375 |\n| HP     |  8.164966 |\n| PA (1) |        NA |\n| TW     |        NA |\n| UA     | 35.396821 |\n| VX     | 39.813917 |\n\n",
            "text/latex": "A tibble: 9 × 2\n\\begin{tabular}{ll}\n Reporting\\_Airline & sd\\_carrier\\_delay\\\\\n <chr> & <dbl>\\\\\n\\hline\n\t AA     & 36.047287\\\\\n\t AS     & 19.039831\\\\\n\t B6     & 29.040280\\\\\n\t DL     & 99.775375\\\\\n\t HP     &  8.164966\\\\\n\t PA (1) &        NA\\\\\n\t TW     &        NA\\\\\n\t UA     & 35.396821\\\\\n\t VX     & 39.813917\\\\\n\\end{tabular}\n",
            "text/plain": [
              "  Reporting_Airline sd_carrier_delay\n",
              "1 AA                36.047287       \n",
              "2 AS                19.039831       \n",
              "3 B6                29.040280       \n",
              "4 DL                99.775375       \n",
              "5 HP                 8.164966       \n",
              "6 PA (1)                   NA       \n",
              "7 TW                       NA       \n",
              "8 UA                35.396821       \n",
              "9 VX                39.813917       "
            ]
          },
          "metadata": {}
        }
      ]
    },
    {
      "cell_type": "code",
      "source": [
        "# Question #3: Using sub_airline, get the mean of ArrDelay for each Reporting_Airline. \n",
        "# In other words, group by Reporting_Airline and summarize the mean of ArrDelay of each reporting airline. Remember to use na.rm = TRUE.\n",
        "sub_airline %>%\n",
        "  group_by(Reporting_Airline) %>%\n",
        "  summarize(airline_Delay = mean(ArrDelay, na.rm = TRUE))"
      ],
      "metadata": {
        "colab": {
          "base_uri": "https://localhost:8080/",
          "height": 380
        },
        "id": "eeXSv9yhpHpz",
        "outputId": "1588e314-21bd-475e-f5c7-9999d864757e"
      },
      "execution_count": null,
      "outputs": [
        {
          "output_type": "display_data",
          "data": {
            "text/html": [
              "<table class=\"dataframe\">\n",
              "<caption>A tibble: 9 × 2</caption>\n",
              "<thead>\n",
              "\t<tr><th scope=col>Reporting_Airline</th><th scope=col>airline_Delay</th></tr>\n",
              "\t<tr><th scope=col>&lt;chr&gt;</th><th scope=col>&lt;dbl&gt;</th></tr>\n",
              "</thead>\n",
              "<tbody>\n",
              "\t<tr><td>AA    </td><td> 0.5939781</td></tr>\n",
              "\t<tr><td>AS    </td><td>-1.1111111</td></tr>\n",
              "\t<tr><td>B6    </td><td> 7.8139535</td></tr>\n",
              "\t<tr><td>DL    </td><td> 5.0057034</td></tr>\n",
              "\t<tr><td>HP    </td><td>13.2857143</td></tr>\n",
              "\t<tr><td>PA (1)</td><td>27.9696970</td></tr>\n",
              "\t<tr><td>TW    </td><td>10.4270270</td></tr>\n",
              "\t<tr><td>UA    </td><td> 3.8963093</td></tr>\n",
              "\t<tr><td>VX    </td><td> 6.5193798</td></tr>\n",
              "</tbody>\n",
              "</table>\n"
            ],
            "text/markdown": "\nA tibble: 9 × 2\n\n| Reporting_Airline &lt;chr&gt; | airline_Delay &lt;dbl&gt; |\n|---|---|\n| AA     |  0.5939781 |\n| AS     | -1.1111111 |\n| B6     |  7.8139535 |\n| DL     |  5.0057034 |\n| HP     | 13.2857143 |\n| PA (1) | 27.9696970 |\n| TW     | 10.4270270 |\n| UA     |  3.8963093 |\n| VX     |  6.5193798 |\n\n",
            "text/latex": "A tibble: 9 × 2\n\\begin{tabular}{ll}\n Reporting\\_Airline & airline\\_Delay\\\\\n <chr> & <dbl>\\\\\n\\hline\n\t AA     &  0.5939781\\\\\n\t AS     & -1.1111111\\\\\n\t B6     &  7.8139535\\\\\n\t DL     &  5.0057034\\\\\n\t HP     & 13.2857143\\\\\n\t PA (1) & 27.9696970\\\\\n\t TW     & 10.4270270\\\\\n\t UA     &  3.8963093\\\\\n\t VX     &  6.5193798\\\\\n\\end{tabular}\n",
            "text/plain": [
              "  Reporting_Airline airline_Delay\n",
              "1 AA                 0.5939781   \n",
              "2 AS                -1.1111111   \n",
              "3 B6                 7.8139535   \n",
              "4 DL                 5.0057034   \n",
              "5 HP                13.2857143   \n",
              "6 PA (1)            27.9696970   \n",
              "7 TW                10.4270270   \n",
              "8 UA                 3.8963093   \n",
              "9 VX                 6.5193798   "
            ]
          },
          "metadata": {}
        }
      ]
    },
    {
      "cell_type": "code",
      "source": [],
      "metadata": {
        "id": "H5NCmfQupkYP"
      },
      "execution_count": null,
      "outputs": []
    },
    {
      "cell_type": "markdown",
      "source": [
        "# Glimpse"
      ],
      "metadata": {
        "id": "IytPHDtJpsE1"
      }
    },
    {
      "cell_type": "code",
      "source": [
        "# Another method you can use to check your dataset is:\n",
        "glimpse(sub_airline)"
      ],
      "metadata": {
        "id": "n8wkwaQdpwED",
        "outputId": "746fa950-485e-4170-a9c7-146be40ca961",
        "colab": {
          "base_uri": "https://localhost:8080/"
        }
      },
      "execution_count": null,
      "outputs": [
        {
          "output_type": "stream",
          "name": "stdout",
          "text": [
            "Rows: 2,855\n",
            "Columns: 21\n",
            "$ Month             \u001b[3m\u001b[90m<dbl>\u001b[39m\u001b[23m 3, 11, 8, 4, 11, 4, 12, 12, 2, 3, 10, 8, 6, 2, 8, 3,…\n",
            "$ DayOfWeek         \u001b[3m\u001b[90m<dbl>\u001b[39m\u001b[23m 5, 4, 5, 7, 3, 1, 1, 3, 4, 4, 4, 5, 4, 3, 7, 6, 4, 4…\n",
            "$ FlightDate        \u001b[3m\u001b[90m<date>\u001b[39m\u001b[23m 2003-03-28, 2018-11-29, 2015-08-28, 2003-04-20, 200…\n",
            "$ Reporting_Airline \u001b[3m\u001b[90m<chr>\u001b[39m\u001b[23m \"UA\", \"AS\", \"UA\", \"DL\", \"UA\", \"UA\", \"VX\", \"HP\", \"UA\"…\n",
            "$ Origin            \u001b[3m\u001b[90m<chr>\u001b[39m\u001b[23m \"LAX\", \"LAX\", \"LAX\", \"LAX\", \"LAX\", \"LAX\", \"LAX\", \"LA…\n",
            "$ Dest              \u001b[3m\u001b[90m<chr>\u001b[39m\u001b[23m \"JFK\", \"JFK\", \"JFK\", \"JFK\", \"JFK\", \"JFK\", \"JFK\", \"JF…\n",
            "$ CRSDepTime        \u001b[3m\u001b[90m<chr>\u001b[39m\u001b[23m \"2210\", \"1045\", \"0805\", \"2205\", \"0840\", \"1450\", \"104…\n",
            "$ CRSArrTime        \u001b[3m\u001b[90m<chr>\u001b[39m\u001b[23m \"0615\", \"1912\", \"1634\", \"0619\", \"1653\", \"2308\", \"190…\n",
            "$ DepTime           \u001b[3m\u001b[90m<chr>\u001b[39m\u001b[23m \"2209\", \"1049\", \"0757\", \"2212\", \"0836\", \"1452\", \"103…\n",
            "$ ArrTime           \u001b[3m\u001b[90m<chr>\u001b[39m\u001b[23m \"0617\", \"1851\", \"1620\", \"0616\", \"1640\", \"2248\", \"190…\n",
            "$ ArrDelay          \u001b[3m\u001b[90m<dbl>\u001b[39m\u001b[23m 2, -21, -14, -3, -13, -20, 1, -40, 25, 7, 5, 34, 21,…\n",
            "$ ArrDelayMinutes   \u001b[3m\u001b[90m<dbl>\u001b[39m\u001b[23m 2, 0, 0, 0, 0, 0, 1, 0, 25, 7, 5, 34, 21, 0, 14, 682…\n",
            "$ CarrierDelay      \u001b[3m\u001b[90m<dbl>\u001b[39m\u001b[23m NA, NA, NA, NA, NA, NA, NA, NA, NA, NA, NA, 11, 0, N…\n",
            "$ WeatherDelay      \u001b[3m\u001b[90m<dbl>\u001b[39m\u001b[23m NA, NA, NA, NA, NA, NA, NA, NA, NA, NA, NA, 0, 0, NA…\n",
            "$ NASDelay          \u001b[3m\u001b[90m<dbl>\u001b[39m\u001b[23m NA, NA, NA, NA, NA, NA, NA, NA, NA, NA, NA, 23, 21, …\n",
            "$ SecurityDelay     \u001b[3m\u001b[90m<dbl>\u001b[39m\u001b[23m NA, NA, NA, NA, NA, NA, NA, NA, NA, NA, NA, 0, 0, NA…\n",
            "$ LateAircraftDelay \u001b[3m\u001b[90m<dbl>\u001b[39m\u001b[23m NA, NA, NA, NA, NA, NA, NA, NA, NA, NA, NA, 0, 0, NA…\n",
            "$ DepDelay          \u001b[3m\u001b[90m<dbl>\u001b[39m\u001b[23m -1, 4, -8, 7, -4, 2, -2, -2, 2, 15, 2, 21, -8, -2, -…\n",
            "$ DepDelayMinutes   \u001b[3m\u001b[90m<dbl>\u001b[39m\u001b[23m 0, 4, 0, 7, 0, 2, 0, 0, 2, 15, 2, 21, 0, 0, 0, 395, …\n",
            "$ DivDistance       \u001b[3m\u001b[90m<dbl>\u001b[39m\u001b[23m NA, NA, NA, NA, NA, NA, NA, NA, NA, NA, NA, NA, NA, …\n",
            "$ DivArrDelay       \u001b[3m\u001b[90m<dbl>\u001b[39m\u001b[23m NA, NA, NA, NA, NA, NA, NA, NA, NA, NA, NA, NA, NA, …\n"
          ]
        }
      ]
    },
    {
      "cell_type": "code",
      "source": [
        "head(sub_airline)"
      ],
      "metadata": {
        "id": "GoWT7cEOp1No",
        "colab": {
          "base_uri": "https://localhost:8080/",
          "height": 130
        },
        "outputId": "e5dece4d-0ea2-4c17-8ecc-26eba0116dbe"
      },
      "execution_count": null,
      "outputs": [
        {
          "output_type": "error",
          "ename": "ERROR",
          "evalue": "ignored",
          "traceback": [
            "Error in head(sub_airline): object 'sub_airline' not found\nTraceback:\n",
            "1. head(sub_airline)"
          ]
        }
      ]
    },
    {
      "cell_type": "code",
      "source": [],
      "metadata": {
        "id": "wmI6hVPniy7v"
      },
      "execution_count": null,
      "outputs": []
    },
    {
      "cell_type": "markdown",
      "source": [
        "**MISSING VALUES**\n"
      ],
      "metadata": {
        "id": "XXQbL-NmjH6v"
      }
    },
    {
      "cell_type": "code",
      "source": [
        "head(sub_airline)"
      ],
      "metadata": {
        "colab": {
          "base_uri": "https://localhost:8080/",
          "height": 306
        },
        "id": "rLvbviXPjMe6",
        "outputId": "0aa802a0-938d-4d27-c651-968b56e29d10"
      },
      "execution_count": null,
      "outputs": [
        {
          "output_type": "display_data",
          "data": {
            "text/html": [
              "<table class=\"dataframe\">\n",
              "<caption>A tibble: 6 × 21</caption>\n",
              "<thead>\n",
              "\t<tr><th scope=col>Month</th><th scope=col>DayOfWeek</th><th scope=col>FlightDate</th><th scope=col>Reporting_Airline</th><th scope=col>Origin</th><th scope=col>Dest</th><th scope=col>CRSDepTime</th><th scope=col>CRSArrTime</th><th scope=col>DepTime</th><th scope=col>ArrTime</th><th scope=col>⋯</th><th scope=col>ArrDelayMinutes</th><th scope=col>CarrierDelay</th><th scope=col>WeatherDelay</th><th scope=col>NASDelay</th><th scope=col>SecurityDelay</th><th scope=col>LateAircraftDelay</th><th scope=col>DepDelay</th><th scope=col>DepDelayMinutes</th><th scope=col>DivDistance</th><th scope=col>DivArrDelay</th></tr>\n",
              "\t<tr><th scope=col>&lt;dbl&gt;</th><th scope=col>&lt;dbl&gt;</th><th scope=col>&lt;date&gt;</th><th scope=col>&lt;chr&gt;</th><th scope=col>&lt;chr&gt;</th><th scope=col>&lt;chr&gt;</th><th scope=col>&lt;chr&gt;</th><th scope=col>&lt;chr&gt;</th><th scope=col>&lt;chr&gt;</th><th scope=col>&lt;chr&gt;</th><th scope=col>⋯</th><th scope=col>&lt;dbl&gt;</th><th scope=col>&lt;dbl&gt;</th><th scope=col>&lt;dbl&gt;</th><th scope=col>&lt;dbl&gt;</th><th scope=col>&lt;dbl&gt;</th><th scope=col>&lt;dbl&gt;</th><th scope=col>&lt;dbl&gt;</th><th scope=col>&lt;dbl&gt;</th><th scope=col>&lt;dbl&gt;</th><th scope=col>&lt;dbl&gt;</th></tr>\n",
              "</thead>\n",
              "<tbody>\n",
              "\t<tr><td> 3</td><td>5</td><td>2003-03-28</td><td>UA</td><td>LAX</td><td>JFK</td><td>2210</td><td>0615</td><td>2209</td><td>0617</td><td>⋯</td><td>2</td><td>NA</td><td>NA</td><td>NA</td><td>NA</td><td>NA</td><td>-1</td><td>0</td><td>NA</td><td>NA</td></tr>\n",
              "\t<tr><td>11</td><td>4</td><td>2018-11-29</td><td>AS</td><td>LAX</td><td>JFK</td><td>1045</td><td>1912</td><td>1049</td><td>1851</td><td>⋯</td><td>0</td><td>NA</td><td>NA</td><td>NA</td><td>NA</td><td>NA</td><td> 4</td><td>4</td><td>NA</td><td>NA</td></tr>\n",
              "\t<tr><td> 8</td><td>5</td><td>2015-08-28</td><td>UA</td><td>LAX</td><td>JFK</td><td>0805</td><td>1634</td><td>0757</td><td>1620</td><td>⋯</td><td>0</td><td>NA</td><td>NA</td><td>NA</td><td>NA</td><td>NA</td><td>-8</td><td>0</td><td>NA</td><td>NA</td></tr>\n",
              "\t<tr><td> 4</td><td>7</td><td>2003-04-20</td><td>DL</td><td>LAX</td><td>JFK</td><td>2205</td><td>0619</td><td>2212</td><td>0616</td><td>⋯</td><td>0</td><td>NA</td><td>NA</td><td>NA</td><td>NA</td><td>NA</td><td> 7</td><td>7</td><td>NA</td><td>NA</td></tr>\n",
              "\t<tr><td>11</td><td>3</td><td>2005-11-30</td><td>UA</td><td>LAX</td><td>JFK</td><td>0840</td><td>1653</td><td>0836</td><td>1640</td><td>⋯</td><td>0</td><td>NA</td><td>NA</td><td>NA</td><td>NA</td><td>NA</td><td>-4</td><td>0</td><td>NA</td><td>NA</td></tr>\n",
              "\t<tr><td> 4</td><td>1</td><td>1992-04-06</td><td>UA</td><td>LAX</td><td>JFK</td><td>1450</td><td>2308</td><td>1452</td><td>2248</td><td>⋯</td><td>0</td><td>NA</td><td>NA</td><td>NA</td><td>NA</td><td>NA</td><td> 2</td><td>2</td><td>NA</td><td>NA</td></tr>\n",
              "</tbody>\n",
              "</table>\n"
            ],
            "text/markdown": "\nA tibble: 6 × 21\n\n| Month &lt;dbl&gt; | DayOfWeek &lt;dbl&gt; | FlightDate &lt;date&gt; | Reporting_Airline &lt;chr&gt; | Origin &lt;chr&gt; | Dest &lt;chr&gt; | CRSDepTime &lt;chr&gt; | CRSArrTime &lt;chr&gt; | DepTime &lt;chr&gt; | ArrTime &lt;chr&gt; | ⋯ ⋯ | ArrDelayMinutes &lt;dbl&gt; | CarrierDelay &lt;dbl&gt; | WeatherDelay &lt;dbl&gt; | NASDelay &lt;dbl&gt; | SecurityDelay &lt;dbl&gt; | LateAircraftDelay &lt;dbl&gt; | DepDelay &lt;dbl&gt; | DepDelayMinutes &lt;dbl&gt; | DivDistance &lt;dbl&gt; | DivArrDelay &lt;dbl&gt; |\n|---|---|---|---|---|---|---|---|---|---|---|---|---|---|---|---|---|---|---|---|---|\n|  3 | 5 | 2003-03-28 | UA | LAX | JFK | 2210 | 0615 | 2209 | 0617 | ⋯ | 2 | NA | NA | NA | NA | NA | -1 | 0 | NA | NA |\n| 11 | 4 | 2018-11-29 | AS | LAX | JFK | 1045 | 1912 | 1049 | 1851 | ⋯ | 0 | NA | NA | NA | NA | NA |  4 | 4 | NA | NA |\n|  8 | 5 | 2015-08-28 | UA | LAX | JFK | 0805 | 1634 | 0757 | 1620 | ⋯ | 0 | NA | NA | NA | NA | NA | -8 | 0 | NA | NA |\n|  4 | 7 | 2003-04-20 | DL | LAX | JFK | 2205 | 0619 | 2212 | 0616 | ⋯ | 0 | NA | NA | NA | NA | NA |  7 | 7 | NA | NA |\n| 11 | 3 | 2005-11-30 | UA | LAX | JFK | 0840 | 1653 | 0836 | 1640 | ⋯ | 0 | NA | NA | NA | NA | NA | -4 | 0 | NA | NA |\n|  4 | 1 | 1992-04-06 | UA | LAX | JFK | 1450 | 2308 | 1452 | 2248 | ⋯ | 0 | NA | NA | NA | NA | NA |  2 | 2 | NA | NA |\n\n",
            "text/latex": "A tibble: 6 × 21\n\\begin{tabular}{lllllllllllllllllllll}\n Month & DayOfWeek & FlightDate & Reporting\\_Airline & Origin & Dest & CRSDepTime & CRSArrTime & DepTime & ArrTime & ⋯ & ArrDelayMinutes & CarrierDelay & WeatherDelay & NASDelay & SecurityDelay & LateAircraftDelay & DepDelay & DepDelayMinutes & DivDistance & DivArrDelay\\\\\n <dbl> & <dbl> & <date> & <chr> & <chr> & <chr> & <chr> & <chr> & <chr> & <chr> & ⋯ & <dbl> & <dbl> & <dbl> & <dbl> & <dbl> & <dbl> & <dbl> & <dbl> & <dbl> & <dbl>\\\\\n\\hline\n\t  3 & 5 & 2003-03-28 & UA & LAX & JFK & 2210 & 0615 & 2209 & 0617 & ⋯ & 2 & NA & NA & NA & NA & NA & -1 & 0 & NA & NA\\\\\n\t 11 & 4 & 2018-11-29 & AS & LAX & JFK & 1045 & 1912 & 1049 & 1851 & ⋯ & 0 & NA & NA & NA & NA & NA &  4 & 4 & NA & NA\\\\\n\t  8 & 5 & 2015-08-28 & UA & LAX & JFK & 0805 & 1634 & 0757 & 1620 & ⋯ & 0 & NA & NA & NA & NA & NA & -8 & 0 & NA & NA\\\\\n\t  4 & 7 & 2003-04-20 & DL & LAX & JFK & 2205 & 0619 & 2212 & 0616 & ⋯ & 0 & NA & NA & NA & NA & NA &  7 & 7 & NA & NA\\\\\n\t 11 & 3 & 2005-11-30 & UA & LAX & JFK & 0840 & 1653 & 0836 & 1640 & ⋯ & 0 & NA & NA & NA & NA & NA & -4 & 0 & NA & NA\\\\\n\t  4 & 1 & 1992-04-06 & UA & LAX & JFK & 1450 & 2308 & 1452 & 2248 & ⋯ & 0 & NA & NA & NA & NA & NA &  2 & 2 & NA & NA\\\\\n\\end{tabular}\n",
            "text/plain": [
              "  Month DayOfWeek FlightDate Reporting_Airline Origin Dest CRSDepTime\n",
              "1  3    5         2003-03-28 UA                LAX    JFK  2210      \n",
              "2 11    4         2018-11-29 AS                LAX    JFK  1045      \n",
              "3  8    5         2015-08-28 UA                LAX    JFK  0805      \n",
              "4  4    7         2003-04-20 DL                LAX    JFK  2205      \n",
              "5 11    3         2005-11-30 UA                LAX    JFK  0840      \n",
              "6  4    1         1992-04-06 UA                LAX    JFK  1450      \n",
              "  CRSArrTime DepTime ArrTime ⋯ ArrDelayMinutes CarrierDelay WeatherDelay\n",
              "1 0615       2209    0617    ⋯ 2               NA           NA          \n",
              "2 1912       1049    1851    ⋯ 0               NA           NA          \n",
              "3 1634       0757    1620    ⋯ 0               NA           NA          \n",
              "4 0619       2212    0616    ⋯ 0               NA           NA          \n",
              "5 1653       0836    1640    ⋯ 0               NA           NA          \n",
              "6 2308       1452    2248    ⋯ 0               NA           NA          \n",
              "  NASDelay SecurityDelay LateAircraftDelay DepDelay DepDelayMinutes DivDistance\n",
              "1 NA       NA            NA                -1       0               NA         \n",
              "2 NA       NA            NA                 4       4               NA         \n",
              "3 NA       NA            NA                -8       0               NA         \n",
              "4 NA       NA            NA                 7       7               NA         \n",
              "5 NA       NA            NA                -4       0               NA         \n",
              "6 NA       NA            NA                 2       2               NA         \n",
              "  DivArrDelay\n",
              "1 NA         \n",
              "2 NA         \n",
              "3 NA         \n",
              "4 NA         \n",
              "5 NA         \n",
              "6 NA         "
            ]
          },
          "metadata": {}
        }
      ]
    },
    {
      "cell_type": "markdown",
      "source": [
        "first identify the missing values\n"
      ],
      "metadata": {
        "id": "GB2LEPiRjpwm"
      }
    },
    {
      "cell_type": "code",
      "source": [
        "is.na(c(1, NA))        #> FALSE  TRUE\n",
        "is.na(paste(c(1, NA))) #> FALSE FALSE"
      ],
      "metadata": {
        "colab": {
          "base_uri": "https://localhost:8080/",
          "height": 52
        },
        "id": "xO9dtwQpjuIn",
        "outputId": "2ffff3ab-4c72-4109-a0a4-5a2ed516cc27"
      },
      "execution_count": null,
      "outputs": [
        {
          "output_type": "display_data",
          "data": {
            "text/html": [
              "<style>\n",
              ".list-inline {list-style: none; margin:0; padding: 0}\n",
              ".list-inline>li {display: inline-block}\n",
              ".list-inline>li:not(:last-child)::after {content: \"\\00b7\"; padding: 0 .5ex}\n",
              "</style>\n",
              "<ol class=list-inline><li>FALSE</li><li>TRUE</li></ol>\n"
            ],
            "text/markdown": "1. FALSE\n2. TRUE\n\n\n",
            "text/latex": "\\begin{enumerate*}\n\\item FALSE\n\\item TRUE\n\\end{enumerate*}\n",
            "text/plain": [
              "[1] FALSE  TRUE"
            ]
          },
          "metadata": {}
        },
        {
          "output_type": "display_data",
          "data": {
            "text/html": [
              "<style>\n",
              ".list-inline {list-style: none; margin:0; padding: 0}\n",
              ".list-inline>li {display: inline-block}\n",
              ".list-inline>li:not(:last-child)::after {content: \"\\00b7\"; padding: 0 .5ex}\n",
              "</style>\n",
              "<ol class=list-inline><li>FALSE</li><li>FALSE</li></ol>\n"
            ],
            "text/markdown": "1. FALSE\n2. FALSE\n\n\n",
            "text/latex": "\\begin{enumerate*}\n\\item FALSE\n\\item FALSE\n\\end{enumerate*}\n",
            "text/plain": [
              "[1] FALSE FALSE"
            ]
          },
          "metadata": {}
        }
      ]
    },
    {
      "cell_type": "code",
      "source": [
        "anyNA(c(1, NA))"
      ],
      "metadata": {
        "colab": {
          "base_uri": "https://localhost:8080/",
          "height": 34
        },
        "id": "1kGKDwsWj0I9",
        "outputId": "3c105cf0-17a9-4d1a-ddb6-86c75cb4741d"
      },
      "execution_count": null,
      "outputs": [
        {
          "output_type": "display_data",
          "data": {
            "text/html": [
              "TRUE"
            ],
            "text/markdown": "TRUE",
            "text/latex": "TRUE",
            "text/plain": [
              "[1] TRUE"
            ]
          },
          "metadata": {}
        }
      ]
    },
    {
      "cell_type": "code",
      "source": [
        "# counting missing values\n",
        "sub_airline %>%\n",
        "  summarize(count = sum(is.na(CarrierDelay)))"
      ],
      "metadata": {
        "colab": {
          "base_uri": "https://localhost:8080/",
          "height": 147
        },
        "id": "lEfWAgPuj6pU",
        "outputId": "6bcf01e2-0020-4dc6-bca4-692ad9cb30b6"
      },
      "execution_count": null,
      "outputs": [
        {
          "output_type": "display_data",
          "data": {
            "text/html": [
              "<table class=\"dataframe\">\n",
              "<caption>A tibble: 1 × 1</caption>\n",
              "<thead>\n",
              "\t<tr><th scope=col>count</th></tr>\n",
              "\t<tr><th scope=col>&lt;int&gt;</th></tr>\n",
              "</thead>\n",
              "<tbody>\n",
              "\t<tr><td>2486</td></tr>\n",
              "</tbody>\n",
              "</table>\n"
            ],
            "text/markdown": "\nA tibble: 1 × 1\n\n| count &lt;int&gt; |\n|---|\n| 2486 |\n\n",
            "text/latex": "A tibble: 1 × 1\n\\begin{tabular}{l}\n count\\\\\n <int>\\\\\n\\hline\n\t 2486\\\\\n\\end{tabular}\n",
            "text/plain": [
              "  count\n",
              "1 2486 "
            ]
          },
          "metadata": {}
        }
      ]
    },
    {
      "cell_type": "code",
      "source": [
        "map(sub_airline, ~sum(is.na(.)))"
      ],
      "metadata": {
        "colab": {
          "base_uri": "https://localhost:8080/",
          "height": 774
        },
        "id": "0xQB1KpZkDXs",
        "outputId": "91470dff-773f-452c-da8e-a8bc17a43674"
      },
      "execution_count": null,
      "outputs": [
        {
          "output_type": "display_data",
          "data": {
            "text/html": [
              "<dl>\n",
              "\t<dt>$Month</dt>\n",
              "\t\t<dd>0</dd>\n",
              "\t<dt>$DayOfWeek</dt>\n",
              "\t\t<dd>0</dd>\n",
              "\t<dt>$FlightDate</dt>\n",
              "\t\t<dd>0</dd>\n",
              "\t<dt>$Reporting_Airline</dt>\n",
              "\t\t<dd>0</dd>\n",
              "\t<dt>$Origin</dt>\n",
              "\t\t<dd>0</dd>\n",
              "\t<dt>$Dest</dt>\n",
              "\t\t<dd>0</dd>\n",
              "\t<dt>$CRSDepTime</dt>\n",
              "\t\t<dd>0</dd>\n",
              "\t<dt>$CRSArrTime</dt>\n",
              "\t\t<dd>0</dd>\n",
              "\t<dt>$DepTime</dt>\n",
              "\t\t<dd>0</dd>\n",
              "\t<dt>$ArrTime</dt>\n",
              "\t\t<dd>0</dd>\n",
              "\t<dt>$ArrDelay</dt>\n",
              "\t\t<dd>0</dd>\n",
              "\t<dt>$ArrDelayMinutes</dt>\n",
              "\t\t<dd>0</dd>\n",
              "\t<dt>$CarrierDelay</dt>\n",
              "\t\t<dd>2486</dd>\n",
              "\t<dt>$WeatherDelay</dt>\n",
              "\t\t<dd>2486</dd>\n",
              "\t<dt>$NASDelay</dt>\n",
              "\t\t<dd>2486</dd>\n",
              "\t<dt>$SecurityDelay</dt>\n",
              "\t\t<dd>2486</dd>\n",
              "\t<dt>$LateAircraftDelay</dt>\n",
              "\t\t<dd>2486</dd>\n",
              "\t<dt>$DepDelay</dt>\n",
              "\t\t<dd>0</dd>\n",
              "\t<dt>$DepDelayMinutes</dt>\n",
              "\t\t<dd>0</dd>\n",
              "\t<dt>$DivDistance</dt>\n",
              "\t\t<dd>2855</dd>\n",
              "\t<dt>$DivArrDelay</dt>\n",
              "\t\t<dd>2855</dd>\n",
              "</dl>\n"
            ],
            "text/markdown": "$Month\n:   0\n$DayOfWeek\n:   0\n$FlightDate\n:   0\n$Reporting_Airline\n:   0\n$Origin\n:   0\n$Dest\n:   0\n$CRSDepTime\n:   0\n$CRSArrTime\n:   0\n$DepTime\n:   0\n$ArrTime\n:   0\n$ArrDelay\n:   0\n$ArrDelayMinutes\n:   0\n$CarrierDelay\n:   2486\n$WeatherDelay\n:   2486\n$NASDelay\n:   2486\n$SecurityDelay\n:   2486\n$LateAircraftDelay\n:   2486\n$DepDelay\n:   0\n$DepDelayMinutes\n:   0\n$DivDistance\n:   2855\n$DivArrDelay\n:   2855\n\n\n",
            "text/latex": "\\begin{description}\n\\item[\\$Month] 0\n\\item[\\$DayOfWeek] 0\n\\item[\\$FlightDate] 0\n\\item[\\$Reporting\\_Airline] 0\n\\item[\\$Origin] 0\n\\item[\\$Dest] 0\n\\item[\\$CRSDepTime] 0\n\\item[\\$CRSArrTime] 0\n\\item[\\$DepTime] 0\n\\item[\\$ArrTime] 0\n\\item[\\$ArrDelay] 0\n\\item[\\$ArrDelayMinutes] 0\n\\item[\\$CarrierDelay] 2486\n\\item[\\$WeatherDelay] 2486\n\\item[\\$NASDelay] 2486\n\\item[\\$SecurityDelay] 2486\n\\item[\\$LateAircraftDelay] 2486\n\\item[\\$DepDelay] 0\n\\item[\\$DepDelayMinutes] 0\n\\item[\\$DivDistance] 2855\n\\item[\\$DivArrDelay] 2855\n\\end{description}\n",
            "text/plain": [
              "$Month\n",
              "[1] 0\n",
              "\n",
              "$DayOfWeek\n",
              "[1] 0\n",
              "\n",
              "$FlightDate\n",
              "[1] 0\n",
              "\n",
              "$Reporting_Airline\n",
              "[1] 0\n",
              "\n",
              "$Origin\n",
              "[1] 0\n",
              "\n",
              "$Dest\n",
              "[1] 0\n",
              "\n",
              "$CRSDepTime\n",
              "[1] 0\n",
              "\n",
              "$CRSArrTime\n",
              "[1] 0\n",
              "\n",
              "$DepTime\n",
              "[1] 0\n",
              "\n",
              "$ArrTime\n",
              "[1] 0\n",
              "\n",
              "$ArrDelay\n",
              "[1] 0\n",
              "\n",
              "$ArrDelayMinutes\n",
              "[1] 0\n",
              "\n",
              "$CarrierDelay\n",
              "[1] 2486\n",
              "\n",
              "$WeatherDelay\n",
              "[1] 2486\n",
              "\n",
              "$NASDelay\n",
              "[1] 2486\n",
              "\n",
              "$SecurityDelay\n",
              "[1] 2486\n",
              "\n",
              "$LateAircraftDelay\n",
              "[1] 2486\n",
              "\n",
              "$DepDelay\n",
              "[1] 0\n",
              "\n",
              "$DepDelayMinutes\n",
              "[1] 0\n",
              "\n",
              "$DivDistance\n",
              "[1] 2855\n",
              "\n",
              "$DivArrDelay\n",
              "[1] 2855\n"
            ]
          },
          "metadata": {}
        }
      ]
    },
    {
      "cell_type": "code",
      "source": [
        "# Check dimensions of the dataset\n",
        "dim(sub_airline)"
      ],
      "metadata": {
        "colab": {
          "base_uri": "https://localhost:8080/",
          "height": 34
        },
        "id": "gY0HCXdAkI-5",
        "outputId": "6b3073ca-a3ec-41df-a0ec-360f7d04349e"
      },
      "execution_count": null,
      "outputs": [
        {
          "output_type": "display_data",
          "data": {
            "text/html": [
              "<style>\n",
              ".list-inline {list-style: none; margin:0; padding: 0}\n",
              ".list-inline>li {display: inline-block}\n",
              ".list-inline>li:not(:last-child)::after {content: \"\\00b7\"; padding: 0 .5ex}\n",
              "</style>\n",
              "<ol class=list-inline><li>2855</li><li>21</li></ol>\n"
            ],
            "text/markdown": "1. 2855\n2. 21\n\n\n",
            "text/latex": "\\begin{enumerate*}\n\\item 2855\n\\item 21\n\\end{enumerate*}\n",
            "text/plain": [
              "[1] 2855   21"
            ]
          },
          "metadata": {}
        }
      ]
    },
    {
      "cell_type": "markdown",
      "source": [
        "DROPPING COLOMNS\n"
      ],
      "metadata": {
        "id": "LH9P5ZudmrMK"
      }
    },
    {
      "cell_type": "code",
      "source": [
        "drop_na_cols <- sub_airline %>% select(-DivDistance, -DivArrDelay)\n",
        "dim(drop_na_cols)\n",
        "head(drop_na_cols)"
      ],
      "metadata": {
        "colab": {
          "base_uri": "https://localhost:8080/",
          "height": 324
        },
        "id": "4gtGCesSmhdn",
        "outputId": "9f48d73e-e0b5-4caa-be11-056d47ca834e"
      },
      "execution_count": null,
      "outputs": [
        {
          "output_type": "display_data",
          "data": {
            "text/html": [
              "<style>\n",
              ".list-inline {list-style: none; margin:0; padding: 0}\n",
              ".list-inline>li {display: inline-block}\n",
              ".list-inline>li:not(:last-child)::after {content: \"\\00b7\"; padding: 0 .5ex}\n",
              "</style>\n",
              "<ol class=list-inline><li>2855</li><li>19</li></ol>\n"
            ],
            "text/markdown": "1. 2855\n2. 19\n\n\n",
            "text/latex": "\\begin{enumerate*}\n\\item 2855\n\\item 19\n\\end{enumerate*}\n",
            "text/plain": [
              "[1] 2855   19"
            ]
          },
          "metadata": {}
        },
        {
          "output_type": "display_data",
          "data": {
            "text/html": [
              "<table class=\"dataframe\">\n",
              "<caption>A tibble: 6 × 19</caption>\n",
              "<thead>\n",
              "\t<tr><th scope=col>Month</th><th scope=col>DayOfWeek</th><th scope=col>FlightDate</th><th scope=col>Reporting_Airline</th><th scope=col>Origin</th><th scope=col>Dest</th><th scope=col>CRSDepTime</th><th scope=col>CRSArrTime</th><th scope=col>DepTime</th><th scope=col>ArrTime</th><th scope=col>ArrDelay</th><th scope=col>ArrDelayMinutes</th><th scope=col>CarrierDelay</th><th scope=col>WeatherDelay</th><th scope=col>NASDelay</th><th scope=col>SecurityDelay</th><th scope=col>LateAircraftDelay</th><th scope=col>DepDelay</th><th scope=col>DepDelayMinutes</th></tr>\n",
              "\t<tr><th scope=col>&lt;dbl&gt;</th><th scope=col>&lt;dbl&gt;</th><th scope=col>&lt;date&gt;</th><th scope=col>&lt;chr&gt;</th><th scope=col>&lt;chr&gt;</th><th scope=col>&lt;chr&gt;</th><th scope=col>&lt;chr&gt;</th><th scope=col>&lt;chr&gt;</th><th scope=col>&lt;chr&gt;</th><th scope=col>&lt;chr&gt;</th><th scope=col>&lt;dbl&gt;</th><th scope=col>&lt;dbl&gt;</th><th scope=col>&lt;dbl&gt;</th><th scope=col>&lt;dbl&gt;</th><th scope=col>&lt;dbl&gt;</th><th scope=col>&lt;dbl&gt;</th><th scope=col>&lt;dbl&gt;</th><th scope=col>&lt;dbl&gt;</th><th scope=col>&lt;dbl&gt;</th></tr>\n",
              "</thead>\n",
              "<tbody>\n",
              "\t<tr><td> 3</td><td>5</td><td>2003-03-28</td><td>UA</td><td>LAX</td><td>JFK</td><td>2210</td><td>0615</td><td>2209</td><td>0617</td><td>  2</td><td>2</td><td>NA</td><td>NA</td><td>NA</td><td>NA</td><td>NA</td><td>-1</td><td>0</td></tr>\n",
              "\t<tr><td>11</td><td>4</td><td>2018-11-29</td><td>AS</td><td>LAX</td><td>JFK</td><td>1045</td><td>1912</td><td>1049</td><td>1851</td><td>-21</td><td>0</td><td>NA</td><td>NA</td><td>NA</td><td>NA</td><td>NA</td><td> 4</td><td>4</td></tr>\n",
              "\t<tr><td> 8</td><td>5</td><td>2015-08-28</td><td>UA</td><td>LAX</td><td>JFK</td><td>0805</td><td>1634</td><td>0757</td><td>1620</td><td>-14</td><td>0</td><td>NA</td><td>NA</td><td>NA</td><td>NA</td><td>NA</td><td>-8</td><td>0</td></tr>\n",
              "\t<tr><td> 4</td><td>7</td><td>2003-04-20</td><td>DL</td><td>LAX</td><td>JFK</td><td>2205</td><td>0619</td><td>2212</td><td>0616</td><td> -3</td><td>0</td><td>NA</td><td>NA</td><td>NA</td><td>NA</td><td>NA</td><td> 7</td><td>7</td></tr>\n",
              "\t<tr><td>11</td><td>3</td><td>2005-11-30</td><td>UA</td><td>LAX</td><td>JFK</td><td>0840</td><td>1653</td><td>0836</td><td>1640</td><td>-13</td><td>0</td><td>NA</td><td>NA</td><td>NA</td><td>NA</td><td>NA</td><td>-4</td><td>0</td></tr>\n",
              "\t<tr><td> 4</td><td>1</td><td>1992-04-06</td><td>UA</td><td>LAX</td><td>JFK</td><td>1450</td><td>2308</td><td>1452</td><td>2248</td><td>-20</td><td>0</td><td>NA</td><td>NA</td><td>NA</td><td>NA</td><td>NA</td><td> 2</td><td>2</td></tr>\n",
              "</tbody>\n",
              "</table>\n"
            ],
            "text/markdown": "\nA tibble: 6 × 19\n\n| Month &lt;dbl&gt; | DayOfWeek &lt;dbl&gt; | FlightDate &lt;date&gt; | Reporting_Airline &lt;chr&gt; | Origin &lt;chr&gt; | Dest &lt;chr&gt; | CRSDepTime &lt;chr&gt; | CRSArrTime &lt;chr&gt; | DepTime &lt;chr&gt; | ArrTime &lt;chr&gt; | ArrDelay &lt;dbl&gt; | ArrDelayMinutes &lt;dbl&gt; | CarrierDelay &lt;dbl&gt; | WeatherDelay &lt;dbl&gt; | NASDelay &lt;dbl&gt; | SecurityDelay &lt;dbl&gt; | LateAircraftDelay &lt;dbl&gt; | DepDelay &lt;dbl&gt; | DepDelayMinutes &lt;dbl&gt; |\n|---|---|---|---|---|---|---|---|---|---|---|---|---|---|---|---|---|---|---|\n|  3 | 5 | 2003-03-28 | UA | LAX | JFK | 2210 | 0615 | 2209 | 0617 |   2 | 2 | NA | NA | NA | NA | NA | -1 | 0 |\n| 11 | 4 | 2018-11-29 | AS | LAX | JFK | 1045 | 1912 | 1049 | 1851 | -21 | 0 | NA | NA | NA | NA | NA |  4 | 4 |\n|  8 | 5 | 2015-08-28 | UA | LAX | JFK | 0805 | 1634 | 0757 | 1620 | -14 | 0 | NA | NA | NA | NA | NA | -8 | 0 |\n|  4 | 7 | 2003-04-20 | DL | LAX | JFK | 2205 | 0619 | 2212 | 0616 |  -3 | 0 | NA | NA | NA | NA | NA |  7 | 7 |\n| 11 | 3 | 2005-11-30 | UA | LAX | JFK | 0840 | 1653 | 0836 | 1640 | -13 | 0 | NA | NA | NA | NA | NA | -4 | 0 |\n|  4 | 1 | 1992-04-06 | UA | LAX | JFK | 1450 | 2308 | 1452 | 2248 | -20 | 0 | NA | NA | NA | NA | NA |  2 | 2 |\n\n",
            "text/latex": "A tibble: 6 × 19\n\\begin{tabular}{lllllllllllllllllll}\n Month & DayOfWeek & FlightDate & Reporting\\_Airline & Origin & Dest & CRSDepTime & CRSArrTime & DepTime & ArrTime & ArrDelay & ArrDelayMinutes & CarrierDelay & WeatherDelay & NASDelay & SecurityDelay & LateAircraftDelay & DepDelay & DepDelayMinutes\\\\\n <dbl> & <dbl> & <date> & <chr> & <chr> & <chr> & <chr> & <chr> & <chr> & <chr> & <dbl> & <dbl> & <dbl> & <dbl> & <dbl> & <dbl> & <dbl> & <dbl> & <dbl>\\\\\n\\hline\n\t  3 & 5 & 2003-03-28 & UA & LAX & JFK & 2210 & 0615 & 2209 & 0617 &   2 & 2 & NA & NA & NA & NA & NA & -1 & 0\\\\\n\t 11 & 4 & 2018-11-29 & AS & LAX & JFK & 1045 & 1912 & 1049 & 1851 & -21 & 0 & NA & NA & NA & NA & NA &  4 & 4\\\\\n\t  8 & 5 & 2015-08-28 & UA & LAX & JFK & 0805 & 1634 & 0757 & 1620 & -14 & 0 & NA & NA & NA & NA & NA & -8 & 0\\\\\n\t  4 & 7 & 2003-04-20 & DL & LAX & JFK & 2205 & 0619 & 2212 & 0616 &  -3 & 0 & NA & NA & NA & NA & NA &  7 & 7\\\\\n\t 11 & 3 & 2005-11-30 & UA & LAX & JFK & 0840 & 1653 & 0836 & 1640 & -13 & 0 & NA & NA & NA & NA & NA & -4 & 0\\\\\n\t  4 & 1 & 1992-04-06 & UA & LAX & JFK & 1450 & 2308 & 1452 & 2248 & -20 & 0 & NA & NA & NA & NA & NA &  2 & 2\\\\\n\\end{tabular}\n",
            "text/plain": [
              "  Month DayOfWeek FlightDate Reporting_Airline Origin Dest CRSDepTime\n",
              "1  3    5         2003-03-28 UA                LAX    JFK  2210      \n",
              "2 11    4         2018-11-29 AS                LAX    JFK  1045      \n",
              "3  8    5         2015-08-28 UA                LAX    JFK  0805      \n",
              "4  4    7         2003-04-20 DL                LAX    JFK  2205      \n",
              "5 11    3         2005-11-30 UA                LAX    JFK  0840      \n",
              "6  4    1         1992-04-06 UA                LAX    JFK  1450      \n",
              "  CRSArrTime DepTime ArrTime ArrDelay ArrDelayMinutes CarrierDelay WeatherDelay\n",
              "1 0615       2209    0617      2      2               NA           NA          \n",
              "2 1912       1049    1851    -21      0               NA           NA          \n",
              "3 1634       0757    1620    -14      0               NA           NA          \n",
              "4 0619       2212    0616     -3      0               NA           NA          \n",
              "5 1653       0836    1640    -13      0               NA           NA          \n",
              "6 2308       1452    2248    -20      0               NA           NA          \n",
              "  NASDelay SecurityDelay LateAircraftDelay DepDelay DepDelayMinutes\n",
              "1 NA       NA            NA                -1       0              \n",
              "2 NA       NA            NA                 4       4              \n",
              "3 NA       NA            NA                -8       0              \n",
              "4 NA       NA            NA                 7       7              \n",
              "5 NA       NA            NA                -4       0              \n",
              "6 NA       NA            NA                 2       2              "
            ]
          },
          "metadata": {}
        }
      ]
    },
    {
      "cell_type": "markdown",
      "source": [
        "DROPPING ROWS\n"
      ],
      "metadata": {
        "id": "EdJuHbAlmwkn"
      }
    },
    {
      "cell_type": "code",
      "source": [
        "# Drop the missing values\n",
        "drop_na_rows <- drop_na_cols %>% drop_na(CarrierDelay)\n",
        "dim(drop_na_rows)\n",
        "head(drop_na_rows)"
      ],
      "metadata": {
        "colab": {
          "base_uri": "https://localhost:8080/",
          "height": 324
        },
        "id": "vZABJ_d5mz--",
        "outputId": "ad517890-06f3-4824-f826-ce50aaf7273b"
      },
      "execution_count": null,
      "outputs": [
        {
          "output_type": "display_data",
          "data": {
            "text/html": [
              "<style>\n",
              ".list-inline {list-style: none; margin:0; padding: 0}\n",
              ".list-inline>li {display: inline-block}\n",
              ".list-inline>li:not(:last-child)::after {content: \"\\00b7\"; padding: 0 .5ex}\n",
              "</style>\n",
              "<ol class=list-inline><li>369</li><li>19</li></ol>\n"
            ],
            "text/markdown": "1. 369\n2. 19\n\n\n",
            "text/latex": "\\begin{enumerate*}\n\\item 369\n\\item 19\n\\end{enumerate*}\n",
            "text/plain": [
              "[1] 369  19"
            ]
          },
          "metadata": {}
        },
        {
          "output_type": "display_data",
          "data": {
            "text/html": [
              "<table class=\"dataframe\">\n",
              "<caption>A tibble: 6 × 19</caption>\n",
              "<thead>\n",
              "\t<tr><th scope=col>Month</th><th scope=col>DayOfWeek</th><th scope=col>FlightDate</th><th scope=col>Reporting_Airline</th><th scope=col>Origin</th><th scope=col>Dest</th><th scope=col>CRSDepTime</th><th scope=col>CRSArrTime</th><th scope=col>DepTime</th><th scope=col>ArrTime</th><th scope=col>ArrDelay</th><th scope=col>ArrDelayMinutes</th><th scope=col>CarrierDelay</th><th scope=col>WeatherDelay</th><th scope=col>NASDelay</th><th scope=col>SecurityDelay</th><th scope=col>LateAircraftDelay</th><th scope=col>DepDelay</th><th scope=col>DepDelayMinutes</th></tr>\n",
              "\t<tr><th scope=col>&lt;dbl&gt;</th><th scope=col>&lt;dbl&gt;</th><th scope=col>&lt;date&gt;</th><th scope=col>&lt;chr&gt;</th><th scope=col>&lt;chr&gt;</th><th scope=col>&lt;chr&gt;</th><th scope=col>&lt;chr&gt;</th><th scope=col>&lt;chr&gt;</th><th scope=col>&lt;chr&gt;</th><th scope=col>&lt;chr&gt;</th><th scope=col>&lt;dbl&gt;</th><th scope=col>&lt;dbl&gt;</th><th scope=col>&lt;dbl&gt;</th><th scope=col>&lt;dbl&gt;</th><th scope=col>&lt;dbl&gt;</th><th scope=col>&lt;dbl&gt;</th><th scope=col>&lt;dbl&gt;</th><th scope=col>&lt;dbl&gt;</th><th scope=col>&lt;dbl&gt;</th></tr>\n",
              "</thead>\n",
              "<tbody>\n",
              "\t<tr><td> 8</td><td>5</td><td>2018-08-03</td><td>B6</td><td>LAX</td><td>JFK</td><td>0013</td><td>0839</td><td>0034</td><td>0913</td><td>34</td><td>34</td><td>11</td><td>0</td><td>23</td><td>0</td><td> 0</td><td>21</td><td>21</td></tr>\n",
              "\t<tr><td> 6</td><td>4</td><td>2006-06-01</td><td>AA</td><td>LAX</td><td>JFK</td><td>1515</td><td>2332</td><td>1507</td><td>2353</td><td>21</td><td>21</td><td> 0</td><td>0</td><td>21</td><td>0</td><td> 0</td><td>-8</td><td> 0</td></tr>\n",
              "\t<tr><td> 1</td><td>7</td><td>2007-01-28</td><td>UA</td><td>LAX</td><td>JFK</td><td>0845</td><td>1656</td><td>0838</td><td>1713</td><td>17</td><td>17</td><td> 0</td><td>0</td><td>17</td><td>0</td><td> 0</td><td>-7</td><td> 0</td></tr>\n",
              "\t<tr><td> 6</td><td>5</td><td>2013-06-28</td><td>AA</td><td>LAX</td><td>JFK</td><td>1200</td><td>2045</td><td>1328</td><td>2220</td><td>95</td><td>95</td><td> 5</td><td>0</td><td> 7</td><td>0</td><td>83</td><td>88</td><td>88</td></tr>\n",
              "\t<tr><td> 9</td><td>1</td><td>2010-09-27</td><td>DL</td><td>LAX</td><td>JFK</td><td>1330</td><td>2208</td><td>1426</td><td>2316</td><td>68</td><td>68</td><td> 0</td><td>0</td><td>68</td><td>0</td><td> 0</td><td>56</td><td>56</td></tr>\n",
              "\t<tr><td>10</td><td>3</td><td>2005-10-12</td><td>AA</td><td>LAX</td><td>JFK</td><td>0930</td><td>1755</td><td>0958</td><td>1823</td><td>28</td><td>28</td><td> 0</td><td>0</td><td>28</td><td>0</td><td> 0</td><td>28</td><td>28</td></tr>\n",
              "</tbody>\n",
              "</table>\n"
            ],
            "text/markdown": "\nA tibble: 6 × 19\n\n| Month &lt;dbl&gt; | DayOfWeek &lt;dbl&gt; | FlightDate &lt;date&gt; | Reporting_Airline &lt;chr&gt; | Origin &lt;chr&gt; | Dest &lt;chr&gt; | CRSDepTime &lt;chr&gt; | CRSArrTime &lt;chr&gt; | DepTime &lt;chr&gt; | ArrTime &lt;chr&gt; | ArrDelay &lt;dbl&gt; | ArrDelayMinutes &lt;dbl&gt; | CarrierDelay &lt;dbl&gt; | WeatherDelay &lt;dbl&gt; | NASDelay &lt;dbl&gt; | SecurityDelay &lt;dbl&gt; | LateAircraftDelay &lt;dbl&gt; | DepDelay &lt;dbl&gt; | DepDelayMinutes &lt;dbl&gt; |\n|---|---|---|---|---|---|---|---|---|---|---|---|---|---|---|---|---|---|---|\n|  8 | 5 | 2018-08-03 | B6 | LAX | JFK | 0013 | 0839 | 0034 | 0913 | 34 | 34 | 11 | 0 | 23 | 0 |  0 | 21 | 21 |\n|  6 | 4 | 2006-06-01 | AA | LAX | JFK | 1515 | 2332 | 1507 | 2353 | 21 | 21 |  0 | 0 | 21 | 0 |  0 | -8 |  0 |\n|  1 | 7 | 2007-01-28 | UA | LAX | JFK | 0845 | 1656 | 0838 | 1713 | 17 | 17 |  0 | 0 | 17 | 0 |  0 | -7 |  0 |\n|  6 | 5 | 2013-06-28 | AA | LAX | JFK | 1200 | 2045 | 1328 | 2220 | 95 | 95 |  5 | 0 |  7 | 0 | 83 | 88 | 88 |\n|  9 | 1 | 2010-09-27 | DL | LAX | JFK | 1330 | 2208 | 1426 | 2316 | 68 | 68 |  0 | 0 | 68 | 0 |  0 | 56 | 56 |\n| 10 | 3 | 2005-10-12 | AA | LAX | JFK | 0930 | 1755 | 0958 | 1823 | 28 | 28 |  0 | 0 | 28 | 0 |  0 | 28 | 28 |\n\n",
            "text/latex": "A tibble: 6 × 19\n\\begin{tabular}{lllllllllllllllllll}\n Month & DayOfWeek & FlightDate & Reporting\\_Airline & Origin & Dest & CRSDepTime & CRSArrTime & DepTime & ArrTime & ArrDelay & ArrDelayMinutes & CarrierDelay & WeatherDelay & NASDelay & SecurityDelay & LateAircraftDelay & DepDelay & DepDelayMinutes\\\\\n <dbl> & <dbl> & <date> & <chr> & <chr> & <chr> & <chr> & <chr> & <chr> & <chr> & <dbl> & <dbl> & <dbl> & <dbl> & <dbl> & <dbl> & <dbl> & <dbl> & <dbl>\\\\\n\\hline\n\t  8 & 5 & 2018-08-03 & B6 & LAX & JFK & 0013 & 0839 & 0034 & 0913 & 34 & 34 & 11 & 0 & 23 & 0 &  0 & 21 & 21\\\\\n\t  6 & 4 & 2006-06-01 & AA & LAX & JFK & 1515 & 2332 & 1507 & 2353 & 21 & 21 &  0 & 0 & 21 & 0 &  0 & -8 &  0\\\\\n\t  1 & 7 & 2007-01-28 & UA & LAX & JFK & 0845 & 1656 & 0838 & 1713 & 17 & 17 &  0 & 0 & 17 & 0 &  0 & -7 &  0\\\\\n\t  6 & 5 & 2013-06-28 & AA & LAX & JFK & 1200 & 2045 & 1328 & 2220 & 95 & 95 &  5 & 0 &  7 & 0 & 83 & 88 & 88\\\\\n\t  9 & 1 & 2010-09-27 & DL & LAX & JFK & 1330 & 2208 & 1426 & 2316 & 68 & 68 &  0 & 0 & 68 & 0 &  0 & 56 & 56\\\\\n\t 10 & 3 & 2005-10-12 & AA & LAX & JFK & 0930 & 1755 & 0958 & 1823 & 28 & 28 &  0 & 0 & 28 & 0 &  0 & 28 & 28\\\\\n\\end{tabular}\n",
            "text/plain": [
              "  Month DayOfWeek FlightDate Reporting_Airline Origin Dest CRSDepTime\n",
              "1  8    5         2018-08-03 B6                LAX    JFK  0013      \n",
              "2  6    4         2006-06-01 AA                LAX    JFK  1515      \n",
              "3  1    7         2007-01-28 UA                LAX    JFK  0845      \n",
              "4  6    5         2013-06-28 AA                LAX    JFK  1200      \n",
              "5  9    1         2010-09-27 DL                LAX    JFK  1330      \n",
              "6 10    3         2005-10-12 AA                LAX    JFK  0930      \n",
              "  CRSArrTime DepTime ArrTime ArrDelay ArrDelayMinutes CarrierDelay WeatherDelay\n",
              "1 0839       0034    0913    34       34              11           0           \n",
              "2 2332       1507    2353    21       21               0           0           \n",
              "3 1656       0838    1713    17       17               0           0           \n",
              "4 2045       1328    2220    95       95               5           0           \n",
              "5 2208       1426    2316    68       68               0           0           \n",
              "6 1755       0958    1823    28       28               0           0           \n",
              "  NASDelay SecurityDelay LateAircraftDelay DepDelay DepDelayMinutes\n",
              "1 23       0              0                21       21             \n",
              "2 21       0              0                -8        0             \n",
              "3 17       0              0                -7        0             \n",
              "4  7       0             83                88       88             \n",
              "5 68       0              0                56       56             \n",
              "6 28       0              0                28       28             "
            ]
          },
          "metadata": {}
        }
      ]
    },
    {
      "cell_type": "markdown",
      "source": [
        "CONVERTING NA TO 0\n"
      ],
      "metadata": {
        "id": "QZmkCby2m_S2"
      }
    },
    {
      "cell_type": "code",
      "source": [
        "# Replace the missing values in five columns\n",
        "replace_na <- drop_na_rows %>% replace_na(list(CarrierDelay = 0,\n",
        "                                              WeatherDelay = 0,\n",
        "                                              NASDelay = 0,\n",
        "                                              SecurityDelay = 0,\n",
        "                                              LateAircraftDelay = 0))\n",
        "head(replace_na)"
      ],
      "metadata": {
        "colab": {
          "base_uri": "https://localhost:8080/",
          "height": 306
        },
        "id": "qoO3aDTTnDCb",
        "outputId": "6defb12c-5e75-4fe9-d272-16a471e4b629"
      },
      "execution_count": null,
      "outputs": [
        {
          "output_type": "display_data",
          "data": {
            "text/html": [
              "<table class=\"dataframe\">\n",
              "<caption>A tibble: 6 × 19</caption>\n",
              "<thead>\n",
              "\t<tr><th scope=col>Month</th><th scope=col>DayOfWeek</th><th scope=col>FlightDate</th><th scope=col>Reporting_Airline</th><th scope=col>Origin</th><th scope=col>Dest</th><th scope=col>CRSDepTime</th><th scope=col>CRSArrTime</th><th scope=col>DepTime</th><th scope=col>ArrTime</th><th scope=col>ArrDelay</th><th scope=col>ArrDelayMinutes</th><th scope=col>CarrierDelay</th><th scope=col>WeatherDelay</th><th scope=col>NASDelay</th><th scope=col>SecurityDelay</th><th scope=col>LateAircraftDelay</th><th scope=col>DepDelay</th><th scope=col>DepDelayMinutes</th></tr>\n",
              "\t<tr><th scope=col>&lt;dbl&gt;</th><th scope=col>&lt;dbl&gt;</th><th scope=col>&lt;date&gt;</th><th scope=col>&lt;chr&gt;</th><th scope=col>&lt;chr&gt;</th><th scope=col>&lt;chr&gt;</th><th scope=col>&lt;chr&gt;</th><th scope=col>&lt;chr&gt;</th><th scope=col>&lt;chr&gt;</th><th scope=col>&lt;chr&gt;</th><th scope=col>&lt;dbl&gt;</th><th scope=col>&lt;dbl&gt;</th><th scope=col>&lt;dbl&gt;</th><th scope=col>&lt;dbl&gt;</th><th scope=col>&lt;dbl&gt;</th><th scope=col>&lt;dbl&gt;</th><th scope=col>&lt;dbl&gt;</th><th scope=col>&lt;dbl&gt;</th><th scope=col>&lt;dbl&gt;</th></tr>\n",
              "</thead>\n",
              "<tbody>\n",
              "\t<tr><td> 8</td><td>5</td><td>2018-08-03</td><td>B6</td><td>LAX</td><td>JFK</td><td>0013</td><td>0839</td><td>0034</td><td>0913</td><td>34</td><td>34</td><td>11</td><td>0</td><td>23</td><td>0</td><td> 0</td><td>21</td><td>21</td></tr>\n",
              "\t<tr><td> 6</td><td>4</td><td>2006-06-01</td><td>AA</td><td>LAX</td><td>JFK</td><td>1515</td><td>2332</td><td>1507</td><td>2353</td><td>21</td><td>21</td><td> 0</td><td>0</td><td>21</td><td>0</td><td> 0</td><td>-8</td><td> 0</td></tr>\n",
              "\t<tr><td> 1</td><td>7</td><td>2007-01-28</td><td>UA</td><td>LAX</td><td>JFK</td><td>0845</td><td>1656</td><td>0838</td><td>1713</td><td>17</td><td>17</td><td> 0</td><td>0</td><td>17</td><td>0</td><td> 0</td><td>-7</td><td> 0</td></tr>\n",
              "\t<tr><td> 6</td><td>5</td><td>2013-06-28</td><td>AA</td><td>LAX</td><td>JFK</td><td>1200</td><td>2045</td><td>1328</td><td>2220</td><td>95</td><td>95</td><td> 5</td><td>0</td><td> 7</td><td>0</td><td>83</td><td>88</td><td>88</td></tr>\n",
              "\t<tr><td> 9</td><td>1</td><td>2010-09-27</td><td>DL</td><td>LAX</td><td>JFK</td><td>1330</td><td>2208</td><td>1426</td><td>2316</td><td>68</td><td>68</td><td> 0</td><td>0</td><td>68</td><td>0</td><td> 0</td><td>56</td><td>56</td></tr>\n",
              "\t<tr><td>10</td><td>3</td><td>2005-10-12</td><td>AA</td><td>LAX</td><td>JFK</td><td>0930</td><td>1755</td><td>0958</td><td>1823</td><td>28</td><td>28</td><td> 0</td><td>0</td><td>28</td><td>0</td><td> 0</td><td>28</td><td>28</td></tr>\n",
              "</tbody>\n",
              "</table>\n"
            ],
            "text/markdown": "\nA tibble: 6 × 19\n\n| Month &lt;dbl&gt; | DayOfWeek &lt;dbl&gt; | FlightDate &lt;date&gt; | Reporting_Airline &lt;chr&gt; | Origin &lt;chr&gt; | Dest &lt;chr&gt; | CRSDepTime &lt;chr&gt; | CRSArrTime &lt;chr&gt; | DepTime &lt;chr&gt; | ArrTime &lt;chr&gt; | ArrDelay &lt;dbl&gt; | ArrDelayMinutes &lt;dbl&gt; | CarrierDelay &lt;dbl&gt; | WeatherDelay &lt;dbl&gt; | NASDelay &lt;dbl&gt; | SecurityDelay &lt;dbl&gt; | LateAircraftDelay &lt;dbl&gt; | DepDelay &lt;dbl&gt; | DepDelayMinutes &lt;dbl&gt; |\n|---|---|---|---|---|---|---|---|---|---|---|---|---|---|---|---|---|---|---|\n|  8 | 5 | 2018-08-03 | B6 | LAX | JFK | 0013 | 0839 | 0034 | 0913 | 34 | 34 | 11 | 0 | 23 | 0 |  0 | 21 | 21 |\n|  6 | 4 | 2006-06-01 | AA | LAX | JFK | 1515 | 2332 | 1507 | 2353 | 21 | 21 |  0 | 0 | 21 | 0 |  0 | -8 |  0 |\n|  1 | 7 | 2007-01-28 | UA | LAX | JFK | 0845 | 1656 | 0838 | 1713 | 17 | 17 |  0 | 0 | 17 | 0 |  0 | -7 |  0 |\n|  6 | 5 | 2013-06-28 | AA | LAX | JFK | 1200 | 2045 | 1328 | 2220 | 95 | 95 |  5 | 0 |  7 | 0 | 83 | 88 | 88 |\n|  9 | 1 | 2010-09-27 | DL | LAX | JFK | 1330 | 2208 | 1426 | 2316 | 68 | 68 |  0 | 0 | 68 | 0 |  0 | 56 | 56 |\n| 10 | 3 | 2005-10-12 | AA | LAX | JFK | 0930 | 1755 | 0958 | 1823 | 28 | 28 |  0 | 0 | 28 | 0 |  0 | 28 | 28 |\n\n",
            "text/latex": "A tibble: 6 × 19\n\\begin{tabular}{lllllllllllllllllll}\n Month & DayOfWeek & FlightDate & Reporting\\_Airline & Origin & Dest & CRSDepTime & CRSArrTime & DepTime & ArrTime & ArrDelay & ArrDelayMinutes & CarrierDelay & WeatherDelay & NASDelay & SecurityDelay & LateAircraftDelay & DepDelay & DepDelayMinutes\\\\\n <dbl> & <dbl> & <date> & <chr> & <chr> & <chr> & <chr> & <chr> & <chr> & <chr> & <dbl> & <dbl> & <dbl> & <dbl> & <dbl> & <dbl> & <dbl> & <dbl> & <dbl>\\\\\n\\hline\n\t  8 & 5 & 2018-08-03 & B6 & LAX & JFK & 0013 & 0839 & 0034 & 0913 & 34 & 34 & 11 & 0 & 23 & 0 &  0 & 21 & 21\\\\\n\t  6 & 4 & 2006-06-01 & AA & LAX & JFK & 1515 & 2332 & 1507 & 2353 & 21 & 21 &  0 & 0 & 21 & 0 &  0 & -8 &  0\\\\\n\t  1 & 7 & 2007-01-28 & UA & LAX & JFK & 0845 & 1656 & 0838 & 1713 & 17 & 17 &  0 & 0 & 17 & 0 &  0 & -7 &  0\\\\\n\t  6 & 5 & 2013-06-28 & AA & LAX & JFK & 1200 & 2045 & 1328 & 2220 & 95 & 95 &  5 & 0 &  7 & 0 & 83 & 88 & 88\\\\\n\t  9 & 1 & 2010-09-27 & DL & LAX & JFK & 1330 & 2208 & 1426 & 2316 & 68 & 68 &  0 & 0 & 68 & 0 &  0 & 56 & 56\\\\\n\t 10 & 3 & 2005-10-12 & AA & LAX & JFK & 0930 & 1755 & 0958 & 1823 & 28 & 28 &  0 & 0 & 28 & 0 &  0 & 28 & 28\\\\\n\\end{tabular}\n",
            "text/plain": [
              "  Month DayOfWeek FlightDate Reporting_Airline Origin Dest CRSDepTime\n",
              "1  8    5         2018-08-03 B6                LAX    JFK  0013      \n",
              "2  6    4         2006-06-01 AA                LAX    JFK  1515      \n",
              "3  1    7         2007-01-28 UA                LAX    JFK  0845      \n",
              "4  6    5         2013-06-28 AA                LAX    JFK  1200      \n",
              "5  9    1         2010-09-27 DL                LAX    JFK  1330      \n",
              "6 10    3         2005-10-12 AA                LAX    JFK  0930      \n",
              "  CRSArrTime DepTime ArrTime ArrDelay ArrDelayMinutes CarrierDelay WeatherDelay\n",
              "1 0839       0034    0913    34       34              11           0           \n",
              "2 2332       1507    2353    21       21               0           0           \n",
              "3 1656       0838    1713    17       17               0           0           \n",
              "4 2045       1328    2220    95       95               5           0           \n",
              "5 2208       1426    2316    68       68               0           0           \n",
              "6 1755       0958    1823    28       28               0           0           \n",
              "  NASDelay SecurityDelay LateAircraftDelay DepDelay DepDelayMinutes\n",
              "1 23       0              0                21       21             \n",
              "2 21       0              0                -8        0             \n",
              "3 17       0              0                -7        0             \n",
              "4  7       0             83                88       88             \n",
              "5 68       0              0                56       56             \n",
              "6 28       0              0                28       28             "
            ]
          },
          "metadata": {}
        }
      ]
    },
    {
      "cell_type": "markdown",
      "source": [
        "REPLACE NA TO MEAN VALUE"
      ],
      "metadata": {
        "id": "datIxFPBnQ2o"
      }
    },
    {
      "cell_type": "code",
      "source": [
        "# Calculate the mean vaule for \"CarrierDelay\" column\n",
        "carrier_mean <- mean(drop_na_rows$CarrierDelay)\n",
        "\n",
        "# Replace NA by mean value in \"CarrierDelay\" column\n",
        "sub_airline %>% replace_na(list(CarrierDelay = carrier_mean))"
      ],
      "metadata": {
        "colab": {
          "base_uri": "https://localhost:8080/",
          "height": 1000
        },
        "id": "qGWW-CbYnVHb",
        "outputId": "7046ec13-0d5e-4adb-a474-60461457d837"
      },
      "execution_count": null,
      "outputs": [
        {
          "output_type": "display_data",
          "data": {
            "text/html": [
              "<table class=\"dataframe\">\n",
              "<caption>A spec_tbl_df: 2855 × 21</caption>\n",
              "<thead>\n",
              "\t<tr><th scope=col>Month</th><th scope=col>DayOfWeek</th><th scope=col>FlightDate</th><th scope=col>Reporting_Airline</th><th scope=col>Origin</th><th scope=col>Dest</th><th scope=col>CRSDepTime</th><th scope=col>CRSArrTime</th><th scope=col>DepTime</th><th scope=col>ArrTime</th><th scope=col>⋯</th><th scope=col>ArrDelayMinutes</th><th scope=col>CarrierDelay</th><th scope=col>WeatherDelay</th><th scope=col>NASDelay</th><th scope=col>SecurityDelay</th><th scope=col>LateAircraftDelay</th><th scope=col>DepDelay</th><th scope=col>DepDelayMinutes</th><th scope=col>DivDistance</th><th scope=col>DivArrDelay</th></tr>\n",
              "\t<tr><th scope=col>&lt;dbl&gt;</th><th scope=col>&lt;dbl&gt;</th><th scope=col>&lt;date&gt;</th><th scope=col>&lt;chr&gt;</th><th scope=col>&lt;chr&gt;</th><th scope=col>&lt;chr&gt;</th><th scope=col>&lt;chr&gt;</th><th scope=col>&lt;chr&gt;</th><th scope=col>&lt;chr&gt;</th><th scope=col>&lt;chr&gt;</th><th scope=col>⋯</th><th scope=col>&lt;dbl&gt;</th><th scope=col>&lt;dbl&gt;</th><th scope=col>&lt;dbl&gt;</th><th scope=col>&lt;dbl&gt;</th><th scope=col>&lt;dbl&gt;</th><th scope=col>&lt;dbl&gt;</th><th scope=col>&lt;dbl&gt;</th><th scope=col>&lt;dbl&gt;</th><th scope=col>&lt;dbl&gt;</th><th scope=col>&lt;dbl&gt;</th></tr>\n",
              "</thead>\n",
              "<tbody>\n",
              "\t<tr><td> 3</td><td>5</td><td>2003-03-28</td><td>UA    </td><td>LAX</td><td>JFK</td><td>2210</td><td>0615</td><td>2209</td><td>0617</td><td>⋯</td><td>  2</td><td>18.04878</td><td>NA</td><td>NA</td><td>NA</td><td>NA</td><td> -1</td><td>  0</td><td>NA</td><td>NA</td></tr>\n",
              "\t<tr><td>11</td><td>4</td><td>2018-11-29</td><td>AS    </td><td>LAX</td><td>JFK</td><td>1045</td><td>1912</td><td>1049</td><td>1851</td><td>⋯</td><td>  0</td><td>18.04878</td><td>NA</td><td>NA</td><td>NA</td><td>NA</td><td>  4</td><td>  4</td><td>NA</td><td>NA</td></tr>\n",
              "\t<tr><td> 8</td><td>5</td><td>2015-08-28</td><td>UA    </td><td>LAX</td><td>JFK</td><td>0805</td><td>1634</td><td>0757</td><td>1620</td><td>⋯</td><td>  0</td><td>18.04878</td><td>NA</td><td>NA</td><td>NA</td><td>NA</td><td> -8</td><td>  0</td><td>NA</td><td>NA</td></tr>\n",
              "\t<tr><td> 4</td><td>7</td><td>2003-04-20</td><td>DL    </td><td>LAX</td><td>JFK</td><td>2205</td><td>0619</td><td>2212</td><td>0616</td><td>⋯</td><td>  0</td><td>18.04878</td><td>NA</td><td>NA</td><td>NA</td><td>NA</td><td>  7</td><td>  7</td><td>NA</td><td>NA</td></tr>\n",
              "\t<tr><td>11</td><td>3</td><td>2005-11-30</td><td>UA    </td><td>LAX</td><td>JFK</td><td>0840</td><td>1653</td><td>0836</td><td>1640</td><td>⋯</td><td>  0</td><td>18.04878</td><td>NA</td><td>NA</td><td>NA</td><td>NA</td><td> -4</td><td>  0</td><td>NA</td><td>NA</td></tr>\n",
              "\t<tr><td> 4</td><td>1</td><td>1992-04-06</td><td>UA    </td><td>LAX</td><td>JFK</td><td>1450</td><td>2308</td><td>1452</td><td>2248</td><td>⋯</td><td>  0</td><td>18.04878</td><td>NA</td><td>NA</td><td>NA</td><td>NA</td><td>  2</td><td>  2</td><td>NA</td><td>NA</td></tr>\n",
              "\t<tr><td>12</td><td>1</td><td>2012-12-03</td><td>VX    </td><td>LAX</td><td>JFK</td><td>1040</td><td>1900</td><td>1038</td><td>1901</td><td>⋯</td><td>  1</td><td>18.04878</td><td>NA</td><td>NA</td><td>NA</td><td>NA</td><td> -2</td><td>  0</td><td>NA</td><td>NA</td></tr>\n",
              "\t<tr><td>12</td><td>3</td><td>2004-12-01</td><td>HP    </td><td>LAX</td><td>JFK</td><td>2200</td><td>0613</td><td>2158</td><td>0533</td><td>⋯</td><td>  0</td><td>18.04878</td><td>NA</td><td>NA</td><td>NA</td><td>NA</td><td> -2</td><td>  0</td><td>NA</td><td>NA</td></tr>\n",
              "\t<tr><td> 2</td><td>4</td><td>1997-02-13</td><td>UA    </td><td>LAX</td><td>JFK</td><td>0800</td><td>1615</td><td>0802</td><td>1640</td><td>⋯</td><td> 25</td><td>18.04878</td><td>NA</td><td>NA</td><td>NA</td><td>NA</td><td>  2</td><td>  2</td><td>NA</td><td>NA</td></tr>\n",
              "\t<tr><td> 3</td><td>4</td><td>2016-03-10</td><td>DL    </td><td>LAX</td><td>JFK</td><td>2245</td><td>0712</td><td>2300</td><td>0719</td><td>⋯</td><td>  7</td><td>18.04878</td><td>NA</td><td>NA</td><td>NA</td><td>NA</td><td> 15</td><td> 15</td><td>NA</td><td>NA</td></tr>\n",
              "\t<tr><td>10</td><td>4</td><td>1999-10-14</td><td>AA    </td><td>LAX</td><td>JFK</td><td>2300</td><td>0717</td><td>2302</td><td>0722</td><td>⋯</td><td>  5</td><td>18.04878</td><td>NA</td><td>NA</td><td>NA</td><td>NA</td><td>  2</td><td>  2</td><td>NA</td><td>NA</td></tr>\n",
              "\t<tr><td> 8</td><td>5</td><td>2018-08-03</td><td>B6    </td><td>LAX</td><td>JFK</td><td>0013</td><td>0839</td><td>0034</td><td>0913</td><td>⋯</td><td> 34</td><td>11.00000</td><td> 0</td><td>23</td><td> 0</td><td> 0</td><td> 21</td><td> 21</td><td>NA</td><td>NA</td></tr>\n",
              "\t<tr><td> 6</td><td>4</td><td>2006-06-01</td><td>AA    </td><td>LAX</td><td>JFK</td><td>1515</td><td>2332</td><td>1507</td><td>2353</td><td>⋯</td><td> 21</td><td> 0.00000</td><td> 0</td><td>21</td><td> 0</td><td> 0</td><td> -8</td><td>  0</td><td>NA</td><td>NA</td></tr>\n",
              "\t<tr><td> 2</td><td>3</td><td>1999-02-03</td><td>AA    </td><td>LAX</td><td>JFK</td><td>0700</td><td>1508</td><td>0658</td><td>1448</td><td>⋯</td><td>  0</td><td>18.04878</td><td>NA</td><td>NA</td><td>NA</td><td>NA</td><td> -2</td><td>  0</td><td>NA</td><td>NA</td></tr>\n",
              "\t<tr><td> 8</td><td>7</td><td>1995-08-27</td><td>AA    </td><td>LAX</td><td>JFK</td><td>0900</td><td>1715</td><td>0859</td><td>1729</td><td>⋯</td><td> 14</td><td>18.04878</td><td>NA</td><td>NA</td><td>NA</td><td>NA</td><td> -1</td><td>  0</td><td>NA</td><td>NA</td></tr>\n",
              "\t<tr><td> 3</td><td>6</td><td>1990-03-31</td><td>PA (1)</td><td>LAX</td><td>JFK</td><td>0830</td><td>1640</td><td>1505</td><td>0402</td><td>⋯</td><td>682</td><td>18.04878</td><td>NA</td><td>NA</td><td>NA</td><td>NA</td><td>395</td><td>395</td><td>NA</td><td>NA</td></tr>\n",
              "\t<tr><td> 6</td><td>4</td><td>1996-06-13</td><td>AA    </td><td>LAX</td><td>JFK</td><td>0700</td><td>1507</td><td>0659</td><td>1511</td><td>⋯</td><td>  4</td><td>18.04878</td><td>NA</td><td>NA</td><td>NA</td><td>NA</td><td> -1</td><td>  0</td><td>NA</td><td>NA</td></tr>\n",
              "\t<tr><td> 7</td><td>4</td><td>2003-07-24</td><td>AA    </td><td>LAX</td><td>JFK</td><td>2315</td><td>0736</td><td>2311</td><td>0735</td><td>⋯</td><td>  0</td><td>18.04878</td><td>NA</td><td>NA</td><td>NA</td><td>NA</td><td> -4</td><td>  0</td><td>NA</td><td>NA</td></tr>\n",
              "\t<tr><td>12</td><td>5</td><td>2018-12-07</td><td>AS    </td><td>LAX</td><td>JFK</td><td>1530</td><td>2357</td><td>1511</td><td>2305</td><td>⋯</td><td>  0</td><td>18.04878</td><td>NA</td><td>NA</td><td>NA</td><td>NA</td><td>-19</td><td>  0</td><td>NA</td><td>NA</td></tr>\n",
              "\t<tr><td> 1</td><td>4</td><td>1996-01-25</td><td>DL    </td><td>LAX</td><td>JFK</td><td>2300</td><td>0703</td><td>2300</td><td>0641</td><td>⋯</td><td>  0</td><td>18.04878</td><td>NA</td><td>NA</td><td>NA</td><td>NA</td><td>  0</td><td>  0</td><td>NA</td><td>NA</td></tr>\n",
              "\t<tr><td> 7</td><td>2</td><td>1992-07-21</td><td>AA    </td><td>LAX</td><td>JFK</td><td>2300</td><td>0708</td><td>2259</td><td>0658</td><td>⋯</td><td>  0</td><td>18.04878</td><td>NA</td><td>NA</td><td>NA</td><td>NA</td><td> -1</td><td>  0</td><td>NA</td><td>NA</td></tr>\n",
              "\t<tr><td> 8</td><td>3</td><td>1990-08-29</td><td>TW    </td><td>LAX</td><td>JFK</td><td>1600</td><td>0003</td><td>1603</td><td>0015</td><td>⋯</td><td> 12</td><td>18.04878</td><td>NA</td><td>NA</td><td>NA</td><td>NA</td><td>  3</td><td>  3</td><td>NA</td><td>NA</td></tr>\n",
              "\t<tr><td> 4</td><td>1</td><td>2016-04-11</td><td>DL    </td><td>LAX</td><td>JFK</td><td>1255</td><td>2130</td><td>1248</td><td>2111</td><td>⋯</td><td>  0</td><td>18.04878</td><td>NA</td><td>NA</td><td>NA</td><td>NA</td><td> -7</td><td>  0</td><td>NA</td><td>NA</td></tr>\n",
              "\t<tr><td> 1</td><td>7</td><td>2007-01-28</td><td>UA    </td><td>LAX</td><td>JFK</td><td>0845</td><td>1656</td><td>0838</td><td>1713</td><td>⋯</td><td> 17</td><td> 0.00000</td><td> 0</td><td>17</td><td> 0</td><td> 0</td><td> -7</td><td>  0</td><td>NA</td><td>NA</td></tr>\n",
              "\t<tr><td> 1</td><td>2</td><td>2000-01-18</td><td>UA    </td><td>LAX</td><td>JFK</td><td>0800</td><td>1609</td><td>0812</td><td>1606</td><td>⋯</td><td>  0</td><td>18.04878</td><td>NA</td><td>NA</td><td>NA</td><td>NA</td><td> 12</td><td> 12</td><td>NA</td><td>NA</td></tr>\n",
              "\t<tr><td> 6</td><td>5</td><td>2013-06-28</td><td>AA    </td><td>LAX</td><td>JFK</td><td>1200</td><td>2045</td><td>1328</td><td>2220</td><td>⋯</td><td> 95</td><td> 5.00000</td><td> 0</td><td> 7</td><td> 0</td><td>83</td><td> 88</td><td> 88</td><td>NA</td><td>NA</td></tr>\n",
              "\t<tr><td> 9</td><td>4</td><td>2015-09-03</td><td>AA    </td><td>LAX</td><td>JFK</td><td>1515</td><td>2359</td><td>1511</td><td>2337</td><td>⋯</td><td>  0</td><td>18.04878</td><td>NA</td><td>NA</td><td>NA</td><td>NA</td><td> -4</td><td>  0</td><td>NA</td><td>NA</td></tr>\n",
              "\t<tr><td> 5</td><td>4</td><td>1997-05-15</td><td>UA    </td><td>LAX</td><td>JFK</td><td>1300</td><td>2124</td><td>1300</td><td>2129</td><td>⋯</td><td>  5</td><td>18.04878</td><td>NA</td><td>NA</td><td>NA</td><td>NA</td><td>  0</td><td>  0</td><td>NA</td><td>NA</td></tr>\n",
              "\t<tr><td> 8</td><td>2</td><td>2010-08-24</td><td>DL    </td><td>LAX</td><td>JFK</td><td>0800</td><td>1630</td><td>0800</td><td>1634</td><td>⋯</td><td>  4</td><td>18.04878</td><td>NA</td><td>NA</td><td>NA</td><td>NA</td><td>  0</td><td>  0</td><td>NA</td><td>NA</td></tr>\n",
              "\t<tr><td>11</td><td>4</td><td>1999-11-25</td><td>TW    </td><td>LAX</td><td>JFK</td><td>1230</td><td>2038</td><td>1229</td><td>2050</td><td>⋯</td><td> 12</td><td>18.04878</td><td>NA</td><td>NA</td><td>NA</td><td>NA</td><td> -1</td><td>  0</td><td>NA</td><td>NA</td></tr>\n",
              "\t<tr><td>⋮</td><td>⋮</td><td>⋮</td><td>⋮</td><td>⋮</td><td>⋮</td><td>⋮</td><td>⋮</td><td>⋮</td><td>⋮</td><td>⋱</td><td>⋮</td><td>⋮</td><td>⋮</td><td>⋮</td><td>⋮</td><td>⋮</td><td>⋮</td><td>⋮</td><td>⋮</td><td>⋮</td></tr>\n",
              "\t<tr><td> 9</td><td>1</td><td>1997-09-22</td><td>DL</td><td>LAX</td><td>JFK</td><td>0940</td><td>1755</td><td>0951</td><td>1759</td><td>⋯</td><td> 4</td><td>18.04878</td><td>NA</td><td>NA</td><td>NA</td><td>NA</td><td>11</td><td>11</td><td>NA</td><td>NA</td></tr>\n",
              "\t<tr><td> 8</td><td>2</td><td>2001-08-28</td><td>UA</td><td>LAX</td><td>JFK</td><td>1625</td><td>0040</td><td>1621</td><td>0026</td><td>⋯</td><td> 0</td><td>18.04878</td><td>NA</td><td>NA</td><td>NA</td><td>NA</td><td>-4</td><td> 0</td><td>NA</td><td>NA</td></tr>\n",
              "\t<tr><td> 4</td><td>1</td><td>2016-04-04</td><td>DL</td><td>LAX</td><td>JFK</td><td>0610</td><td>1438</td><td>0604</td><td>1413</td><td>⋯</td><td> 0</td><td>18.04878</td><td>NA</td><td>NA</td><td>NA</td><td>NA</td><td>-6</td><td> 0</td><td>NA</td><td>NA</td></tr>\n",
              "\t<tr><td> 5</td><td>5</td><td>1995-05-26</td><td>UA</td><td>LAX</td><td>JFK</td><td>0825</td><td>1653</td><td>0833</td><td>1635</td><td>⋯</td><td> 0</td><td>18.04878</td><td>NA</td><td>NA</td><td>NA</td><td>NA</td><td> 8</td><td> 8</td><td>NA</td><td>NA</td></tr>\n",
              "\t<tr><td> 3</td><td>4</td><td>2010-03-18</td><td>DL</td><td>LAX</td><td>JFK</td><td>1240</td><td>2107</td><td>1238</td><td>2110</td><td>⋯</td><td> 3</td><td>18.04878</td><td>NA</td><td>NA</td><td>NA</td><td>NA</td><td>-2</td><td> 0</td><td>NA</td><td>NA</td></tr>\n",
              "\t<tr><td> 2</td><td>6</td><td>1995-02-11</td><td>AA</td><td>LAX</td><td>JFK</td><td>0800</td><td>1615</td><td>0801</td><td>1549</td><td>⋯</td><td> 0</td><td>18.04878</td><td>NA</td><td>NA</td><td>NA</td><td>NA</td><td> 1</td><td> 1</td><td>NA</td><td>NA</td></tr>\n",
              "\t<tr><td> 3</td><td>6</td><td>2004-03-27</td><td>DL</td><td>LAX</td><td>JFK</td><td>2200</td><td>0604</td><td>2215</td><td>0634</td><td>⋯</td><td>30</td><td>15.00000</td><td> 0</td><td>15</td><td> 0</td><td> 0</td><td>15</td><td>15</td><td>NA</td><td>NA</td></tr>\n",
              "\t<tr><td> 3</td><td>7</td><td>2020-03-01</td><td>AA</td><td>LAX</td><td>JFK</td><td>1700</td><td>0115</td><td>1733</td><td>0203</td><td>⋯</td><td>48</td><td>33.00000</td><td> 0</td><td>15</td><td> 0</td><td> 0</td><td>33</td><td>33</td><td>NA</td><td>NA</td></tr>\n",
              "\t<tr><td> 2</td><td>3</td><td>2016-02-17</td><td>AA</td><td>LAX</td><td>JFK</td><td>1330</td><td>2153</td><td>1326</td><td>2131</td><td>⋯</td><td> 0</td><td>18.04878</td><td>NA</td><td>NA</td><td>NA</td><td>NA</td><td>-4</td><td> 0</td><td>NA</td><td>NA</td></tr>\n",
              "\t<tr><td>12</td><td>2</td><td>1998-12-01</td><td>UA</td><td>LAX</td><td>JFK</td><td>1430</td><td>2232</td><td>1431</td><td>2223</td><td>⋯</td><td> 0</td><td>18.04878</td><td>NA</td><td>NA</td><td>NA</td><td>NA</td><td> 1</td><td> 1</td><td>NA</td><td>NA</td></tr>\n",
              "\t<tr><td> 6</td><td>5</td><td>2018-06-01</td><td>DL</td><td>LAX</td><td>JFK</td><td>0615</td><td>1443</td><td>0612</td><td>1442</td><td>⋯</td><td> 0</td><td>18.04878</td><td>NA</td><td>NA</td><td>NA</td><td>NA</td><td>-3</td><td> 0</td><td>NA</td><td>NA</td></tr>\n",
              "\t<tr><td> 2</td><td>1</td><td>2015-02-16</td><td>AA</td><td>LAX</td><td>JFK</td><td>2330</td><td>0751</td><td>2328</td><td>0744</td><td>⋯</td><td> 0</td><td>18.04878</td><td>NA</td><td>NA</td><td>NA</td><td>NA</td><td>-2</td><td> 0</td><td>NA</td><td>NA</td></tr>\n",
              "\t<tr><td> 9</td><td>3</td><td>2018-09-05</td><td>B6</td><td>LAX</td><td>JFK</td><td>1342</td><td>2204</td><td>1337</td><td>2148</td><td>⋯</td><td> 0</td><td>18.04878</td><td>NA</td><td>NA</td><td>NA</td><td>NA</td><td>-5</td><td> 0</td><td>NA</td><td>NA</td></tr>\n",
              "\t<tr><td> 1</td><td>1</td><td>1996-01-29</td><td>UA</td><td>LAX</td><td>JFK</td><td>1115</td><td>1926</td><td>1138</td><td>1920</td><td>⋯</td><td> 0</td><td>18.04878</td><td>NA</td><td>NA</td><td>NA</td><td>NA</td><td>23</td><td>23</td><td>NA</td><td>NA</td></tr>\n",
              "\t<tr><td> 1</td><td>3</td><td>2016-01-06</td><td>VX</td><td>LAX</td><td>JFK</td><td>1345</td><td>2205</td><td>1346</td><td>2201</td><td>⋯</td><td> 0</td><td>18.04878</td><td>NA</td><td>NA</td><td>NA</td><td>NA</td><td> 1</td><td> 1</td><td>NA</td><td>NA</td></tr>\n",
              "\t<tr><td>10</td><td>4</td><td>2002-10-03</td><td>AA</td><td>LAX</td><td>JFK</td><td>2200</td><td>0617</td><td>2157</td><td>0605</td><td>⋯</td><td> 0</td><td>18.04878</td><td>NA</td><td>NA</td><td>NA</td><td>NA</td><td>-3</td><td> 0</td><td>NA</td><td>NA</td></tr>\n",
              "\t<tr><td> 3</td><td>2</td><td>2016-03-15</td><td>VX</td><td>LAX</td><td>JFK</td><td>0735</td><td>1555</td><td>0732</td><td>1538</td><td>⋯</td><td> 0</td><td>18.04878</td><td>NA</td><td>NA</td><td>NA</td><td>NA</td><td>-3</td><td> 0</td><td>NA</td><td>NA</td></tr>\n",
              "\t<tr><td>11</td><td>7</td><td>1998-11-29</td><td>UA</td><td>LAX</td><td>JFK</td><td>1600</td><td>0002</td><td>1558</td><td>2351</td><td>⋯</td><td> 0</td><td>18.04878</td><td>NA</td><td>NA</td><td>NA</td><td>NA</td><td>-2</td><td> 0</td><td>NA</td><td>NA</td></tr>\n",
              "\t<tr><td> 1</td><td>7</td><td>1990-01-14</td><td>AA</td><td>LAX</td><td>JFK</td><td>1200</td><td>2013</td><td>1157</td><td>1957</td><td>⋯</td><td> 0</td><td>18.04878</td><td>NA</td><td>NA</td><td>NA</td><td>NA</td><td>-3</td><td> 0</td><td>NA</td><td>NA</td></tr>\n",
              "\t<tr><td> 1</td><td>1</td><td>2007-01-01</td><td>UA</td><td>LAX</td><td>JFK</td><td>1600</td><td>0005</td><td>1559</td><td>0007</td><td>⋯</td><td> 2</td><td>18.04878</td><td>NA</td><td>NA</td><td>NA</td><td>NA</td><td>-1</td><td> 0</td><td>NA</td><td>NA</td></tr>\n",
              "\t<tr><td> 5</td><td>6</td><td>1988-05-14</td><td>AA</td><td>LAX</td><td>JFK</td><td>0830</td><td>1710</td><td>0829</td><td>1646</td><td>⋯</td><td> 0</td><td>18.04878</td><td>NA</td><td>NA</td><td>NA</td><td>NA</td><td>-1</td><td> 0</td><td>NA</td><td>NA</td></tr>\n",
              "\t<tr><td> 1</td><td>7</td><td>1994-01-02</td><td>UA</td><td>LAX</td><td>JFK</td><td>0730</td><td>1548</td><td>0732</td><td>1549</td><td>⋯</td><td> 1</td><td>18.04878</td><td>NA</td><td>NA</td><td>NA</td><td>NA</td><td> 2</td><td> 2</td><td>NA</td><td>NA</td></tr>\n",
              "\t<tr><td> 4</td><td>1</td><td>2000-04-17</td><td>UA</td><td>LAX</td><td>JFK</td><td>0900</td><td>1721</td><td>0859</td><td>1705</td><td>⋯</td><td> 0</td><td>18.04878</td><td>NA</td><td>NA</td><td>NA</td><td>NA</td><td>-1</td><td> 0</td><td>NA</td><td>NA</td></tr>\n",
              "\t<tr><td> 6</td><td>7</td><td>2003-06-08</td><td>DL</td><td>LAX</td><td>JFK</td><td>1230</td><td>2052</td><td>1228</td><td>2052</td><td>⋯</td><td> 0</td><td>18.04878</td><td>NA</td><td>NA</td><td>NA</td><td>NA</td><td>-2</td><td> 0</td><td>NA</td><td>NA</td></tr>\n",
              "\t<tr><td>10</td><td>6</td><td>1996-10-19</td><td>AA</td><td>LAX</td><td>JFK</td><td>0700</td><td>1509</td><td>0700</td><td>1610</td><td>⋯</td><td>61</td><td>18.04878</td><td>NA</td><td>NA</td><td>NA</td><td>NA</td><td> 0</td><td> 0</td><td>NA</td><td>NA</td></tr>\n",
              "\t<tr><td>10</td><td>3</td><td>2015-10-21</td><td>DL</td><td>LAX</td><td>JFK</td><td>2255</td><td>0720</td><td>2254</td><td>0723</td><td>⋯</td><td> 3</td><td>18.04878</td><td>NA</td><td>NA</td><td>NA</td><td>NA</td><td>-1</td><td> 0</td><td>NA</td><td>NA</td></tr>\n",
              "\t<tr><td> 7</td><td>5</td><td>2012-07-06</td><td>UA</td><td>LAX</td><td>JFK</td><td>0605</td><td>1422</td><td>0600</td><td>1427</td><td>⋯</td><td> 5</td><td>18.04878</td><td>NA</td><td>NA</td><td>NA</td><td>NA</td><td>-5</td><td> 0</td><td>NA</td><td>NA</td></tr>\n",
              "\t<tr><td> 1</td><td>3</td><td>2010-01-06</td><td>DL</td><td>LAX</td><td>JFK</td><td>2125</td><td>0543</td><td>2118</td><td>0540</td><td>⋯</td><td> 0</td><td>18.04878</td><td>NA</td><td>NA</td><td>NA</td><td>NA</td><td>-7</td><td> 0</td><td>NA</td><td>NA</td></tr>\n",
              "\t<tr><td> 5</td><td>5</td><td>2009-05-15</td><td>AA</td><td>LAX</td><td>JFK</td><td>2115</td><td>0535</td><td>2119</td><td>0533</td><td>⋯</td><td> 0</td><td>18.04878</td><td>NA</td><td>NA</td><td>NA</td><td>NA</td><td> 4</td><td> 4</td><td>NA</td><td>NA</td></tr>\n",
              "\t<tr><td> 7</td><td>4</td><td>2000-07-06</td><td>AA</td><td>LAX</td><td>JFK</td><td>2200</td><td>0622</td><td>2158</td><td>0610</td><td>⋯</td><td> 0</td><td>18.04878</td><td>NA</td><td>NA</td><td>NA</td><td>NA</td><td>-2</td><td> 0</td><td>NA</td><td>NA</td></tr>\n",
              "</tbody>\n",
              "</table>\n"
            ],
            "text/markdown": "\nA spec_tbl_df: 2855 × 21\n\n| Month &lt;dbl&gt; | DayOfWeek &lt;dbl&gt; | FlightDate &lt;date&gt; | Reporting_Airline &lt;chr&gt; | Origin &lt;chr&gt; | Dest &lt;chr&gt; | CRSDepTime &lt;chr&gt; | CRSArrTime &lt;chr&gt; | DepTime &lt;chr&gt; | ArrTime &lt;chr&gt; | ⋯ ⋯ | ArrDelayMinutes &lt;dbl&gt; | CarrierDelay &lt;dbl&gt; | WeatherDelay &lt;dbl&gt; | NASDelay &lt;dbl&gt; | SecurityDelay &lt;dbl&gt; | LateAircraftDelay &lt;dbl&gt; | DepDelay &lt;dbl&gt; | DepDelayMinutes &lt;dbl&gt; | DivDistance &lt;dbl&gt; | DivArrDelay &lt;dbl&gt; |\n|---|---|---|---|---|---|---|---|---|---|---|---|---|---|---|---|---|---|---|---|---|\n|  3 | 5 | 2003-03-28 | UA     | LAX | JFK | 2210 | 0615 | 2209 | 0617 | ⋯ |   2 | 18.04878 | NA | NA | NA | NA |  -1 |   0 | NA | NA |\n| 11 | 4 | 2018-11-29 | AS     | LAX | JFK | 1045 | 1912 | 1049 | 1851 | ⋯ |   0 | 18.04878 | NA | NA | NA | NA |   4 |   4 | NA | NA |\n|  8 | 5 | 2015-08-28 | UA     | LAX | JFK | 0805 | 1634 | 0757 | 1620 | ⋯ |   0 | 18.04878 | NA | NA | NA | NA |  -8 |   0 | NA | NA |\n|  4 | 7 | 2003-04-20 | DL     | LAX | JFK | 2205 | 0619 | 2212 | 0616 | ⋯ |   0 | 18.04878 | NA | NA | NA | NA |   7 |   7 | NA | NA |\n| 11 | 3 | 2005-11-30 | UA     | LAX | JFK | 0840 | 1653 | 0836 | 1640 | ⋯ |   0 | 18.04878 | NA | NA | NA | NA |  -4 |   0 | NA | NA |\n|  4 | 1 | 1992-04-06 | UA     | LAX | JFK | 1450 | 2308 | 1452 | 2248 | ⋯ |   0 | 18.04878 | NA | NA | NA | NA |   2 |   2 | NA | NA |\n| 12 | 1 | 2012-12-03 | VX     | LAX | JFK | 1040 | 1900 | 1038 | 1901 | ⋯ |   1 | 18.04878 | NA | NA | NA | NA |  -2 |   0 | NA | NA |\n| 12 | 3 | 2004-12-01 | HP     | LAX | JFK | 2200 | 0613 | 2158 | 0533 | ⋯ |   0 | 18.04878 | NA | NA | NA | NA |  -2 |   0 | NA | NA |\n|  2 | 4 | 1997-02-13 | UA     | LAX | JFK | 0800 | 1615 | 0802 | 1640 | ⋯ |  25 | 18.04878 | NA | NA | NA | NA |   2 |   2 | NA | NA |\n|  3 | 4 | 2016-03-10 | DL     | LAX | JFK | 2245 | 0712 | 2300 | 0719 | ⋯ |   7 | 18.04878 | NA | NA | NA | NA |  15 |  15 | NA | NA |\n| 10 | 4 | 1999-10-14 | AA     | LAX | JFK | 2300 | 0717 | 2302 | 0722 | ⋯ |   5 | 18.04878 | NA | NA | NA | NA |   2 |   2 | NA | NA |\n|  8 | 5 | 2018-08-03 | B6     | LAX | JFK | 0013 | 0839 | 0034 | 0913 | ⋯ |  34 | 11.00000 |  0 | 23 |  0 |  0 |  21 |  21 | NA | NA |\n|  6 | 4 | 2006-06-01 | AA     | LAX | JFK | 1515 | 2332 | 1507 | 2353 | ⋯ |  21 |  0.00000 |  0 | 21 |  0 |  0 |  -8 |   0 | NA | NA |\n|  2 | 3 | 1999-02-03 | AA     | LAX | JFK | 0700 | 1508 | 0658 | 1448 | ⋯ |   0 | 18.04878 | NA | NA | NA | NA |  -2 |   0 | NA | NA |\n|  8 | 7 | 1995-08-27 | AA     | LAX | JFK | 0900 | 1715 | 0859 | 1729 | ⋯ |  14 | 18.04878 | NA | NA | NA | NA |  -1 |   0 | NA | NA |\n|  3 | 6 | 1990-03-31 | PA (1) | LAX | JFK | 0830 | 1640 | 1505 | 0402 | ⋯ | 682 | 18.04878 | NA | NA | NA | NA | 395 | 395 | NA | NA |\n|  6 | 4 | 1996-06-13 | AA     | LAX | JFK | 0700 | 1507 | 0659 | 1511 | ⋯ |   4 | 18.04878 | NA | NA | NA | NA |  -1 |   0 | NA | NA |\n|  7 | 4 | 2003-07-24 | AA     | LAX | JFK | 2315 | 0736 | 2311 | 0735 | ⋯ |   0 | 18.04878 | NA | NA | NA | NA |  -4 |   0 | NA | NA |\n| 12 | 5 | 2018-12-07 | AS     | LAX | JFK | 1530 | 2357 | 1511 | 2305 | ⋯ |   0 | 18.04878 | NA | NA | NA | NA | -19 |   0 | NA | NA |\n|  1 | 4 | 1996-01-25 | DL     | LAX | JFK | 2300 | 0703 | 2300 | 0641 | ⋯ |   0 | 18.04878 | NA | NA | NA | NA |   0 |   0 | NA | NA |\n|  7 | 2 | 1992-07-21 | AA     | LAX | JFK | 2300 | 0708 | 2259 | 0658 | ⋯ |   0 | 18.04878 | NA | NA | NA | NA |  -1 |   0 | NA | NA |\n|  8 | 3 | 1990-08-29 | TW     | LAX | JFK | 1600 | 0003 | 1603 | 0015 | ⋯ |  12 | 18.04878 | NA | NA | NA | NA |   3 |   3 | NA | NA |\n|  4 | 1 | 2016-04-11 | DL     | LAX | JFK | 1255 | 2130 | 1248 | 2111 | ⋯ |   0 | 18.04878 | NA | NA | NA | NA |  -7 |   0 | NA | NA |\n|  1 | 7 | 2007-01-28 | UA     | LAX | JFK | 0845 | 1656 | 0838 | 1713 | ⋯ |  17 |  0.00000 |  0 | 17 |  0 |  0 |  -7 |   0 | NA | NA |\n|  1 | 2 | 2000-01-18 | UA     | LAX | JFK | 0800 | 1609 | 0812 | 1606 | ⋯ |   0 | 18.04878 | NA | NA | NA | NA |  12 |  12 | NA | NA |\n|  6 | 5 | 2013-06-28 | AA     | LAX | JFK | 1200 | 2045 | 1328 | 2220 | ⋯ |  95 |  5.00000 |  0 |  7 |  0 | 83 |  88 |  88 | NA | NA |\n|  9 | 4 | 2015-09-03 | AA     | LAX | JFK | 1515 | 2359 | 1511 | 2337 | ⋯ |   0 | 18.04878 | NA | NA | NA | NA |  -4 |   0 | NA | NA |\n|  5 | 4 | 1997-05-15 | UA     | LAX | JFK | 1300 | 2124 | 1300 | 2129 | ⋯ |   5 | 18.04878 | NA | NA | NA | NA |   0 |   0 | NA | NA |\n|  8 | 2 | 2010-08-24 | DL     | LAX | JFK | 0800 | 1630 | 0800 | 1634 | ⋯ |   4 | 18.04878 | NA | NA | NA | NA |   0 |   0 | NA | NA |\n| 11 | 4 | 1999-11-25 | TW     | LAX | JFK | 1230 | 2038 | 1229 | 2050 | ⋯ |  12 | 18.04878 | NA | NA | NA | NA |  -1 |   0 | NA | NA |\n| ⋮ | ⋮ | ⋮ | ⋮ | ⋮ | ⋮ | ⋮ | ⋮ | ⋮ | ⋮ | ⋱ | ⋮ | ⋮ | ⋮ | ⋮ | ⋮ | ⋮ | ⋮ | ⋮ | ⋮ | ⋮ |\n|  9 | 1 | 1997-09-22 | DL | LAX | JFK | 0940 | 1755 | 0951 | 1759 | ⋯ |  4 | 18.04878 | NA | NA | NA | NA | 11 | 11 | NA | NA |\n|  8 | 2 | 2001-08-28 | UA | LAX | JFK | 1625 | 0040 | 1621 | 0026 | ⋯ |  0 | 18.04878 | NA | NA | NA | NA | -4 |  0 | NA | NA |\n|  4 | 1 | 2016-04-04 | DL | LAX | JFK | 0610 | 1438 | 0604 | 1413 | ⋯ |  0 | 18.04878 | NA | NA | NA | NA | -6 |  0 | NA | NA |\n|  5 | 5 | 1995-05-26 | UA | LAX | JFK | 0825 | 1653 | 0833 | 1635 | ⋯ |  0 | 18.04878 | NA | NA | NA | NA |  8 |  8 | NA | NA |\n|  3 | 4 | 2010-03-18 | DL | LAX | JFK | 1240 | 2107 | 1238 | 2110 | ⋯ |  3 | 18.04878 | NA | NA | NA | NA | -2 |  0 | NA | NA |\n|  2 | 6 | 1995-02-11 | AA | LAX | JFK | 0800 | 1615 | 0801 | 1549 | ⋯ |  0 | 18.04878 | NA | NA | NA | NA |  1 |  1 | NA | NA |\n|  3 | 6 | 2004-03-27 | DL | LAX | JFK | 2200 | 0604 | 2215 | 0634 | ⋯ | 30 | 15.00000 |  0 | 15 |  0 |  0 | 15 | 15 | NA | NA |\n|  3 | 7 | 2020-03-01 | AA | LAX | JFK | 1700 | 0115 | 1733 | 0203 | ⋯ | 48 | 33.00000 |  0 | 15 |  0 |  0 | 33 | 33 | NA | NA |\n|  2 | 3 | 2016-02-17 | AA | LAX | JFK | 1330 | 2153 | 1326 | 2131 | ⋯ |  0 | 18.04878 | NA | NA | NA | NA | -4 |  0 | NA | NA |\n| 12 | 2 | 1998-12-01 | UA | LAX | JFK | 1430 | 2232 | 1431 | 2223 | ⋯ |  0 | 18.04878 | NA | NA | NA | NA |  1 |  1 | NA | NA |\n|  6 | 5 | 2018-06-01 | DL | LAX | JFK | 0615 | 1443 | 0612 | 1442 | ⋯ |  0 | 18.04878 | NA | NA | NA | NA | -3 |  0 | NA | NA |\n|  2 | 1 | 2015-02-16 | AA | LAX | JFK | 2330 | 0751 | 2328 | 0744 | ⋯ |  0 | 18.04878 | NA | NA | NA | NA | -2 |  0 | NA | NA |\n|  9 | 3 | 2018-09-05 | B6 | LAX | JFK | 1342 | 2204 | 1337 | 2148 | ⋯ |  0 | 18.04878 | NA | NA | NA | NA | -5 |  0 | NA | NA |\n|  1 | 1 | 1996-01-29 | UA | LAX | JFK | 1115 | 1926 | 1138 | 1920 | ⋯ |  0 | 18.04878 | NA | NA | NA | NA | 23 | 23 | NA | NA |\n|  1 | 3 | 2016-01-06 | VX | LAX | JFK | 1345 | 2205 | 1346 | 2201 | ⋯ |  0 | 18.04878 | NA | NA | NA | NA |  1 |  1 | NA | NA |\n| 10 | 4 | 2002-10-03 | AA | LAX | JFK | 2200 | 0617 | 2157 | 0605 | ⋯ |  0 | 18.04878 | NA | NA | NA | NA | -3 |  0 | NA | NA |\n|  3 | 2 | 2016-03-15 | VX | LAX | JFK | 0735 | 1555 | 0732 | 1538 | ⋯ |  0 | 18.04878 | NA | NA | NA | NA | -3 |  0 | NA | NA |\n| 11 | 7 | 1998-11-29 | UA | LAX | JFK | 1600 | 0002 | 1558 | 2351 | ⋯ |  0 | 18.04878 | NA | NA | NA | NA | -2 |  0 | NA | NA |\n|  1 | 7 | 1990-01-14 | AA | LAX | JFK | 1200 | 2013 | 1157 | 1957 | ⋯ |  0 | 18.04878 | NA | NA | NA | NA | -3 |  0 | NA | NA |\n|  1 | 1 | 2007-01-01 | UA | LAX | JFK | 1600 | 0005 | 1559 | 0007 | ⋯ |  2 | 18.04878 | NA | NA | NA | NA | -1 |  0 | NA | NA |\n|  5 | 6 | 1988-05-14 | AA | LAX | JFK | 0830 | 1710 | 0829 | 1646 | ⋯ |  0 | 18.04878 | NA | NA | NA | NA | -1 |  0 | NA | NA |\n|  1 | 7 | 1994-01-02 | UA | LAX | JFK | 0730 | 1548 | 0732 | 1549 | ⋯ |  1 | 18.04878 | NA | NA | NA | NA |  2 |  2 | NA | NA |\n|  4 | 1 | 2000-04-17 | UA | LAX | JFK | 0900 | 1721 | 0859 | 1705 | ⋯ |  0 | 18.04878 | NA | NA | NA | NA | -1 |  0 | NA | NA |\n|  6 | 7 | 2003-06-08 | DL | LAX | JFK | 1230 | 2052 | 1228 | 2052 | ⋯ |  0 | 18.04878 | NA | NA | NA | NA | -2 |  0 | NA | NA |\n| 10 | 6 | 1996-10-19 | AA | LAX | JFK | 0700 | 1509 | 0700 | 1610 | ⋯ | 61 | 18.04878 | NA | NA | NA | NA |  0 |  0 | NA | NA |\n| 10 | 3 | 2015-10-21 | DL | LAX | JFK | 2255 | 0720 | 2254 | 0723 | ⋯ |  3 | 18.04878 | NA | NA | NA | NA | -1 |  0 | NA | NA |\n|  7 | 5 | 2012-07-06 | UA | LAX | JFK | 0605 | 1422 | 0600 | 1427 | ⋯ |  5 | 18.04878 | NA | NA | NA | NA | -5 |  0 | NA | NA |\n|  1 | 3 | 2010-01-06 | DL | LAX | JFK | 2125 | 0543 | 2118 | 0540 | ⋯ |  0 | 18.04878 | NA | NA | NA | NA | -7 |  0 | NA | NA |\n|  5 | 5 | 2009-05-15 | AA | LAX | JFK | 2115 | 0535 | 2119 | 0533 | ⋯ |  0 | 18.04878 | NA | NA | NA | NA |  4 |  4 | NA | NA |\n|  7 | 4 | 2000-07-06 | AA | LAX | JFK | 2200 | 0622 | 2158 | 0610 | ⋯ |  0 | 18.04878 | NA | NA | NA | NA | -2 |  0 | NA | NA |\n\n",
            "text/latex": "A spec\\_tbl\\_df: 2855 × 21\n\\begin{tabular}{lllllllllllllllllllll}\n Month & DayOfWeek & FlightDate & Reporting\\_Airline & Origin & Dest & CRSDepTime & CRSArrTime & DepTime & ArrTime & ⋯ & ArrDelayMinutes & CarrierDelay & WeatherDelay & NASDelay & SecurityDelay & LateAircraftDelay & DepDelay & DepDelayMinutes & DivDistance & DivArrDelay\\\\\n <dbl> & <dbl> & <date> & <chr> & <chr> & <chr> & <chr> & <chr> & <chr> & <chr> & ⋯ & <dbl> & <dbl> & <dbl> & <dbl> & <dbl> & <dbl> & <dbl> & <dbl> & <dbl> & <dbl>\\\\\n\\hline\n\t  3 & 5 & 2003-03-28 & UA     & LAX & JFK & 2210 & 0615 & 2209 & 0617 & ⋯ &   2 & 18.04878 & NA & NA & NA & NA &  -1 &   0 & NA & NA\\\\\n\t 11 & 4 & 2018-11-29 & AS     & LAX & JFK & 1045 & 1912 & 1049 & 1851 & ⋯ &   0 & 18.04878 & NA & NA & NA & NA &   4 &   4 & NA & NA\\\\\n\t  8 & 5 & 2015-08-28 & UA     & LAX & JFK & 0805 & 1634 & 0757 & 1620 & ⋯ &   0 & 18.04878 & NA & NA & NA & NA &  -8 &   0 & NA & NA\\\\\n\t  4 & 7 & 2003-04-20 & DL     & LAX & JFK & 2205 & 0619 & 2212 & 0616 & ⋯ &   0 & 18.04878 & NA & NA & NA & NA &   7 &   7 & NA & NA\\\\\n\t 11 & 3 & 2005-11-30 & UA     & LAX & JFK & 0840 & 1653 & 0836 & 1640 & ⋯ &   0 & 18.04878 & NA & NA & NA & NA &  -4 &   0 & NA & NA\\\\\n\t  4 & 1 & 1992-04-06 & UA     & LAX & JFK & 1450 & 2308 & 1452 & 2248 & ⋯ &   0 & 18.04878 & NA & NA & NA & NA &   2 &   2 & NA & NA\\\\\n\t 12 & 1 & 2012-12-03 & VX     & LAX & JFK & 1040 & 1900 & 1038 & 1901 & ⋯ &   1 & 18.04878 & NA & NA & NA & NA &  -2 &   0 & NA & NA\\\\\n\t 12 & 3 & 2004-12-01 & HP     & LAX & JFK & 2200 & 0613 & 2158 & 0533 & ⋯ &   0 & 18.04878 & NA & NA & NA & NA &  -2 &   0 & NA & NA\\\\\n\t  2 & 4 & 1997-02-13 & UA     & LAX & JFK & 0800 & 1615 & 0802 & 1640 & ⋯ &  25 & 18.04878 & NA & NA & NA & NA &   2 &   2 & NA & NA\\\\\n\t  3 & 4 & 2016-03-10 & DL     & LAX & JFK & 2245 & 0712 & 2300 & 0719 & ⋯ &   7 & 18.04878 & NA & NA & NA & NA &  15 &  15 & NA & NA\\\\\n\t 10 & 4 & 1999-10-14 & AA     & LAX & JFK & 2300 & 0717 & 2302 & 0722 & ⋯ &   5 & 18.04878 & NA & NA & NA & NA &   2 &   2 & NA & NA\\\\\n\t  8 & 5 & 2018-08-03 & B6     & LAX & JFK & 0013 & 0839 & 0034 & 0913 & ⋯ &  34 & 11.00000 &  0 & 23 &  0 &  0 &  21 &  21 & NA & NA\\\\\n\t  6 & 4 & 2006-06-01 & AA     & LAX & JFK & 1515 & 2332 & 1507 & 2353 & ⋯ &  21 &  0.00000 &  0 & 21 &  0 &  0 &  -8 &   0 & NA & NA\\\\\n\t  2 & 3 & 1999-02-03 & AA     & LAX & JFK & 0700 & 1508 & 0658 & 1448 & ⋯ &   0 & 18.04878 & NA & NA & NA & NA &  -2 &   0 & NA & NA\\\\\n\t  8 & 7 & 1995-08-27 & AA     & LAX & JFK & 0900 & 1715 & 0859 & 1729 & ⋯ &  14 & 18.04878 & NA & NA & NA & NA &  -1 &   0 & NA & NA\\\\\n\t  3 & 6 & 1990-03-31 & PA (1) & LAX & JFK & 0830 & 1640 & 1505 & 0402 & ⋯ & 682 & 18.04878 & NA & NA & NA & NA & 395 & 395 & NA & NA\\\\\n\t  6 & 4 & 1996-06-13 & AA     & LAX & JFK & 0700 & 1507 & 0659 & 1511 & ⋯ &   4 & 18.04878 & NA & NA & NA & NA &  -1 &   0 & NA & NA\\\\\n\t  7 & 4 & 2003-07-24 & AA     & LAX & JFK & 2315 & 0736 & 2311 & 0735 & ⋯ &   0 & 18.04878 & NA & NA & NA & NA &  -4 &   0 & NA & NA\\\\\n\t 12 & 5 & 2018-12-07 & AS     & LAX & JFK & 1530 & 2357 & 1511 & 2305 & ⋯ &   0 & 18.04878 & NA & NA & NA & NA & -19 &   0 & NA & NA\\\\\n\t  1 & 4 & 1996-01-25 & DL     & LAX & JFK & 2300 & 0703 & 2300 & 0641 & ⋯ &   0 & 18.04878 & NA & NA & NA & NA &   0 &   0 & NA & NA\\\\\n\t  7 & 2 & 1992-07-21 & AA     & LAX & JFK & 2300 & 0708 & 2259 & 0658 & ⋯ &   0 & 18.04878 & NA & NA & NA & NA &  -1 &   0 & NA & NA\\\\\n\t  8 & 3 & 1990-08-29 & TW     & LAX & JFK & 1600 & 0003 & 1603 & 0015 & ⋯ &  12 & 18.04878 & NA & NA & NA & NA &   3 &   3 & NA & NA\\\\\n\t  4 & 1 & 2016-04-11 & DL     & LAX & JFK & 1255 & 2130 & 1248 & 2111 & ⋯ &   0 & 18.04878 & NA & NA & NA & NA &  -7 &   0 & NA & NA\\\\\n\t  1 & 7 & 2007-01-28 & UA     & LAX & JFK & 0845 & 1656 & 0838 & 1713 & ⋯ &  17 &  0.00000 &  0 & 17 &  0 &  0 &  -7 &   0 & NA & NA\\\\\n\t  1 & 2 & 2000-01-18 & UA     & LAX & JFK & 0800 & 1609 & 0812 & 1606 & ⋯ &   0 & 18.04878 & NA & NA & NA & NA &  12 &  12 & NA & NA\\\\\n\t  6 & 5 & 2013-06-28 & AA     & LAX & JFK & 1200 & 2045 & 1328 & 2220 & ⋯ &  95 &  5.00000 &  0 &  7 &  0 & 83 &  88 &  88 & NA & NA\\\\\n\t  9 & 4 & 2015-09-03 & AA     & LAX & JFK & 1515 & 2359 & 1511 & 2337 & ⋯ &   0 & 18.04878 & NA & NA & NA & NA &  -4 &   0 & NA & NA\\\\\n\t  5 & 4 & 1997-05-15 & UA     & LAX & JFK & 1300 & 2124 & 1300 & 2129 & ⋯ &   5 & 18.04878 & NA & NA & NA & NA &   0 &   0 & NA & NA\\\\\n\t  8 & 2 & 2010-08-24 & DL     & LAX & JFK & 0800 & 1630 & 0800 & 1634 & ⋯ &   4 & 18.04878 & NA & NA & NA & NA &   0 &   0 & NA & NA\\\\\n\t 11 & 4 & 1999-11-25 & TW     & LAX & JFK & 1230 & 2038 & 1229 & 2050 & ⋯ &  12 & 18.04878 & NA & NA & NA & NA &  -1 &   0 & NA & NA\\\\\n\t ⋮ & ⋮ & ⋮ & ⋮ & ⋮ & ⋮ & ⋮ & ⋮ & ⋮ & ⋮ & ⋱ & ⋮ & ⋮ & ⋮ & ⋮ & ⋮ & ⋮ & ⋮ & ⋮ & ⋮ & ⋮\\\\\n\t  9 & 1 & 1997-09-22 & DL & LAX & JFK & 0940 & 1755 & 0951 & 1759 & ⋯ &  4 & 18.04878 & NA & NA & NA & NA & 11 & 11 & NA & NA\\\\\n\t  8 & 2 & 2001-08-28 & UA & LAX & JFK & 1625 & 0040 & 1621 & 0026 & ⋯ &  0 & 18.04878 & NA & NA & NA & NA & -4 &  0 & NA & NA\\\\\n\t  4 & 1 & 2016-04-04 & DL & LAX & JFK & 0610 & 1438 & 0604 & 1413 & ⋯ &  0 & 18.04878 & NA & NA & NA & NA & -6 &  0 & NA & NA\\\\\n\t  5 & 5 & 1995-05-26 & UA & LAX & JFK & 0825 & 1653 & 0833 & 1635 & ⋯ &  0 & 18.04878 & NA & NA & NA & NA &  8 &  8 & NA & NA\\\\\n\t  3 & 4 & 2010-03-18 & DL & LAX & JFK & 1240 & 2107 & 1238 & 2110 & ⋯ &  3 & 18.04878 & NA & NA & NA & NA & -2 &  0 & NA & NA\\\\\n\t  2 & 6 & 1995-02-11 & AA & LAX & JFK & 0800 & 1615 & 0801 & 1549 & ⋯ &  0 & 18.04878 & NA & NA & NA & NA &  1 &  1 & NA & NA\\\\\n\t  3 & 6 & 2004-03-27 & DL & LAX & JFK & 2200 & 0604 & 2215 & 0634 & ⋯ & 30 & 15.00000 &  0 & 15 &  0 &  0 & 15 & 15 & NA & NA\\\\\n\t  3 & 7 & 2020-03-01 & AA & LAX & JFK & 1700 & 0115 & 1733 & 0203 & ⋯ & 48 & 33.00000 &  0 & 15 &  0 &  0 & 33 & 33 & NA & NA\\\\\n\t  2 & 3 & 2016-02-17 & AA & LAX & JFK & 1330 & 2153 & 1326 & 2131 & ⋯ &  0 & 18.04878 & NA & NA & NA & NA & -4 &  0 & NA & NA\\\\\n\t 12 & 2 & 1998-12-01 & UA & LAX & JFK & 1430 & 2232 & 1431 & 2223 & ⋯ &  0 & 18.04878 & NA & NA & NA & NA &  1 &  1 & NA & NA\\\\\n\t  6 & 5 & 2018-06-01 & DL & LAX & JFK & 0615 & 1443 & 0612 & 1442 & ⋯ &  0 & 18.04878 & NA & NA & NA & NA & -3 &  0 & NA & NA\\\\\n\t  2 & 1 & 2015-02-16 & AA & LAX & JFK & 2330 & 0751 & 2328 & 0744 & ⋯ &  0 & 18.04878 & NA & NA & NA & NA & -2 &  0 & NA & NA\\\\\n\t  9 & 3 & 2018-09-05 & B6 & LAX & JFK & 1342 & 2204 & 1337 & 2148 & ⋯ &  0 & 18.04878 & NA & NA & NA & NA & -5 &  0 & NA & NA\\\\\n\t  1 & 1 & 1996-01-29 & UA & LAX & JFK & 1115 & 1926 & 1138 & 1920 & ⋯ &  0 & 18.04878 & NA & NA & NA & NA & 23 & 23 & NA & NA\\\\\n\t  1 & 3 & 2016-01-06 & VX & LAX & JFK & 1345 & 2205 & 1346 & 2201 & ⋯ &  0 & 18.04878 & NA & NA & NA & NA &  1 &  1 & NA & NA\\\\\n\t 10 & 4 & 2002-10-03 & AA & LAX & JFK & 2200 & 0617 & 2157 & 0605 & ⋯ &  0 & 18.04878 & NA & NA & NA & NA & -3 &  0 & NA & NA\\\\\n\t  3 & 2 & 2016-03-15 & VX & LAX & JFK & 0735 & 1555 & 0732 & 1538 & ⋯ &  0 & 18.04878 & NA & NA & NA & NA & -3 &  0 & NA & NA\\\\\n\t 11 & 7 & 1998-11-29 & UA & LAX & JFK & 1600 & 0002 & 1558 & 2351 & ⋯ &  0 & 18.04878 & NA & NA & NA & NA & -2 &  0 & NA & NA\\\\\n\t  1 & 7 & 1990-01-14 & AA & LAX & JFK & 1200 & 2013 & 1157 & 1957 & ⋯ &  0 & 18.04878 & NA & NA & NA & NA & -3 &  0 & NA & NA\\\\\n\t  1 & 1 & 2007-01-01 & UA & LAX & JFK & 1600 & 0005 & 1559 & 0007 & ⋯ &  2 & 18.04878 & NA & NA & NA & NA & -1 &  0 & NA & NA\\\\\n\t  5 & 6 & 1988-05-14 & AA & LAX & JFK & 0830 & 1710 & 0829 & 1646 & ⋯ &  0 & 18.04878 & NA & NA & NA & NA & -1 &  0 & NA & NA\\\\\n\t  1 & 7 & 1994-01-02 & UA & LAX & JFK & 0730 & 1548 & 0732 & 1549 & ⋯ &  1 & 18.04878 & NA & NA & NA & NA &  2 &  2 & NA & NA\\\\\n\t  4 & 1 & 2000-04-17 & UA & LAX & JFK & 0900 & 1721 & 0859 & 1705 & ⋯ &  0 & 18.04878 & NA & NA & NA & NA & -1 &  0 & NA & NA\\\\\n\t  6 & 7 & 2003-06-08 & DL & LAX & JFK & 1230 & 2052 & 1228 & 2052 & ⋯ &  0 & 18.04878 & NA & NA & NA & NA & -2 &  0 & NA & NA\\\\\n\t 10 & 6 & 1996-10-19 & AA & LAX & JFK & 0700 & 1509 & 0700 & 1610 & ⋯ & 61 & 18.04878 & NA & NA & NA & NA &  0 &  0 & NA & NA\\\\\n\t 10 & 3 & 2015-10-21 & DL & LAX & JFK & 2255 & 0720 & 2254 & 0723 & ⋯ &  3 & 18.04878 & NA & NA & NA & NA & -1 &  0 & NA & NA\\\\\n\t  7 & 5 & 2012-07-06 & UA & LAX & JFK & 0605 & 1422 & 0600 & 1427 & ⋯ &  5 & 18.04878 & NA & NA & NA & NA & -5 &  0 & NA & NA\\\\\n\t  1 & 3 & 2010-01-06 & DL & LAX & JFK & 2125 & 0543 & 2118 & 0540 & ⋯ &  0 & 18.04878 & NA & NA & NA & NA & -7 &  0 & NA & NA\\\\\n\t  5 & 5 & 2009-05-15 & AA & LAX & JFK & 2115 & 0535 & 2119 & 0533 & ⋯ &  0 & 18.04878 & NA & NA & NA & NA &  4 &  4 & NA & NA\\\\\n\t  7 & 4 & 2000-07-06 & AA & LAX & JFK & 2200 & 0622 & 2158 & 0610 & ⋯ &  0 & 18.04878 & NA & NA & NA & NA & -2 &  0 & NA & NA\\\\\n\\end{tabular}\n",
            "text/plain": [
              "     Month DayOfWeek FlightDate Reporting_Airline Origin Dest CRSDepTime\n",
              "1     3    5         2003-03-28 UA                LAX    JFK  2210      \n",
              "2    11    4         2018-11-29 AS                LAX    JFK  1045      \n",
              "3     8    5         2015-08-28 UA                LAX    JFK  0805      \n",
              "4     4    7         2003-04-20 DL                LAX    JFK  2205      \n",
              "5    11    3         2005-11-30 UA                LAX    JFK  0840      \n",
              "6     4    1         1992-04-06 UA                LAX    JFK  1450      \n",
              "7    12    1         2012-12-03 VX                LAX    JFK  1040      \n",
              "8    12    3         2004-12-01 HP                LAX    JFK  2200      \n",
              "9     2    4         1997-02-13 UA                LAX    JFK  0800      \n",
              "10    3    4         2016-03-10 DL                LAX    JFK  2245      \n",
              "11   10    4         1999-10-14 AA                LAX    JFK  2300      \n",
              "12    8    5         2018-08-03 B6                LAX    JFK  0013      \n",
              "13    6    4         2006-06-01 AA                LAX    JFK  1515      \n",
              "14    2    3         1999-02-03 AA                LAX    JFK  0700      \n",
              "15    8    7         1995-08-27 AA                LAX    JFK  0900      \n",
              "16    3    6         1990-03-31 PA (1)            LAX    JFK  0830      \n",
              "17    6    4         1996-06-13 AA                LAX    JFK  0700      \n",
              "18    7    4         2003-07-24 AA                LAX    JFK  2315      \n",
              "19   12    5         2018-12-07 AS                LAX    JFK  1530      \n",
              "20    1    4         1996-01-25 DL                LAX    JFK  2300      \n",
              "21    7    2         1992-07-21 AA                LAX    JFK  2300      \n",
              "22    8    3         1990-08-29 TW                LAX    JFK  1600      \n",
              "23    4    1         2016-04-11 DL                LAX    JFK  1255      \n",
              "24    1    7         2007-01-28 UA                LAX    JFK  0845      \n",
              "25    1    2         2000-01-18 UA                LAX    JFK  0800      \n",
              "26    6    5         2013-06-28 AA                LAX    JFK  1200      \n",
              "27    9    4         2015-09-03 AA                LAX    JFK  1515      \n",
              "28    5    4         1997-05-15 UA                LAX    JFK  1300      \n",
              "29    8    2         2010-08-24 DL                LAX    JFK  0800      \n",
              "30   11    4         1999-11-25 TW                LAX    JFK  1230      \n",
              "⋮    ⋮     ⋮         ⋮          ⋮                 ⋮      ⋮    ⋮         \n",
              "2826  9    1         1997-09-22 DL                LAX    JFK  0940      \n",
              "2827  8    2         2001-08-28 UA                LAX    JFK  1625      \n",
              "2828  4    1         2016-04-04 DL                LAX    JFK  0610      \n",
              "2829  5    5         1995-05-26 UA                LAX    JFK  0825      \n",
              "2830  3    4         2010-03-18 DL                LAX    JFK  1240      \n",
              "2831  2    6         1995-02-11 AA                LAX    JFK  0800      \n",
              "2832  3    6         2004-03-27 DL                LAX    JFK  2200      \n",
              "2833  3    7         2020-03-01 AA                LAX    JFK  1700      \n",
              "2834  2    3         2016-02-17 AA                LAX    JFK  1330      \n",
              "2835 12    2         1998-12-01 UA                LAX    JFK  1430      \n",
              "2836  6    5         2018-06-01 DL                LAX    JFK  0615      \n",
              "2837  2    1         2015-02-16 AA                LAX    JFK  2330      \n",
              "2838  9    3         2018-09-05 B6                LAX    JFK  1342      \n",
              "2839  1    1         1996-01-29 UA                LAX    JFK  1115      \n",
              "2840  1    3         2016-01-06 VX                LAX    JFK  1345      \n",
              "2841 10    4         2002-10-03 AA                LAX    JFK  2200      \n",
              "2842  3    2         2016-03-15 VX                LAX    JFK  0735      \n",
              "2843 11    7         1998-11-29 UA                LAX    JFK  1600      \n",
              "2844  1    7         1990-01-14 AA                LAX    JFK  1200      \n",
              "2845  1    1         2007-01-01 UA                LAX    JFK  1600      \n",
              "2846  5    6         1988-05-14 AA                LAX    JFK  0830      \n",
              "2847  1    7         1994-01-02 UA                LAX    JFK  0730      \n",
              "2848  4    1         2000-04-17 UA                LAX    JFK  0900      \n",
              "2849  6    7         2003-06-08 DL                LAX    JFK  1230      \n",
              "2850 10    6         1996-10-19 AA                LAX    JFK  0700      \n",
              "2851 10    3         2015-10-21 DL                LAX    JFK  2255      \n",
              "2852  7    5         2012-07-06 UA                LAX    JFK  0605      \n",
              "2853  1    3         2010-01-06 DL                LAX    JFK  2125      \n",
              "2854  5    5         2009-05-15 AA                LAX    JFK  2115      \n",
              "2855  7    4         2000-07-06 AA                LAX    JFK  2200      \n",
              "     CRSArrTime DepTime ArrTime ⋯ ArrDelayMinutes CarrierDelay WeatherDelay\n",
              "1    0615       2209    0617    ⋯   2             18.04878     NA          \n",
              "2    1912       1049    1851    ⋯   0             18.04878     NA          \n",
              "3    1634       0757    1620    ⋯   0             18.04878     NA          \n",
              "4    0619       2212    0616    ⋯   0             18.04878     NA          \n",
              "5    1653       0836    1640    ⋯   0             18.04878     NA          \n",
              "6    2308       1452    2248    ⋯   0             18.04878     NA          \n",
              "7    1900       1038    1901    ⋯   1             18.04878     NA          \n",
              "8    0613       2158    0533    ⋯   0             18.04878     NA          \n",
              "9    1615       0802    1640    ⋯  25             18.04878     NA          \n",
              "10   0712       2300    0719    ⋯   7             18.04878     NA          \n",
              "11   0717       2302    0722    ⋯   5             18.04878     NA          \n",
              "12   0839       0034    0913    ⋯  34             11.00000      0          \n",
              "13   2332       1507    2353    ⋯  21              0.00000      0          \n",
              "14   1508       0658    1448    ⋯   0             18.04878     NA          \n",
              "15   1715       0859    1729    ⋯  14             18.04878     NA          \n",
              "16   1640       1505    0402    ⋯ 682             18.04878     NA          \n",
              "17   1507       0659    1511    ⋯   4             18.04878     NA          \n",
              "18   0736       2311    0735    ⋯   0             18.04878     NA          \n",
              "19   2357       1511    2305    ⋯   0             18.04878     NA          \n",
              "20   0703       2300    0641    ⋯   0             18.04878     NA          \n",
              "21   0708       2259    0658    ⋯   0             18.04878     NA          \n",
              "22   0003       1603    0015    ⋯  12             18.04878     NA          \n",
              "23   2130       1248    2111    ⋯   0             18.04878     NA          \n",
              "24   1656       0838    1713    ⋯  17              0.00000      0          \n",
              "25   1609       0812    1606    ⋯   0             18.04878     NA          \n",
              "26   2045       1328    2220    ⋯  95              5.00000      0          \n",
              "27   2359       1511    2337    ⋯   0             18.04878     NA          \n",
              "28   2124       1300    2129    ⋯   5             18.04878     NA          \n",
              "29   1630       0800    1634    ⋯   4             18.04878     NA          \n",
              "30   2038       1229    2050    ⋯  12             18.04878     NA          \n",
              "⋮    ⋮          ⋮       ⋮       ⋱ ⋮               ⋮            ⋮           \n",
              "2826 1755       0951    1759    ⋯  4              18.04878     NA          \n",
              "2827 0040       1621    0026    ⋯  0              18.04878     NA          \n",
              "2828 1438       0604    1413    ⋯  0              18.04878     NA          \n",
              "2829 1653       0833    1635    ⋯  0              18.04878     NA          \n",
              "2830 2107       1238    2110    ⋯  3              18.04878     NA          \n",
              "2831 1615       0801    1549    ⋯  0              18.04878     NA          \n",
              "2832 0604       2215    0634    ⋯ 30              15.00000      0          \n",
              "2833 0115       1733    0203    ⋯ 48              33.00000      0          \n",
              "2834 2153       1326    2131    ⋯  0              18.04878     NA          \n",
              "2835 2232       1431    2223    ⋯  0              18.04878     NA          \n",
              "2836 1443       0612    1442    ⋯  0              18.04878     NA          \n",
              "2837 0751       2328    0744    ⋯  0              18.04878     NA          \n",
              "2838 2204       1337    2148    ⋯  0              18.04878     NA          \n",
              "2839 1926       1138    1920    ⋯  0              18.04878     NA          \n",
              "2840 2205       1346    2201    ⋯  0              18.04878     NA          \n",
              "2841 0617       2157    0605    ⋯  0              18.04878     NA          \n",
              "2842 1555       0732    1538    ⋯  0              18.04878     NA          \n",
              "2843 0002       1558    2351    ⋯  0              18.04878     NA          \n",
              "2844 2013       1157    1957    ⋯  0              18.04878     NA          \n",
              "2845 0005       1559    0007    ⋯  2              18.04878     NA          \n",
              "2846 1710       0829    1646    ⋯  0              18.04878     NA          \n",
              "2847 1548       0732    1549    ⋯  1              18.04878     NA          \n",
              "2848 1721       0859    1705    ⋯  0              18.04878     NA          \n",
              "2849 2052       1228    2052    ⋯  0              18.04878     NA          \n",
              "2850 1509       0700    1610    ⋯ 61              18.04878     NA          \n",
              "2851 0720       2254    0723    ⋯  3              18.04878     NA          \n",
              "2852 1422       0600    1427    ⋯  5              18.04878     NA          \n",
              "2853 0543       2118    0540    ⋯  0              18.04878     NA          \n",
              "2854 0535       2119    0533    ⋯  0              18.04878     NA          \n",
              "2855 0622       2158    0610    ⋯  0              18.04878     NA          \n",
              "     NASDelay SecurityDelay LateAircraftDelay DepDelay DepDelayMinutes\n",
              "1    NA       NA            NA                 -1        0            \n",
              "2    NA       NA            NA                  4        4            \n",
              "3    NA       NA            NA                 -8        0            \n",
              "4    NA       NA            NA                  7        7            \n",
              "5    NA       NA            NA                 -4        0            \n",
              "6    NA       NA            NA                  2        2            \n",
              "7    NA       NA            NA                 -2        0            \n",
              "8    NA       NA            NA                 -2        0            \n",
              "9    NA       NA            NA                  2        2            \n",
              "10   NA       NA            NA                 15       15            \n",
              "11   NA       NA            NA                  2        2            \n",
              "12   23        0             0                 21       21            \n",
              "13   21        0             0                 -8        0            \n",
              "14   NA       NA            NA                 -2        0            \n",
              "15   NA       NA            NA                 -1        0            \n",
              "16   NA       NA            NA                395      395            \n",
              "17   NA       NA            NA                 -1        0            \n",
              "18   NA       NA            NA                 -4        0            \n",
              "19   NA       NA            NA                -19        0            \n",
              "20   NA       NA            NA                  0        0            \n",
              "21   NA       NA            NA                 -1        0            \n",
              "22   NA       NA            NA                  3        3            \n",
              "23   NA       NA            NA                 -7        0            \n",
              "24   17        0             0                 -7        0            \n",
              "25   NA       NA            NA                 12       12            \n",
              "26    7        0            83                 88       88            \n",
              "27   NA       NA            NA                 -4        0            \n",
              "28   NA       NA            NA                  0        0            \n",
              "29   NA       NA            NA                  0        0            \n",
              "30   NA       NA            NA                 -1        0            \n",
              "⋮    ⋮        ⋮             ⋮                 ⋮        ⋮              \n",
              "2826 NA       NA            NA                11       11             \n",
              "2827 NA       NA            NA                -4        0             \n",
              "2828 NA       NA            NA                -6        0             \n",
              "2829 NA       NA            NA                 8        8             \n",
              "2830 NA       NA            NA                -2        0             \n",
              "2831 NA       NA            NA                 1        1             \n",
              "2832 15        0             0                15       15             \n",
              "2833 15        0             0                33       33             \n",
              "2834 NA       NA            NA                -4        0             \n",
              "2835 NA       NA            NA                 1        1             \n",
              "2836 NA       NA            NA                -3        0             \n",
              "2837 NA       NA            NA                -2        0             \n",
              "2838 NA       NA            NA                -5        0             \n",
              "2839 NA       NA            NA                23       23             \n",
              "2840 NA       NA            NA                 1        1             \n",
              "2841 NA       NA            NA                -3        0             \n",
              "2842 NA       NA            NA                -3        0             \n",
              "2843 NA       NA            NA                -2        0             \n",
              "2844 NA       NA            NA                -3        0             \n",
              "2845 NA       NA            NA                -1        0             \n",
              "2846 NA       NA            NA                -1        0             \n",
              "2847 NA       NA            NA                 2        2             \n",
              "2848 NA       NA            NA                -1        0             \n",
              "2849 NA       NA            NA                -2        0             \n",
              "2850 NA       NA            NA                 0        0             \n",
              "2851 NA       NA            NA                -1        0             \n",
              "2852 NA       NA            NA                -5        0             \n",
              "2853 NA       NA            NA                -7        0             \n",
              "2854 NA       NA            NA                 4        4             \n",
              "2855 NA       NA            NA                -2        0             \n",
              "     DivDistance DivArrDelay\n",
              "1    NA          NA         \n",
              "2    NA          NA         \n",
              "3    NA          NA         \n",
              "4    NA          NA         \n",
              "5    NA          NA         \n",
              "6    NA          NA         \n",
              "7    NA          NA         \n",
              "8    NA          NA         \n",
              "9    NA          NA         \n",
              "10   NA          NA         \n",
              "11   NA          NA         \n",
              "12   NA          NA         \n",
              "13   NA          NA         \n",
              "14   NA          NA         \n",
              "15   NA          NA         \n",
              "16   NA          NA         \n",
              "17   NA          NA         \n",
              "18   NA          NA         \n",
              "19   NA          NA         \n",
              "20   NA          NA         \n",
              "21   NA          NA         \n",
              "22   NA          NA         \n",
              "23   NA          NA         \n",
              "24   NA          NA         \n",
              "25   NA          NA         \n",
              "26   NA          NA         \n",
              "27   NA          NA         \n",
              "28   NA          NA         \n",
              "29   NA          NA         \n",
              "30   NA          NA         \n",
              "⋮    ⋮           ⋮          \n",
              "2826 NA          NA         \n",
              "2827 NA          NA         \n",
              "2828 NA          NA         \n",
              "2829 NA          NA         \n",
              "2830 NA          NA         \n",
              "2831 NA          NA         \n",
              "2832 NA          NA         \n",
              "2833 NA          NA         \n",
              "2834 NA          NA         \n",
              "2835 NA          NA         \n",
              "2836 NA          NA         \n",
              "2837 NA          NA         \n",
              "2838 NA          NA         \n",
              "2839 NA          NA         \n",
              "2840 NA          NA         \n",
              "2841 NA          NA         \n",
              "2842 NA          NA         \n",
              "2843 NA          NA         \n",
              "2844 NA          NA         \n",
              "2845 NA          NA         \n",
              "2846 NA          NA         \n",
              "2847 NA          NA         \n",
              "2848 NA          NA         \n",
              "2849 NA          NA         \n",
              "2850 NA          NA         \n",
              "2851 NA          NA         \n",
              "2852 NA          NA         \n",
              "2853 NA          NA         \n",
              "2854 NA          NA         \n",
              "2855 NA          NA         "
            ]
          },
          "metadata": {}
        }
      ]
    },
    {
      "cell_type": "markdown",
      "source": [
        "CORRECT DATA **FORMAT** bold text"
      ],
      "metadata": {
        "id": "dUG6-GZ2k4zW"
      }
    },
    {
      "cell_type": "code",
      "source": [
        "sub_airline %>% \n",
        "    summarize_all(class) %>% \n",
        "    gather(variable, class)"
      ],
      "metadata": {
        "colab": {
          "base_uri": "https://localhost:8080/",
          "height": 756
        },
        "id": "8zi1YDxPlAR9",
        "outputId": "92c76b20-4d5a-4bf0-f342-bcf3a0fb7b57"
      },
      "execution_count": null,
      "outputs": [
        {
          "output_type": "display_data",
          "data": {
            "text/html": [
              "<table class=\"dataframe\">\n",
              "<caption>A tibble: 21 × 2</caption>\n",
              "<thead>\n",
              "\t<tr><th scope=col>variable</th><th scope=col>class</th></tr>\n",
              "\t<tr><th scope=col>&lt;chr&gt;</th><th scope=col>&lt;chr&gt;</th></tr>\n",
              "</thead>\n",
              "<tbody>\n",
              "\t<tr><td>Month            </td><td>numeric  </td></tr>\n",
              "\t<tr><td>DayOfWeek        </td><td>numeric  </td></tr>\n",
              "\t<tr><td>FlightDate       </td><td>Date     </td></tr>\n",
              "\t<tr><td>Reporting_Airline</td><td>character</td></tr>\n",
              "\t<tr><td>Origin           </td><td>character</td></tr>\n",
              "\t<tr><td>Dest             </td><td>character</td></tr>\n",
              "\t<tr><td>CRSDepTime       </td><td>character</td></tr>\n",
              "\t<tr><td>CRSArrTime       </td><td>character</td></tr>\n",
              "\t<tr><td>DepTime          </td><td>character</td></tr>\n",
              "\t<tr><td>ArrTime          </td><td>character</td></tr>\n",
              "\t<tr><td>ArrDelay         </td><td>numeric  </td></tr>\n",
              "\t<tr><td>ArrDelayMinutes  </td><td>numeric  </td></tr>\n",
              "\t<tr><td>CarrierDelay     </td><td>numeric  </td></tr>\n",
              "\t<tr><td>WeatherDelay     </td><td>numeric  </td></tr>\n",
              "\t<tr><td>NASDelay         </td><td>numeric  </td></tr>\n",
              "\t<tr><td>SecurityDelay    </td><td>numeric  </td></tr>\n",
              "\t<tr><td>LateAircraftDelay</td><td>numeric  </td></tr>\n",
              "\t<tr><td>DepDelay         </td><td>numeric  </td></tr>\n",
              "\t<tr><td>DepDelayMinutes  </td><td>numeric  </td></tr>\n",
              "\t<tr><td>DivDistance      </td><td>numeric  </td></tr>\n",
              "\t<tr><td>DivArrDelay      </td><td>numeric  </td></tr>\n",
              "</tbody>\n",
              "</table>\n"
            ],
            "text/markdown": "\nA tibble: 21 × 2\n\n| variable &lt;chr&gt; | class &lt;chr&gt; |\n|---|---|\n| Month             | numeric   |\n| DayOfWeek         | numeric   |\n| FlightDate        | Date      |\n| Reporting_Airline | character |\n| Origin            | character |\n| Dest              | character |\n| CRSDepTime        | character |\n| CRSArrTime        | character |\n| DepTime           | character |\n| ArrTime           | character |\n| ArrDelay          | numeric   |\n| ArrDelayMinutes   | numeric   |\n| CarrierDelay      | numeric   |\n| WeatherDelay      | numeric   |\n| NASDelay          | numeric   |\n| SecurityDelay     | numeric   |\n| LateAircraftDelay | numeric   |\n| DepDelay          | numeric   |\n| DepDelayMinutes   | numeric   |\n| DivDistance       | numeric   |\n| DivArrDelay       | numeric   |\n\n",
            "text/latex": "A tibble: 21 × 2\n\\begin{tabular}{ll}\n variable & class\\\\\n <chr> & <chr>\\\\\n\\hline\n\t Month             & numeric  \\\\\n\t DayOfWeek         & numeric  \\\\\n\t FlightDate        & Date     \\\\\n\t Reporting\\_Airline & character\\\\\n\t Origin            & character\\\\\n\t Dest              & character\\\\\n\t CRSDepTime        & character\\\\\n\t CRSArrTime        & character\\\\\n\t DepTime           & character\\\\\n\t ArrTime           & character\\\\\n\t ArrDelay          & numeric  \\\\\n\t ArrDelayMinutes   & numeric  \\\\\n\t CarrierDelay      & numeric  \\\\\n\t WeatherDelay      & numeric  \\\\\n\t NASDelay          & numeric  \\\\\n\t SecurityDelay     & numeric  \\\\\n\t LateAircraftDelay & numeric  \\\\\n\t DepDelay          & numeric  \\\\\n\t DepDelayMinutes   & numeric  \\\\\n\t DivDistance       & numeric  \\\\\n\t DivArrDelay       & numeric  \\\\\n\\end{tabular}\n",
            "text/plain": [
              "   variable          class    \n",
              "1  Month             numeric  \n",
              "2  DayOfWeek         numeric  \n",
              "3  FlightDate        Date     \n",
              "4  Reporting_Airline character\n",
              "5  Origin            character\n",
              "6  Dest              character\n",
              "7  CRSDepTime        character\n",
              "8  CRSArrTime        character\n",
              "9  DepTime           character\n",
              "10 ArrTime           character\n",
              "11 ArrDelay          numeric  \n",
              "12 ArrDelayMinutes   numeric  \n",
              "13 CarrierDelay      numeric  \n",
              "14 WeatherDelay      numeric  \n",
              "15 NASDelay          numeric  \n",
              "16 SecurityDelay     numeric  \n",
              "17 LateAircraftDelay numeric  \n",
              "18 DepDelay          numeric  \n",
              "19 DepDelayMinutes   numeric  \n",
              "20 DivDistance       numeric  \n",
              "21 DivArrDelay       numeric  "
            ]
          },
          "metadata": {}
        }
      ]
    },
    {
      "cell_type": "code",
      "source": [
        "#In the below code, it is mutating `year`, `month`, and `day` values to numeric only if it is a character.\n",
        "date_airline %>%\n",
        "    select(year, month, day) %>%\n",
        "    mutate_all(type.convert) %>%\n",
        "    mutate_if(is.character, as.numeric)"
      ],
      "metadata": {
        "colab": {
          "base_uri": "https://localhost:8080/",
          "height": 1000
        },
        "id": "yJUWzGpjmgtF",
        "outputId": "f4f59796-eb89-4172-a3f3-949aa796d9d9"
      },
      "execution_count": null,
      "outputs": [
        {
          "output_type": "stream",
          "name": "stderr",
          "text": [
            "Warning message in type.convert.default(year):\n",
            "“'as.is' should be specified by the caller; using TRUE”\n",
            "Warning message in type.convert.default(month):\n",
            "“'as.is' should be specified by the caller; using TRUE”\n",
            "Warning message in type.convert.default(day):\n",
            "“'as.is' should be specified by the caller; using TRUE”\n"
          ]
        },
        {
          "output_type": "display_data",
          "data": {
            "text/html": [
              "<table class=\"dataframe\">\n",
              "<caption>A tibble: 369 × 3</caption>\n",
              "<thead>\n",
              "\t<tr><th scope=col>year</th><th scope=col>month</th><th scope=col>day</th></tr>\n",
              "\t<tr><th scope=col>&lt;int&gt;</th><th scope=col>&lt;int&gt;</th><th scope=col>&lt;int&gt;</th></tr>\n",
              "</thead>\n",
              "<tbody>\n",
              "\t<tr><td>2018</td><td> 8</td><td> 3</td></tr>\n",
              "\t<tr><td>2006</td><td> 6</td><td> 1</td></tr>\n",
              "\t<tr><td>2007</td><td> 1</td><td>28</td></tr>\n",
              "\t<tr><td>2013</td><td> 6</td><td>28</td></tr>\n",
              "\t<tr><td>2010</td><td> 9</td><td>27</td></tr>\n",
              "\t<tr><td>2005</td><td>10</td><td>12</td></tr>\n",
              "\t<tr><td>2011</td><td> 4</td><td>23</td></tr>\n",
              "\t<tr><td>2005</td><td> 5</td><td>21</td></tr>\n",
              "\t<tr><td>2011</td><td> 8</td><td>14</td></tr>\n",
              "\t<tr><td>2017</td><td>11</td><td>20</td></tr>\n",
              "\t<tr><td>2014</td><td> 5</td><td>23</td></tr>\n",
              "\t<tr><td>2011</td><td> 6</td><td>28</td></tr>\n",
              "\t<tr><td>2014</td><td>10</td><td> 1</td></tr>\n",
              "\t<tr><td>2012</td><td> 3</td><td>23</td></tr>\n",
              "\t<tr><td>2008</td><td> 3</td><td>17</td></tr>\n",
              "\t<tr><td>2013</td><td> 7</td><td>10</td></tr>\n",
              "\t<tr><td>2014</td><td> 9</td><td> 6</td></tr>\n",
              "\t<tr><td>2015</td><td> 2</td><td> 3</td></tr>\n",
              "\t<tr><td>2016</td><td> 9</td><td> 4</td></tr>\n",
              "\t<tr><td>2018</td><td> 5</td><td>15</td></tr>\n",
              "\t<tr><td>2004</td><td> 2</td><td> 6</td></tr>\n",
              "\t<tr><td>2005</td><td> 8</td><td>31</td></tr>\n",
              "\t<tr><td>2012</td><td> 9</td><td> 4</td></tr>\n",
              "\t<tr><td>2015</td><td> 9</td><td>10</td></tr>\n",
              "\t<tr><td>2010</td><td> 5</td><td>28</td></tr>\n",
              "\t<tr><td>2013</td><td> 7</td><td> 1</td></tr>\n",
              "\t<tr><td>2004</td><td> 6</td><td>24</td></tr>\n",
              "\t<tr><td>2008</td><td> 6</td><td> 9</td></tr>\n",
              "\t<tr><td>2019</td><td> 3</td><td> 3</td></tr>\n",
              "\t<tr><td>2007</td><td>10</td><td> 9</td></tr>\n",
              "\t<tr><td>⋮</td><td>⋮</td><td>⋮</td></tr>\n",
              "\t<tr><td>2016</td><td> 7</td><td>14</td></tr>\n",
              "\t<tr><td>2014</td><td>12</td><td>24</td></tr>\n",
              "\t<tr><td>2014</td><td> 6</td><td>10</td></tr>\n",
              "\t<tr><td>2019</td><td> 4</td><td>17</td></tr>\n",
              "\t<tr><td>2007</td><td> 6</td><td> 3</td></tr>\n",
              "\t<tr><td>2009</td><td> 6</td><td>27</td></tr>\n",
              "\t<tr><td>2013</td><td> 4</td><td>19</td></tr>\n",
              "\t<tr><td>2007</td><td> 6</td><td>24</td></tr>\n",
              "\t<tr><td>2019</td><td> 8</td><td>29</td></tr>\n",
              "\t<tr><td>2013</td><td> 5</td><td>15</td></tr>\n",
              "\t<tr><td>2007</td><td> 2</td><td> 8</td></tr>\n",
              "\t<tr><td>2013</td><td> 7</td><td> 8</td></tr>\n",
              "\t<tr><td>2018</td><td> 7</td><td>25</td></tr>\n",
              "\t<tr><td>2017</td><td> 5</td><td> 5</td></tr>\n",
              "\t<tr><td>2012</td><td> 2</td><td>16</td></tr>\n",
              "\t<tr><td>2012</td><td> 6</td><td>12</td></tr>\n",
              "\t<tr><td>2011</td><td> 8</td><td>21</td></tr>\n",
              "\t<tr><td>2005</td><td>12</td><td>25</td></tr>\n",
              "\t<tr><td>2006</td><td> 2</td><td>10</td></tr>\n",
              "\t<tr><td>2003</td><td>12</td><td>12</td></tr>\n",
              "\t<tr><td>2003</td><td> 6</td><td>17</td></tr>\n",
              "\t<tr><td>2017</td><td> 1</td><td>29</td></tr>\n",
              "\t<tr><td>2016</td><td> 9</td><td>19</td></tr>\n",
              "\t<tr><td>2019</td><td>12</td><td>27</td></tr>\n",
              "\t<tr><td>2005</td><td>10</td><td>20</td></tr>\n",
              "\t<tr><td>2018</td><td> 8</td><td> 3</td></tr>\n",
              "\t<tr><td>2015</td><td>10</td><td>19</td></tr>\n",
              "\t<tr><td>2008</td><td> 3</td><td> 3</td></tr>\n",
              "\t<tr><td>2004</td><td> 3</td><td>27</td></tr>\n",
              "\t<tr><td>2020</td><td> 3</td><td> 1</td></tr>\n",
              "</tbody>\n",
              "</table>\n"
            ],
            "text/markdown": "\nA tibble: 369 × 3\n\n| year &lt;int&gt; | month &lt;int&gt; | day &lt;int&gt; |\n|---|---|---|\n| 2018 |  8 |  3 |\n| 2006 |  6 |  1 |\n| 2007 |  1 | 28 |\n| 2013 |  6 | 28 |\n| 2010 |  9 | 27 |\n| 2005 | 10 | 12 |\n| 2011 |  4 | 23 |\n| 2005 |  5 | 21 |\n| 2011 |  8 | 14 |\n| 2017 | 11 | 20 |\n| 2014 |  5 | 23 |\n| 2011 |  6 | 28 |\n| 2014 | 10 |  1 |\n| 2012 |  3 | 23 |\n| 2008 |  3 | 17 |\n| 2013 |  7 | 10 |\n| 2014 |  9 |  6 |\n| 2015 |  2 |  3 |\n| 2016 |  9 |  4 |\n| 2018 |  5 | 15 |\n| 2004 |  2 |  6 |\n| 2005 |  8 | 31 |\n| 2012 |  9 |  4 |\n| 2015 |  9 | 10 |\n| 2010 |  5 | 28 |\n| 2013 |  7 |  1 |\n| 2004 |  6 | 24 |\n| 2008 |  6 |  9 |\n| 2019 |  3 |  3 |\n| 2007 | 10 |  9 |\n| ⋮ | ⋮ | ⋮ |\n| 2016 |  7 | 14 |\n| 2014 | 12 | 24 |\n| 2014 |  6 | 10 |\n| 2019 |  4 | 17 |\n| 2007 |  6 |  3 |\n| 2009 |  6 | 27 |\n| 2013 |  4 | 19 |\n| 2007 |  6 | 24 |\n| 2019 |  8 | 29 |\n| 2013 |  5 | 15 |\n| 2007 |  2 |  8 |\n| 2013 |  7 |  8 |\n| 2018 |  7 | 25 |\n| 2017 |  5 |  5 |\n| 2012 |  2 | 16 |\n| 2012 |  6 | 12 |\n| 2011 |  8 | 21 |\n| 2005 | 12 | 25 |\n| 2006 |  2 | 10 |\n| 2003 | 12 | 12 |\n| 2003 |  6 | 17 |\n| 2017 |  1 | 29 |\n| 2016 |  9 | 19 |\n| 2019 | 12 | 27 |\n| 2005 | 10 | 20 |\n| 2018 |  8 |  3 |\n| 2015 | 10 | 19 |\n| 2008 |  3 |  3 |\n| 2004 |  3 | 27 |\n| 2020 |  3 |  1 |\n\n",
            "text/latex": "A tibble: 369 × 3\n\\begin{tabular}{lll}\n year & month & day\\\\\n <int> & <int> & <int>\\\\\n\\hline\n\t 2018 &  8 &  3\\\\\n\t 2006 &  6 &  1\\\\\n\t 2007 &  1 & 28\\\\\n\t 2013 &  6 & 28\\\\\n\t 2010 &  9 & 27\\\\\n\t 2005 & 10 & 12\\\\\n\t 2011 &  4 & 23\\\\\n\t 2005 &  5 & 21\\\\\n\t 2011 &  8 & 14\\\\\n\t 2017 & 11 & 20\\\\\n\t 2014 &  5 & 23\\\\\n\t 2011 &  6 & 28\\\\\n\t 2014 & 10 &  1\\\\\n\t 2012 &  3 & 23\\\\\n\t 2008 &  3 & 17\\\\\n\t 2013 &  7 & 10\\\\\n\t 2014 &  9 &  6\\\\\n\t 2015 &  2 &  3\\\\\n\t 2016 &  9 &  4\\\\\n\t 2018 &  5 & 15\\\\\n\t 2004 &  2 &  6\\\\\n\t 2005 &  8 & 31\\\\\n\t 2012 &  9 &  4\\\\\n\t 2015 &  9 & 10\\\\\n\t 2010 &  5 & 28\\\\\n\t 2013 &  7 &  1\\\\\n\t 2004 &  6 & 24\\\\\n\t 2008 &  6 &  9\\\\\n\t 2019 &  3 &  3\\\\\n\t 2007 & 10 &  9\\\\\n\t ⋮ & ⋮ & ⋮\\\\\n\t 2016 &  7 & 14\\\\\n\t 2014 & 12 & 24\\\\\n\t 2014 &  6 & 10\\\\\n\t 2019 &  4 & 17\\\\\n\t 2007 &  6 &  3\\\\\n\t 2009 &  6 & 27\\\\\n\t 2013 &  4 & 19\\\\\n\t 2007 &  6 & 24\\\\\n\t 2019 &  8 & 29\\\\\n\t 2013 &  5 & 15\\\\\n\t 2007 &  2 &  8\\\\\n\t 2013 &  7 &  8\\\\\n\t 2018 &  7 & 25\\\\\n\t 2017 &  5 &  5\\\\\n\t 2012 &  2 & 16\\\\\n\t 2012 &  6 & 12\\\\\n\t 2011 &  8 & 21\\\\\n\t 2005 & 12 & 25\\\\\n\t 2006 &  2 & 10\\\\\n\t 2003 & 12 & 12\\\\\n\t 2003 &  6 & 17\\\\\n\t 2017 &  1 & 29\\\\\n\t 2016 &  9 & 19\\\\\n\t 2019 & 12 & 27\\\\\n\t 2005 & 10 & 20\\\\\n\t 2018 &  8 &  3\\\\\n\t 2015 & 10 & 19\\\\\n\t 2008 &  3 &  3\\\\\n\t 2004 &  3 & 27\\\\\n\t 2020 &  3 &  1\\\\\n\\end{tabular}\n",
            "text/plain": [
              "    year month day\n",
              "1   2018  8     3 \n",
              "2   2006  6     1 \n",
              "3   2007  1    28 \n",
              "4   2013  6    28 \n",
              "5   2010  9    27 \n",
              "6   2005 10    12 \n",
              "7   2011  4    23 \n",
              "8   2005  5    21 \n",
              "9   2011  8    14 \n",
              "10  2017 11    20 \n",
              "11  2014  5    23 \n",
              "12  2011  6    28 \n",
              "13  2014 10     1 \n",
              "14  2012  3    23 \n",
              "15  2008  3    17 \n",
              "16  2013  7    10 \n",
              "17  2014  9     6 \n",
              "18  2015  2     3 \n",
              "19  2016  9     4 \n",
              "20  2018  5    15 \n",
              "21  2004  2     6 \n",
              "22  2005  8    31 \n",
              "23  2012  9     4 \n",
              "24  2015  9    10 \n",
              "25  2010  5    28 \n",
              "26  2013  7     1 \n",
              "27  2004  6    24 \n",
              "28  2008  6     9 \n",
              "29  2019  3     3 \n",
              "30  2007 10     9 \n",
              "⋮   ⋮    ⋮     ⋮  \n",
              "340 2016  7    14 \n",
              "341 2014 12    24 \n",
              "342 2014  6    10 \n",
              "343 2019  4    17 \n",
              "344 2007  6     3 \n",
              "345 2009  6    27 \n",
              "346 2013  4    19 \n",
              "347 2007  6    24 \n",
              "348 2019  8    29 \n",
              "349 2013  5    15 \n",
              "350 2007  2     8 \n",
              "351 2013  7     8 \n",
              "352 2018  7    25 \n",
              "353 2017  5     5 \n",
              "354 2012  2    16 \n",
              "355 2012  6    12 \n",
              "356 2011  8    21 \n",
              "357 2005 12    25 \n",
              "358 2006  2    10 \n",
              "359 2003 12    12 \n",
              "360 2003  6    17 \n",
              "361 2017  1    29 \n",
              "362 2016  9    19 \n",
              "363 2019 12    27 \n",
              "364 2005 10    20 \n",
              "365 2018  8     3 \n",
              "366 2015 10    19 \n",
              "367 2008  3     3 \n",
              "368 2004  3    27 \n",
              "369 2020  3     1 "
            ]
          },
          "metadata": {}
        }
      ]
    },
    {
      "cell_type": "code",
      "source": [
        "#Let's re-format the FlightDate field into three separate fields (year, month, day) using separate().\n",
        "date_airline <- replace_na %>% \n",
        "    separate(FlightDate, sep = \"-\", into = c(\"year\", \"month\", \"day\"))\n",
        "\n",
        "head(date_airline)"
      ],
      "metadata": {
        "colab": {
          "base_uri": "https://localhost:8080/",
          "height": 306
        },
        "id": "DJ4uMsQMmN7q",
        "outputId": "490b3829-b97e-447a-e4cd-c874cff4e7b8"
      },
      "execution_count": null,
      "outputs": [
        {
          "output_type": "display_data",
          "data": {
            "text/html": [
              "<table class=\"dataframe\">\n",
              "<caption>A tibble: 6 × 21</caption>\n",
              "<thead>\n",
              "\t<tr><th scope=col>Month</th><th scope=col>DayOfWeek</th><th scope=col>year</th><th scope=col>month</th><th scope=col>day</th><th scope=col>Reporting_Airline</th><th scope=col>Origin</th><th scope=col>Dest</th><th scope=col>CRSDepTime</th><th scope=col>CRSArrTime</th><th scope=col>⋯</th><th scope=col>ArrTime</th><th scope=col>ArrDelay</th><th scope=col>ArrDelayMinutes</th><th scope=col>CarrierDelay</th><th scope=col>WeatherDelay</th><th scope=col>NASDelay</th><th scope=col>SecurityDelay</th><th scope=col>LateAircraftDelay</th><th scope=col>DepDelay</th><th scope=col>DepDelayMinutes</th></tr>\n",
              "\t<tr><th scope=col>&lt;dbl&gt;</th><th scope=col>&lt;dbl&gt;</th><th scope=col>&lt;chr&gt;</th><th scope=col>&lt;chr&gt;</th><th scope=col>&lt;chr&gt;</th><th scope=col>&lt;chr&gt;</th><th scope=col>&lt;chr&gt;</th><th scope=col>&lt;chr&gt;</th><th scope=col>&lt;chr&gt;</th><th scope=col>&lt;chr&gt;</th><th scope=col>⋯</th><th scope=col>&lt;chr&gt;</th><th scope=col>&lt;dbl&gt;</th><th scope=col>&lt;dbl&gt;</th><th scope=col>&lt;dbl&gt;</th><th scope=col>&lt;dbl&gt;</th><th scope=col>&lt;dbl&gt;</th><th scope=col>&lt;dbl&gt;</th><th scope=col>&lt;dbl&gt;</th><th scope=col>&lt;dbl&gt;</th><th scope=col>&lt;dbl&gt;</th></tr>\n",
              "</thead>\n",
              "<tbody>\n",
              "\t<tr><td> 8</td><td>5</td><td>2018</td><td>08</td><td>03</td><td>B6</td><td>LAX</td><td>JFK</td><td>0013</td><td>0839</td><td>⋯</td><td>0913</td><td>34</td><td>34</td><td>11</td><td>0</td><td>23</td><td>0</td><td> 0</td><td>21</td><td>21</td></tr>\n",
              "\t<tr><td> 6</td><td>4</td><td>2006</td><td>06</td><td>01</td><td>AA</td><td>LAX</td><td>JFK</td><td>1515</td><td>2332</td><td>⋯</td><td>2353</td><td>21</td><td>21</td><td> 0</td><td>0</td><td>21</td><td>0</td><td> 0</td><td>-8</td><td> 0</td></tr>\n",
              "\t<tr><td> 1</td><td>7</td><td>2007</td><td>01</td><td>28</td><td>UA</td><td>LAX</td><td>JFK</td><td>0845</td><td>1656</td><td>⋯</td><td>1713</td><td>17</td><td>17</td><td> 0</td><td>0</td><td>17</td><td>0</td><td> 0</td><td>-7</td><td> 0</td></tr>\n",
              "\t<tr><td> 6</td><td>5</td><td>2013</td><td>06</td><td>28</td><td>AA</td><td>LAX</td><td>JFK</td><td>1200</td><td>2045</td><td>⋯</td><td>2220</td><td>95</td><td>95</td><td> 5</td><td>0</td><td> 7</td><td>0</td><td>83</td><td>88</td><td>88</td></tr>\n",
              "\t<tr><td> 9</td><td>1</td><td>2010</td><td>09</td><td>27</td><td>DL</td><td>LAX</td><td>JFK</td><td>1330</td><td>2208</td><td>⋯</td><td>2316</td><td>68</td><td>68</td><td> 0</td><td>0</td><td>68</td><td>0</td><td> 0</td><td>56</td><td>56</td></tr>\n",
              "\t<tr><td>10</td><td>3</td><td>2005</td><td>10</td><td>12</td><td>AA</td><td>LAX</td><td>JFK</td><td>0930</td><td>1755</td><td>⋯</td><td>1823</td><td>28</td><td>28</td><td> 0</td><td>0</td><td>28</td><td>0</td><td> 0</td><td>28</td><td>28</td></tr>\n",
              "</tbody>\n",
              "</table>\n"
            ],
            "text/markdown": "\nA tibble: 6 × 21\n\n| Month &lt;dbl&gt; | DayOfWeek &lt;dbl&gt; | year &lt;chr&gt; | month &lt;chr&gt; | day &lt;chr&gt; | Reporting_Airline &lt;chr&gt; | Origin &lt;chr&gt; | Dest &lt;chr&gt; | CRSDepTime &lt;chr&gt; | CRSArrTime &lt;chr&gt; | ⋯ ⋯ | ArrTime &lt;chr&gt; | ArrDelay &lt;dbl&gt; | ArrDelayMinutes &lt;dbl&gt; | CarrierDelay &lt;dbl&gt; | WeatherDelay &lt;dbl&gt; | NASDelay &lt;dbl&gt; | SecurityDelay &lt;dbl&gt; | LateAircraftDelay &lt;dbl&gt; | DepDelay &lt;dbl&gt; | DepDelayMinutes &lt;dbl&gt; |\n|---|---|---|---|---|---|---|---|---|---|---|---|---|---|---|---|---|---|---|---|---|\n|  8 | 5 | 2018 | 08 | 03 | B6 | LAX | JFK | 0013 | 0839 | ⋯ | 0913 | 34 | 34 | 11 | 0 | 23 | 0 |  0 | 21 | 21 |\n|  6 | 4 | 2006 | 06 | 01 | AA | LAX | JFK | 1515 | 2332 | ⋯ | 2353 | 21 | 21 |  0 | 0 | 21 | 0 |  0 | -8 |  0 |\n|  1 | 7 | 2007 | 01 | 28 | UA | LAX | JFK | 0845 | 1656 | ⋯ | 1713 | 17 | 17 |  0 | 0 | 17 | 0 |  0 | -7 |  0 |\n|  6 | 5 | 2013 | 06 | 28 | AA | LAX | JFK | 1200 | 2045 | ⋯ | 2220 | 95 | 95 |  5 | 0 |  7 | 0 | 83 | 88 | 88 |\n|  9 | 1 | 2010 | 09 | 27 | DL | LAX | JFK | 1330 | 2208 | ⋯ | 2316 | 68 | 68 |  0 | 0 | 68 | 0 |  0 | 56 | 56 |\n| 10 | 3 | 2005 | 10 | 12 | AA | LAX | JFK | 0930 | 1755 | ⋯ | 1823 | 28 | 28 |  0 | 0 | 28 | 0 |  0 | 28 | 28 |\n\n",
            "text/latex": "A tibble: 6 × 21\n\\begin{tabular}{lllllllllllllllllllll}\n Month & DayOfWeek & year & month & day & Reporting\\_Airline & Origin & Dest & CRSDepTime & CRSArrTime & ⋯ & ArrTime & ArrDelay & ArrDelayMinutes & CarrierDelay & WeatherDelay & NASDelay & SecurityDelay & LateAircraftDelay & DepDelay & DepDelayMinutes\\\\\n <dbl> & <dbl> & <chr> & <chr> & <chr> & <chr> & <chr> & <chr> & <chr> & <chr> & ⋯ & <chr> & <dbl> & <dbl> & <dbl> & <dbl> & <dbl> & <dbl> & <dbl> & <dbl> & <dbl>\\\\\n\\hline\n\t  8 & 5 & 2018 & 08 & 03 & B6 & LAX & JFK & 0013 & 0839 & ⋯ & 0913 & 34 & 34 & 11 & 0 & 23 & 0 &  0 & 21 & 21\\\\\n\t  6 & 4 & 2006 & 06 & 01 & AA & LAX & JFK & 1515 & 2332 & ⋯ & 2353 & 21 & 21 &  0 & 0 & 21 & 0 &  0 & -8 &  0\\\\\n\t  1 & 7 & 2007 & 01 & 28 & UA & LAX & JFK & 0845 & 1656 & ⋯ & 1713 & 17 & 17 &  0 & 0 & 17 & 0 &  0 & -7 &  0\\\\\n\t  6 & 5 & 2013 & 06 & 28 & AA & LAX & JFK & 1200 & 2045 & ⋯ & 2220 & 95 & 95 &  5 & 0 &  7 & 0 & 83 & 88 & 88\\\\\n\t  9 & 1 & 2010 & 09 & 27 & DL & LAX & JFK & 1330 & 2208 & ⋯ & 2316 & 68 & 68 &  0 & 0 & 68 & 0 &  0 & 56 & 56\\\\\n\t 10 & 3 & 2005 & 10 & 12 & AA & LAX & JFK & 0930 & 1755 & ⋯ & 1823 & 28 & 28 &  0 & 0 & 28 & 0 &  0 & 28 & 28\\\\\n\\end{tabular}\n",
            "text/plain": [
              "  Month DayOfWeek year month day Reporting_Airline Origin Dest CRSDepTime\n",
              "1  8    5         2018 08    03  B6                LAX    JFK  0013      \n",
              "2  6    4         2006 06    01  AA                LAX    JFK  1515      \n",
              "3  1    7         2007 01    28  UA                LAX    JFK  0845      \n",
              "4  6    5         2013 06    28  AA                LAX    JFK  1200      \n",
              "5  9    1         2010 09    27  DL                LAX    JFK  1330      \n",
              "6 10    3         2005 10    12  AA                LAX    JFK  0930      \n",
              "  CRSArrTime ⋯ ArrTime ArrDelay ArrDelayMinutes CarrierDelay WeatherDelay\n",
              "1 0839       ⋯ 0913    34       34              11           0           \n",
              "2 2332       ⋯ 2353    21       21               0           0           \n",
              "3 1656       ⋯ 1713    17       17               0           0           \n",
              "4 2045       ⋯ 2220    95       95               5           0           \n",
              "5 2208       ⋯ 2316    68       68               0           0           \n",
              "6 1755       ⋯ 1823    28       28               0           0           \n",
              "  NASDelay SecurityDelay LateAircraftDelay DepDelay DepDelayMinutes\n",
              "1 23       0              0                21       21             \n",
              "2 21       0              0                -8        0             \n",
              "3 17       0              0                -7        0             \n",
              "4  7       0             83                88       88             \n",
              "5 68       0              0                56       56             \n",
              "6 28       0              0                28       28             "
            ]
          },
          "metadata": {}
        }
      ]
    },
    {
      "cell_type": "markdown",
      "source": [
        "**SIMPLE SCALING**"
      ],
      "metadata": {
        "id": "ZFXpCfQZpJ_l"
      }
    },
    {
      "cell_type": "code",
      "source": [
        "Simple scaling divides each value by the maximum value in a feature. The new range is between 0 and 1."
      ],
      "metadata": {
        "id": "7Hzcfbz5pQsc"
      },
      "execution_count": null,
      "outputs": []
    },
    {
      "cell_type": "code",
      "source": [
        "simple_scale <- sub_airline$ArrDelay / max(sub_airline$ArrDelay)\n",
        "head(simple_scale)"
      ],
      "metadata": {
        "colab": {
          "base_uri": "https://localhost:8080/",
          "height": 34
        },
        "id": "-CP2159JpSvM",
        "outputId": "44a81dd3-d54a-4451-9db4-0c902101dae9"
      },
      "execution_count": null,
      "outputs": [
        {
          "output_type": "display_data",
          "data": {
            "text/html": [
              "<style>\n",
              ".list-inline {list-style: none; margin:0; padding: 0}\n",
              ".list-inline>li {display: inline-block}\n",
              ".list-inline>li:not(:last-child)::after {content: \"\\00b7\"; padding: 0 .5ex}\n",
              "</style>\n",
              "<ol class=list-inline><li>0.00293255131964809</li><li>-0.030791788856305</li><li>-0.0205278592375367</li><li>-0.00439882697947214</li><li>-0.0190615835777126</li><li>-0.0293255131964809</li></ol>\n"
            ],
            "text/markdown": "1. 0.00293255131964809\n2. -0.030791788856305\n3. -0.0205278592375367\n4. -0.00439882697947214\n5. -0.0190615835777126\n6. -0.0293255131964809\n\n\n",
            "text/latex": "\\begin{enumerate*}\n\\item 0.00293255131964809\n\\item -0.030791788856305\n\\item -0.0205278592375367\n\\item -0.00439882697947214\n\\item -0.0190615835777126\n\\item -0.0293255131964809\n\\end{enumerate*}\n",
            "text/plain": [
              "[1]  0.002932551 -0.030791789 -0.020527859 -0.004398827 -0.019061584\n",
              "[6] -0.029325513"
            ]
          },
          "metadata": {}
        }
      ]
    },
    {
      "cell_type": "code",
      "source": [
        "simple_scale1 <- sub_airline$DepDelay / max(sub_airline$DepDelay)\n",
        "head(simple_scale1)"
      ],
      "metadata": {
        "colab": {
          "base_uri": "https://localhost:8080/",
          "height": 34
        },
        "id": "gEKZrNPFqTBt",
        "outputId": "35296922-dbcf-4809-f0d5-19075e5a8f38"
      },
      "execution_count": null,
      "outputs": [
        {
          "output_type": "display_data",
          "data": {
            "text/html": [
              "<style>\n",
              ".list-inline {list-style: none; margin:0; padding: 0}\n",
              ".list-inline>li {display: inline-block}\n",
              ".list-inline>li:not(:last-child)::after {content: \"\\00b7\"; padding: 0 .5ex}\n",
              "</style>\n",
              "<ol class=list-inline><li>-0.00137362637362637</li><li>0.00549450549450549</li><li>-0.010989010989011</li><li>0.00961538461538462</li><li>-0.00549450549450549</li><li>0.00274725274725275</li></ol>\n"
            ],
            "text/markdown": "1. -0.00137362637362637\n2. 0.00549450549450549\n3. -0.010989010989011\n4. 0.00961538461538462\n5. -0.00549450549450549\n6. 0.00274725274725275\n\n\n",
            "text/latex": "\\begin{enumerate*}\n\\item -0.00137362637362637\n\\item 0.00549450549450549\n\\item -0.010989010989011\n\\item 0.00961538461538462\n\\item -0.00549450549450549\n\\item 0.00274725274725275\n\\end{enumerate*}\n",
            "text/plain": [
              "[1] -0.001373626  0.005494505 -0.010989011  0.009615385 -0.005494505\n",
              "[6]  0.002747253"
            ]
          },
          "metadata": {}
        }
      ]
    },
    {
      "cell_type": "markdown",
      "source": [
        "**MIN-MAX**"
      ],
      "metadata": {
        "id": "ZzkSoDc0rYyT"
      }
    },
    {
      "cell_type": "code",
      "source": [
        "#Using \"ArrDelay\" as an example again, you can transform this column using the min-max technique:\n",
        "minmax_scale <- (sub_airline$ArrDelay - min(sub_airline$ArrDelay)) /\n",
        "                (max(sub_airline$ArrDelay) - min(sub_airline$ArrDelay))\n",
        "head(minmax_scale)"
      ],
      "metadata": {
        "colab": {
          "base_uri": "https://localhost:8080/",
          "height": 34
        },
        "id": "k5GMPd74rjl0",
        "outputId": "522e1f16-57ba-4b9e-e33f-77f26fb55ce6"
      },
      "execution_count": null,
      "outputs": [
        {
          "output_type": "display_data",
          "data": {
            "text/html": [
              "<style>\n",
              ".list-inline {list-style: none; margin:0; padding: 0}\n",
              ".list-inline>li {display: inline-block}\n",
              ".list-inline>li:not(:last-child)::after {content: \"\\00b7\"; padding: 0 .5ex}\n",
              "</style>\n",
              "<ol class=list-inline><li>0.0993377483443709</li><li>0.0688741721854305</li><li>0.0781456953642384</li><li>0.0927152317880795</li><li>0.0794701986754967</li><li>0.0701986754966887</li></ol>\n"
            ],
            "text/markdown": "1. 0.0993377483443709\n2. 0.0688741721854305\n3. 0.0781456953642384\n4. 0.0927152317880795\n5. 0.0794701986754967\n6. 0.0701986754966887\n\n\n",
            "text/latex": "\\begin{enumerate*}\n\\item 0.0993377483443709\n\\item 0.0688741721854305\n\\item 0.0781456953642384\n\\item 0.0927152317880795\n\\item 0.0794701986754967\n\\item 0.0701986754966887\n\\end{enumerate*}\n",
            "text/plain": [
              "[1] 0.09933775 0.06887417 0.07814570 0.09271523 0.07947020 0.07019868"
            ]
          },
          "metadata": {}
        }
      ]
    },
    {
      "cell_type": "code",
      "source": [],
      "metadata": {
        "id": "Fx8QxP3nr2Ex"
      },
      "execution_count": null,
      "outputs": []
    },
    {
      "cell_type": "markdown",
      "source": [
        "**Data Standardization (Z-score)**"
      ],
      "metadata": {
        "id": "uVfEV9vVsiOE"
      }
    },
    {
      "cell_type": "code",
      "source": [
        "#Let's use \"ArrDelay\" again. We can use mean() to find the mean of the feature and we can use sd() to find the standard deviation of the feature"
      ],
      "metadata": {
        "id": "sA7lxmL8sm-e"
      },
      "execution_count": null,
      "outputs": []
    },
    {
      "cell_type": "code",
      "source": [
        "z_scale <- (sub_airline$ArrDelay - mean(sub_airline$ArrDelay)) / sd(sub_airline$ArrDelay)\n",
        "head(z_scale)"
      ],
      "metadata": {
        "colab": {
          "base_uri": "https://localhost:8080/",
          "height": 34
        },
        "id": "F59ecW3Msv0j",
        "outputId": "00d7cff4-f78e-4fd8-f5b9-a9b153933ab7"
      },
      "execution_count": null,
      "outputs": [
        {
          "output_type": "display_data",
          "data": {
            "text/html": [
              "<style>\n",
              ".list-inline {list-style: none; margin:0; padding: 0}\n",
              ".list-inline>li {display: inline-block}\n",
              ".list-inline>li:not(:last-child)::after {content: \"\\00b7\"; padding: 0 .5ex}\n",
              "</style>\n",
              "<ol class=list-inline><li>-0.0481563066016499</li><li>-0.609225127218637</li><li>-0.438465051378685</li><li>-0.170127789344473</li><li>-0.41407075483012</li><li>-0.584830830670073</li></ol>\n"
            ],
            "text/markdown": "1. -0.0481563066016499\n2. -0.609225127218637\n3. -0.438465051378685\n4. -0.170127789344473\n5. -0.41407075483012\n6. -0.584830830670073\n\n\n",
            "text/latex": "\\begin{enumerate*}\n\\item -0.0481563066016499\n\\item -0.609225127218637\n\\item -0.438465051378685\n\\item -0.170127789344473\n\\item -0.41407075483012\n\\item -0.584830830670073\n\\end{enumerate*}\n",
            "text/plain": [
              "[1] -0.04815631 -0.60922513 -0.43846505 -0.17012779 -0.41407075 -0.58483083"
            ]
          },
          "metadata": {}
        }
      ]
    },
    {
      "cell_type": "code",
      "source": [
        "#standardize the depdelay column\n",
        "z_scale1 <- (sub_airline$DepDelay - mean(sub_airline$DepDelay)) / sd(sub_airline$DepDelay)\n",
        "head(z_scale1)"
      ],
      "metadata": {
        "colab": {
          "base_uri": "https://localhost:8080/",
          "height": 34
        },
        "id": "1WHAPeS0s6AU",
        "outputId": "2be5b754-4841-4533-e42b-a1c0bc7a1bbf"
      },
      "execution_count": null,
      "outputs": [
        {
          "output_type": "display_data",
          "data": {
            "text/html": [
              "<style>\n",
              ".list-inline {list-style: none; margin:0; padding: 0}\n",
              ".list-inline>li {display: inline-block}\n",
              ".list-inline>li:not(:last-child)::after {content: \"\\00b7\"; padding: 0 .5ex}\n",
              "</style>\n",
              "<ol class=list-inline><li>-0.280633523790141</li><li>-0.140311846950173</li><li>-0.477083871366097</li><li>-0.0561188408461913</li><li>-0.364826529894122</li><li>-0.19644051768616</li></ol>\n"
            ],
            "text/markdown": "1. -0.280633523790141\n2. -0.140311846950173\n3. -0.477083871366097\n4. -0.0561188408461913\n5. -0.364826529894122\n6. -0.19644051768616\n\n\n",
            "text/latex": "\\begin{enumerate*}\n\\item -0.280633523790141\n\\item -0.140311846950173\n\\item -0.477083871366097\n\\item -0.0561188408461913\n\\item -0.364826529894122\n\\item -0.19644051768616\n\\end{enumerate*}\n",
            "text/plain": [
              "[1] -0.28063352 -0.14031185 -0.47708387 -0.05611884 -0.36482653 -0.19644052"
            ]
          },
          "metadata": {}
        }
      ]
    },
    {
      "cell_type": "markdown",
      "source": [
        "# BINNING"
      ],
      "metadata": {
        "id": "TAwrJo5uwT51"
      }
    },
    {
      "cell_type": "markdown",
      "source": [
        "Lets plot the histogram of flight arrival delays, to see what the distribution of \"ArrDelay\" looks like."
      ],
      "metadata": {
        "id": "icbCmueiwf32"
      }
    },
    {
      "cell_type": "code",
      "source": [
        "ggplot(data = sub_airline, mapping = aes(x = ArrDelay)) +\n",
        "  geom_histogram(bins = 100, color = \"white\", fill = \"red\") +\n",
        "  coord_cartesian(xlim = c(-73, 682))"
      ],
      "metadata": {
        "colab": {
          "base_uri": "https://localhost:8080/",
          "height": 437
        },
        "id": "nadv2NxZwg7A",
        "outputId": "096b2989-d6d9-4d71-9ca8-5d93b14d733a"
      },
      "execution_count": null,
      "outputs": [
        {
          "output_type": "display_data",
          "data": {
            "text/plain": [
              "plot without title"
            ],
            "image/png": "[encoded data removed]"
          },
          "metadata": {
            "image/png": {
              "width": 420,
              "height": 420
            }
          }
        }
      ]
    },
    {
      "cell_type": "code",
      "source": [
        "#First we use the dplyr function ntile to break “ArrDelay” into 4 buckets, which have equal amount of observations of flight arrival delays. \n",
        "#We then create a list “quantile_rank” that contains 4 bins, which are respectively labeled \"1\", \"2\", \"3\", \"4\". \n",
        "#So bin 1 would contain the first 25% of data, bin 2 the next 25% of data and so on.\n"
      ],
      "metadata": {
        "id": "qBm_0Yg4wteJ"
      },
      "execution_count": null,
      "outputs": []
    },
    {
      "cell_type": "code",
      "source": [
        "binning <- sub_airline %>%\n",
        "      mutate(quantile_rank = ntile(sub_airline$ArrDelay,4))\n",
        "\n",
        "head(binning)"
      ],
      "metadata": {
        "colab": {
          "base_uri": "https://localhost:8080/",
          "height": 306
        },
        "id": "62VqCrjuw7XQ",
        "outputId": "725d58a2-5c3e-4b82-85db-7ab090b6a468"
      },
      "execution_count": null,
      "outputs": [
        {
          "output_type": "display_data",
          "data": {
            "text/html": [
              "<table class=\"dataframe\">\n",
              "<caption>A tibble: 6 × 22</caption>\n",
              "<thead>\n",
              "\t<tr><th scope=col>Month</th><th scope=col>DayOfWeek</th><th scope=col>FlightDate</th><th scope=col>Reporting_Airline</th><th scope=col>Origin</th><th scope=col>Dest</th><th scope=col>CRSDepTime</th><th scope=col>CRSArrTime</th><th scope=col>DepTime</th><th scope=col>ArrTime</th><th scope=col>⋯</th><th scope=col>CarrierDelay</th><th scope=col>WeatherDelay</th><th scope=col>NASDelay</th><th scope=col>SecurityDelay</th><th scope=col>LateAircraftDelay</th><th scope=col>DepDelay</th><th scope=col>DepDelayMinutes</th><th scope=col>DivDistance</th><th scope=col>DivArrDelay</th><th scope=col>quantile_rank</th></tr>\n",
              "\t<tr><th scope=col>&lt;dbl&gt;</th><th scope=col>&lt;dbl&gt;</th><th scope=col>&lt;date&gt;</th><th scope=col>&lt;chr&gt;</th><th scope=col>&lt;chr&gt;</th><th scope=col>&lt;chr&gt;</th><th scope=col>&lt;chr&gt;</th><th scope=col>&lt;chr&gt;</th><th scope=col>&lt;chr&gt;</th><th scope=col>&lt;chr&gt;</th><th scope=col>⋯</th><th scope=col>&lt;dbl&gt;</th><th scope=col>&lt;dbl&gt;</th><th scope=col>&lt;dbl&gt;</th><th scope=col>&lt;dbl&gt;</th><th scope=col>&lt;dbl&gt;</th><th scope=col>&lt;dbl&gt;</th><th scope=col>&lt;dbl&gt;</th><th scope=col>&lt;dbl&gt;</th><th scope=col>&lt;dbl&gt;</th><th scope=col>&lt;int&gt;</th></tr>\n",
              "</thead>\n",
              "<tbody>\n",
              "\t<tr><td> 3</td><td>5</td><td>2003-03-28</td><td>UA</td><td>LAX</td><td>JFK</td><td>2210</td><td>0615</td><td>2209</td><td>0617</td><td>⋯</td><td>NA</td><td>NA</td><td>NA</td><td>NA</td><td>NA</td><td>-1</td><td>0</td><td>NA</td><td>NA</td><td>3</td></tr>\n",
              "\t<tr><td>11</td><td>4</td><td>2018-11-29</td><td>AS</td><td>LAX</td><td>JFK</td><td>1045</td><td>1912</td><td>1049</td><td>1851</td><td>⋯</td><td>NA</td><td>NA</td><td>NA</td><td>NA</td><td>NA</td><td> 4</td><td>4</td><td>NA</td><td>NA</td><td>1</td></tr>\n",
              "\t<tr><td> 8</td><td>5</td><td>2015-08-28</td><td>UA</td><td>LAX</td><td>JFK</td><td>0805</td><td>1634</td><td>0757</td><td>1620</td><td>⋯</td><td>NA</td><td>NA</td><td>NA</td><td>NA</td><td>NA</td><td>-8</td><td>0</td><td>NA</td><td>NA</td><td>2</td></tr>\n",
              "\t<tr><td> 4</td><td>7</td><td>2003-04-20</td><td>DL</td><td>LAX</td><td>JFK</td><td>2205</td><td>0619</td><td>2212</td><td>0616</td><td>⋯</td><td>NA</td><td>NA</td><td>NA</td><td>NA</td><td>NA</td><td> 7</td><td>7</td><td>NA</td><td>NA</td><td>2</td></tr>\n",
              "\t<tr><td>11</td><td>3</td><td>2005-11-30</td><td>UA</td><td>LAX</td><td>JFK</td><td>0840</td><td>1653</td><td>0836</td><td>1640</td><td>⋯</td><td>NA</td><td>NA</td><td>NA</td><td>NA</td><td>NA</td><td>-4</td><td>0</td><td>NA</td><td>NA</td><td>2</td></tr>\n",
              "\t<tr><td> 4</td><td>1</td><td>1992-04-06</td><td>UA</td><td>LAX</td><td>JFK</td><td>1450</td><td>2308</td><td>1452</td><td>2248</td><td>⋯</td><td>NA</td><td>NA</td><td>NA</td><td>NA</td><td>NA</td><td> 2</td><td>2</td><td>NA</td><td>NA</td><td>1</td></tr>\n",
              "</tbody>\n",
              "</table>\n"
            ],
            "text/markdown": "\nA tibble: 6 × 22\n\n| Month &lt;dbl&gt; | DayOfWeek &lt;dbl&gt; | FlightDate &lt;date&gt; | Reporting_Airline &lt;chr&gt; | Origin &lt;chr&gt; | Dest &lt;chr&gt; | CRSDepTime &lt;chr&gt; | CRSArrTime &lt;chr&gt; | DepTime &lt;chr&gt; | ArrTime &lt;chr&gt; | ⋯ ⋯ | CarrierDelay &lt;dbl&gt; | WeatherDelay &lt;dbl&gt; | NASDelay &lt;dbl&gt; | SecurityDelay &lt;dbl&gt; | LateAircraftDelay &lt;dbl&gt; | DepDelay &lt;dbl&gt; | DepDelayMinutes &lt;dbl&gt; | DivDistance &lt;dbl&gt; | DivArrDelay &lt;dbl&gt; | quantile_rank &lt;int&gt; |\n|---|---|---|---|---|---|---|---|---|---|---|---|---|---|---|---|---|---|---|---|---|\n|  3 | 5 | 2003-03-28 | UA | LAX | JFK | 2210 | 0615 | 2209 | 0617 | ⋯ | NA | NA | NA | NA | NA | -1 | 0 | NA | NA | 3 |\n| 11 | 4 | 2018-11-29 | AS | LAX | JFK | 1045 | 1912 | 1049 | 1851 | ⋯ | NA | NA | NA | NA | NA |  4 | 4 | NA | NA | 1 |\n|  8 | 5 | 2015-08-28 | UA | LAX | JFK | 0805 | 1634 | 0757 | 1620 | ⋯ | NA | NA | NA | NA | NA | -8 | 0 | NA | NA | 2 |\n|  4 | 7 | 2003-04-20 | DL | LAX | JFK | 2205 | 0619 | 2212 | 0616 | ⋯ | NA | NA | NA | NA | NA |  7 | 7 | NA | NA | 2 |\n| 11 | 3 | 2005-11-30 | UA | LAX | JFK | 0840 | 1653 | 0836 | 1640 | ⋯ | NA | NA | NA | NA | NA | -4 | 0 | NA | NA | 2 |\n|  4 | 1 | 1992-04-06 | UA | LAX | JFK | 1450 | 2308 | 1452 | 2248 | ⋯ | NA | NA | NA | NA | NA |  2 | 2 | NA | NA | 1 |\n\n",
            "text/latex": "A tibble: 6 × 22\n\\begin{tabular}{lllllllllllllllllllll}\n Month & DayOfWeek & FlightDate & Reporting\\_Airline & Origin & Dest & CRSDepTime & CRSArrTime & DepTime & ArrTime & ⋯ & CarrierDelay & WeatherDelay & NASDelay & SecurityDelay & LateAircraftDelay & DepDelay & DepDelayMinutes & DivDistance & DivArrDelay & quantile\\_rank\\\\\n <dbl> & <dbl> & <date> & <chr> & <chr> & <chr> & <chr> & <chr> & <chr> & <chr> & ⋯ & <dbl> & <dbl> & <dbl> & <dbl> & <dbl> & <dbl> & <dbl> & <dbl> & <dbl> & <int>\\\\\n\\hline\n\t  3 & 5 & 2003-03-28 & UA & LAX & JFK & 2210 & 0615 & 2209 & 0617 & ⋯ & NA & NA & NA & NA & NA & -1 & 0 & NA & NA & 3\\\\\n\t 11 & 4 & 2018-11-29 & AS & LAX & JFK & 1045 & 1912 & 1049 & 1851 & ⋯ & NA & NA & NA & NA & NA &  4 & 4 & NA & NA & 1\\\\\n\t  8 & 5 & 2015-08-28 & UA & LAX & JFK & 0805 & 1634 & 0757 & 1620 & ⋯ & NA & NA & NA & NA & NA & -8 & 0 & NA & NA & 2\\\\\n\t  4 & 7 & 2003-04-20 & DL & LAX & JFK & 2205 & 0619 & 2212 & 0616 & ⋯ & NA & NA & NA & NA & NA &  7 & 7 & NA & NA & 2\\\\\n\t 11 & 3 & 2005-11-30 & UA & LAX & JFK & 0840 & 1653 & 0836 & 1640 & ⋯ & NA & NA & NA & NA & NA & -4 & 0 & NA & NA & 2\\\\\n\t  4 & 1 & 1992-04-06 & UA & LAX & JFK & 1450 & 2308 & 1452 & 2248 & ⋯ & NA & NA & NA & NA & NA &  2 & 2 & NA & NA & 1\\\\\n\\end{tabular}\n",
            "text/plain": [
              "  Month DayOfWeek FlightDate Reporting_Airline Origin Dest CRSDepTime\n",
              "1  3    5         2003-03-28 UA                LAX    JFK  2210      \n",
              "2 11    4         2018-11-29 AS                LAX    JFK  1045      \n",
              "3  8    5         2015-08-28 UA                LAX    JFK  0805      \n",
              "4  4    7         2003-04-20 DL                LAX    JFK  2205      \n",
              "5 11    3         2005-11-30 UA                LAX    JFK  0840      \n",
              "6  4    1         1992-04-06 UA                LAX    JFK  1450      \n",
              "  CRSArrTime DepTime ArrTime ⋯ CarrierDelay WeatherDelay NASDelay SecurityDelay\n",
              "1 0615       2209    0617    ⋯ NA           NA           NA       NA           \n",
              "2 1912       1049    1851    ⋯ NA           NA           NA       NA           \n",
              "3 1634       0757    1620    ⋯ NA           NA           NA       NA           \n",
              "4 0619       2212    0616    ⋯ NA           NA           NA       NA           \n",
              "5 1653       0836    1640    ⋯ NA           NA           NA       NA           \n",
              "6 2308       1452    2248    ⋯ NA           NA           NA       NA           \n",
              "  LateAircraftDelay DepDelay DepDelayMinutes DivDistance DivArrDelay\n",
              "1 NA                -1       0               NA          NA         \n",
              "2 NA                 4       4               NA          NA         \n",
              "3 NA                -8       0               NA          NA         \n",
              "4 NA                 7       7               NA          NA         \n",
              "5 NA                -4       0               NA          NA         \n",
              "6 NA                 2       2               NA          NA         \n",
              "  quantile_rank\n",
              "1 3            \n",
              "2 1            \n",
              "3 2            \n",
              "4 2            \n",
              "5 2            \n",
              "6 1            "
            ]
          },
          "metadata": {}
        }
      ]
    },
    {
      "cell_type": "code",
      "source": [
        "#Now if we look at a histogram of the bins, you can see that all bins are equal.\n",
        "ggplot(data = binning, mapping = aes(x = quantile_rank)) +\n",
        "  geom_histogram(bins = 4, color = \"white\", fill = \"red\")"
      ],
      "metadata": {
        "colab": {
          "base_uri": "https://localhost:8080/",
          "height": 437
        },
        "id": "1IjeYoBSx493",
        "outputId": "f48479eb-ed4d-448c-8a9a-82b434f9f22c"
      },
      "execution_count": null,
      "outputs": [
        {
          "output_type": "display_data",
          "data": {
            "text/plain": [
              "plot without title"
            ],
            "image/png": "[encoded data removed]"
          },
          "metadata": {
            "image/png": {
              "width": 420,
              "height": 420
            }
          }
        }
      ]
    },
    {
      "cell_type": "markdown",
      "source": [
        "The below code does the following:\n",
        "\n",
        "1. mutate - creates a column dummy with all 1's then\n",
        "2. spread - creates new column for every Reporting_Ariline and sets the value to 1 from dummy. But replaces the 1 with a 0 if the corresponding value is NA in Reporting_Airline then\n",
        "3. slice - looks at the specified rows"
      ],
      "metadata": {
        "id": "XHntaGUb0JXp"
      }
    },
    {
      "cell_type": "code",
      "source": [
        "sub_airline %>%\n",
        "  mutate(dummy = 1) %>% # column with single value\n",
        "  spread(\n",
        "    key = Reporting_Airline, # column to spread\n",
        "    value = dummy,\n",
        "    fill = 0) %>%\n",
        "  slice(1:5)"
      ],
      "metadata": {
        "colab": {
          "base_uri": "https://localhost:8080/",
          "height": 255
        },
        "id": "dRsCvz3M0NKP",
        "outputId": "7d5a44a9-03a2-4eba-ddaa-c91c79da48d2"
      },
      "execution_count": null,
      "outputs": [
        {
          "output_type": "display_data",
          "data": {
            "text/html": [
              "<table class=\"dataframe\">\n",
              "<caption>A tibble: 5 × 29</caption>\n",
              "<thead>\n",
              "\t<tr><th scope=col>Month</th><th scope=col>DayOfWeek</th><th scope=col>FlightDate</th><th scope=col>Origin</th><th scope=col>Dest</th><th scope=col>CRSDepTime</th><th scope=col>CRSArrTime</th><th scope=col>DepTime</th><th scope=col>ArrTime</th><th scope=col>ArrDelay</th><th scope=col>⋯</th><th scope=col>DivArrDelay</th><th scope=col>AA</th><th scope=col>AS</th><th scope=col>B6</th><th scope=col>DL</th><th scope=col>HP</th><th scope=col>PA (1)</th><th scope=col>TW</th><th scope=col>UA</th><th scope=col>VX</th></tr>\n",
              "\t<tr><th scope=col>&lt;dbl&gt;</th><th scope=col>&lt;dbl&gt;</th><th scope=col>&lt;date&gt;</th><th scope=col>&lt;chr&gt;</th><th scope=col>&lt;chr&gt;</th><th scope=col>&lt;chr&gt;</th><th scope=col>&lt;chr&gt;</th><th scope=col>&lt;chr&gt;</th><th scope=col>&lt;chr&gt;</th><th scope=col>&lt;dbl&gt;</th><th scope=col>⋯</th><th scope=col>&lt;dbl&gt;</th><th scope=col>&lt;dbl&gt;</th><th scope=col>&lt;dbl&gt;</th><th scope=col>&lt;dbl&gt;</th><th scope=col>&lt;dbl&gt;</th><th scope=col>&lt;dbl&gt;</th><th scope=col>&lt;dbl&gt;</th><th scope=col>&lt;dbl&gt;</th><th scope=col>&lt;dbl&gt;</th><th scope=col>&lt;dbl&gt;</th></tr>\n",
              "</thead>\n",
              "<tbody>\n",
              "\t<tr><td> 3</td><td>5</td><td>2003-03-28</td><td>LAX</td><td>JFK</td><td>2210</td><td>0615</td><td>2209</td><td>0617</td><td>  2</td><td>⋯</td><td>NA</td><td>0</td><td>0</td><td>0</td><td>0</td><td>0</td><td>0</td><td>0</td><td>1</td><td>0</td></tr>\n",
              "\t<tr><td>11</td><td>4</td><td>2018-11-29</td><td>LAX</td><td>JFK</td><td>1045</td><td>1912</td><td>1049</td><td>1851</td><td>-21</td><td>⋯</td><td>NA</td><td>0</td><td>1</td><td>0</td><td>0</td><td>0</td><td>0</td><td>0</td><td>0</td><td>0</td></tr>\n",
              "\t<tr><td> 8</td><td>5</td><td>2015-08-28</td><td>LAX</td><td>JFK</td><td>0805</td><td>1634</td><td>0757</td><td>1620</td><td>-14</td><td>⋯</td><td>NA</td><td>0</td><td>0</td><td>0</td><td>0</td><td>0</td><td>0</td><td>0</td><td>1</td><td>0</td></tr>\n",
              "\t<tr><td> 4</td><td>7</td><td>2003-04-20</td><td>LAX</td><td>JFK</td><td>2205</td><td>0619</td><td>2212</td><td>0616</td><td> -3</td><td>⋯</td><td>NA</td><td>0</td><td>0</td><td>0</td><td>1</td><td>0</td><td>0</td><td>0</td><td>0</td><td>0</td></tr>\n",
              "\t<tr><td>11</td><td>3</td><td>2005-11-30</td><td>LAX</td><td>JFK</td><td>0840</td><td>1653</td><td>0836</td><td>1640</td><td>-13</td><td>⋯</td><td>NA</td><td>0</td><td>0</td><td>0</td><td>0</td><td>0</td><td>0</td><td>0</td><td>1</td><td>0</td></tr>\n",
              "</tbody>\n",
              "</table>\n"
            ],
            "text/markdown": "\nA tibble: 5 × 29\n\n| Month &lt;dbl&gt; | DayOfWeek &lt;dbl&gt; | FlightDate &lt;date&gt; | Origin &lt;chr&gt; | Dest &lt;chr&gt; | CRSDepTime &lt;chr&gt; | CRSArrTime &lt;chr&gt; | DepTime &lt;chr&gt; | ArrTime &lt;chr&gt; | ArrDelay &lt;dbl&gt; | ⋯ ⋯ | DivArrDelay &lt;dbl&gt; | AA &lt;dbl&gt; | AS &lt;dbl&gt; | B6 &lt;dbl&gt; | DL &lt;dbl&gt; | HP &lt;dbl&gt; | PA (1) &lt;dbl&gt; | TW &lt;dbl&gt; | UA &lt;dbl&gt; | VX &lt;dbl&gt; |\n|---|---|---|---|---|---|---|---|---|---|---|---|---|---|---|---|---|---|---|---|---|\n|  3 | 5 | 2003-03-28 | LAX | JFK | 2210 | 0615 | 2209 | 0617 |   2 | ⋯ | NA | 0 | 0 | 0 | 0 | 0 | 0 | 0 | 1 | 0 |\n| 11 | 4 | 2018-11-29 | LAX | JFK | 1045 | 1912 | 1049 | 1851 | -21 | ⋯ | NA | 0 | 1 | 0 | 0 | 0 | 0 | 0 | 0 | 0 |\n|  8 | 5 | 2015-08-28 | LAX | JFK | 0805 | 1634 | 0757 | 1620 | -14 | ⋯ | NA | 0 | 0 | 0 | 0 | 0 | 0 | 0 | 1 | 0 |\n|  4 | 7 | 2003-04-20 | LAX | JFK | 2205 | 0619 | 2212 | 0616 |  -3 | ⋯ | NA | 0 | 0 | 0 | 1 | 0 | 0 | 0 | 0 | 0 |\n| 11 | 3 | 2005-11-30 | LAX | JFK | 0840 | 1653 | 0836 | 1640 | -13 | ⋯ | NA | 0 | 0 | 0 | 0 | 0 | 0 | 0 | 1 | 0 |\n\n",
            "text/latex": "A tibble: 5 × 29\n\\begin{tabular}{lllllllllllllllllllll}\n Month & DayOfWeek & FlightDate & Origin & Dest & CRSDepTime & CRSArrTime & DepTime & ArrTime & ArrDelay & ⋯ & DivArrDelay & AA & AS & B6 & DL & HP & PA (1) & TW & UA & VX\\\\\n <dbl> & <dbl> & <date> & <chr> & <chr> & <chr> & <chr> & <chr> & <chr> & <dbl> & ⋯ & <dbl> & <dbl> & <dbl> & <dbl> & <dbl> & <dbl> & <dbl> & <dbl> & <dbl> & <dbl>\\\\\n\\hline\n\t  3 & 5 & 2003-03-28 & LAX & JFK & 2210 & 0615 & 2209 & 0617 &   2 & ⋯ & NA & 0 & 0 & 0 & 0 & 0 & 0 & 0 & 1 & 0\\\\\n\t 11 & 4 & 2018-11-29 & LAX & JFK & 1045 & 1912 & 1049 & 1851 & -21 & ⋯ & NA & 0 & 1 & 0 & 0 & 0 & 0 & 0 & 0 & 0\\\\\n\t  8 & 5 & 2015-08-28 & LAX & JFK & 0805 & 1634 & 0757 & 1620 & -14 & ⋯ & NA & 0 & 0 & 0 & 0 & 0 & 0 & 0 & 1 & 0\\\\\n\t  4 & 7 & 2003-04-20 & LAX & JFK & 2205 & 0619 & 2212 & 0616 &  -3 & ⋯ & NA & 0 & 0 & 0 & 1 & 0 & 0 & 0 & 0 & 0\\\\\n\t 11 & 3 & 2005-11-30 & LAX & JFK & 0840 & 1653 & 0836 & 1640 & -13 & ⋯ & NA & 0 & 0 & 0 & 0 & 0 & 0 & 0 & 1 & 0\\\\\n\\end{tabular}\n",
            "text/plain": [
              "  Month DayOfWeek FlightDate Origin Dest CRSDepTime CRSArrTime DepTime ArrTime\n",
              "1  3    5         2003-03-28 LAX    JFK  2210       0615       2209    0617   \n",
              "2 11    4         2018-11-29 LAX    JFK  1045       1912       1049    1851   \n",
              "3  8    5         2015-08-28 LAX    JFK  0805       1634       0757    1620   \n",
              "4  4    7         2003-04-20 LAX    JFK  2205       0619       2212    0616   \n",
              "5 11    3         2005-11-30 LAX    JFK  0840       1653       0836    1640   \n",
              "  ArrDelay ⋯ DivArrDelay AA AS B6 DL HP PA (1) TW UA VX\n",
              "1   2      ⋯ NA          0  0  0  0  0  0      0  1  0 \n",
              "2 -21      ⋯ NA          0  1  0  0  0  0      0  0  0 \n",
              "3 -14      ⋯ NA          0  0  0  0  0  0      0  1  0 \n",
              "4  -3      ⋯ NA          0  0  0  1  0  0      0  0  0 \n",
              "5 -13      ⋯ NA          0  0  0  0  0  0      0  1  0 "
            ]
          },
          "metadata": {}
        }
      ]
    },
    {
      "cell_type": "code",
      "source": [
        "sub_airline %>% \n",
        "  spread(Reporting_Airline, ArrDelay) %>% \n",
        "  slice(1:5)"
      ],
      "metadata": {
        "colab": {
          "base_uri": "https://localhost:8080/",
          "height": 255
        },
        "id": "3kXmMnBP0qAB",
        "outputId": "5ea660b6-df21-4775-daca-96aee07031d3"
      },
      "execution_count": null,
      "outputs": [
        {
          "output_type": "display_data",
          "data": {
            "text/html": [
              "<table class=\"dataframe\">\n",
              "<caption>A tibble: 5 × 28</caption>\n",
              "<thead>\n",
              "\t<tr><th scope=col>Month</th><th scope=col>DayOfWeek</th><th scope=col>FlightDate</th><th scope=col>Origin</th><th scope=col>Dest</th><th scope=col>CRSDepTime</th><th scope=col>CRSArrTime</th><th scope=col>DepTime</th><th scope=col>ArrTime</th><th scope=col>ArrDelayMinutes</th><th scope=col>⋯</th><th scope=col>DivArrDelay</th><th scope=col>AA</th><th scope=col>AS</th><th scope=col>B6</th><th scope=col>DL</th><th scope=col>HP</th><th scope=col>PA (1)</th><th scope=col>TW</th><th scope=col>UA</th><th scope=col>VX</th></tr>\n",
              "\t<tr><th scope=col>&lt;dbl&gt;</th><th scope=col>&lt;dbl&gt;</th><th scope=col>&lt;date&gt;</th><th scope=col>&lt;chr&gt;</th><th scope=col>&lt;chr&gt;</th><th scope=col>&lt;chr&gt;</th><th scope=col>&lt;chr&gt;</th><th scope=col>&lt;chr&gt;</th><th scope=col>&lt;chr&gt;</th><th scope=col>&lt;dbl&gt;</th><th scope=col>⋯</th><th scope=col>&lt;dbl&gt;</th><th scope=col>&lt;dbl&gt;</th><th scope=col>&lt;dbl&gt;</th><th scope=col>&lt;dbl&gt;</th><th scope=col>&lt;dbl&gt;</th><th scope=col>&lt;dbl&gt;</th><th scope=col>&lt;dbl&gt;</th><th scope=col>&lt;dbl&gt;</th><th scope=col>&lt;dbl&gt;</th><th scope=col>&lt;dbl&gt;</th></tr>\n",
              "</thead>\n",
              "<tbody>\n",
              "\t<tr><td> 3</td><td>5</td><td>2003-03-28</td><td>LAX</td><td>JFK</td><td>2210</td><td>0615</td><td>2209</td><td>0617</td><td>2</td><td>⋯</td><td>NA</td><td>NA</td><td> NA</td><td>NA</td><td>NA</td><td>NA</td><td>NA</td><td>NA</td><td>  2</td><td>NA</td></tr>\n",
              "\t<tr><td>11</td><td>4</td><td>2018-11-29</td><td>LAX</td><td>JFK</td><td>1045</td><td>1912</td><td>1049</td><td>1851</td><td>0</td><td>⋯</td><td>NA</td><td>NA</td><td>-21</td><td>NA</td><td>NA</td><td>NA</td><td>NA</td><td>NA</td><td> NA</td><td>NA</td></tr>\n",
              "\t<tr><td> 8</td><td>5</td><td>2015-08-28</td><td>LAX</td><td>JFK</td><td>0805</td><td>1634</td><td>0757</td><td>1620</td><td>0</td><td>⋯</td><td>NA</td><td>NA</td><td> NA</td><td>NA</td><td>NA</td><td>NA</td><td>NA</td><td>NA</td><td>-14</td><td>NA</td></tr>\n",
              "\t<tr><td> 4</td><td>7</td><td>2003-04-20</td><td>LAX</td><td>JFK</td><td>2205</td><td>0619</td><td>2212</td><td>0616</td><td>0</td><td>⋯</td><td>NA</td><td>NA</td><td> NA</td><td>NA</td><td>-3</td><td>NA</td><td>NA</td><td>NA</td><td> NA</td><td>NA</td></tr>\n",
              "\t<tr><td>11</td><td>3</td><td>2005-11-30</td><td>LAX</td><td>JFK</td><td>0840</td><td>1653</td><td>0836</td><td>1640</td><td>0</td><td>⋯</td><td>NA</td><td>NA</td><td> NA</td><td>NA</td><td>NA</td><td>NA</td><td>NA</td><td>NA</td><td>-13</td><td>NA</td></tr>\n",
              "</tbody>\n",
              "</table>\n"
            ],
            "text/markdown": "\nA tibble: 5 × 28\n\n| Month &lt;dbl&gt; | DayOfWeek &lt;dbl&gt; | FlightDate &lt;date&gt; | Origin &lt;chr&gt; | Dest &lt;chr&gt; | CRSDepTime &lt;chr&gt; | CRSArrTime &lt;chr&gt; | DepTime &lt;chr&gt; | ArrTime &lt;chr&gt; | ArrDelayMinutes &lt;dbl&gt; | ⋯ ⋯ | DivArrDelay &lt;dbl&gt; | AA &lt;dbl&gt; | AS &lt;dbl&gt; | B6 &lt;dbl&gt; | DL &lt;dbl&gt; | HP &lt;dbl&gt; | PA (1) &lt;dbl&gt; | TW &lt;dbl&gt; | UA &lt;dbl&gt; | VX &lt;dbl&gt; |\n|---|---|---|---|---|---|---|---|---|---|---|---|---|---|---|---|---|---|---|---|---|\n|  3 | 5 | 2003-03-28 | LAX | JFK | 2210 | 0615 | 2209 | 0617 | 2 | ⋯ | NA | NA |  NA | NA | NA | NA | NA | NA |   2 | NA |\n| 11 | 4 | 2018-11-29 | LAX | JFK | 1045 | 1912 | 1049 | 1851 | 0 | ⋯ | NA | NA | -21 | NA | NA | NA | NA | NA |  NA | NA |\n|  8 | 5 | 2015-08-28 | LAX | JFK | 0805 | 1634 | 0757 | 1620 | 0 | ⋯ | NA | NA |  NA | NA | NA | NA | NA | NA | -14 | NA |\n|  4 | 7 | 2003-04-20 | LAX | JFK | 2205 | 0619 | 2212 | 0616 | 0 | ⋯ | NA | NA |  NA | NA | -3 | NA | NA | NA |  NA | NA |\n| 11 | 3 | 2005-11-30 | LAX | JFK | 0840 | 1653 | 0836 | 1640 | 0 | ⋯ | NA | NA |  NA | NA | NA | NA | NA | NA | -13 | NA |\n\n",
            "text/latex": "A tibble: 5 × 28\n\\begin{tabular}{lllllllllllllllllllll}\n Month & DayOfWeek & FlightDate & Origin & Dest & CRSDepTime & CRSArrTime & DepTime & ArrTime & ArrDelayMinutes & ⋯ & DivArrDelay & AA & AS & B6 & DL & HP & PA (1) & TW & UA & VX\\\\\n <dbl> & <dbl> & <date> & <chr> & <chr> & <chr> & <chr> & <chr> & <chr> & <dbl> & ⋯ & <dbl> & <dbl> & <dbl> & <dbl> & <dbl> & <dbl> & <dbl> & <dbl> & <dbl> & <dbl>\\\\\n\\hline\n\t  3 & 5 & 2003-03-28 & LAX & JFK & 2210 & 0615 & 2209 & 0617 & 2 & ⋯ & NA & NA &  NA & NA & NA & NA & NA & NA &   2 & NA\\\\\n\t 11 & 4 & 2018-11-29 & LAX & JFK & 1045 & 1912 & 1049 & 1851 & 0 & ⋯ & NA & NA & -21 & NA & NA & NA & NA & NA &  NA & NA\\\\\n\t  8 & 5 & 2015-08-28 & LAX & JFK & 0805 & 1634 & 0757 & 1620 & 0 & ⋯ & NA & NA &  NA & NA & NA & NA & NA & NA & -14 & NA\\\\\n\t  4 & 7 & 2003-04-20 & LAX & JFK & 2205 & 0619 & 2212 & 0616 & 0 & ⋯ & NA & NA &  NA & NA & -3 & NA & NA & NA &  NA & NA\\\\\n\t 11 & 3 & 2005-11-30 & LAX & JFK & 0840 & 1653 & 0836 & 1640 & 0 & ⋯ & NA & NA &  NA & NA & NA & NA & NA & NA & -13 & NA\\\\\n\\end{tabular}\n",
            "text/plain": [
              "  Month DayOfWeek FlightDate Origin Dest CRSDepTime CRSArrTime DepTime ArrTime\n",
              "1  3    5         2003-03-28 LAX    JFK  2210       0615       2209    0617   \n",
              "2 11    4         2018-11-29 LAX    JFK  1045       1912       1049    1851   \n",
              "3  8    5         2015-08-28 LAX    JFK  0805       1634       0757    1620   \n",
              "4  4    7         2003-04-20 LAX    JFK  2205       0619       2212    0616   \n",
              "5 11    3         2005-11-30 LAX    JFK  0840       1653       0836    1640   \n",
              "  ArrDelayMinutes ⋯ DivArrDelay AA AS  B6 DL HP PA (1) TW UA  VX\n",
              "1 2               ⋯ NA          NA  NA NA NA NA NA     NA   2 NA\n",
              "2 0               ⋯ NA          NA -21 NA NA NA NA     NA  NA NA\n",
              "3 0               ⋯ NA          NA  NA NA NA NA NA     NA -14 NA\n",
              "4 0               ⋯ NA          NA  NA NA -3 NA NA     NA  NA NA\n",
              "5 0               ⋯ NA          NA  NA NA NA NA NA     NA -13 NA"
            ]
          },
          "metadata": {}
        }
      ]
    },
    {
      "cell_type": "code",
      "source": [
        "#Let's visualize how many data points in each airline category.\n",
        "sub_airline %>% # start with data\n",
        "   mutate(Reporting_Airline = factor(Reporting_Airline,\n",
        "                                     labels = c(\"AA\", \"AS\", \"DL\", \"UA\", \"B6\", \"PA (1)\", \"HP\", \"TW\", \"VX\")))%>%\n",
        "  ggplot(aes(Reporting_Airline)) +\n",
        "  stat_count(width = 0.5) +\n",
        "  labs(x = \"Number of data points in each airline\")"
      ],
      "metadata": {
        "colab": {
          "base_uri": "https://localhost:8080/",
          "height": 437
        },
        "id": "z-zICvXx0x54",
        "outputId": "18e958eb-5080-423c-eaec-bf6f14e00bc7"
      },
      "execution_count": null,
      "outputs": [
        {
          "output_type": "display_data",
          "data": {
            "text/plain": [
              "plot without title"
            ],
            "image/png": "[encoded data removed]"
          },
          "metadata": {
            "image/png": {
              "width": 420,
              "height": 420
            }
          }
        }
      ]
    },
    {
      "cell_type": "code",
      "source": [
        "#create indicator variable to the column of \"Month\".\n",
        "sub_airline %>%\n",
        "  mutate(dummy = 1) %>% # column with single value\n",
        "  spread(\n",
        "    key = Month, # column to spread\n",
        "    value = dummy,\n",
        "    fill = 0) %>%\n",
        "  slice(1:5)"
      ],
      "metadata": {
        "colab": {
          "base_uri": "https://localhost:8080/",
          "height": 255
        },
        "id": "8--XH-Mk09j3",
        "outputId": "78939af0-e350-4144-8e1d-ac494a8a4c7f"
      },
      "execution_count": null,
      "outputs": [
        {
          "output_type": "display_data",
          "data": {
            "text/html": [
              "<table class=\"dataframe\">\n",
              "<caption>A tibble: 5 × 32</caption>\n",
              "<thead>\n",
              "\t<tr><th scope=col>DayOfWeek</th><th scope=col>FlightDate</th><th scope=col>Reporting_Airline</th><th scope=col>Origin</th><th scope=col>Dest</th><th scope=col>CRSDepTime</th><th scope=col>CRSArrTime</th><th scope=col>DepTime</th><th scope=col>ArrTime</th><th scope=col>ArrDelay</th><th scope=col>⋯</th><th scope=col>3</th><th scope=col>4</th><th scope=col>5</th><th scope=col>6</th><th scope=col>7</th><th scope=col>8</th><th scope=col>9</th><th scope=col>10</th><th scope=col>11</th><th scope=col>12</th></tr>\n",
              "\t<tr><th scope=col>&lt;dbl&gt;</th><th scope=col>&lt;date&gt;</th><th scope=col>&lt;chr&gt;</th><th scope=col>&lt;chr&gt;</th><th scope=col>&lt;chr&gt;</th><th scope=col>&lt;chr&gt;</th><th scope=col>&lt;chr&gt;</th><th scope=col>&lt;chr&gt;</th><th scope=col>&lt;chr&gt;</th><th scope=col>&lt;dbl&gt;</th><th scope=col>⋯</th><th scope=col>&lt;dbl&gt;</th><th scope=col>&lt;dbl&gt;</th><th scope=col>&lt;dbl&gt;</th><th scope=col>&lt;dbl&gt;</th><th scope=col>&lt;dbl&gt;</th><th scope=col>&lt;dbl&gt;</th><th scope=col>&lt;dbl&gt;</th><th scope=col>&lt;dbl&gt;</th><th scope=col>&lt;dbl&gt;</th><th scope=col>&lt;dbl&gt;</th></tr>\n",
              "</thead>\n",
              "<tbody>\n",
              "\t<tr><td>5</td><td>2003-03-28</td><td>UA</td><td>LAX</td><td>JFK</td><td>2210</td><td>0615</td><td>2209</td><td>0617</td><td>  2</td><td>⋯</td><td>1</td><td>0</td><td>0</td><td>0</td><td>0</td><td>0</td><td>0</td><td>0</td><td>0</td><td>0</td></tr>\n",
              "\t<tr><td>4</td><td>2018-11-29</td><td>AS</td><td>LAX</td><td>JFK</td><td>1045</td><td>1912</td><td>1049</td><td>1851</td><td>-21</td><td>⋯</td><td>0</td><td>0</td><td>0</td><td>0</td><td>0</td><td>0</td><td>0</td><td>0</td><td>1</td><td>0</td></tr>\n",
              "\t<tr><td>5</td><td>2015-08-28</td><td>UA</td><td>LAX</td><td>JFK</td><td>0805</td><td>1634</td><td>0757</td><td>1620</td><td>-14</td><td>⋯</td><td>0</td><td>0</td><td>0</td><td>0</td><td>0</td><td>1</td><td>0</td><td>0</td><td>0</td><td>0</td></tr>\n",
              "\t<tr><td>7</td><td>2003-04-20</td><td>DL</td><td>LAX</td><td>JFK</td><td>2205</td><td>0619</td><td>2212</td><td>0616</td><td> -3</td><td>⋯</td><td>0</td><td>1</td><td>0</td><td>0</td><td>0</td><td>0</td><td>0</td><td>0</td><td>0</td><td>0</td></tr>\n",
              "\t<tr><td>3</td><td>2005-11-30</td><td>UA</td><td>LAX</td><td>JFK</td><td>0840</td><td>1653</td><td>0836</td><td>1640</td><td>-13</td><td>⋯</td><td>0</td><td>0</td><td>0</td><td>0</td><td>0</td><td>0</td><td>0</td><td>0</td><td>1</td><td>0</td></tr>\n",
              "</tbody>\n",
              "</table>\n"
            ],
            "text/markdown": "\nA tibble: 5 × 32\n\n| DayOfWeek &lt;dbl&gt; | FlightDate &lt;date&gt; | Reporting_Airline &lt;chr&gt; | Origin &lt;chr&gt; | Dest &lt;chr&gt; | CRSDepTime &lt;chr&gt; | CRSArrTime &lt;chr&gt; | DepTime &lt;chr&gt; | ArrTime &lt;chr&gt; | ArrDelay &lt;dbl&gt; | ⋯ ⋯ | 3 &lt;dbl&gt; | 4 &lt;dbl&gt; | 5 &lt;dbl&gt; | 6 &lt;dbl&gt; | 7 &lt;dbl&gt; | 8 &lt;dbl&gt; | 9 &lt;dbl&gt; | 10 &lt;dbl&gt; | 11 &lt;dbl&gt; | 12 &lt;dbl&gt; |\n|---|---|---|---|---|---|---|---|---|---|---|---|---|---|---|---|---|---|---|---|---|\n| 5 | 2003-03-28 | UA | LAX | JFK | 2210 | 0615 | 2209 | 0617 |   2 | ⋯ | 1 | 0 | 0 | 0 | 0 | 0 | 0 | 0 | 0 | 0 |\n| 4 | 2018-11-29 | AS | LAX | JFK | 1045 | 1912 | 1049 | 1851 | -21 | ⋯ | 0 | 0 | 0 | 0 | 0 | 0 | 0 | 0 | 1 | 0 |\n| 5 | 2015-08-28 | UA | LAX | JFK | 0805 | 1634 | 0757 | 1620 | -14 | ⋯ | 0 | 0 | 0 | 0 | 0 | 1 | 0 | 0 | 0 | 0 |\n| 7 | 2003-04-20 | DL | LAX | JFK | 2205 | 0619 | 2212 | 0616 |  -3 | ⋯ | 0 | 1 | 0 | 0 | 0 | 0 | 0 | 0 | 0 | 0 |\n| 3 | 2005-11-30 | UA | LAX | JFK | 0840 | 1653 | 0836 | 1640 | -13 | ⋯ | 0 | 0 | 0 | 0 | 0 | 0 | 0 | 0 | 1 | 0 |\n\n",
            "text/latex": "A tibble: 5 × 32\n\\begin{tabular}{lllllllllllllllllllll}\n DayOfWeek & FlightDate & Reporting\\_Airline & Origin & Dest & CRSDepTime & CRSArrTime & DepTime & ArrTime & ArrDelay & ⋯ & 3 & 4 & 5 & 6 & 7 & 8 & 9 & 10 & 11 & 12\\\\\n <dbl> & <date> & <chr> & <chr> & <chr> & <chr> & <chr> & <chr> & <chr> & <dbl> & ⋯ & <dbl> & <dbl> & <dbl> & <dbl> & <dbl> & <dbl> & <dbl> & <dbl> & <dbl> & <dbl>\\\\\n\\hline\n\t 5 & 2003-03-28 & UA & LAX & JFK & 2210 & 0615 & 2209 & 0617 &   2 & ⋯ & 1 & 0 & 0 & 0 & 0 & 0 & 0 & 0 & 0 & 0\\\\\n\t 4 & 2018-11-29 & AS & LAX & JFK & 1045 & 1912 & 1049 & 1851 & -21 & ⋯ & 0 & 0 & 0 & 0 & 0 & 0 & 0 & 0 & 1 & 0\\\\\n\t 5 & 2015-08-28 & UA & LAX & JFK & 0805 & 1634 & 0757 & 1620 & -14 & ⋯ & 0 & 0 & 0 & 0 & 0 & 1 & 0 & 0 & 0 & 0\\\\\n\t 7 & 2003-04-20 & DL & LAX & JFK & 2205 & 0619 & 2212 & 0616 &  -3 & ⋯ & 0 & 1 & 0 & 0 & 0 & 0 & 0 & 0 & 0 & 0\\\\\n\t 3 & 2005-11-30 & UA & LAX & JFK & 0840 & 1653 & 0836 & 1640 & -13 & ⋯ & 0 & 0 & 0 & 0 & 0 & 0 & 0 & 0 & 1 & 0\\\\\n\\end{tabular}\n",
            "text/plain": [
              "  DayOfWeek FlightDate Reporting_Airline Origin Dest CRSDepTime CRSArrTime\n",
              "1 5         2003-03-28 UA                LAX    JFK  2210       0615      \n",
              "2 4         2018-11-29 AS                LAX    JFK  1045       1912      \n",
              "3 5         2015-08-28 UA                LAX    JFK  0805       1634      \n",
              "4 7         2003-04-20 DL                LAX    JFK  2205       0619      \n",
              "5 3         2005-11-30 UA                LAX    JFK  0840       1653      \n",
              "  DepTime ArrTime ArrDelay ⋯ 3 4 5 6 7 8 9 10 11 12\n",
              "1 2209    0617      2      ⋯ 1 0 0 0 0 0 0 0  0  0 \n",
              "2 1049    1851    -21      ⋯ 0 0 0 0 0 0 0 0  1  0 \n",
              "3 0757    1620    -14      ⋯ 0 0 0 0 0 1 0 0  0  0 \n",
              "4 2212    0616     -3      ⋯ 0 1 0 0 0 0 0 0  0  0 \n",
              "5 0836    1640    -13      ⋯ 0 0 0 0 0 0 0 0  1  0 "
            ]
          },
          "metadata": {}
        }
      ]
    },
    {
      "cell_type": "code",
      "source": [
        "#Now, create indicator variable to the column of \"Month\" by applying departure delay values\n",
        "sub_airline %>% \n",
        "  spread(Month, DepDelay) %>% \n",
        "  slice(1:5) # Show only the first 5 rows"
      ],
      "metadata": {
        "colab": {
          "base_uri": "https://localhost:8080/",
          "height": 255
        },
        "id": "0wpXPmws1Q3t",
        "outputId": "34474d0d-0c59-4c78-8e93-38286b053379"
      },
      "execution_count": null,
      "outputs": [
        {
          "output_type": "display_data",
          "data": {
            "text/html": [
              "<table class=\"dataframe\">\n",
              "<caption>A tibble: 5 × 31</caption>\n",
              "<thead>\n",
              "\t<tr><th scope=col>DayOfWeek</th><th scope=col>FlightDate</th><th scope=col>Reporting_Airline</th><th scope=col>Origin</th><th scope=col>Dest</th><th scope=col>CRSDepTime</th><th scope=col>CRSArrTime</th><th scope=col>DepTime</th><th scope=col>ArrTime</th><th scope=col>ArrDelay</th><th scope=col>⋯</th><th scope=col>3</th><th scope=col>4</th><th scope=col>5</th><th scope=col>6</th><th scope=col>7</th><th scope=col>8</th><th scope=col>9</th><th scope=col>10</th><th scope=col>11</th><th scope=col>12</th></tr>\n",
              "\t<tr><th scope=col>&lt;dbl&gt;</th><th scope=col>&lt;date&gt;</th><th scope=col>&lt;chr&gt;</th><th scope=col>&lt;chr&gt;</th><th scope=col>&lt;chr&gt;</th><th scope=col>&lt;chr&gt;</th><th scope=col>&lt;chr&gt;</th><th scope=col>&lt;chr&gt;</th><th scope=col>&lt;chr&gt;</th><th scope=col>&lt;dbl&gt;</th><th scope=col>⋯</th><th scope=col>&lt;dbl&gt;</th><th scope=col>&lt;dbl&gt;</th><th scope=col>&lt;dbl&gt;</th><th scope=col>&lt;dbl&gt;</th><th scope=col>&lt;dbl&gt;</th><th scope=col>&lt;dbl&gt;</th><th scope=col>&lt;dbl&gt;</th><th scope=col>&lt;dbl&gt;</th><th scope=col>&lt;dbl&gt;</th><th scope=col>&lt;dbl&gt;</th></tr>\n",
              "</thead>\n",
              "<tbody>\n",
              "\t<tr><td>5</td><td>2003-03-28</td><td>UA</td><td>LAX</td><td>JFK</td><td>2210</td><td>0615</td><td>2209</td><td>0617</td><td>  2</td><td>⋯</td><td>-1</td><td>NA</td><td>NA</td><td>NA</td><td>NA</td><td>NA</td><td>NA</td><td>NA</td><td>NA</td><td>NA</td></tr>\n",
              "\t<tr><td>4</td><td>2018-11-29</td><td>AS</td><td>LAX</td><td>JFK</td><td>1045</td><td>1912</td><td>1049</td><td>1851</td><td>-21</td><td>⋯</td><td>NA</td><td>NA</td><td>NA</td><td>NA</td><td>NA</td><td>NA</td><td>NA</td><td>NA</td><td> 4</td><td>NA</td></tr>\n",
              "\t<tr><td>5</td><td>2015-08-28</td><td>UA</td><td>LAX</td><td>JFK</td><td>0805</td><td>1634</td><td>0757</td><td>1620</td><td>-14</td><td>⋯</td><td>NA</td><td>NA</td><td>NA</td><td>NA</td><td>NA</td><td>-8</td><td>NA</td><td>NA</td><td>NA</td><td>NA</td></tr>\n",
              "\t<tr><td>7</td><td>2003-04-20</td><td>DL</td><td>LAX</td><td>JFK</td><td>2205</td><td>0619</td><td>2212</td><td>0616</td><td> -3</td><td>⋯</td><td>NA</td><td> 7</td><td>NA</td><td>NA</td><td>NA</td><td>NA</td><td>NA</td><td>NA</td><td>NA</td><td>NA</td></tr>\n",
              "\t<tr><td>3</td><td>2005-11-30</td><td>UA</td><td>LAX</td><td>JFK</td><td>0840</td><td>1653</td><td>0836</td><td>1640</td><td>-13</td><td>⋯</td><td>NA</td><td>NA</td><td>NA</td><td>NA</td><td>NA</td><td>NA</td><td>NA</td><td>NA</td><td>-4</td><td>NA</td></tr>\n",
              "</tbody>\n",
              "</table>\n"
            ],
            "text/markdown": "\nA tibble: 5 × 31\n\n| DayOfWeek &lt;dbl&gt; | FlightDate &lt;date&gt; | Reporting_Airline &lt;chr&gt; | Origin &lt;chr&gt; | Dest &lt;chr&gt; | CRSDepTime &lt;chr&gt; | CRSArrTime &lt;chr&gt; | DepTime &lt;chr&gt; | ArrTime &lt;chr&gt; | ArrDelay &lt;dbl&gt; | ⋯ ⋯ | 3 &lt;dbl&gt; | 4 &lt;dbl&gt; | 5 &lt;dbl&gt; | 6 &lt;dbl&gt; | 7 &lt;dbl&gt; | 8 &lt;dbl&gt; | 9 &lt;dbl&gt; | 10 &lt;dbl&gt; | 11 &lt;dbl&gt; | 12 &lt;dbl&gt; |\n|---|---|---|---|---|---|---|---|---|---|---|---|---|---|---|---|---|---|---|---|---|\n| 5 | 2003-03-28 | UA | LAX | JFK | 2210 | 0615 | 2209 | 0617 |   2 | ⋯ | -1 | NA | NA | NA | NA | NA | NA | NA | NA | NA |\n| 4 | 2018-11-29 | AS | LAX | JFK | 1045 | 1912 | 1049 | 1851 | -21 | ⋯ | NA | NA | NA | NA | NA | NA | NA | NA |  4 | NA |\n| 5 | 2015-08-28 | UA | LAX | JFK | 0805 | 1634 | 0757 | 1620 | -14 | ⋯ | NA | NA | NA | NA | NA | -8 | NA | NA | NA | NA |\n| 7 | 2003-04-20 | DL | LAX | JFK | 2205 | 0619 | 2212 | 0616 |  -3 | ⋯ | NA |  7 | NA | NA | NA | NA | NA | NA | NA | NA |\n| 3 | 2005-11-30 | UA | LAX | JFK | 0840 | 1653 | 0836 | 1640 | -13 | ⋯ | NA | NA | NA | NA | NA | NA | NA | NA | -4 | NA |\n\n",
            "text/latex": "A tibble: 5 × 31\n\\begin{tabular}{lllllllllllllllllllll}\n DayOfWeek & FlightDate & Reporting\\_Airline & Origin & Dest & CRSDepTime & CRSArrTime & DepTime & ArrTime & ArrDelay & ⋯ & 3 & 4 & 5 & 6 & 7 & 8 & 9 & 10 & 11 & 12\\\\\n <dbl> & <date> & <chr> & <chr> & <chr> & <chr> & <chr> & <chr> & <chr> & <dbl> & ⋯ & <dbl> & <dbl> & <dbl> & <dbl> & <dbl> & <dbl> & <dbl> & <dbl> & <dbl> & <dbl>\\\\\n\\hline\n\t 5 & 2003-03-28 & UA & LAX & JFK & 2210 & 0615 & 2209 & 0617 &   2 & ⋯ & -1 & NA & NA & NA & NA & NA & NA & NA & NA & NA\\\\\n\t 4 & 2018-11-29 & AS & LAX & JFK & 1045 & 1912 & 1049 & 1851 & -21 & ⋯ & NA & NA & NA & NA & NA & NA & NA & NA &  4 & NA\\\\\n\t 5 & 2015-08-28 & UA & LAX & JFK & 0805 & 1634 & 0757 & 1620 & -14 & ⋯ & NA & NA & NA & NA & NA & -8 & NA & NA & NA & NA\\\\\n\t 7 & 2003-04-20 & DL & LAX & JFK & 2205 & 0619 & 2212 & 0616 &  -3 & ⋯ & NA &  7 & NA & NA & NA & NA & NA & NA & NA & NA\\\\\n\t 3 & 2005-11-30 & UA & LAX & JFK & 0840 & 1653 & 0836 & 1640 & -13 & ⋯ & NA & NA & NA & NA & NA & NA & NA & NA & -4 & NA\\\\\n\\end{tabular}\n",
            "text/plain": [
              "  DayOfWeek FlightDate Reporting_Airline Origin Dest CRSDepTime CRSArrTime\n",
              "1 5         2003-03-28 UA                LAX    JFK  2210       0615      \n",
              "2 4         2018-11-29 AS                LAX    JFK  1045       1912      \n",
              "3 5         2015-08-28 UA                LAX    JFK  0805       1634      \n",
              "4 7         2003-04-20 DL                LAX    JFK  2205       0619      \n",
              "5 3         2005-11-30 UA                LAX    JFK  0840       1653      \n",
              "  DepTime ArrTime ArrDelay ⋯ 3  4  5  6  7  8  9  10 11 12\n",
              "1 2209    0617      2      ⋯ -1 NA NA NA NA NA NA NA NA NA\n",
              "2 1049    1851    -21      ⋯ NA NA NA NA NA NA NA NA  4 NA\n",
              "3 0757    1620    -14      ⋯ NA NA NA NA NA -8 NA NA NA NA\n",
              "4 2212    0616     -3      ⋯ NA  7 NA NA NA NA NA NA NA NA\n",
              "5 0836    1640    -13      ⋯ NA NA NA NA NA NA NA NA -4 NA"
            ]
          },
          "metadata": {}
        }
      ]
    }
  ]
}